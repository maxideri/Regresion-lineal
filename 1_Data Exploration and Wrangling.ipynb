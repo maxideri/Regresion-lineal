{
 "cells": [
  {
   "cell_type": "markdown",
   "metadata": {
    "id": "qiv5m3SSXclD"
   },
   "source": [
    "### **Imports**"
   ]
  },
  {
   "cell_type": "code",
   "execution_count": null,
   "metadata": {},
   "outputs": [],
   "source": []
  },
  {
   "cell_type": "code",
   "execution_count": 37,
   "metadata": {
    "id": "fnssAaoHDBg7"
   },
   "outputs": [],
   "source": [
    "import pandas as pd\n",
    "import numpy as np\n",
    "import re\n",
    "import matplotlib.pyplot as plt\n",
    "from scipy.sparse import random\n",
    "from scipy import stats\n",
    "import seaborn as sns\n",
    "import matplotlib.pyplot as plt\n",
    "import plotly.express as px\n",
    "from sklearn.model_selection import train_test_split\n",
    "import shapely "
   ]
  },
  {
   "cell_type": "markdown",
   "metadata": {
    "id": "gHUa-29Q65Zr"
   },
   "source": [
    "### **Base**"
   ]
  },
  {
   "cell_type": "code",
   "execution_count": 38,
   "metadata": {
    "id": "ReJJuhj6g_aT"
   },
   "outputs": [],
   "source": [
    "dfFull=pd.read_csv('properatti.csv')"
   ]
  },
  {
   "cell_type": "markdown",
   "metadata": {
    "id": "qdYjo5Ql9AR0"
   },
   "source": [
    "### **0. Descripcion general**"
   ]
  },
  {
   "cell_type": "code",
   "execution_count": 39,
   "metadata": {
    "colab": {
     "base_uri": "https://localhost:8080/",
     "height": 496
    },
    "id": "WWoLZcnB9JjD",
    "outputId": "64134d45-ff27-453a-9388-5f10f96ae713"
   },
   "outputs": [
    {
     "data": {
      "text/html": [
       "<div>\n",
       "<style scoped>\n",
       "    .dataframe tbody tr th:only-of-type {\n",
       "        vertical-align: middle;\n",
       "    }\n",
       "\n",
       "    .dataframe tbody tr th {\n",
       "        vertical-align: top;\n",
       "    }\n",
       "\n",
       "    .dataframe thead th {\n",
       "        text-align: right;\n",
       "    }\n",
       "</style>\n",
       "<table border=\"1\" class=\"dataframe\">\n",
       "  <thead>\n",
       "    <tr style=\"text-align: right;\">\n",
       "      <th></th>\n",
       "      <th>Unnamed: 0</th>\n",
       "      <th>operation</th>\n",
       "      <th>property_type</th>\n",
       "      <th>place_name</th>\n",
       "      <th>place_with_parent_names</th>\n",
       "      <th>country_name</th>\n",
       "      <th>state_name</th>\n",
       "      <th>geonames_id</th>\n",
       "      <th>lat-lon</th>\n",
       "      <th>lat</th>\n",
       "      <th>...</th>\n",
       "      <th>surface_covered_in_m2</th>\n",
       "      <th>price_usd_per_m2</th>\n",
       "      <th>price_per_m2</th>\n",
       "      <th>floor</th>\n",
       "      <th>rooms</th>\n",
       "      <th>expenses</th>\n",
       "      <th>properati_url</th>\n",
       "      <th>description</th>\n",
       "      <th>title</th>\n",
       "      <th>image_thumbnail</th>\n",
       "    </tr>\n",
       "  </thead>\n",
       "  <tbody>\n",
       "    <tr>\n",
       "      <th>0</th>\n",
       "      <td>0</td>\n",
       "      <td>sell</td>\n",
       "      <td>PH</td>\n",
       "      <td>Mataderos</td>\n",
       "      <td>|Argentina|Capital Federal|Mataderos|</td>\n",
       "      <td>Argentina</td>\n",
       "      <td>Capital Federal</td>\n",
       "      <td>3430787.0</td>\n",
       "      <td>-34.6618237,-58.5088387</td>\n",
       "      <td>-34.661824</td>\n",
       "      <td>...</td>\n",
       "      <td>40.0</td>\n",
       "      <td>1127.272727</td>\n",
       "      <td>1550.000000</td>\n",
       "      <td>NaN</td>\n",
       "      <td>NaN</td>\n",
       "      <td>NaN</td>\n",
       "      <td>http://www.properati.com.ar/15bo8_venta_ph_mat...</td>\n",
       "      <td>2 AMBIENTES TIPO CASA PLANTA BAJA POR PASILLO,...</td>\n",
       "      <td>2 AMB TIPO CASA SIN EXPENSAS EN PB</td>\n",
       "      <td>https://thumbs4.properati.com/8/BluUYiHJLhgIIK...</td>\n",
       "    </tr>\n",
       "    <tr>\n",
       "      <th>1</th>\n",
       "      <td>1</td>\n",
       "      <td>sell</td>\n",
       "      <td>apartment</td>\n",
       "      <td>La Plata</td>\n",
       "      <td>|Argentina|Bs.As. G.B.A. Zona Sur|La Plata|</td>\n",
       "      <td>Argentina</td>\n",
       "      <td>Bs.As. G.B.A. Zona Sur</td>\n",
       "      <td>3432039.0</td>\n",
       "      <td>-34.9038831,-57.9643295</td>\n",
       "      <td>-34.903883</td>\n",
       "      <td>...</td>\n",
       "      <td>NaN</td>\n",
       "      <td>NaN</td>\n",
       "      <td>NaN</td>\n",
       "      <td>NaN</td>\n",
       "      <td>NaN</td>\n",
       "      <td>NaN</td>\n",
       "      <td>http://www.properati.com.ar/15bob_venta_depart...</td>\n",
       "      <td>Venta de departamento en décimo piso al frente...</td>\n",
       "      <td>VENTA Depto 2 dorm. a estrenar 7 e/ 36 y 37   ...</td>\n",
       "      <td>https://thumbs4.properati.com/7/ikpVBu2ztHA7jv...</td>\n",
       "    </tr>\n",
       "    <tr>\n",
       "      <th>2</th>\n",
       "      <td>2</td>\n",
       "      <td>sell</td>\n",
       "      <td>apartment</td>\n",
       "      <td>Mataderos</td>\n",
       "      <td>|Argentina|Capital Federal|Mataderos|</td>\n",
       "      <td>Argentina</td>\n",
       "      <td>Capital Federal</td>\n",
       "      <td>3430787.0</td>\n",
       "      <td>-34.6522615,-58.5229825</td>\n",
       "      <td>-34.652262</td>\n",
       "      <td>...</td>\n",
       "      <td>55.0</td>\n",
       "      <td>1309.090909</td>\n",
       "      <td>1309.090909</td>\n",
       "      <td>NaN</td>\n",
       "      <td>NaN</td>\n",
       "      <td>NaN</td>\n",
       "      <td>http://www.properati.com.ar/15bod_venta_depart...</td>\n",
       "      <td>2 AMBIENTES 3ER PISO LATERAL LIVING COMEDOR AM...</td>\n",
       "      <td>2 AMB 3ER PISO CON ASCENSOR APTO CREDITO</td>\n",
       "      <td>https://thumbs4.properati.com/5/SXKr34F_IwG3W_...</td>\n",
       "    </tr>\n",
       "    <tr>\n",
       "      <th>3</th>\n",
       "      <td>3</td>\n",
       "      <td>sell</td>\n",
       "      <td>PH</td>\n",
       "      <td>Liniers</td>\n",
       "      <td>|Argentina|Capital Federal|Liniers|</td>\n",
       "      <td>Argentina</td>\n",
       "      <td>Capital Federal</td>\n",
       "      <td>3431333.0</td>\n",
       "      <td>-34.6477969,-58.5164244</td>\n",
       "      <td>-34.647797</td>\n",
       "      <td>...</td>\n",
       "      <td>NaN</td>\n",
       "      <td>NaN</td>\n",
       "      <td>NaN</td>\n",
       "      <td>NaN</td>\n",
       "      <td>NaN</td>\n",
       "      <td>NaN</td>\n",
       "      <td>http://www.properati.com.ar/15boh_venta_ph_lin...</td>\n",
       "      <td>PH 3 ambientes con patio. Hay 3 deptos en lote...</td>\n",
       "      <td>PH 3 amb. cfte. reciclado</td>\n",
       "      <td>https://thumbs4.properati.com/3/DgIfX-85Mog5SP...</td>\n",
       "    </tr>\n",
       "    <tr>\n",
       "      <th>4</th>\n",
       "      <td>4</td>\n",
       "      <td>sell</td>\n",
       "      <td>apartment</td>\n",
       "      <td>Centro</td>\n",
       "      <td>|Argentina|Buenos Aires Costa Atlántica|Mar de...</td>\n",
       "      <td>Argentina</td>\n",
       "      <td>Buenos Aires Costa Atlántica</td>\n",
       "      <td>3435548.0</td>\n",
       "      <td>-38.0026256,-57.5494468</td>\n",
       "      <td>-38.002626</td>\n",
       "      <td>...</td>\n",
       "      <td>35.0</td>\n",
       "      <td>1828.571429</td>\n",
       "      <td>1828.571429</td>\n",
       "      <td>NaN</td>\n",
       "      <td>NaN</td>\n",
       "      <td>NaN</td>\n",
       "      <td>http://www.properati.com.ar/15bok_venta_depart...</td>\n",
       "      <td>DEPARTAMENTO CON FANTÁSTICA ILUMINACIÓN NATURA...</td>\n",
       "      <td>DEPTO 2 AMB AL CONTRAFRENTE ZONA CENTRO/PLAZA ...</td>\n",
       "      <td>https://thumbs4.properati.com/5/xrRqlNcSI_vs-f...</td>\n",
       "    </tr>\n",
       "  </tbody>\n",
       "</table>\n",
       "<p>5 rows × 26 columns</p>\n",
       "</div>"
      ],
      "text/plain": [
       "   Unnamed: 0 operation property_type place_name  \\\n",
       "0           0      sell            PH  Mataderos   \n",
       "1           1      sell     apartment   La Plata   \n",
       "2           2      sell     apartment  Mataderos   \n",
       "3           3      sell            PH    Liniers   \n",
       "4           4      sell     apartment     Centro   \n",
       "\n",
       "                             place_with_parent_names country_name  \\\n",
       "0              |Argentina|Capital Federal|Mataderos|    Argentina   \n",
       "1        |Argentina|Bs.As. G.B.A. Zona Sur|La Plata|    Argentina   \n",
       "2              |Argentina|Capital Federal|Mataderos|    Argentina   \n",
       "3                |Argentina|Capital Federal|Liniers|    Argentina   \n",
       "4  |Argentina|Buenos Aires Costa Atlántica|Mar de...    Argentina   \n",
       "\n",
       "                     state_name  geonames_id                  lat-lon  \\\n",
       "0               Capital Federal    3430787.0  -34.6618237,-58.5088387   \n",
       "1        Bs.As. G.B.A. Zona Sur    3432039.0  -34.9038831,-57.9643295   \n",
       "2               Capital Federal    3430787.0  -34.6522615,-58.5229825   \n",
       "3               Capital Federal    3431333.0  -34.6477969,-58.5164244   \n",
       "4  Buenos Aires Costa Atlántica    3435548.0  -38.0026256,-57.5494468   \n",
       "\n",
       "         lat  ...  surface_covered_in_m2  price_usd_per_m2 price_per_m2  \\\n",
       "0 -34.661824  ...                   40.0       1127.272727  1550.000000   \n",
       "1 -34.903883  ...                    NaN               NaN          NaN   \n",
       "2 -34.652262  ...                   55.0       1309.090909  1309.090909   \n",
       "3 -34.647797  ...                    NaN               NaN          NaN   \n",
       "4 -38.002626  ...                   35.0       1828.571429  1828.571429   \n",
       "\n",
       "   floor  rooms  expenses                                      properati_url  \\\n",
       "0    NaN    NaN       NaN  http://www.properati.com.ar/15bo8_venta_ph_mat...   \n",
       "1    NaN    NaN       NaN  http://www.properati.com.ar/15bob_venta_depart...   \n",
       "2    NaN    NaN       NaN  http://www.properati.com.ar/15bod_venta_depart...   \n",
       "3    NaN    NaN       NaN  http://www.properati.com.ar/15boh_venta_ph_lin...   \n",
       "4    NaN    NaN       NaN  http://www.properati.com.ar/15bok_venta_depart...   \n",
       "\n",
       "                                         description  \\\n",
       "0  2 AMBIENTES TIPO CASA PLANTA BAJA POR PASILLO,...   \n",
       "1  Venta de departamento en décimo piso al frente...   \n",
       "2  2 AMBIENTES 3ER PISO LATERAL LIVING COMEDOR AM...   \n",
       "3  PH 3 ambientes con patio. Hay 3 deptos en lote...   \n",
       "4  DEPARTAMENTO CON FANTÁSTICA ILUMINACIÓN NATURA...   \n",
       "\n",
       "                                               title  \\\n",
       "0                 2 AMB TIPO CASA SIN EXPENSAS EN PB   \n",
       "1  VENTA Depto 2 dorm. a estrenar 7 e/ 36 y 37   ...   \n",
       "2           2 AMB 3ER PISO CON ASCENSOR APTO CREDITO   \n",
       "3                       PH 3 amb. cfte. reciclado      \n",
       "4  DEPTO 2 AMB AL CONTRAFRENTE ZONA CENTRO/PLAZA ...   \n",
       "\n",
       "                                     image_thumbnail  \n",
       "0  https://thumbs4.properati.com/8/BluUYiHJLhgIIK...  \n",
       "1  https://thumbs4.properati.com/7/ikpVBu2ztHA7jv...  \n",
       "2  https://thumbs4.properati.com/5/SXKr34F_IwG3W_...  \n",
       "3  https://thumbs4.properati.com/3/DgIfX-85Mog5SP...  \n",
       "4  https://thumbs4.properati.com/5/xrRqlNcSI_vs-f...  \n",
       "\n",
       "[5 rows x 26 columns]"
      ]
     },
     "execution_count": 39,
     "metadata": {},
     "output_type": "execute_result"
    }
   ],
   "source": [
    "dfFull.head(5)"
   ]
  },
  {
   "cell_type": "code",
   "execution_count": 40,
   "metadata": {
    "colab": {
     "base_uri": "https://localhost:8080/"
    },
    "id": "Buv9YgGH9bMw",
    "outputId": "7e14f4d3-180d-48f2-e4c5-f07bc30f8b44"
   },
   "outputs": [
    {
     "data": {
      "text/plain": [
       "Index(['Unnamed: 0', 'operation', 'property_type', 'place_name',\n",
       "       'place_with_parent_names', 'country_name', 'state_name', 'geonames_id',\n",
       "       'lat-lon', 'lat', 'lon', 'price', 'currency',\n",
       "       'price_aprox_local_currency', 'price_aprox_usd', 'surface_total_in_m2',\n",
       "       'surface_covered_in_m2', 'price_usd_per_m2', 'price_per_m2', 'floor',\n",
       "       'rooms', 'expenses', 'properati_url', 'description', 'title',\n",
       "       'image_thumbnail'],\n",
       "      dtype='object')"
      ]
     },
     "execution_count": 40,
     "metadata": {},
     "output_type": "execute_result"
    }
   ],
   "source": [
    "dfFull.columns"
   ]
  },
  {
   "cell_type": "code",
   "execution_count": 41,
   "metadata": {
    "colab": {
     "base_uri": "https://localhost:8080/",
     "height": 317
    },
    "id": "9xE3TBs09Unp",
    "outputId": "0b773daf-9fbf-479b-f64f-02d9e105f6fa"
   },
   "outputs": [
    {
     "data": {
      "text/html": [
       "<div>\n",
       "<style scoped>\n",
       "    .dataframe tbody tr th:only-of-type {\n",
       "        vertical-align: middle;\n",
       "    }\n",
       "\n",
       "    .dataframe tbody tr th {\n",
       "        vertical-align: top;\n",
       "    }\n",
       "\n",
       "    .dataframe thead th {\n",
       "        text-align: right;\n",
       "    }\n",
       "</style>\n",
       "<table border=\"1\" class=\"dataframe\">\n",
       "  <thead>\n",
       "    <tr style=\"text-align: right;\">\n",
       "      <th></th>\n",
       "      <th>Unnamed: 0</th>\n",
       "      <th>geonames_id</th>\n",
       "      <th>lat</th>\n",
       "      <th>lon</th>\n",
       "      <th>price</th>\n",
       "      <th>price_aprox_local_currency</th>\n",
       "      <th>price_aprox_usd</th>\n",
       "      <th>surface_total_in_m2</th>\n",
       "      <th>surface_covered_in_m2</th>\n",
       "      <th>price_usd_per_m2</th>\n",
       "      <th>price_per_m2</th>\n",
       "      <th>floor</th>\n",
       "      <th>rooms</th>\n",
       "      <th>expenses</th>\n",
       "    </tr>\n",
       "  </thead>\n",
       "  <tbody>\n",
       "    <tr>\n",
       "      <th>count</th>\n",
       "      <td>121220.000000</td>\n",
       "      <td>1.025030e+05</td>\n",
       "      <td>69670.000000</td>\n",
       "      <td>69670.000000</td>\n",
       "      <td>1.008100e+05</td>\n",
       "      <td>1.008100e+05</td>\n",
       "      <td>1.008100e+05</td>\n",
       "      <td>81892.000000</td>\n",
       "      <td>101313.000000</td>\n",
       "      <td>68617.000000</td>\n",
       "      <td>8.765800e+04</td>\n",
       "      <td>7899.000000</td>\n",
       "      <td>47390.000000</td>\n",
       "      <td>1.426200e+04</td>\n",
       "    </tr>\n",
       "    <tr>\n",
       "      <th>mean</th>\n",
       "      <td>60609.500000</td>\n",
       "      <td>3.574442e+06</td>\n",
       "      <td>-34.626210</td>\n",
       "      <td>-59.266290</td>\n",
       "      <td>4.685259e+05</td>\n",
       "      <td>4.229397e+06</td>\n",
       "      <td>2.397006e+05</td>\n",
       "      <td>233.795328</td>\n",
       "      <td>133.050181</td>\n",
       "      <td>2160.086916</td>\n",
       "      <td>6.912216e+03</td>\n",
       "      <td>17.452336</td>\n",
       "      <td>3.080840</td>\n",
       "      <td>5.009234e+03</td>\n",
       "    </tr>\n",
       "    <tr>\n",
       "      <th>std</th>\n",
       "      <td>34993.344153</td>\n",
       "      <td>3.541306e+05</td>\n",
       "      <td>1.980936</td>\n",
       "      <td>2.299922</td>\n",
       "      <td>2.260101e+06</td>\n",
       "      <td>6.904714e+06</td>\n",
       "      <td>3.913239e+05</td>\n",
       "      <td>1782.222147</td>\n",
       "      <td>724.351479</td>\n",
       "      <td>2759.288621</td>\n",
       "      <td>2.837864e+04</td>\n",
       "      <td>120.243621</td>\n",
       "      <td>1.860773</td>\n",
       "      <td>1.204403e+05</td>\n",
       "    </tr>\n",
       "    <tr>\n",
       "      <th>min</th>\n",
       "      <td>0.000000</td>\n",
       "      <td>3.427208e+06</td>\n",
       "      <td>-54.823985</td>\n",
       "      <td>-75.678931</td>\n",
       "      <td>0.000000e+00</td>\n",
       "      <td>0.000000e+00</td>\n",
       "      <td>0.000000e+00</td>\n",
       "      <td>0.000000</td>\n",
       "      <td>0.000000</td>\n",
       "      <td>0.600000</td>\n",
       "      <td>1.510204e+00</td>\n",
       "      <td>1.000000</td>\n",
       "      <td>1.000000</td>\n",
       "      <td>1.000000e+00</td>\n",
       "    </tr>\n",
       "    <tr>\n",
       "      <th>25%</th>\n",
       "      <td>30304.750000</td>\n",
       "      <td>3.430234e+06</td>\n",
       "      <td>-34.669065</td>\n",
       "      <td>-58.727040</td>\n",
       "      <td>1.100000e+05</td>\n",
       "      <td>1.583309e+06</td>\n",
       "      <td>8.973388e+04</td>\n",
       "      <td>50.000000</td>\n",
       "      <td>45.000000</td>\n",
       "      <td>1218.181818</td>\n",
       "      <td>1.550000e+03</td>\n",
       "      <td>1.000000</td>\n",
       "      <td>2.000000</td>\n",
       "      <td>1.000000e+03</td>\n",
       "    </tr>\n",
       "    <tr>\n",
       "      <th>50%</th>\n",
       "      <td>60609.500000</td>\n",
       "      <td>3.433910e+06</td>\n",
       "      <td>-34.597985</td>\n",
       "      <td>-58.480128</td>\n",
       "      <td>1.850000e+05</td>\n",
       "      <td>2.558452e+06</td>\n",
       "      <td>1.450000e+05</td>\n",
       "      <td>84.000000</td>\n",
       "      <td>75.000000</td>\n",
       "      <td>1800.000000</td>\n",
       "      <td>2.213115e+03</td>\n",
       "      <td>3.000000</td>\n",
       "      <td>3.000000</td>\n",
       "      <td>2.000000e+03</td>\n",
       "    </tr>\n",
       "    <tr>\n",
       "      <th>75%</th>\n",
       "      <td>90914.250000</td>\n",
       "      <td>3.836668e+06</td>\n",
       "      <td>-34.441299</td>\n",
       "      <td>-58.395908</td>\n",
       "      <td>4.200000e+05</td>\n",
       "      <td>4.675792e+06</td>\n",
       "      <td>2.650000e+05</td>\n",
       "      <td>200.000000</td>\n",
       "      <td>150.000000</td>\n",
       "      <td>2486.411765</td>\n",
       "      <td>3.355549e+03</td>\n",
       "      <td>6.000000</td>\n",
       "      <td>4.000000</td>\n",
       "      <td>4.000000e+03</td>\n",
       "    </tr>\n",
       "    <tr>\n",
       "      <th>max</th>\n",
       "      <td>121219.000000</td>\n",
       "      <td>6.948895e+06</td>\n",
       "      <td>4.545843</td>\n",
       "      <td>-53.733330</td>\n",
       "      <td>6.500000e+08</td>\n",
       "      <td>8.212711e+08</td>\n",
       "      <td>4.654544e+07</td>\n",
       "      <td>200000.000000</td>\n",
       "      <td>187000.000000</td>\n",
       "      <td>206333.333333</td>\n",
       "      <td>4.000000e+06</td>\n",
       "      <td>3150.000000</td>\n",
       "      <td>32.000000</td>\n",
       "      <td>1.000150e+07</td>\n",
       "    </tr>\n",
       "  </tbody>\n",
       "</table>\n",
       "</div>"
      ],
      "text/plain": [
       "          Unnamed: 0   geonames_id           lat           lon         price  \\\n",
       "count  121220.000000  1.025030e+05  69670.000000  69670.000000  1.008100e+05   \n",
       "mean    60609.500000  3.574442e+06    -34.626210    -59.266290  4.685259e+05   \n",
       "std     34993.344153  3.541306e+05      1.980936      2.299922  2.260101e+06   \n",
       "min         0.000000  3.427208e+06    -54.823985    -75.678931  0.000000e+00   \n",
       "25%     30304.750000  3.430234e+06    -34.669065    -58.727040  1.100000e+05   \n",
       "50%     60609.500000  3.433910e+06    -34.597985    -58.480128  1.850000e+05   \n",
       "75%     90914.250000  3.836668e+06    -34.441299    -58.395908  4.200000e+05   \n",
       "max    121219.000000  6.948895e+06      4.545843    -53.733330  6.500000e+08   \n",
       "\n",
       "       price_aprox_local_currency  price_aprox_usd  surface_total_in_m2  \\\n",
       "count                1.008100e+05     1.008100e+05         81892.000000   \n",
       "mean                 4.229397e+06     2.397006e+05           233.795328   \n",
       "std                  6.904714e+06     3.913239e+05          1782.222147   \n",
       "min                  0.000000e+00     0.000000e+00             0.000000   \n",
       "25%                  1.583309e+06     8.973388e+04            50.000000   \n",
       "50%                  2.558452e+06     1.450000e+05            84.000000   \n",
       "75%                  4.675792e+06     2.650000e+05           200.000000   \n",
       "max                  8.212711e+08     4.654544e+07        200000.000000   \n",
       "\n",
       "       surface_covered_in_m2  price_usd_per_m2  price_per_m2        floor  \\\n",
       "count          101313.000000      68617.000000  8.765800e+04  7899.000000   \n",
       "mean              133.050181       2160.086916  6.912216e+03    17.452336   \n",
       "std               724.351479       2759.288621  2.837864e+04   120.243621   \n",
       "min                 0.000000          0.600000  1.510204e+00     1.000000   \n",
       "25%                45.000000       1218.181818  1.550000e+03     1.000000   \n",
       "50%                75.000000       1800.000000  2.213115e+03     3.000000   \n",
       "75%               150.000000       2486.411765  3.355549e+03     6.000000   \n",
       "max            187000.000000     206333.333333  4.000000e+06  3150.000000   \n",
       "\n",
       "              rooms      expenses  \n",
       "count  47390.000000  1.426200e+04  \n",
       "mean       3.080840  5.009234e+03  \n",
       "std        1.860773  1.204403e+05  \n",
       "min        1.000000  1.000000e+00  \n",
       "25%        2.000000  1.000000e+03  \n",
       "50%        3.000000  2.000000e+03  \n",
       "75%        4.000000  4.000000e+03  \n",
       "max       32.000000  1.000150e+07  "
      ]
     },
     "execution_count": 41,
     "metadata": {},
     "output_type": "execute_result"
    }
   ],
   "source": [
    "dfFull.describe()"
   ]
  },
  {
   "cell_type": "code",
   "execution_count": 42,
   "metadata": {
    "id": "AIzStxLwg9tM"
   },
   "outputs": [],
   "source": [
    "#Dropeamos columna 'Unnamed' porque repite axis \n",
    "dfFull = dfFull.drop(['Unnamed: 0'], axis=1)"
   ]
  },
  {
   "cell_type": "markdown",
   "metadata": {
    "id": "-v3zXzk46_30"
   },
   "source": [
    "### **1. Limpieza de datos**"
   ]
  },
  {
   "cell_type": "markdown",
   "metadata": {
    "id": "2KuirEeA7Sw9"
   },
   "source": [
    "   #### **Valores duplicados, nulos y outliers**"
   ]
  },
  {
   "cell_type": "code",
   "execution_count": 43,
   "metadata": {
    "colab": {
     "base_uri": "https://localhost:8080/"
    },
    "id": "VENtq8fD-iIQ",
    "outputId": "8a3f540b-d6f8-4231-a4dd-f87217935862"
   },
   "outputs": [
    {
     "data": {
      "text/plain": [
       "operation                          0\n",
       "property_type                      0\n",
       "place_name                        23\n",
       "place_with_parent_names            0\n",
       "country_name                       0\n",
       "state_name                         0\n",
       "geonames_id                    18717\n",
       "lat-lon                        51550\n",
       "lat                            51550\n",
       "lon                            51550\n",
       "price                          20410\n",
       "currency                       20411\n",
       "price_aprox_local_currency     20410\n",
       "price_aprox_usd                20410\n",
       "surface_total_in_m2            39328\n",
       "surface_covered_in_m2          19907\n",
       "price_usd_per_m2               52603\n",
       "price_per_m2                   33562\n",
       "floor                         113321\n",
       "rooms                          73830\n",
       "expenses                      106958\n",
       "properati_url                      0\n",
       "description                        2\n",
       "title                              0\n",
       "image_thumbnail                 3112\n",
       "dtype: int64"
      ]
     },
     "execution_count": 43,
     "metadata": {},
     "output_type": "execute_result"
    }
   ],
   "source": [
    "#Nulos por columna \n",
    "dfFull.isnull().sum() "
   ]
  },
  {
   "cell_type": "markdown",
   "metadata": {
    "id": "3IjaPXfF7pEo"
   },
   "source": [
    "**- state_name: valores nulos**"
   ]
  },
  {
   "cell_type": "code",
   "execution_count": 44,
   "metadata": {
    "id": "qrRlIPXRhzbR"
   },
   "outputs": [],
   "source": [
    "dfCapi = dfFull[dfFull['state_name'] == 'Capital Federal']\n",
    "dfOtro = dfFull[dfFull['state_name'] != 'Capital Federal']"
   ]
  },
  {
   "cell_type": "code",
   "execution_count": 45,
   "metadata": {
    "id": "7ZUnHFETiOXK"
   },
   "outputs": [],
   "source": [
    "#Nulos Capi por columna\n",
    "NulosCapi = round(((dfCapi.isnull().sum() / dfCapi.isnull().count())*100),0).reset_index()\n",
    "NulosCapi.columns = ['columna', 'porcentaje_nulos']\n",
    "NulosCapi['Tag'] = 'CABA'"
   ]
  },
  {
   "cell_type": "code",
   "execution_count": 46,
   "metadata": {
    "id": "cgbe82Zs_gfy"
   },
   "outputs": [],
   "source": [
    "#Nulos Otro por columna\n",
    "NulosOtro = round(((dfOtro.isnull().sum() / dfOtro.isnull().count())*100),0).reset_index()\n",
    "NulosOtro.columns = ['columna', 'porcentaje_nulos']\n",
    "NulosOtro['Tag'] = 'Otros'"
   ]
  },
  {
   "cell_type": "code",
   "execution_count": 47,
   "metadata": {
    "id": "Bhhbbqml_mF3"
   },
   "outputs": [],
   "source": [
    "#Unimos NulosCapi y NulosOtro y nos quedasmo con las columnas que tengan al menos un valor nulo\n",
    "NulosCross = pd.concat([NulosCapi,NulosOtro],axis=0)\n",
    "NulosCross_SoloNulos = NulosCross[(NulosCross['porcentaje_nulos'] > 0)]"
   ]
  },
  {
   "cell_type": "code",
   "execution_count": 48,
   "metadata": {},
   "outputs": [
    {
     "data": {
      "text/html": [
       "<div>\n",
       "<style scoped>\n",
       "    .dataframe tbody tr th:only-of-type {\n",
       "        vertical-align: middle;\n",
       "    }\n",
       "\n",
       "    .dataframe tbody tr th {\n",
       "        vertical-align: top;\n",
       "    }\n",
       "\n",
       "    .dataframe thead th {\n",
       "        text-align: right;\n",
       "    }\n",
       "</style>\n",
       "<table border=\"1\" class=\"dataframe\">\n",
       "  <thead>\n",
       "    <tr style=\"text-align: right;\">\n",
       "      <th></th>\n",
       "      <th>columna</th>\n",
       "      <th>porcentaje_nulos</th>\n",
       "      <th>Tag</th>\n",
       "    </tr>\n",
       "  </thead>\n",
       "  <tbody>\n",
       "    <tr>\n",
       "      <th>6</th>\n",
       "      <td>geonames_id</td>\n",
       "      <td>4.0</td>\n",
       "      <td>CABA</td>\n",
       "    </tr>\n",
       "    <tr>\n",
       "      <th>7</th>\n",
       "      <td>lat-lon</td>\n",
       "      <td>26.0</td>\n",
       "      <td>CABA</td>\n",
       "    </tr>\n",
       "    <tr>\n",
       "      <th>8</th>\n",
       "      <td>lat</td>\n",
       "      <td>26.0</td>\n",
       "      <td>CABA</td>\n",
       "    </tr>\n",
       "    <tr>\n",
       "      <th>9</th>\n",
       "      <td>lon</td>\n",
       "      <td>26.0</td>\n",
       "      <td>CABA</td>\n",
       "    </tr>\n",
       "    <tr>\n",
       "      <th>10</th>\n",
       "      <td>price</td>\n",
       "      <td>10.0</td>\n",
       "      <td>CABA</td>\n",
       "    </tr>\n",
       "    <tr>\n",
       "      <th>11</th>\n",
       "      <td>currency</td>\n",
       "      <td>10.0</td>\n",
       "      <td>CABA</td>\n",
       "    </tr>\n",
       "    <tr>\n",
       "      <th>12</th>\n",
       "      <td>price_aprox_local_currency</td>\n",
       "      <td>10.0</td>\n",
       "      <td>CABA</td>\n",
       "    </tr>\n",
       "    <tr>\n",
       "      <th>13</th>\n",
       "      <td>price_aprox_usd</td>\n",
       "      <td>10.0</td>\n",
       "      <td>CABA</td>\n",
       "    </tr>\n",
       "    <tr>\n",
       "      <th>14</th>\n",
       "      <td>surface_total_in_m2</td>\n",
       "      <td>18.0</td>\n",
       "      <td>CABA</td>\n",
       "    </tr>\n",
       "    <tr>\n",
       "      <th>15</th>\n",
       "      <td>surface_covered_in_m2</td>\n",
       "      <td>7.0</td>\n",
       "      <td>CABA</td>\n",
       "    </tr>\n",
       "    <tr>\n",
       "      <th>16</th>\n",
       "      <td>price_usd_per_m2</td>\n",
       "      <td>27.0</td>\n",
       "      <td>CABA</td>\n",
       "    </tr>\n",
       "    <tr>\n",
       "      <th>17</th>\n",
       "      <td>price_per_m2</td>\n",
       "      <td>15.0</td>\n",
       "      <td>CABA</td>\n",
       "    </tr>\n",
       "    <tr>\n",
       "      <th>18</th>\n",
       "      <td>floor</td>\n",
       "      <td>91.0</td>\n",
       "      <td>CABA</td>\n",
       "    </tr>\n",
       "    <tr>\n",
       "      <th>19</th>\n",
       "      <td>rooms</td>\n",
       "      <td>53.0</td>\n",
       "      <td>CABA</td>\n",
       "    </tr>\n",
       "    <tr>\n",
       "      <th>20</th>\n",
       "      <td>expenses</td>\n",
       "      <td>80.0</td>\n",
       "      <td>CABA</td>\n",
       "    </tr>\n",
       "    <tr>\n",
       "      <th>24</th>\n",
       "      <td>image_thumbnail</td>\n",
       "      <td>2.0</td>\n",
       "      <td>CABA</td>\n",
       "    </tr>\n",
       "    <tr>\n",
       "      <th>6</th>\n",
       "      <td>geonames_id</td>\n",
       "      <td>20.0</td>\n",
       "      <td>Otros</td>\n",
       "    </tr>\n",
       "    <tr>\n",
       "      <th>7</th>\n",
       "      <td>lat-lon</td>\n",
       "      <td>48.0</td>\n",
       "      <td>Otros</td>\n",
       "    </tr>\n",
       "    <tr>\n",
       "      <th>8</th>\n",
       "      <td>lat</td>\n",
       "      <td>48.0</td>\n",
       "      <td>Otros</td>\n",
       "    </tr>\n",
       "    <tr>\n",
       "      <th>9</th>\n",
       "      <td>lon</td>\n",
       "      <td>48.0</td>\n",
       "      <td>Otros</td>\n",
       "    </tr>\n",
       "    <tr>\n",
       "      <th>10</th>\n",
       "      <td>price</td>\n",
       "      <td>19.0</td>\n",
       "      <td>Otros</td>\n",
       "    </tr>\n",
       "    <tr>\n",
       "      <th>11</th>\n",
       "      <td>currency</td>\n",
       "      <td>19.0</td>\n",
       "      <td>Otros</td>\n",
       "    </tr>\n",
       "    <tr>\n",
       "      <th>12</th>\n",
       "      <td>price_aprox_local_currency</td>\n",
       "      <td>19.0</td>\n",
       "      <td>Otros</td>\n",
       "    </tr>\n",
       "    <tr>\n",
       "      <th>13</th>\n",
       "      <td>price_aprox_usd</td>\n",
       "      <td>19.0</td>\n",
       "      <td>Otros</td>\n",
       "    </tr>\n",
       "    <tr>\n",
       "      <th>14</th>\n",
       "      <td>surface_total_in_m2</td>\n",
       "      <td>38.0</td>\n",
       "      <td>Otros</td>\n",
       "    </tr>\n",
       "    <tr>\n",
       "      <th>15</th>\n",
       "      <td>surface_covered_in_m2</td>\n",
       "      <td>20.0</td>\n",
       "      <td>Otros</td>\n",
       "    </tr>\n",
       "    <tr>\n",
       "      <th>16</th>\n",
       "      <td>price_usd_per_m2</td>\n",
       "      <td>49.0</td>\n",
       "      <td>Otros</td>\n",
       "    </tr>\n",
       "    <tr>\n",
       "      <th>17</th>\n",
       "      <td>price_per_m2</td>\n",
       "      <td>32.0</td>\n",
       "      <td>Otros</td>\n",
       "    </tr>\n",
       "    <tr>\n",
       "      <th>18</th>\n",
       "      <td>floor</td>\n",
       "      <td>94.0</td>\n",
       "      <td>Otros</td>\n",
       "    </tr>\n",
       "    <tr>\n",
       "      <th>19</th>\n",
       "      <td>rooms</td>\n",
       "      <td>64.0</td>\n",
       "      <td>Otros</td>\n",
       "    </tr>\n",
       "    <tr>\n",
       "      <th>20</th>\n",
       "      <td>expenses</td>\n",
       "      <td>91.0</td>\n",
       "      <td>Otros</td>\n",
       "    </tr>\n",
       "    <tr>\n",
       "      <th>24</th>\n",
       "      <td>image_thumbnail</td>\n",
       "      <td>3.0</td>\n",
       "      <td>Otros</td>\n",
       "    </tr>\n",
       "  </tbody>\n",
       "</table>\n",
       "</div>"
      ],
      "text/plain": [
       "                       columna  porcentaje_nulos    Tag\n",
       "6                  geonames_id               4.0   CABA\n",
       "7                      lat-lon              26.0   CABA\n",
       "8                          lat              26.0   CABA\n",
       "9                          lon              26.0   CABA\n",
       "10                       price              10.0   CABA\n",
       "11                    currency              10.0   CABA\n",
       "12  price_aprox_local_currency              10.0   CABA\n",
       "13             price_aprox_usd              10.0   CABA\n",
       "14         surface_total_in_m2              18.0   CABA\n",
       "15       surface_covered_in_m2               7.0   CABA\n",
       "16            price_usd_per_m2              27.0   CABA\n",
       "17                price_per_m2              15.0   CABA\n",
       "18                       floor              91.0   CABA\n",
       "19                       rooms              53.0   CABA\n",
       "20                    expenses              80.0   CABA\n",
       "24             image_thumbnail               2.0   CABA\n",
       "6                  geonames_id              20.0  Otros\n",
       "7                      lat-lon              48.0  Otros\n",
       "8                          lat              48.0  Otros\n",
       "9                          lon              48.0  Otros\n",
       "10                       price              19.0  Otros\n",
       "11                    currency              19.0  Otros\n",
       "12  price_aprox_local_currency              19.0  Otros\n",
       "13             price_aprox_usd              19.0  Otros\n",
       "14         surface_total_in_m2              38.0  Otros\n",
       "15       surface_covered_in_m2              20.0  Otros\n",
       "16            price_usd_per_m2              49.0  Otros\n",
       "17                price_per_m2              32.0  Otros\n",
       "18                       floor              94.0  Otros\n",
       "19                       rooms              64.0  Otros\n",
       "20                    expenses              91.0  Otros\n",
       "24             image_thumbnail               3.0  Otros"
      ]
     },
     "execution_count": 48,
     "metadata": {},
     "output_type": "execute_result"
    }
   ],
   "source": [
    "NulosCross_SoloNulos"
   ]
  },
  {
   "cell_type": "code",
   "execution_count": 49,
   "metadata": {
    "colab": {
     "base_uri": "https://localhost:8080/",
     "height": 417
    },
    "id": "Cyd6O2kK_q43",
    "outputId": "c9f2cebe-0934-4f7b-c81f-0d2be79416a0"
   },
   "outputs": [
    {
     "data": {
      "application/vnd.plotly.v1+json": {
       "config": {
        "plotlyServerURL": "https://plotly.com"
       },
       "data": [
        {
         "alignmentgroup": "True",
         "hovertemplate": "Tag=CABA<br>columna=%{x}<br>porcentaje_nulos=%{y}<extra></extra>",
         "legendgroup": "CABA",
         "marker": {
          "color": "lightseagreen"
         },
         "name": "CABA",
         "offsetgroup": "CABA",
         "orientation": "v",
         "showlegend": true,
         "textposition": "auto",
         "type": "bar",
         "x": [
          "geonames_id",
          "lat-lon",
          "lat",
          "lon",
          "price",
          "currency",
          "price_aprox_local_currency",
          "price_aprox_usd",
          "surface_total_in_m2",
          "surface_covered_in_m2",
          "price_usd_per_m2",
          "price_per_m2",
          "floor",
          "rooms",
          "expenses",
          "image_thumbnail"
         ],
         "xaxis": "x",
         "y": [
          4,
          26,
          26,
          26,
          10,
          10,
          10,
          10,
          18,
          7,
          27,
          15,
          91,
          53,
          80,
          2
         ],
         "yaxis": "y"
        },
        {
         "alignmentgroup": "True",
         "hovertemplate": "Tag=Otros<br>columna=%{x}<br>porcentaje_nulos=%{y}<extra></extra>",
         "legendgroup": "Otros",
         "marker": {
          "color": "gray"
         },
         "name": "Otros",
         "offsetgroup": "Otros",
         "orientation": "v",
         "showlegend": true,
         "textposition": "auto",
         "type": "bar",
         "x": [
          "geonames_id",
          "lat-lon",
          "lat",
          "lon",
          "price",
          "currency",
          "price_aprox_local_currency",
          "price_aprox_usd",
          "surface_total_in_m2",
          "surface_covered_in_m2",
          "price_usd_per_m2",
          "price_per_m2",
          "floor",
          "rooms",
          "expenses",
          "image_thumbnail"
         ],
         "xaxis": "x",
         "y": [
          20,
          48,
          48,
          48,
          19,
          19,
          19,
          19,
          38,
          20,
          49,
          32,
          94,
          64,
          91,
          3
         ],
         "yaxis": "y"
        }
       ],
       "layout": {
        "barmode": "group",
        "height": 400,
        "legend": {
         "title": {
          "text": "Tag"
         },
         "tracegroupgap": 0
        },
        "template": {
         "data": {
          "bar": [
           {
            "error_x": {
             "color": "#2a3f5f"
            },
            "error_y": {
             "color": "#2a3f5f"
            },
            "marker": {
             "line": {
              "color": "#E5ECF6",
              "width": 0.5
             }
            },
            "type": "bar"
           }
          ],
          "barpolar": [
           {
            "marker": {
             "line": {
              "color": "#E5ECF6",
              "width": 0.5
             }
            },
            "type": "barpolar"
           }
          ],
          "carpet": [
           {
            "aaxis": {
             "endlinecolor": "#2a3f5f",
             "gridcolor": "white",
             "linecolor": "white",
             "minorgridcolor": "white",
             "startlinecolor": "#2a3f5f"
            },
            "baxis": {
             "endlinecolor": "#2a3f5f",
             "gridcolor": "white",
             "linecolor": "white",
             "minorgridcolor": "white",
             "startlinecolor": "#2a3f5f"
            },
            "type": "carpet"
           }
          ],
          "choropleth": [
           {
            "colorbar": {
             "outlinewidth": 0,
             "ticks": ""
            },
            "type": "choropleth"
           }
          ],
          "contour": [
           {
            "colorbar": {
             "outlinewidth": 0,
             "ticks": ""
            },
            "colorscale": [
             [
              0,
              "#0d0887"
             ],
             [
              0.1111111111111111,
              "#46039f"
             ],
             [
              0.2222222222222222,
              "#7201a8"
             ],
             [
              0.3333333333333333,
              "#9c179e"
             ],
             [
              0.4444444444444444,
              "#bd3786"
             ],
             [
              0.5555555555555556,
              "#d8576b"
             ],
             [
              0.6666666666666666,
              "#ed7953"
             ],
             [
              0.7777777777777778,
              "#fb9f3a"
             ],
             [
              0.8888888888888888,
              "#fdca26"
             ],
             [
              1,
              "#f0f921"
             ]
            ],
            "type": "contour"
           }
          ],
          "contourcarpet": [
           {
            "colorbar": {
             "outlinewidth": 0,
             "ticks": ""
            },
            "type": "contourcarpet"
           }
          ],
          "heatmap": [
           {
            "colorbar": {
             "outlinewidth": 0,
             "ticks": ""
            },
            "colorscale": [
             [
              0,
              "#0d0887"
             ],
             [
              0.1111111111111111,
              "#46039f"
             ],
             [
              0.2222222222222222,
              "#7201a8"
             ],
             [
              0.3333333333333333,
              "#9c179e"
             ],
             [
              0.4444444444444444,
              "#bd3786"
             ],
             [
              0.5555555555555556,
              "#d8576b"
             ],
             [
              0.6666666666666666,
              "#ed7953"
             ],
             [
              0.7777777777777778,
              "#fb9f3a"
             ],
             [
              0.8888888888888888,
              "#fdca26"
             ],
             [
              1,
              "#f0f921"
             ]
            ],
            "type": "heatmap"
           }
          ],
          "heatmapgl": [
           {
            "colorbar": {
             "outlinewidth": 0,
             "ticks": ""
            },
            "colorscale": [
             [
              0,
              "#0d0887"
             ],
             [
              0.1111111111111111,
              "#46039f"
             ],
             [
              0.2222222222222222,
              "#7201a8"
             ],
             [
              0.3333333333333333,
              "#9c179e"
             ],
             [
              0.4444444444444444,
              "#bd3786"
             ],
             [
              0.5555555555555556,
              "#d8576b"
             ],
             [
              0.6666666666666666,
              "#ed7953"
             ],
             [
              0.7777777777777778,
              "#fb9f3a"
             ],
             [
              0.8888888888888888,
              "#fdca26"
             ],
             [
              1,
              "#f0f921"
             ]
            ],
            "type": "heatmapgl"
           }
          ],
          "histogram": [
           {
            "marker": {
             "colorbar": {
              "outlinewidth": 0,
              "ticks": ""
             }
            },
            "type": "histogram"
           }
          ],
          "histogram2d": [
           {
            "colorbar": {
             "outlinewidth": 0,
             "ticks": ""
            },
            "colorscale": [
             [
              0,
              "#0d0887"
             ],
             [
              0.1111111111111111,
              "#46039f"
             ],
             [
              0.2222222222222222,
              "#7201a8"
             ],
             [
              0.3333333333333333,
              "#9c179e"
             ],
             [
              0.4444444444444444,
              "#bd3786"
             ],
             [
              0.5555555555555556,
              "#d8576b"
             ],
             [
              0.6666666666666666,
              "#ed7953"
             ],
             [
              0.7777777777777778,
              "#fb9f3a"
             ],
             [
              0.8888888888888888,
              "#fdca26"
             ],
             [
              1,
              "#f0f921"
             ]
            ],
            "type": "histogram2d"
           }
          ],
          "histogram2dcontour": [
           {
            "colorbar": {
             "outlinewidth": 0,
             "ticks": ""
            },
            "colorscale": [
             [
              0,
              "#0d0887"
             ],
             [
              0.1111111111111111,
              "#46039f"
             ],
             [
              0.2222222222222222,
              "#7201a8"
             ],
             [
              0.3333333333333333,
              "#9c179e"
             ],
             [
              0.4444444444444444,
              "#bd3786"
             ],
             [
              0.5555555555555556,
              "#d8576b"
             ],
             [
              0.6666666666666666,
              "#ed7953"
             ],
             [
              0.7777777777777778,
              "#fb9f3a"
             ],
             [
              0.8888888888888888,
              "#fdca26"
             ],
             [
              1,
              "#f0f921"
             ]
            ],
            "type": "histogram2dcontour"
           }
          ],
          "mesh3d": [
           {
            "colorbar": {
             "outlinewidth": 0,
             "ticks": ""
            },
            "type": "mesh3d"
           }
          ],
          "parcoords": [
           {
            "line": {
             "colorbar": {
              "outlinewidth": 0,
              "ticks": ""
             }
            },
            "type": "parcoords"
           }
          ],
          "pie": [
           {
            "automargin": true,
            "type": "pie"
           }
          ],
          "scatter": [
           {
            "marker": {
             "colorbar": {
              "outlinewidth": 0,
              "ticks": ""
             }
            },
            "type": "scatter"
           }
          ],
          "scatter3d": [
           {
            "line": {
             "colorbar": {
              "outlinewidth": 0,
              "ticks": ""
             }
            },
            "marker": {
             "colorbar": {
              "outlinewidth": 0,
              "ticks": ""
             }
            },
            "type": "scatter3d"
           }
          ],
          "scattercarpet": [
           {
            "marker": {
             "colorbar": {
              "outlinewidth": 0,
              "ticks": ""
             }
            },
            "type": "scattercarpet"
           }
          ],
          "scattergeo": [
           {
            "marker": {
             "colorbar": {
              "outlinewidth": 0,
              "ticks": ""
             }
            },
            "type": "scattergeo"
           }
          ],
          "scattergl": [
           {
            "marker": {
             "colorbar": {
              "outlinewidth": 0,
              "ticks": ""
             }
            },
            "type": "scattergl"
           }
          ],
          "scattermapbox": [
           {
            "marker": {
             "colorbar": {
              "outlinewidth": 0,
              "ticks": ""
             }
            },
            "type": "scattermapbox"
           }
          ],
          "scatterpolar": [
           {
            "marker": {
             "colorbar": {
              "outlinewidth": 0,
              "ticks": ""
             }
            },
            "type": "scatterpolar"
           }
          ],
          "scatterpolargl": [
           {
            "marker": {
             "colorbar": {
              "outlinewidth": 0,
              "ticks": ""
             }
            },
            "type": "scatterpolargl"
           }
          ],
          "scatterternary": [
           {
            "marker": {
             "colorbar": {
              "outlinewidth": 0,
              "ticks": ""
             }
            },
            "type": "scatterternary"
           }
          ],
          "surface": [
           {
            "colorbar": {
             "outlinewidth": 0,
             "ticks": ""
            },
            "colorscale": [
             [
              0,
              "#0d0887"
             ],
             [
              0.1111111111111111,
              "#46039f"
             ],
             [
              0.2222222222222222,
              "#7201a8"
             ],
             [
              0.3333333333333333,
              "#9c179e"
             ],
             [
              0.4444444444444444,
              "#bd3786"
             ],
             [
              0.5555555555555556,
              "#d8576b"
             ],
             [
              0.6666666666666666,
              "#ed7953"
             ],
             [
              0.7777777777777778,
              "#fb9f3a"
             ],
             [
              0.8888888888888888,
              "#fdca26"
             ],
             [
              1,
              "#f0f921"
             ]
            ],
            "type": "surface"
           }
          ],
          "table": [
           {
            "cells": {
             "fill": {
              "color": "#EBF0F8"
             },
             "line": {
              "color": "white"
             }
            },
            "header": {
             "fill": {
              "color": "#C8D4E3"
             },
             "line": {
              "color": "white"
             }
            },
            "type": "table"
           }
          ]
         },
         "layout": {
          "annotationdefaults": {
           "arrowcolor": "#2a3f5f",
           "arrowhead": 0,
           "arrowwidth": 1
          },
          "autotypenumbers": "strict",
          "coloraxis": {
           "colorbar": {
            "outlinewidth": 0,
            "ticks": ""
           }
          },
          "colorscale": {
           "diverging": [
            [
             0,
             "#8e0152"
            ],
            [
             0.1,
             "#c51b7d"
            ],
            [
             0.2,
             "#de77ae"
            ],
            [
             0.3,
             "#f1b6da"
            ],
            [
             0.4,
             "#fde0ef"
            ],
            [
             0.5,
             "#f7f7f7"
            ],
            [
             0.6,
             "#e6f5d0"
            ],
            [
             0.7,
             "#b8e186"
            ],
            [
             0.8,
             "#7fbc41"
            ],
            [
             0.9,
             "#4d9221"
            ],
            [
             1,
             "#276419"
            ]
           ],
           "sequential": [
            [
             0,
             "#0d0887"
            ],
            [
             0.1111111111111111,
             "#46039f"
            ],
            [
             0.2222222222222222,
             "#7201a8"
            ],
            [
             0.3333333333333333,
             "#9c179e"
            ],
            [
             0.4444444444444444,
             "#bd3786"
            ],
            [
             0.5555555555555556,
             "#d8576b"
            ],
            [
             0.6666666666666666,
             "#ed7953"
            ],
            [
             0.7777777777777778,
             "#fb9f3a"
            ],
            [
             0.8888888888888888,
             "#fdca26"
            ],
            [
             1,
             "#f0f921"
            ]
           ],
           "sequentialminus": [
            [
             0,
             "#0d0887"
            ],
            [
             0.1111111111111111,
             "#46039f"
            ],
            [
             0.2222222222222222,
             "#7201a8"
            ],
            [
             0.3333333333333333,
             "#9c179e"
            ],
            [
             0.4444444444444444,
             "#bd3786"
            ],
            [
             0.5555555555555556,
             "#d8576b"
            ],
            [
             0.6666666666666666,
             "#ed7953"
            ],
            [
             0.7777777777777778,
             "#fb9f3a"
            ],
            [
             0.8888888888888888,
             "#fdca26"
            ],
            [
             1,
             "#f0f921"
            ]
           ]
          },
          "colorway": [
           "#636efa",
           "#EF553B",
           "#00cc96",
           "#ab63fa",
           "#FFA15A",
           "#19d3f3",
           "#FF6692",
           "#B6E880",
           "#FF97FF",
           "#FECB52"
          ],
          "font": {
           "color": "#2a3f5f"
          },
          "geo": {
           "bgcolor": "white",
           "lakecolor": "white",
           "landcolor": "#E5ECF6",
           "showlakes": true,
           "showland": true,
           "subunitcolor": "white"
          },
          "hoverlabel": {
           "align": "left"
          },
          "hovermode": "closest",
          "mapbox": {
           "style": "light"
          },
          "paper_bgcolor": "white",
          "plot_bgcolor": "#E5ECF6",
          "polar": {
           "angularaxis": {
            "gridcolor": "white",
            "linecolor": "white",
            "ticks": ""
           },
           "bgcolor": "#E5ECF6",
           "radialaxis": {
            "gridcolor": "white",
            "linecolor": "white",
            "ticks": ""
           }
          },
          "scene": {
           "xaxis": {
            "backgroundcolor": "#E5ECF6",
            "gridcolor": "white",
            "gridwidth": 2,
            "linecolor": "white",
            "showbackground": true,
            "ticks": "",
            "zerolinecolor": "white"
           },
           "yaxis": {
            "backgroundcolor": "#E5ECF6",
            "gridcolor": "white",
            "gridwidth": 2,
            "linecolor": "white",
            "showbackground": true,
            "ticks": "",
            "zerolinecolor": "white"
           },
           "zaxis": {
            "backgroundcolor": "#E5ECF6",
            "gridcolor": "white",
            "gridwidth": 2,
            "linecolor": "white",
            "showbackground": true,
            "ticks": "",
            "zerolinecolor": "white"
           }
          },
          "shapedefaults": {
           "line": {
            "color": "#2a3f5f"
           }
          },
          "ternary": {
           "aaxis": {
            "gridcolor": "white",
            "linecolor": "white",
            "ticks": ""
           },
           "baxis": {
            "gridcolor": "white",
            "linecolor": "white",
            "ticks": ""
           },
           "bgcolor": "#E5ECF6",
           "caxis": {
            "gridcolor": "white",
            "linecolor": "white",
            "ticks": ""
           }
          },
          "title": {
           "x": 0.05
          },
          "xaxis": {
           "automargin": true,
           "gridcolor": "white",
           "linecolor": "white",
           "ticks": "",
           "title": {
            "standoff": 15
           },
           "zerolinecolor": "white",
           "zerolinewidth": 2
          },
          "yaxis": {
           "automargin": true,
           "gridcolor": "white",
           "linecolor": "white",
           "ticks": "",
           "title": {
            "standoff": 15
           },
           "zerolinecolor": "white",
           "zerolinewidth": 2
          }
         }
        },
        "title": {
         "text": "Porcentaje de nulos por variable - CABA vs Otros"
        },
        "width": 800,
        "xaxis": {
         "anchor": "y",
         "domain": [
          0,
          1
         ],
         "title": {
          "text": "columna"
         }
        },
        "yaxis": {
         "anchor": "x",
         "domain": [
          0,
          1
         ],
         "title": {
          "text": "porcentaje_nulos"
         }
        }
       }
      },
      "text/html": [
       "<div>                            <div id=\"91d7b02a-d85f-452d-b82c-0bb75d811e0c\" class=\"plotly-graph-div\" style=\"height:400px; width:800px;\"></div>            <script type=\"text/javascript\">                require([\"plotly\"], function(Plotly) {                    window.PLOTLYENV=window.PLOTLYENV || {};                                    if (document.getElementById(\"91d7b02a-d85f-452d-b82c-0bb75d811e0c\")) {                    Plotly.newPlot(                        \"91d7b02a-d85f-452d-b82c-0bb75d811e0c\",                        [{\"alignmentgroup\": \"True\", \"hovertemplate\": \"Tag=CABA<br>columna=%{x}<br>porcentaje_nulos=%{y}<extra></extra>\", \"legendgroup\": \"CABA\", \"marker\": {\"color\": \"lightseagreen\"}, \"name\": \"CABA\", \"offsetgroup\": \"CABA\", \"orientation\": \"v\", \"showlegend\": true, \"textposition\": \"auto\", \"type\": \"bar\", \"x\": [\"geonames_id\", \"lat-lon\", \"lat\", \"lon\", \"price\", \"currency\", \"price_aprox_local_currency\", \"price_aprox_usd\", \"surface_total_in_m2\", \"surface_covered_in_m2\", \"price_usd_per_m2\", \"price_per_m2\", \"floor\", \"rooms\", \"expenses\", \"image_thumbnail\"], \"xaxis\": \"x\", \"y\": [4.0, 26.0, 26.0, 26.0, 10.0, 10.0, 10.0, 10.0, 18.0, 7.0, 27.0, 15.0, 91.0, 53.0, 80.0, 2.0], \"yaxis\": \"y\"}, {\"alignmentgroup\": \"True\", \"hovertemplate\": \"Tag=Otros<br>columna=%{x}<br>porcentaje_nulos=%{y}<extra></extra>\", \"legendgroup\": \"Otros\", \"marker\": {\"color\": \"gray\"}, \"name\": \"Otros\", \"offsetgroup\": \"Otros\", \"orientation\": \"v\", \"showlegend\": true, \"textposition\": \"auto\", \"type\": \"bar\", \"x\": [\"geonames_id\", \"lat-lon\", \"lat\", \"lon\", \"price\", \"currency\", \"price_aprox_local_currency\", \"price_aprox_usd\", \"surface_total_in_m2\", \"surface_covered_in_m2\", \"price_usd_per_m2\", \"price_per_m2\", \"floor\", \"rooms\", \"expenses\", \"image_thumbnail\"], \"xaxis\": \"x\", \"y\": [20.0, 48.0, 48.0, 48.0, 19.0, 19.0, 19.0, 19.0, 38.0, 20.0, 49.0, 32.0, 94.0, 64.0, 91.0, 3.0], \"yaxis\": \"y\"}],                        {\"barmode\": \"group\", \"height\": 400, \"legend\": {\"title\": {\"text\": \"Tag\"}, \"tracegroupgap\": 0}, \"template\": {\"data\": {\"bar\": [{\"error_x\": {\"color\": \"#2a3f5f\"}, \"error_y\": {\"color\": \"#2a3f5f\"}, \"marker\": {\"line\": {\"color\": \"#E5ECF6\", \"width\": 0.5}}, \"type\": \"bar\"}], \"barpolar\": [{\"marker\": {\"line\": {\"color\": \"#E5ECF6\", \"width\": 0.5}}, \"type\": \"barpolar\"}], \"carpet\": [{\"aaxis\": {\"endlinecolor\": \"#2a3f5f\", \"gridcolor\": \"white\", \"linecolor\": \"white\", \"minorgridcolor\": \"white\", \"startlinecolor\": \"#2a3f5f\"}, \"baxis\": {\"endlinecolor\": \"#2a3f5f\", \"gridcolor\": \"white\", \"linecolor\": \"white\", \"minorgridcolor\": \"white\", \"startlinecolor\": \"#2a3f5f\"}, \"type\": \"carpet\"}], \"choropleth\": [{\"colorbar\": {\"outlinewidth\": 0, \"ticks\": \"\"}, \"type\": \"choropleth\"}], \"contour\": [{\"colorbar\": {\"outlinewidth\": 0, \"ticks\": \"\"}, \"colorscale\": [[0.0, \"#0d0887\"], [0.1111111111111111, \"#46039f\"], [0.2222222222222222, \"#7201a8\"], [0.3333333333333333, \"#9c179e\"], [0.4444444444444444, \"#bd3786\"], [0.5555555555555556, \"#d8576b\"], [0.6666666666666666, \"#ed7953\"], [0.7777777777777778, \"#fb9f3a\"], [0.8888888888888888, \"#fdca26\"], [1.0, \"#f0f921\"]], \"type\": \"contour\"}], \"contourcarpet\": [{\"colorbar\": {\"outlinewidth\": 0, \"ticks\": \"\"}, \"type\": \"contourcarpet\"}], \"heatmap\": [{\"colorbar\": {\"outlinewidth\": 0, \"ticks\": \"\"}, \"colorscale\": [[0.0, \"#0d0887\"], [0.1111111111111111, \"#46039f\"], [0.2222222222222222, \"#7201a8\"], [0.3333333333333333, \"#9c179e\"], [0.4444444444444444, \"#bd3786\"], [0.5555555555555556, \"#d8576b\"], [0.6666666666666666, \"#ed7953\"], [0.7777777777777778, \"#fb9f3a\"], [0.8888888888888888, \"#fdca26\"], [1.0, \"#f0f921\"]], \"type\": \"heatmap\"}], \"heatmapgl\": [{\"colorbar\": {\"outlinewidth\": 0, \"ticks\": \"\"}, \"colorscale\": [[0.0, \"#0d0887\"], [0.1111111111111111, \"#46039f\"], [0.2222222222222222, \"#7201a8\"], [0.3333333333333333, \"#9c179e\"], [0.4444444444444444, \"#bd3786\"], [0.5555555555555556, \"#d8576b\"], [0.6666666666666666, \"#ed7953\"], [0.7777777777777778, \"#fb9f3a\"], [0.8888888888888888, \"#fdca26\"], [1.0, \"#f0f921\"]], \"type\": \"heatmapgl\"}], \"histogram\": [{\"marker\": {\"colorbar\": {\"outlinewidth\": 0, \"ticks\": \"\"}}, \"type\": \"histogram\"}], \"histogram2d\": [{\"colorbar\": {\"outlinewidth\": 0, \"ticks\": \"\"}, \"colorscale\": [[0.0, \"#0d0887\"], [0.1111111111111111, \"#46039f\"], [0.2222222222222222, \"#7201a8\"], [0.3333333333333333, \"#9c179e\"], [0.4444444444444444, \"#bd3786\"], [0.5555555555555556, \"#d8576b\"], [0.6666666666666666, \"#ed7953\"], [0.7777777777777778, \"#fb9f3a\"], [0.8888888888888888, \"#fdca26\"], [1.0, \"#f0f921\"]], \"type\": \"histogram2d\"}], \"histogram2dcontour\": [{\"colorbar\": {\"outlinewidth\": 0, \"ticks\": \"\"}, \"colorscale\": [[0.0, \"#0d0887\"], [0.1111111111111111, \"#46039f\"], [0.2222222222222222, \"#7201a8\"], [0.3333333333333333, \"#9c179e\"], [0.4444444444444444, \"#bd3786\"], [0.5555555555555556, \"#d8576b\"], [0.6666666666666666, \"#ed7953\"], [0.7777777777777778, \"#fb9f3a\"], [0.8888888888888888, \"#fdca26\"], [1.0, \"#f0f921\"]], \"type\": \"histogram2dcontour\"}], \"mesh3d\": [{\"colorbar\": {\"outlinewidth\": 0, \"ticks\": \"\"}, \"type\": \"mesh3d\"}], \"parcoords\": [{\"line\": {\"colorbar\": {\"outlinewidth\": 0, \"ticks\": \"\"}}, \"type\": \"parcoords\"}], \"pie\": [{\"automargin\": true, \"type\": \"pie\"}], \"scatter\": [{\"marker\": {\"colorbar\": {\"outlinewidth\": 0, \"ticks\": \"\"}}, \"type\": \"scatter\"}], \"scatter3d\": [{\"line\": {\"colorbar\": {\"outlinewidth\": 0, \"ticks\": \"\"}}, \"marker\": {\"colorbar\": {\"outlinewidth\": 0, \"ticks\": \"\"}}, \"type\": \"scatter3d\"}], \"scattercarpet\": [{\"marker\": {\"colorbar\": {\"outlinewidth\": 0, \"ticks\": \"\"}}, \"type\": \"scattercarpet\"}], \"scattergeo\": [{\"marker\": {\"colorbar\": {\"outlinewidth\": 0, \"ticks\": \"\"}}, \"type\": \"scattergeo\"}], \"scattergl\": [{\"marker\": {\"colorbar\": {\"outlinewidth\": 0, \"ticks\": \"\"}}, \"type\": \"scattergl\"}], \"scattermapbox\": [{\"marker\": {\"colorbar\": {\"outlinewidth\": 0, \"ticks\": \"\"}}, \"type\": \"scattermapbox\"}], \"scatterpolar\": [{\"marker\": {\"colorbar\": {\"outlinewidth\": 0, \"ticks\": \"\"}}, \"type\": \"scatterpolar\"}], \"scatterpolargl\": [{\"marker\": {\"colorbar\": {\"outlinewidth\": 0, \"ticks\": \"\"}}, \"type\": \"scatterpolargl\"}], \"scatterternary\": [{\"marker\": {\"colorbar\": {\"outlinewidth\": 0, \"ticks\": \"\"}}, \"type\": \"scatterternary\"}], \"surface\": [{\"colorbar\": {\"outlinewidth\": 0, \"ticks\": \"\"}, \"colorscale\": [[0.0, \"#0d0887\"], [0.1111111111111111, \"#46039f\"], [0.2222222222222222, \"#7201a8\"], [0.3333333333333333, \"#9c179e\"], [0.4444444444444444, \"#bd3786\"], [0.5555555555555556, \"#d8576b\"], [0.6666666666666666, \"#ed7953\"], [0.7777777777777778, \"#fb9f3a\"], [0.8888888888888888, \"#fdca26\"], [1.0, \"#f0f921\"]], \"type\": \"surface\"}], \"table\": [{\"cells\": {\"fill\": {\"color\": \"#EBF0F8\"}, \"line\": {\"color\": \"white\"}}, \"header\": {\"fill\": {\"color\": \"#C8D4E3\"}, \"line\": {\"color\": \"white\"}}, \"type\": \"table\"}]}, \"layout\": {\"annotationdefaults\": {\"arrowcolor\": \"#2a3f5f\", \"arrowhead\": 0, \"arrowwidth\": 1}, \"autotypenumbers\": \"strict\", \"coloraxis\": {\"colorbar\": {\"outlinewidth\": 0, \"ticks\": \"\"}}, \"colorscale\": {\"diverging\": [[0, \"#8e0152\"], [0.1, \"#c51b7d\"], [0.2, \"#de77ae\"], [0.3, \"#f1b6da\"], [0.4, \"#fde0ef\"], [0.5, \"#f7f7f7\"], [0.6, \"#e6f5d0\"], [0.7, \"#b8e186\"], [0.8, \"#7fbc41\"], [0.9, \"#4d9221\"], [1, \"#276419\"]], \"sequential\": [[0.0, \"#0d0887\"], [0.1111111111111111, \"#46039f\"], [0.2222222222222222, \"#7201a8\"], [0.3333333333333333, \"#9c179e\"], [0.4444444444444444, \"#bd3786\"], [0.5555555555555556, \"#d8576b\"], [0.6666666666666666, \"#ed7953\"], [0.7777777777777778, \"#fb9f3a\"], [0.8888888888888888, \"#fdca26\"], [1.0, \"#f0f921\"]], \"sequentialminus\": [[0.0, \"#0d0887\"], [0.1111111111111111, \"#46039f\"], [0.2222222222222222, \"#7201a8\"], [0.3333333333333333, \"#9c179e\"], [0.4444444444444444, \"#bd3786\"], [0.5555555555555556, \"#d8576b\"], [0.6666666666666666, \"#ed7953\"], [0.7777777777777778, \"#fb9f3a\"], [0.8888888888888888, \"#fdca26\"], [1.0, \"#f0f921\"]]}, \"colorway\": [\"#636efa\", \"#EF553B\", \"#00cc96\", \"#ab63fa\", \"#FFA15A\", \"#19d3f3\", \"#FF6692\", \"#B6E880\", \"#FF97FF\", \"#FECB52\"], \"font\": {\"color\": \"#2a3f5f\"}, \"geo\": {\"bgcolor\": \"white\", \"lakecolor\": \"white\", \"landcolor\": \"#E5ECF6\", \"showlakes\": true, \"showland\": true, \"subunitcolor\": \"white\"}, \"hoverlabel\": {\"align\": \"left\"}, \"hovermode\": \"closest\", \"mapbox\": {\"style\": \"light\"}, \"paper_bgcolor\": \"white\", \"plot_bgcolor\": \"#E5ECF6\", \"polar\": {\"angularaxis\": {\"gridcolor\": \"white\", \"linecolor\": \"white\", \"ticks\": \"\"}, \"bgcolor\": \"#E5ECF6\", \"radialaxis\": {\"gridcolor\": \"white\", \"linecolor\": \"white\", \"ticks\": \"\"}}, \"scene\": {\"xaxis\": {\"backgroundcolor\": \"#E5ECF6\", \"gridcolor\": \"white\", \"gridwidth\": 2, \"linecolor\": \"white\", \"showbackground\": true, \"ticks\": \"\", \"zerolinecolor\": \"white\"}, \"yaxis\": {\"backgroundcolor\": \"#E5ECF6\", \"gridcolor\": \"white\", \"gridwidth\": 2, \"linecolor\": \"white\", \"showbackground\": true, \"ticks\": \"\", \"zerolinecolor\": \"white\"}, \"zaxis\": {\"backgroundcolor\": \"#E5ECF6\", \"gridcolor\": \"white\", \"gridwidth\": 2, \"linecolor\": \"white\", \"showbackground\": true, \"ticks\": \"\", \"zerolinecolor\": \"white\"}}, \"shapedefaults\": {\"line\": {\"color\": \"#2a3f5f\"}}, \"ternary\": {\"aaxis\": {\"gridcolor\": \"white\", \"linecolor\": \"white\", \"ticks\": \"\"}, \"baxis\": {\"gridcolor\": \"white\", \"linecolor\": \"white\", \"ticks\": \"\"}, \"bgcolor\": \"#E5ECF6\", \"caxis\": {\"gridcolor\": \"white\", \"linecolor\": \"white\", \"ticks\": \"\"}}, \"title\": {\"x\": 0.05}, \"xaxis\": {\"automargin\": true, \"gridcolor\": \"white\", \"linecolor\": \"white\", \"ticks\": \"\", \"title\": {\"standoff\": 15}, \"zerolinecolor\": \"white\", \"zerolinewidth\": 2}, \"yaxis\": {\"automargin\": true, \"gridcolor\": \"white\", \"linecolor\": \"white\", \"ticks\": \"\", \"title\": {\"standoff\": 15}, \"zerolinecolor\": \"white\", \"zerolinewidth\": 2}}}, \"title\": {\"text\": \"Porcentaje de nulos por variable - CABA vs Otros\"}, \"width\": 800, \"xaxis\": {\"anchor\": \"y\", \"domain\": [0.0, 1.0], \"title\": {\"text\": \"columna\"}}, \"yaxis\": {\"anchor\": \"x\", \"domain\": [0.0, 1.0], \"title\": {\"text\": \"porcentaje_nulos\"}}},                        {\"responsive\": true}                    ).then(function(){\n",
       "                            \n",
       "var gd = document.getElementById('91d7b02a-d85f-452d-b82c-0bb75d811e0c');\n",
       "var x = new MutationObserver(function (mutations, observer) {{\n",
       "        var display = window.getComputedStyle(gd).display;\n",
       "        if (!display || display === 'none') {{\n",
       "            console.log([gd, 'removed!']);\n",
       "            Plotly.purge(gd);\n",
       "            observer.disconnect();\n",
       "        }}\n",
       "}});\n",
       "\n",
       "// Listen for the removal of the full notebook cells\n",
       "var notebookContainer = gd.closest('#notebook-container');\n",
       "if (notebookContainer) {{\n",
       "    x.observe(notebookContainer, {childList: true});\n",
       "}}\n",
       "\n",
       "// Listen for the clearing of the current output cell\n",
       "var outputEl = gd.closest('.output');\n",
       "if (outputEl) {{\n",
       "    x.observe(outputEl, {childList: true});\n",
       "}}\n",
       "\n",
       "                        })                };                });            </script>        </div>"
      ]
     },
     "metadata": {},
     "output_type": "display_data"
    }
   ],
   "source": [
    "#Graficamos % de nulos por columna para CABA vs resto\n",
    "fig = px.bar(data_frame = NulosCross_SoloNulos, x = \"columna\", y = \"porcentaje_nulos\", \n",
    "             color = \"Tag\",\n",
    "             color_discrete_map={'CABA': 'lightseagreen','Otros': 'gray'},\n",
    "             barmode='group',\n",
    "             title=\"Porcentaje de nulos por variable - CABA vs Otros\",\n",
    "             width=800, height=400)\n",
    "\n",
    "fig.show()"
   ]
  },
  {
   "cell_type": "markdown",
   "metadata": {
    "id": "m16md5ClAux3"
   },
   "source": [
    "**Como CABA tiene menos valores nulos que el resto de las regiones nos vamos a quedar con CABA para el resto del análisis**"
   ]
  },
  {
   "cell_type": "markdown",
   "metadata": {
    "id": "QfPItK7fXETz"
   },
   "source": [
    "**Elimación de duplicados**"
   ]
  },
  {
   "cell_type": "code",
   "execution_count": 50,
   "metadata": {
    "colab": {
     "base_uri": "https://localhost:8080/"
    },
    "id": "HgKmj2fYXCrW",
    "outputId": "010bb417-0124-490e-8a9c-19248b8f8219"
   },
   "outputs": [
    {
     "name": "stderr",
     "output_type": "stream",
     "text": [
      "C:\\Users\\ARIEL~1.DAP\\AppData\\Local\\Temp/ipykernel_15864/889814540.py:2: SettingWithCopyWarning:\n",
      "\n",
      "\n",
      "A value is trying to be set on a copy of a slice from a DataFrame\n",
      "\n",
      "See the caveats in the documentation: https://pandas.pydata.org/pandas-docs/stable/user_guide/indexing.html#returning-a-view-versus-a-copy\n",
      "\n"
     ]
    }
   ],
   "source": [
    "#Eliminar duplicados\n",
    "dfCapi.drop_duplicates(subset=[\"price_aprox_usd\",\"description\",\"place_name\"], inplace=True)"
   ]
  },
  {
   "cell_type": "markdown",
   "metadata": {
    "id": "xtU27VUbwgVU"
   },
   "source": [
    "**- Correlaciones entre variables**"
   ]
  },
  {
   "cell_type": "markdown",
   "metadata": {
    "id": "2QGZyzpFw0V8"
   },
   "source": [
    "Se ve una relación entre superficie y precio total. Después obviamente hay relación entre las variables de precio (precio en pesos y precio en usd) y entre las variables de superficie (surface covered y surface total) dado que deberian ser similares - ej si aumenta surface covered, tambien surface total"
   ]
  },
  {
   "cell_type": "code",
   "execution_count": 51,
   "metadata": {},
   "outputs": [],
   "source": [
    "corr = dfCapi.corr()"
   ]
  },
  {
   "cell_type": "code",
   "execution_count": 52,
   "metadata": {},
   "outputs": [
    {
     "data": {
      "text/html": [
       "<style  type=\"text/css\" >\n",
       "    #T_6c0081c7_8f8c_11ec_a82b_902e16a033a9 th {\n",
       "          font-size: 7pt;\n",
       "    }    #T_6c0081c7_8f8c_11ec_a82b_902e16a033a9 td {\n",
       "          padding: 0em 0em;\n",
       "    }#T_6c0081c7_8f8c_11ec_a82b_902e16a033a9row0_col0,#T_6c0081c7_8f8c_11ec_a82b_902e16a033a9row1_col1,#T_6c0081c7_8f8c_11ec_a82b_902e16a033a9row2_col2,#T_6c0081c7_8f8c_11ec_a82b_902e16a033a9row3_col3,#T_6c0081c7_8f8c_11ec_a82b_902e16a033a9row4_col4,#T_6c0081c7_8f8c_11ec_a82b_902e16a033a9row4_col5,#T_6c0081c7_8f8c_11ec_a82b_902e16a033a9row5_col4,#T_6c0081c7_8f8c_11ec_a82b_902e16a033a9row5_col5,#T_6c0081c7_8f8c_11ec_a82b_902e16a033a9row6_col6,#T_6c0081c7_8f8c_11ec_a82b_902e16a033a9row7_col7,#T_6c0081c7_8f8c_11ec_a82b_902e16a033a9row8_col8,#T_6c0081c7_8f8c_11ec_a82b_902e16a033a9row9_col9,#T_6c0081c7_8f8c_11ec_a82b_902e16a033a9row10_col10,#T_6c0081c7_8f8c_11ec_a82b_902e16a033a9row11_col11,#T_6c0081c7_8f8c_11ec_a82b_902e16a033a9row12_col12{\n",
       "            background-color:  #4479bb;\n",
       "            color:  #000000;\n",
       "            max-width:  80px;\n",
       "            font-size:  10pt;\n",
       "        }#T_6c0081c7_8f8c_11ec_a82b_902e16a033a9row0_col1,#T_6c0081c7_8f8c_11ec_a82b_902e16a033a9row0_col4,#T_6c0081c7_8f8c_11ec_a82b_902e16a033a9row0_col5,#T_6c0081c7_8f8c_11ec_a82b_902e16a033a9row12_col1{\n",
       "            background-color:  #d83e5d;\n",
       "            color:  #f1f1f1;\n",
       "            max-width:  80px;\n",
       "            font-size:  10pt;\n",
       "        }#T_6c0081c7_8f8c_11ec_a82b_902e16a033a9row0_col2{\n",
       "            background-color:  #e0748a;\n",
       "            color:  #000000;\n",
       "            max-width:  80px;\n",
       "            font-size:  10pt;\n",
       "        }#T_6c0081c7_8f8c_11ec_a82b_902e16a033a9row0_col3,#T_6c0081c7_8f8c_11ec_a82b_902e16a033a9row1_col12,#T_6c0081c7_8f8c_11ec_a82b_902e16a033a9row10_col0,#T_6c0081c7_8f8c_11ec_a82b_902e16a033a9row10_col11{\n",
       "            background-color:  #d73d5c;\n",
       "            color:  #f1f1f1;\n",
       "            max-width:  80px;\n",
       "            font-size:  10pt;\n",
       "        }#T_6c0081c7_8f8c_11ec_a82b_902e16a033a9row0_col6,#T_6c0081c7_8f8c_11ec_a82b_902e16a033a9row0_col7,#T_6c0081c7_8f8c_11ec_a82b_902e16a033a9row2_col7,#T_6c0081c7_8f8c_11ec_a82b_902e16a033a9row3_col12,#T_6c0081c7_8f8c_11ec_a82b_902e16a033a9row4_col12,#T_6c0081c7_8f8c_11ec_a82b_902e16a033a9row5_col12,#T_6c0081c7_8f8c_11ec_a82b_902e16a033a9row9_col10,#T_6c0081c7_8f8c_11ec_a82b_902e16a033a9row9_col12,#T_6c0081c7_8f8c_11ec_a82b_902e16a033a9row12_col3{\n",
       "            background-color:  #da4b68;\n",
       "            color:  #000000;\n",
       "            max-width:  80px;\n",
       "            font-size:  10pt;\n",
       "        }#T_6c0081c7_8f8c_11ec_a82b_902e16a033a9row0_col8,#T_6c0081c7_8f8c_11ec_a82b_902e16a033a9row1_col0,#T_6c0081c7_8f8c_11ec_a82b_902e16a033a9row2_col12,#T_6c0081c7_8f8c_11ec_a82b_902e16a033a9row3_col0,#T_6c0081c7_8f8c_11ec_a82b_902e16a033a9row4_col0,#T_6c0081c7_8f8c_11ec_a82b_902e16a033a9row5_col0,#T_6c0081c7_8f8c_11ec_a82b_902e16a033a9row6_col9,#T_6c0081c7_8f8c_11ec_a82b_902e16a033a9row7_col8,#T_6c0081c7_8f8c_11ec_a82b_902e16a033a9row8_col11,#T_6c0081c7_8f8c_11ec_a82b_902e16a033a9row9_col6,#T_6c0081c7_8f8c_11ec_a82b_902e16a033a9row9_col11,#T_6c0081c7_8f8c_11ec_a82b_902e16a033a9row10_col2,#T_6c0081c7_8f8c_11ec_a82b_902e16a033a9row11_col8,#T_6c0081c7_8f8c_11ec_a82b_902e16a033a9row12_col2{\n",
       "            background-color:  #d73c5b;\n",
       "            color:  #f1f1f1;\n",
       "            max-width:  80px;\n",
       "            font-size:  10pt;\n",
       "        }#T_6c0081c7_8f8c_11ec_a82b_902e16a033a9row0_col9,#T_6c0081c7_8f8c_11ec_a82b_902e16a033a9row1_col7,#T_6c0081c7_8f8c_11ec_a82b_902e16a033a9row1_col11,#T_6c0081c7_8f8c_11ec_a82b_902e16a033a9row2_col9,#T_6c0081c7_8f8c_11ec_a82b_902e16a033a9row6_col1,#T_6c0081c7_8f8c_11ec_a82b_902e16a033a9row6_col10{\n",
       "            background-color:  #d94865;\n",
       "            color:  #000000;\n",
       "            max-width:  80px;\n",
       "            font-size:  10pt;\n",
       "        }#T_6c0081c7_8f8c_11ec_a82b_902e16a033a9row0_col10,#T_6c0081c7_8f8c_11ec_a82b_902e16a033a9row10_col7{\n",
       "            background-color:  #d84462;\n",
       "            color:  #f1f1f1;\n",
       "            max-width:  80px;\n",
       "            font-size:  10pt;\n",
       "        }#T_6c0081c7_8f8c_11ec_a82b_902e16a033a9row0_col11,#T_6c0081c7_8f8c_11ec_a82b_902e16a033a9row2_col11{\n",
       "            background-color:  #db526e;\n",
       "            color:  #000000;\n",
       "            max-width:  80px;\n",
       "            font-size:  10pt;\n",
       "        }#T_6c0081c7_8f8c_11ec_a82b_902e16a033a9row0_col12,#T_6c0081c7_8f8c_11ec_a82b_902e16a033a9row6_col0,#T_6c0081c7_8f8c_11ec_a82b_902e16a033a9row6_col12,#T_6c0081c7_8f8c_11ec_a82b_902e16a033a9row9_col2,#T_6c0081c7_8f8c_11ec_a82b_902e16a033a9row12_col6,#T_6c0081c7_8f8c_11ec_a82b_902e16a033a9row12_col7,#T_6c0081c7_8f8c_11ec_a82b_902e16a033a9row12_col9{\n",
       "            background-color:  #d94a67;\n",
       "            color:  #000000;\n",
       "            max-width:  80px;\n",
       "            font-size:  10pt;\n",
       "        }#T_6c0081c7_8f8c_11ec_a82b_902e16a033a9row1_col2,#T_6c0081c7_8f8c_11ec_a82b_902e16a033a9row2_col1{\n",
       "            background-color:  #efd7dc;\n",
       "            color:  #000000;\n",
       "            max-width:  80px;\n",
       "            font-size:  10pt;\n",
       "        }#T_6c0081c7_8f8c_11ec_a82b_902e16a033a9row1_col3,#T_6c0081c7_8f8c_11ec_a82b_902e16a033a9row3_col1{\n",
       "            background-color:  #dd627b;\n",
       "            color:  #000000;\n",
       "            max-width:  80px;\n",
       "            font-size:  10pt;\n",
       "        }#T_6c0081c7_8f8c_11ec_a82b_902e16a033a9row1_col4,#T_6c0081c7_8f8c_11ec_a82b_902e16a033a9row1_col5{\n",
       "            background-color:  #dd5f78;\n",
       "            color:  #000000;\n",
       "            max-width:  80px;\n",
       "            font-size:  10pt;\n",
       "        }#T_6c0081c7_8f8c_11ec_a82b_902e16a033a9row1_col6,#T_6c0081c7_8f8c_11ec_a82b_902e16a033a9row10_col9{\n",
       "            background-color:  #d94663;\n",
       "            color:  #f1f1f1;\n",
       "            max-width:  80px;\n",
       "            font-size:  10pt;\n",
       "        }#T_6c0081c7_8f8c_11ec_a82b_902e16a033a9row1_col8,#T_6c0081c7_8f8c_11ec_a82b_902e16a033a9row4_col9,#T_6c0081c7_8f8c_11ec_a82b_902e16a033a9row5_col9,#T_6c0081c7_8f8c_11ec_a82b_902e16a033a9row11_col9{\n",
       "            background-color:  #dd657d;\n",
       "            color:  #000000;\n",
       "            max-width:  80px;\n",
       "            font-size:  10pt;\n",
       "        }#T_6c0081c7_8f8c_11ec_a82b_902e16a033a9row1_col9,#T_6c0081c7_8f8c_11ec_a82b_902e16a033a9row2_col6,#T_6c0081c7_8f8c_11ec_a82b_902e16a033a9row7_col9,#T_6c0081c7_8f8c_11ec_a82b_902e16a033a9row12_col4,#T_6c0081c7_8f8c_11ec_a82b_902e16a033a9row12_col5{\n",
       "            background-color:  #da4d69;\n",
       "            color:  #000000;\n",
       "            max-width:  80px;\n",
       "            font-size:  10pt;\n",
       "        }#T_6c0081c7_8f8c_11ec_a82b_902e16a033a9row1_col10,#T_6c0081c7_8f8c_11ec_a82b_902e16a033a9row2_col3,#T_6c0081c7_8f8c_11ec_a82b_902e16a033a9row3_col2{\n",
       "            background-color:  #dc5973;\n",
       "            color:  #000000;\n",
       "            max-width:  80px;\n",
       "            font-size:  10pt;\n",
       "        }#T_6c0081c7_8f8c_11ec_a82b_902e16a033a9row2_col0,#T_6c0081c7_8f8c_11ec_a82b_902e16a033a9row11_col1{\n",
       "            background-color:  #e07389;\n",
       "            color:  #000000;\n",
       "            max-width:  80px;\n",
       "            font-size:  10pt;\n",
       "        }#T_6c0081c7_8f8c_11ec_a82b_902e16a033a9row2_col4,#T_6c0081c7_8f8c_11ec_a82b_902e16a033a9row2_col5{\n",
       "            background-color:  #de6980;\n",
       "            color:  #000000;\n",
       "            max-width:  80px;\n",
       "            font-size:  10pt;\n",
       "        }#T_6c0081c7_8f8c_11ec_a82b_902e16a033a9row2_col8,#T_6c0081c7_8f8c_11ec_a82b_902e16a033a9row4_col2,#T_6c0081c7_8f8c_11ec_a82b_902e16a033a9row4_col7,#T_6c0081c7_8f8c_11ec_a82b_902e16a033a9row5_col2,#T_6c0081c7_8f8c_11ec_a82b_902e16a033a9row5_col7{\n",
       "            background-color:  #de687f;\n",
       "            color:  #000000;\n",
       "            max-width:  80px;\n",
       "            font-size:  10pt;\n",
       "        }#T_6c0081c7_8f8c_11ec_a82b_902e16a033a9row2_col10{\n",
       "            background-color:  #d8405e;\n",
       "            color:  #f1f1f1;\n",
       "            max-width:  80px;\n",
       "            font-size:  10pt;\n",
       "        }#T_6c0081c7_8f8c_11ec_a82b_902e16a033a9row3_col4,#T_6c0081c7_8f8c_11ec_a82b_902e16a033a9row3_col5,#T_6c0081c7_8f8c_11ec_a82b_902e16a033a9row4_col3,#T_6c0081c7_8f8c_11ec_a82b_902e16a033a9row5_col3{\n",
       "            background-color:  #dee4ec;\n",
       "            color:  #000000;\n",
       "            max-width:  80px;\n",
       "            font-size:  10pt;\n",
       "        }#T_6c0081c7_8f8c_11ec_a82b_902e16a033a9row3_col6,#T_6c0081c7_8f8c_11ec_a82b_902e16a033a9row6_col3,#T_6c0081c7_8f8c_11ec_a82b_902e16a033a9row8_col4,#T_6c0081c7_8f8c_11ec_a82b_902e16a033a9row8_col5{\n",
       "            background-color:  #edccd2;\n",
       "            color:  #000000;\n",
       "            max-width:  80px;\n",
       "            font-size:  10pt;\n",
       "        }#T_6c0081c7_8f8c_11ec_a82b_902e16a033a9row3_col7,#T_6c0081c7_8f8c_11ec_a82b_902e16a033a9row10_col1{\n",
       "            background-color:  #db5570;\n",
       "            color:  #000000;\n",
       "            max-width:  80px;\n",
       "            font-size:  10pt;\n",
       "        }#T_6c0081c7_8f8c_11ec_a82b_902e16a033a9row3_col8{\n",
       "            background-color:  #e18093;\n",
       "            color:  #000000;\n",
       "            max-width:  80px;\n",
       "            font-size:  10pt;\n",
       "        }#T_6c0081c7_8f8c_11ec_a82b_902e16a033a9row3_col9{\n",
       "            background-color:  #efdcdf;\n",
       "            color:  #000000;\n",
       "            max-width:  80px;\n",
       "            font-size:  10pt;\n",
       "        }#T_6c0081c7_8f8c_11ec_a82b_902e16a033a9row3_col10,#T_6c0081c7_8f8c_11ec_a82b_902e16a033a9row4_col1,#T_6c0081c7_8f8c_11ec_a82b_902e16a033a9row5_col1,#T_6c0081c7_8f8c_11ec_a82b_902e16a033a9row8_col7{\n",
       "            background-color:  #dd6179;\n",
       "            color:  #000000;\n",
       "            max-width:  80px;\n",
       "            font-size:  10pt;\n",
       "        }#T_6c0081c7_8f8c_11ec_a82b_902e16a033a9row3_col11{\n",
       "            background-color:  #e28497;\n",
       "            color:  #000000;\n",
       "            max-width:  80px;\n",
       "            font-size:  10pt;\n",
       "        }#T_6c0081c7_8f8c_11ec_a82b_902e16a033a9row4_col6,#T_6c0081c7_8f8c_11ec_a82b_902e16a033a9row5_col6,#T_6c0081c7_8f8c_11ec_a82b_902e16a033a9row6_col4,#T_6c0081c7_8f8c_11ec_a82b_902e16a033a9row6_col5{\n",
       "            background-color:  #abc1dc;\n",
       "            color:  #000000;\n",
       "            max-width:  80px;\n",
       "            font-size:  10pt;\n",
       "        }#T_6c0081c7_8f8c_11ec_a82b_902e16a033a9row4_col8,#T_6c0081c7_8f8c_11ec_a82b_902e16a033a9row5_col8{\n",
       "            background-color:  #e8aeba;\n",
       "            color:  #000000;\n",
       "            max-width:  80px;\n",
       "            font-size:  10pt;\n",
       "        }#T_6c0081c7_8f8c_11ec_a82b_902e16a033a9row4_col10,#T_6c0081c7_8f8c_11ec_a82b_902e16a033a9row5_col10,#T_6c0081c7_8f8c_11ec_a82b_902e16a033a9row10_col3{\n",
       "            background-color:  #dc5c76;\n",
       "            color:  #000000;\n",
       "            max-width:  80px;\n",
       "            font-size:  10pt;\n",
       "        }#T_6c0081c7_8f8c_11ec_a82b_902e16a033a9row4_col11,#T_6c0081c7_8f8c_11ec_a82b_902e16a033a9row5_col11,#T_6c0081c7_8f8c_11ec_a82b_902e16a033a9row8_col3{\n",
       "            background-color:  #e7a3b0;\n",
       "            color:  #000000;\n",
       "            max-width:  80px;\n",
       "            font-size:  10pt;\n",
       "        }#T_6c0081c7_8f8c_11ec_a82b_902e16a033a9row6_col2,#T_6c0081c7_8f8c_11ec_a82b_902e16a033a9row7_col0,#T_6c0081c7_8f8c_11ec_a82b_902e16a033a9row7_col1,#T_6c0081c7_8f8c_11ec_a82b_902e16a033a9row12_col8{\n",
       "            background-color:  #da4e6a;\n",
       "            color:  #000000;\n",
       "            max-width:  80px;\n",
       "            font-size:  10pt;\n",
       "        }#T_6c0081c7_8f8c_11ec_a82b_902e16a033a9row6_col7{\n",
       "            background-color:  #6e96c8;\n",
       "            color:  #000000;\n",
       "            max-width:  80px;\n",
       "            font-size:  10pt;\n",
       "        }#T_6c0081c7_8f8c_11ec_a82b_902e16a033a9row6_col8,#T_6c0081c7_8f8c_11ec_a82b_902e16a033a9row10_col6,#T_6c0081c7_8f8c_11ec_a82b_902e16a033a9row12_col11{\n",
       "            background-color:  #d84361;\n",
       "            color:  #f1f1f1;\n",
       "            max-width:  80px;\n",
       "            font-size:  10pt;\n",
       "        }#T_6c0081c7_8f8c_11ec_a82b_902e16a033a9row6_col11{\n",
       "            background-color:  #db5771;\n",
       "            color:  #000000;\n",
       "            max-width:  80px;\n",
       "            font-size:  10pt;\n",
       "        }#T_6c0081c7_8f8c_11ec_a82b_902e16a033a9row7_col2{\n",
       "            background-color:  #da516c;\n",
       "            color:  #000000;\n",
       "            max-width:  80px;\n",
       "            font-size:  10pt;\n",
       "        }#T_6c0081c7_8f8c_11ec_a82b_902e16a033a9row7_col3{\n",
       "            background-color:  #dc5b75;\n",
       "            color:  #000000;\n",
       "            max-width:  80px;\n",
       "            font-size:  10pt;\n",
       "        }#T_6c0081c7_8f8c_11ec_a82b_902e16a033a9row7_col4,#T_6c0081c7_8f8c_11ec_a82b_902e16a033a9row7_col5,#T_6c0081c7_8f8c_11ec_a82b_902e16a033a9row11_col12{\n",
       "            background-color:  #df6d84;\n",
       "            color:  #000000;\n",
       "            max-width:  80px;\n",
       "            font-size:  10pt;\n",
       "        }#T_6c0081c7_8f8c_11ec_a82b_902e16a033a9row7_col6{\n",
       "            background-color:  #6d95c8;\n",
       "            color:  #000000;\n",
       "            max-width:  80px;\n",
       "            font-size:  10pt;\n",
       "        }#T_6c0081c7_8f8c_11ec_a82b_902e16a033a9row7_col10,#T_6c0081c7_8f8c_11ec_a82b_902e16a033a9row7_col12,#T_6c0081c7_8f8c_11ec_a82b_902e16a033a9row9_col1{\n",
       "            background-color:  #da506b;\n",
       "            color:  #000000;\n",
       "            max-width:  80px;\n",
       "            font-size:  10pt;\n",
       "        }#T_6c0081c7_8f8c_11ec_a82b_902e16a033a9row7_col11{\n",
       "            background-color:  #eab7c1;\n",
       "            color:  #000000;\n",
       "            max-width:  80px;\n",
       "            font-size:  10pt;\n",
       "        }#T_6c0081c7_8f8c_11ec_a82b_902e16a033a9row8_col0{\n",
       "            background-color:  #dd637c;\n",
       "            color:  #000000;\n",
       "            max-width:  80px;\n",
       "            font-size:  10pt;\n",
       "        }#T_6c0081c7_8f8c_11ec_a82b_902e16a033a9row8_col1{\n",
       "            background-color:  #e38b9d;\n",
       "            color:  #000000;\n",
       "            max-width:  80px;\n",
       "            font-size:  10pt;\n",
       "        }#T_6c0081c7_8f8c_11ec_a82b_902e16a033a9row8_col2{\n",
       "            background-color:  #e38d9e;\n",
       "            color:  #000000;\n",
       "            max-width:  80px;\n",
       "            font-size:  10pt;\n",
       "        }#T_6c0081c7_8f8c_11ec_a82b_902e16a033a9row8_col6,#T_6c0081c7_8f8c_11ec_a82b_902e16a033a9row11_col10{\n",
       "            background-color:  #de6c83;\n",
       "            color:  #000000;\n",
       "            max-width:  80px;\n",
       "            font-size:  10pt;\n",
       "        }#T_6c0081c7_8f8c_11ec_a82b_902e16a033a9row8_col9{\n",
       "            background-color:  #eabbc4;\n",
       "            color:  #000000;\n",
       "            max-width:  80px;\n",
       "            font-size:  10pt;\n",
       "        }#T_6c0081c7_8f8c_11ec_a82b_902e16a033a9row8_col10{\n",
       "            background-color:  #e48fa0;\n",
       "            color:  #000000;\n",
       "            max-width:  80px;\n",
       "            font-size:  10pt;\n",
       "        }#T_6c0081c7_8f8c_11ec_a82b_902e16a033a9row8_col12{\n",
       "            background-color:  #e0778c;\n",
       "            color:  #000000;\n",
       "            max-width:  80px;\n",
       "            font-size:  10pt;\n",
       "        }#T_6c0081c7_8f8c_11ec_a82b_902e16a033a9row9_col0,#T_6c0081c7_8f8c_11ec_a82b_902e16a033a9row9_col7,#T_6c0081c7_8f8c_11ec_a82b_902e16a033a9row12_col0{\n",
       "            background-color:  #d94764;\n",
       "            color:  #f1f1f1;\n",
       "            max-width:  80px;\n",
       "            font-size:  10pt;\n",
       "        }#T_6c0081c7_8f8c_11ec_a82b_902e16a033a9row9_col3{\n",
       "            background-color:  #efdde0;\n",
       "            color:  #000000;\n",
       "            max-width:  80px;\n",
       "            font-size:  10pt;\n",
       "        }#T_6c0081c7_8f8c_11ec_a82b_902e16a033a9row9_col4,#T_6c0081c7_8f8c_11ec_a82b_902e16a033a9row9_col5,#T_6c0081c7_8f8c_11ec_a82b_902e16a033a9row10_col8{\n",
       "            background-color:  #de667e;\n",
       "            color:  #000000;\n",
       "            max-width:  80px;\n",
       "            font-size:  10pt;\n",
       "        }#T_6c0081c7_8f8c_11ec_a82b_902e16a033a9row9_col8{\n",
       "            background-color:  #e69dab;\n",
       "            color:  #000000;\n",
       "            max-width:  80px;\n",
       "            font-size:  10pt;\n",
       "        }#T_6c0081c7_8f8c_11ec_a82b_902e16a033a9row10_col4,#T_6c0081c7_8f8c_11ec_a82b_902e16a033a9row10_col5{\n",
       "            background-color:  #db5872;\n",
       "            color:  #000000;\n",
       "            max-width:  80px;\n",
       "            font-size:  10pt;\n",
       "        }#T_6c0081c7_8f8c_11ec_a82b_902e16a033a9row10_col12{\n",
       "            background-color:  #e38a9c;\n",
       "            color:  #000000;\n",
       "            max-width:  80px;\n",
       "            font-size:  10pt;\n",
       "        }#T_6c0081c7_8f8c_11ec_a82b_902e16a033a9row11_col0{\n",
       "            background-color:  #e0798d;\n",
       "            color:  #000000;\n",
       "            max-width:  80px;\n",
       "            font-size:  10pt;\n",
       "        }#T_6c0081c7_8f8c_11ec_a82b_902e16a033a9row11_col2{\n",
       "            background-color:  #e17c90;\n",
       "            color:  #000000;\n",
       "            max-width:  80px;\n",
       "            font-size:  10pt;\n",
       "        }#T_6c0081c7_8f8c_11ec_a82b_902e16a033a9row11_col3{\n",
       "            background-color:  #e7a7b4;\n",
       "            color:  #000000;\n",
       "            max-width:  80px;\n",
       "            font-size:  10pt;\n",
       "        }#T_6c0081c7_8f8c_11ec_a82b_902e16a033a9row11_col4,#T_6c0081c7_8f8c_11ec_a82b_902e16a033a9row11_col5{\n",
       "            background-color:  #ebc2ca;\n",
       "            color:  #000000;\n",
       "            max-width:  80px;\n",
       "            font-size:  10pt;\n",
       "        }#T_6c0081c7_8f8c_11ec_a82b_902e16a033a9row11_col6{\n",
       "            background-color:  #e17d91;\n",
       "            color:  #000000;\n",
       "            max-width:  80px;\n",
       "            font-size:  10pt;\n",
       "        }#T_6c0081c7_8f8c_11ec_a82b_902e16a033a9row11_col7{\n",
       "            background-color:  #edd0d6;\n",
       "            color:  #000000;\n",
       "            max-width:  80px;\n",
       "            font-size:  10pt;\n",
       "        }#T_6c0081c7_8f8c_11ec_a82b_902e16a033a9row12_col10{\n",
       "            background-color:  #e48e9f;\n",
       "            color:  #000000;\n",
       "            max-width:  80px;\n",
       "            font-size:  10pt;\n",
       "        }</style><table id=\"T_6c0081c7_8f8c_11ec_a82b_902e16a033a9\" ><caption>Hover to magify</caption><thead>    <tr>        <th class=\"blank level0\" ></th>        <th class=\"col_heading level0 col0\" >geonames_id</th>        <th class=\"col_heading level0 col1\" >lat</th>        <th class=\"col_heading level0 col2\" >lon</th>        <th class=\"col_heading level0 col3\" >price</th>        <th class=\"col_heading level0 col4\" >price_aprox_local_currency</th>        <th class=\"col_heading level0 col5\" >price_aprox_usd</th>        <th class=\"col_heading level0 col6\" >surface_total_in_m2</th>        <th class=\"col_heading level0 col7\" >surface_covered_in_m2</th>        <th class=\"col_heading level0 col8\" >price_usd_per_m2</th>        <th class=\"col_heading level0 col9\" >price_per_m2</th>        <th class=\"col_heading level0 col10\" >floor</th>        <th class=\"col_heading level0 col11\" >rooms</th>        <th class=\"col_heading level0 col12\" >expenses</th>    </tr></thead><tbody>\n",
       "                <tr>\n",
       "                        <th id=\"T_6c0081c7_8f8c_11ec_a82b_902e16a033a9level0_row0\" class=\"row_heading level0 row0\" >geonames_id</th>\n",
       "                        <td id=\"T_6c0081c7_8f8c_11ec_a82b_902e16a033a9row0_col0\" class=\"data row0 col0\" >1.00</td>\n",
       "                        <td id=\"T_6c0081c7_8f8c_11ec_a82b_902e16a033a9row0_col1\" class=\"data row0 col1\" >-0.04</td>\n",
       "                        <td id=\"T_6c0081c7_8f8c_11ec_a82b_902e16a033a9row0_col2\" class=\"data row0 col2\" >0.12</td>\n",
       "                        <td id=\"T_6c0081c7_8f8c_11ec_a82b_902e16a033a9row0_col3\" class=\"data row0 col3\" >-0.04</td>\n",
       "                        <td id=\"T_6c0081c7_8f8c_11ec_a82b_902e16a033a9row0_col4\" class=\"data row0 col4\" >-0.04</td>\n",
       "                        <td id=\"T_6c0081c7_8f8c_11ec_a82b_902e16a033a9row0_col5\" class=\"data row0 col5\" >-0.04</td>\n",
       "                        <td id=\"T_6c0081c7_8f8c_11ec_a82b_902e16a033a9row0_col6\" class=\"data row0 col6\" >-0.00</td>\n",
       "                        <td id=\"T_6c0081c7_8f8c_11ec_a82b_902e16a033a9row0_col7\" class=\"data row0 col7\" >-0.00</td>\n",
       "                        <td id=\"T_6c0081c7_8f8c_11ec_a82b_902e16a033a9row0_col8\" class=\"data row0 col8\" >-0.05</td>\n",
       "                        <td id=\"T_6c0081c7_8f8c_11ec_a82b_902e16a033a9row0_col9\" class=\"data row0 col9\" >-0.01</td>\n",
       "                        <td id=\"T_6c0081c7_8f8c_11ec_a82b_902e16a033a9row0_col10\" class=\"data row0 col10\" >-0.02</td>\n",
       "                        <td id=\"T_6c0081c7_8f8c_11ec_a82b_902e16a033a9row0_col11\" class=\"data row0 col11\" >0.02</td>\n",
       "                        <td id=\"T_6c0081c7_8f8c_11ec_a82b_902e16a033a9row0_col12\" class=\"data row0 col12\" >-0.00</td>\n",
       "            </tr>\n",
       "            <tr>\n",
       "                        <th id=\"T_6c0081c7_8f8c_11ec_a82b_902e16a033a9level0_row1\" class=\"row_heading level0 row1\" >lat</th>\n",
       "                        <td id=\"T_6c0081c7_8f8c_11ec_a82b_902e16a033a9row1_col0\" class=\"data row1 col0\" >-0.04</td>\n",
       "                        <td id=\"T_6c0081c7_8f8c_11ec_a82b_902e16a033a9row1_col1\" class=\"data row1 col1\" >1.00</td>\n",
       "                        <td id=\"T_6c0081c7_8f8c_11ec_a82b_902e16a033a9row1_col2\" class=\"data row1 col2\" >0.40</td>\n",
       "                        <td id=\"T_6c0081c7_8f8c_11ec_a82b_902e16a033a9row1_col3\" class=\"data row1 col3\" >0.07</td>\n",
       "                        <td id=\"T_6c0081c7_8f8c_11ec_a82b_902e16a033a9row1_col4\" class=\"data row1 col4\" >0.07</td>\n",
       "                        <td id=\"T_6c0081c7_8f8c_11ec_a82b_902e16a033a9row1_col5\" class=\"data row1 col5\" >0.07</td>\n",
       "                        <td id=\"T_6c0081c7_8f8c_11ec_a82b_902e16a033a9row1_col6\" class=\"data row1 col6\" >-0.01</td>\n",
       "                        <td id=\"T_6c0081c7_8f8c_11ec_a82b_902e16a033a9row1_col7\" class=\"data row1 col7\" >-0.00</td>\n",
       "                        <td id=\"T_6c0081c7_8f8c_11ec_a82b_902e16a033a9row1_col8\" class=\"data row1 col8\" >0.08</td>\n",
       "                        <td id=\"T_6c0081c7_8f8c_11ec_a82b_902e16a033a9row1_col9\" class=\"data row1 col9\" >0.01</td>\n",
       "                        <td id=\"T_6c0081c7_8f8c_11ec_a82b_902e16a033a9row1_col10\" class=\"data row1 col10\" >0.05</td>\n",
       "                        <td id=\"T_6c0081c7_8f8c_11ec_a82b_902e16a033a9row1_col11\" class=\"data row1 col11\" >0.00</td>\n",
       "                        <td id=\"T_6c0081c7_8f8c_11ec_a82b_902e16a033a9row1_col12\" class=\"data row1 col12\" >-0.03</td>\n",
       "            </tr>\n",
       "            <tr>\n",
       "                        <th id=\"T_6c0081c7_8f8c_11ec_a82b_902e16a033a9level0_row2\" class=\"row_heading level0 row2\" >lon</th>\n",
       "                        <td id=\"T_6c0081c7_8f8c_11ec_a82b_902e16a033a9row2_col0\" class=\"data row2 col0\" >0.12</td>\n",
       "                        <td id=\"T_6c0081c7_8f8c_11ec_a82b_902e16a033a9row2_col1\" class=\"data row2 col1\" >0.40</td>\n",
       "                        <td id=\"T_6c0081c7_8f8c_11ec_a82b_902e16a033a9row2_col2\" class=\"data row2 col2\" >1.00</td>\n",
       "                        <td id=\"T_6c0081c7_8f8c_11ec_a82b_902e16a033a9row2_col3\" class=\"data row2 col3\" >0.05</td>\n",
       "                        <td id=\"T_6c0081c7_8f8c_11ec_a82b_902e16a033a9row2_col4\" class=\"data row2 col4\" >0.09</td>\n",
       "                        <td id=\"T_6c0081c7_8f8c_11ec_a82b_902e16a033a9row2_col5\" class=\"data row2 col5\" >0.09</td>\n",
       "                        <td id=\"T_6c0081c7_8f8c_11ec_a82b_902e16a033a9row2_col6\" class=\"data row2 col6\" >0.01</td>\n",
       "                        <td id=\"T_6c0081c7_8f8c_11ec_a82b_902e16a033a9row2_col7\" class=\"data row2 col7\" >0.01</td>\n",
       "                        <td id=\"T_6c0081c7_8f8c_11ec_a82b_902e16a033a9row2_col8\" class=\"data row2 col8\" >0.09</td>\n",
       "                        <td id=\"T_6c0081c7_8f8c_11ec_a82b_902e16a033a9row2_col9\" class=\"data row2 col9\" >-0.00</td>\n",
       "                        <td id=\"T_6c0081c7_8f8c_11ec_a82b_902e16a033a9row2_col10\" class=\"data row2 col10\" >-0.03</td>\n",
       "                        <td id=\"T_6c0081c7_8f8c_11ec_a82b_902e16a033a9row2_col11\" class=\"data row2 col11\" >0.03</td>\n",
       "                        <td id=\"T_6c0081c7_8f8c_11ec_a82b_902e16a033a9row2_col12\" class=\"data row2 col12\" >-0.04</td>\n",
       "            </tr>\n",
       "            <tr>\n",
       "                        <th id=\"T_6c0081c7_8f8c_11ec_a82b_902e16a033a9level0_row3\" class=\"row_heading level0 row3\" >price</th>\n",
       "                        <td id=\"T_6c0081c7_8f8c_11ec_a82b_902e16a033a9row3_col0\" class=\"data row3 col0\" >-0.04</td>\n",
       "                        <td id=\"T_6c0081c7_8f8c_11ec_a82b_902e16a033a9row3_col1\" class=\"data row3 col1\" >0.07</td>\n",
       "                        <td id=\"T_6c0081c7_8f8c_11ec_a82b_902e16a033a9row3_col2\" class=\"data row3 col2\" >0.05</td>\n",
       "                        <td id=\"T_6c0081c7_8f8c_11ec_a82b_902e16a033a9row3_col3\" class=\"data row3 col3\" >1.00</td>\n",
       "                        <td id=\"T_6c0081c7_8f8c_11ec_a82b_902e16a033a9row3_col4\" class=\"data row3 col4\" >0.54</td>\n",
       "                        <td id=\"T_6c0081c7_8f8c_11ec_a82b_902e16a033a9row3_col5\" class=\"data row3 col5\" >0.54</td>\n",
       "                        <td id=\"T_6c0081c7_8f8c_11ec_a82b_902e16a033a9row3_col6\" class=\"data row3 col6\" >0.37</td>\n",
       "                        <td id=\"T_6c0081c7_8f8c_11ec_a82b_902e16a033a9row3_col7\" class=\"data row3 col7\" >0.04</td>\n",
       "                        <td id=\"T_6c0081c7_8f8c_11ec_a82b_902e16a033a9row3_col8\" class=\"data row3 col8\" >0.16</td>\n",
       "                        <td id=\"T_6c0081c7_8f8c_11ec_a82b_902e16a033a9row3_col9\" class=\"data row3 col9\" >0.42</td>\n",
       "                        <td id=\"T_6c0081c7_8f8c_11ec_a82b_902e16a033a9row3_col10\" class=\"data row3 col10\" >0.07</td>\n",
       "                        <td id=\"T_6c0081c7_8f8c_11ec_a82b_902e16a033a9row3_col11\" class=\"data row3 col11\" >0.17</td>\n",
       "                        <td id=\"T_6c0081c7_8f8c_11ec_a82b_902e16a033a9row3_col12\" class=\"data row3 col12\" >0.01</td>\n",
       "            </tr>\n",
       "            <tr>\n",
       "                        <th id=\"T_6c0081c7_8f8c_11ec_a82b_902e16a033a9level0_row4\" class=\"row_heading level0 row4\" >price_aprox_local_currency</th>\n",
       "                        <td id=\"T_6c0081c7_8f8c_11ec_a82b_902e16a033a9row4_col0\" class=\"data row4 col0\" >-0.04</td>\n",
       "                        <td id=\"T_6c0081c7_8f8c_11ec_a82b_902e16a033a9row4_col1\" class=\"data row4 col1\" >0.07</td>\n",
       "                        <td id=\"T_6c0081c7_8f8c_11ec_a82b_902e16a033a9row4_col2\" class=\"data row4 col2\" >0.09</td>\n",
       "                        <td id=\"T_6c0081c7_8f8c_11ec_a82b_902e16a033a9row4_col3\" class=\"data row4 col3\" >0.54</td>\n",
       "                        <td id=\"T_6c0081c7_8f8c_11ec_a82b_902e16a033a9row4_col4\" class=\"data row4 col4\" >1.00</td>\n",
       "                        <td id=\"T_6c0081c7_8f8c_11ec_a82b_902e16a033a9row4_col5\" class=\"data row4 col5\" >1.00</td>\n",
       "                        <td id=\"T_6c0081c7_8f8c_11ec_a82b_902e16a033a9row4_col6\" class=\"data row4 col6\" >0.69</td>\n",
       "                        <td id=\"T_6c0081c7_8f8c_11ec_a82b_902e16a033a9row4_col7\" class=\"data row4 col7\" >0.09</td>\n",
       "                        <td id=\"T_6c0081c7_8f8c_11ec_a82b_902e16a033a9row4_col8\" class=\"data row4 col8\" >0.29</td>\n",
       "                        <td id=\"T_6c0081c7_8f8c_11ec_a82b_902e16a033a9row4_col9\" class=\"data row4 col9\" >0.08</td>\n",
       "                        <td id=\"T_6c0081c7_8f8c_11ec_a82b_902e16a033a9row4_col10\" class=\"data row4 col10\" >0.05</td>\n",
       "                        <td id=\"T_6c0081c7_8f8c_11ec_a82b_902e16a033a9row4_col11\" class=\"data row4 col11\" >0.25</td>\n",
       "                        <td id=\"T_6c0081c7_8f8c_11ec_a82b_902e16a033a9row4_col12\" class=\"data row4 col12\" >0.01</td>\n",
       "            </tr>\n",
       "            <tr>\n",
       "                        <th id=\"T_6c0081c7_8f8c_11ec_a82b_902e16a033a9level0_row5\" class=\"row_heading level0 row5\" >price_aprox_usd</th>\n",
       "                        <td id=\"T_6c0081c7_8f8c_11ec_a82b_902e16a033a9row5_col0\" class=\"data row5 col0\" >-0.04</td>\n",
       "                        <td id=\"T_6c0081c7_8f8c_11ec_a82b_902e16a033a9row5_col1\" class=\"data row5 col1\" >0.07</td>\n",
       "                        <td id=\"T_6c0081c7_8f8c_11ec_a82b_902e16a033a9row5_col2\" class=\"data row5 col2\" >0.09</td>\n",
       "                        <td id=\"T_6c0081c7_8f8c_11ec_a82b_902e16a033a9row5_col3\" class=\"data row5 col3\" >0.54</td>\n",
       "                        <td id=\"T_6c0081c7_8f8c_11ec_a82b_902e16a033a9row5_col4\" class=\"data row5 col4\" >1.00</td>\n",
       "                        <td id=\"T_6c0081c7_8f8c_11ec_a82b_902e16a033a9row5_col5\" class=\"data row5 col5\" >1.00</td>\n",
       "                        <td id=\"T_6c0081c7_8f8c_11ec_a82b_902e16a033a9row5_col6\" class=\"data row5 col6\" >0.69</td>\n",
       "                        <td id=\"T_6c0081c7_8f8c_11ec_a82b_902e16a033a9row5_col7\" class=\"data row5 col7\" >0.09</td>\n",
       "                        <td id=\"T_6c0081c7_8f8c_11ec_a82b_902e16a033a9row5_col8\" class=\"data row5 col8\" >0.29</td>\n",
       "                        <td id=\"T_6c0081c7_8f8c_11ec_a82b_902e16a033a9row5_col9\" class=\"data row5 col9\" >0.08</td>\n",
       "                        <td id=\"T_6c0081c7_8f8c_11ec_a82b_902e16a033a9row5_col10\" class=\"data row5 col10\" >0.05</td>\n",
       "                        <td id=\"T_6c0081c7_8f8c_11ec_a82b_902e16a033a9row5_col11\" class=\"data row5 col11\" >0.25</td>\n",
       "                        <td id=\"T_6c0081c7_8f8c_11ec_a82b_902e16a033a9row5_col12\" class=\"data row5 col12\" >0.01</td>\n",
       "            </tr>\n",
       "            <tr>\n",
       "                        <th id=\"T_6c0081c7_8f8c_11ec_a82b_902e16a033a9level0_row6\" class=\"row_heading level0 row6\" >surface_total_in_m2</th>\n",
       "                        <td id=\"T_6c0081c7_8f8c_11ec_a82b_902e16a033a9row6_col0\" class=\"data row6 col0\" >-0.00</td>\n",
       "                        <td id=\"T_6c0081c7_8f8c_11ec_a82b_902e16a033a9row6_col1\" class=\"data row6 col1\" >-0.01</td>\n",
       "                        <td id=\"T_6c0081c7_8f8c_11ec_a82b_902e16a033a9row6_col2\" class=\"data row6 col2\" >0.01</td>\n",
       "                        <td id=\"T_6c0081c7_8f8c_11ec_a82b_902e16a033a9row6_col3\" class=\"data row6 col3\" >0.37</td>\n",
       "                        <td id=\"T_6c0081c7_8f8c_11ec_a82b_902e16a033a9row6_col4\" class=\"data row6 col4\" >0.69</td>\n",
       "                        <td id=\"T_6c0081c7_8f8c_11ec_a82b_902e16a033a9row6_col5\" class=\"data row6 col5\" >0.69</td>\n",
       "                        <td id=\"T_6c0081c7_8f8c_11ec_a82b_902e16a033a9row6_col6\" class=\"data row6 col6\" >1.00</td>\n",
       "                        <td id=\"T_6c0081c7_8f8c_11ec_a82b_902e16a033a9row6_col7\" class=\"data row6 col7\" >0.87</td>\n",
       "                        <td id=\"T_6c0081c7_8f8c_11ec_a82b_902e16a033a9row6_col8\" class=\"data row6 col8\" >-0.02</td>\n",
       "                        <td id=\"T_6c0081c7_8f8c_11ec_a82b_902e16a033a9row6_col9\" class=\"data row6 col9\" >-0.04</td>\n",
       "                        <td id=\"T_6c0081c7_8f8c_11ec_a82b_902e16a033a9row6_col10\" class=\"data row6 col10\" >-0.01</td>\n",
       "                        <td id=\"T_6c0081c7_8f8c_11ec_a82b_902e16a033a9row6_col11\" class=\"data row6 col11\" >0.03</td>\n",
       "                        <td id=\"T_6c0081c7_8f8c_11ec_a82b_902e16a033a9row6_col12\" class=\"data row6 col12\" >0.00</td>\n",
       "            </tr>\n",
       "            <tr>\n",
       "                        <th id=\"T_6c0081c7_8f8c_11ec_a82b_902e16a033a9level0_row7\" class=\"row_heading level0 row7\" >surface_covered_in_m2</th>\n",
       "                        <td id=\"T_6c0081c7_8f8c_11ec_a82b_902e16a033a9row7_col0\" class=\"data row7 col0\" >-0.00</td>\n",
       "                        <td id=\"T_6c0081c7_8f8c_11ec_a82b_902e16a033a9row7_col1\" class=\"data row7 col1\" >-0.00</td>\n",
       "                        <td id=\"T_6c0081c7_8f8c_11ec_a82b_902e16a033a9row7_col2\" class=\"data row7 col2\" >0.01</td>\n",
       "                        <td id=\"T_6c0081c7_8f8c_11ec_a82b_902e16a033a9row7_col3\" class=\"data row7 col3\" >0.04</td>\n",
       "                        <td id=\"T_6c0081c7_8f8c_11ec_a82b_902e16a033a9row7_col4\" class=\"data row7 col4\" >0.09</td>\n",
       "                        <td id=\"T_6c0081c7_8f8c_11ec_a82b_902e16a033a9row7_col5\" class=\"data row7 col5\" >0.09</td>\n",
       "                        <td id=\"T_6c0081c7_8f8c_11ec_a82b_902e16a033a9row7_col6\" class=\"data row7 col6\" >0.87</td>\n",
       "                        <td id=\"T_6c0081c7_8f8c_11ec_a82b_902e16a033a9row7_col7\" class=\"data row7 col7\" >1.00</td>\n",
       "                        <td id=\"T_6c0081c7_8f8c_11ec_a82b_902e16a033a9row7_col8\" class=\"data row7 col8\" >-0.06</td>\n",
       "                        <td id=\"T_6c0081c7_8f8c_11ec_a82b_902e16a033a9row7_col9\" class=\"data row7 col9\" >-0.01</td>\n",
       "                        <td id=\"T_6c0081c7_8f8c_11ec_a82b_902e16a033a9row7_col10\" class=\"data row7 col10\" >-0.00</td>\n",
       "                        <td id=\"T_6c0081c7_8f8c_11ec_a82b_902e16a033a9row7_col11\" class=\"data row7 col11\" >0.30</td>\n",
       "                        <td id=\"T_6c0081c7_8f8c_11ec_a82b_902e16a033a9row7_col12\" class=\"data row7 col12\" >0.00</td>\n",
       "            </tr>\n",
       "            <tr>\n",
       "                        <th id=\"T_6c0081c7_8f8c_11ec_a82b_902e16a033a9level0_row8\" class=\"row_heading level0 row8\" >price_usd_per_m2</th>\n",
       "                        <td id=\"T_6c0081c7_8f8c_11ec_a82b_902e16a033a9row8_col0\" class=\"data row8 col0\" >-0.05</td>\n",
       "                        <td id=\"T_6c0081c7_8f8c_11ec_a82b_902e16a033a9row8_col1\" class=\"data row8 col1\" >0.08</td>\n",
       "                        <td id=\"T_6c0081c7_8f8c_11ec_a82b_902e16a033a9row8_col2\" class=\"data row8 col2\" >0.09</td>\n",
       "                        <td id=\"T_6c0081c7_8f8c_11ec_a82b_902e16a033a9row8_col3\" class=\"data row8 col3\" >0.16</td>\n",
       "                        <td id=\"T_6c0081c7_8f8c_11ec_a82b_902e16a033a9row8_col4\" class=\"data row8 col4\" >0.29</td>\n",
       "                        <td id=\"T_6c0081c7_8f8c_11ec_a82b_902e16a033a9row8_col5\" class=\"data row8 col5\" >0.29</td>\n",
       "                        <td id=\"T_6c0081c7_8f8c_11ec_a82b_902e16a033a9row8_col6\" class=\"data row8 col6\" >-0.02</td>\n",
       "                        <td id=\"T_6c0081c7_8f8c_11ec_a82b_902e16a033a9row8_col7\" class=\"data row8 col7\" >-0.06</td>\n",
       "                        <td id=\"T_6c0081c7_8f8c_11ec_a82b_902e16a033a9row8_col8\" class=\"data row8 col8\" >1.00</td>\n",
       "                        <td id=\"T_6c0081c7_8f8c_11ec_a82b_902e16a033a9row8_col9\" class=\"data row8 col9\" >0.23</td>\n",
       "                        <td id=\"T_6c0081c7_8f8c_11ec_a82b_902e16a033a9row8_col10\" class=\"data row8 col10\" >0.09</td>\n",
       "                        <td id=\"T_6c0081c7_8f8c_11ec_a82b_902e16a033a9row8_col11\" class=\"data row8 col11\" >-0.18</td>\n",
       "                        <td id=\"T_6c0081c7_8f8c_11ec_a82b_902e16a033a9row8_col12\" class=\"data row8 col12\" >0.02</td>\n",
       "            </tr>\n",
       "            <tr>\n",
       "                        <th id=\"T_6c0081c7_8f8c_11ec_a82b_902e16a033a9level0_row9\" class=\"row_heading level0 row9\" >price_per_m2</th>\n",
       "                        <td id=\"T_6c0081c7_8f8c_11ec_a82b_902e16a033a9row9_col0\" class=\"data row9 col0\" >-0.01</td>\n",
       "                        <td id=\"T_6c0081c7_8f8c_11ec_a82b_902e16a033a9row9_col1\" class=\"data row9 col1\" >0.01</td>\n",
       "                        <td id=\"T_6c0081c7_8f8c_11ec_a82b_902e16a033a9row9_col2\" class=\"data row9 col2\" >-0.00</td>\n",
       "                        <td id=\"T_6c0081c7_8f8c_11ec_a82b_902e16a033a9row9_col3\" class=\"data row9 col3\" >0.42</td>\n",
       "                        <td id=\"T_6c0081c7_8f8c_11ec_a82b_902e16a033a9row9_col4\" class=\"data row9 col4\" >0.08</td>\n",
       "                        <td id=\"T_6c0081c7_8f8c_11ec_a82b_902e16a033a9row9_col5\" class=\"data row9 col5\" >0.08</td>\n",
       "                        <td id=\"T_6c0081c7_8f8c_11ec_a82b_902e16a033a9row9_col6\" class=\"data row9 col6\" >-0.04</td>\n",
       "                        <td id=\"T_6c0081c7_8f8c_11ec_a82b_902e16a033a9row9_col7\" class=\"data row9 col7\" >-0.01</td>\n",
       "                        <td id=\"T_6c0081c7_8f8c_11ec_a82b_902e16a033a9row9_col8\" class=\"data row9 col8\" >0.23</td>\n",
       "                        <td id=\"T_6c0081c7_8f8c_11ec_a82b_902e16a033a9row9_col9\" class=\"data row9 col9\" >1.00</td>\n",
       "                        <td id=\"T_6c0081c7_8f8c_11ec_a82b_902e16a033a9row9_col10\" class=\"data row9 col10\" >0.00</td>\n",
       "                        <td id=\"T_6c0081c7_8f8c_11ec_a82b_902e16a033a9row9_col11\" class=\"data row9 col11\" >-0.04</td>\n",
       "                        <td id=\"T_6c0081c7_8f8c_11ec_a82b_902e16a033a9row9_col12\" class=\"data row9 col12\" >0.00</td>\n",
       "            </tr>\n",
       "            <tr>\n",
       "                        <th id=\"T_6c0081c7_8f8c_11ec_a82b_902e16a033a9level0_row10\" class=\"row_heading level0 row10\" >floor</th>\n",
       "                        <td id=\"T_6c0081c7_8f8c_11ec_a82b_902e16a033a9row10_col0\" class=\"data row10 col0\" >-0.02</td>\n",
       "                        <td id=\"T_6c0081c7_8f8c_11ec_a82b_902e16a033a9row10_col1\" class=\"data row10 col1\" >0.05</td>\n",
       "                        <td id=\"T_6c0081c7_8f8c_11ec_a82b_902e16a033a9row10_col2\" class=\"data row10 col2\" >-0.03</td>\n",
       "                        <td id=\"T_6c0081c7_8f8c_11ec_a82b_902e16a033a9row10_col3\" class=\"data row10 col3\" >0.07</td>\n",
       "                        <td id=\"T_6c0081c7_8f8c_11ec_a82b_902e16a033a9row10_col4\" class=\"data row10 col4\" >0.05</td>\n",
       "                        <td id=\"T_6c0081c7_8f8c_11ec_a82b_902e16a033a9row10_col5\" class=\"data row10 col5\" >0.05</td>\n",
       "                        <td id=\"T_6c0081c7_8f8c_11ec_a82b_902e16a033a9row10_col6\" class=\"data row10 col6\" >-0.01</td>\n",
       "                        <td id=\"T_6c0081c7_8f8c_11ec_a82b_902e16a033a9row10_col7\" class=\"data row10 col7\" >-0.00</td>\n",
       "                        <td id=\"T_6c0081c7_8f8c_11ec_a82b_902e16a033a9row10_col8\" class=\"data row10 col8\" >0.09</td>\n",
       "                        <td id=\"T_6c0081c7_8f8c_11ec_a82b_902e16a033a9row10_col9\" class=\"data row10 col9\" >0.00</td>\n",
       "                        <td id=\"T_6c0081c7_8f8c_11ec_a82b_902e16a033a9row10_col10\" class=\"data row10 col10\" >1.00</td>\n",
       "                        <td id=\"T_6c0081c7_8f8c_11ec_a82b_902e16a033a9row10_col11\" class=\"data row10 col11\" >-0.02</td>\n",
       "                        <td id=\"T_6c0081c7_8f8c_11ec_a82b_902e16a033a9row10_col12\" class=\"data row10 col12\" >0.20</td>\n",
       "            </tr>\n",
       "            <tr>\n",
       "                        <th id=\"T_6c0081c7_8f8c_11ec_a82b_902e16a033a9level0_row11\" class=\"row_heading level0 row11\" >rooms</th>\n",
       "                        <td id=\"T_6c0081c7_8f8c_11ec_a82b_902e16a033a9row11_col0\" class=\"data row11 col0\" >0.02</td>\n",
       "                        <td id=\"T_6c0081c7_8f8c_11ec_a82b_902e16a033a9row11_col1\" class=\"data row11 col1\" >0.00</td>\n",
       "                        <td id=\"T_6c0081c7_8f8c_11ec_a82b_902e16a033a9row11_col2\" class=\"data row11 col2\" >0.03</td>\n",
       "                        <td id=\"T_6c0081c7_8f8c_11ec_a82b_902e16a033a9row11_col3\" class=\"data row11 col3\" >0.17</td>\n",
       "                        <td id=\"T_6c0081c7_8f8c_11ec_a82b_902e16a033a9row11_col4\" class=\"data row11 col4\" >0.25</td>\n",
       "                        <td id=\"T_6c0081c7_8f8c_11ec_a82b_902e16a033a9row11_col5\" class=\"data row11 col5\" >0.25</td>\n",
       "                        <td id=\"T_6c0081c7_8f8c_11ec_a82b_902e16a033a9row11_col6\" class=\"data row11 col6\" >0.03</td>\n",
       "                        <td id=\"T_6c0081c7_8f8c_11ec_a82b_902e16a033a9row11_col7\" class=\"data row11 col7\" >0.30</td>\n",
       "                        <td id=\"T_6c0081c7_8f8c_11ec_a82b_902e16a033a9row11_col8\" class=\"data row11 col8\" >-0.18</td>\n",
       "                        <td id=\"T_6c0081c7_8f8c_11ec_a82b_902e16a033a9row11_col9\" class=\"data row11 col9\" >-0.04</td>\n",
       "                        <td id=\"T_6c0081c7_8f8c_11ec_a82b_902e16a033a9row11_col10\" class=\"data row11 col10\" >-0.02</td>\n",
       "                        <td id=\"T_6c0081c7_8f8c_11ec_a82b_902e16a033a9row11_col11\" class=\"data row11 col11\" >1.00</td>\n",
       "                        <td id=\"T_6c0081c7_8f8c_11ec_a82b_902e16a033a9row11_col12\" class=\"data row11 col12\" >-0.02</td>\n",
       "            </tr>\n",
       "            <tr>\n",
       "                        <th id=\"T_6c0081c7_8f8c_11ec_a82b_902e16a033a9level0_row12\" class=\"row_heading level0 row12\" >expenses</th>\n",
       "                        <td id=\"T_6c0081c7_8f8c_11ec_a82b_902e16a033a9row12_col0\" class=\"data row12 col0\" >-0.00</td>\n",
       "                        <td id=\"T_6c0081c7_8f8c_11ec_a82b_902e16a033a9row12_col1\" class=\"data row12 col1\" >-0.03</td>\n",
       "                        <td id=\"T_6c0081c7_8f8c_11ec_a82b_902e16a033a9row12_col2\" class=\"data row12 col2\" >-0.04</td>\n",
       "                        <td id=\"T_6c0081c7_8f8c_11ec_a82b_902e16a033a9row12_col3\" class=\"data row12 col3\" >0.01</td>\n",
       "                        <td id=\"T_6c0081c7_8f8c_11ec_a82b_902e16a033a9row12_col4\" class=\"data row12 col4\" >0.01</td>\n",
       "                        <td id=\"T_6c0081c7_8f8c_11ec_a82b_902e16a033a9row12_col5\" class=\"data row12 col5\" >0.01</td>\n",
       "                        <td id=\"T_6c0081c7_8f8c_11ec_a82b_902e16a033a9row12_col6\" class=\"data row12 col6\" >0.00</td>\n",
       "                        <td id=\"T_6c0081c7_8f8c_11ec_a82b_902e16a033a9row12_col7\" class=\"data row12 col7\" >0.00</td>\n",
       "                        <td id=\"T_6c0081c7_8f8c_11ec_a82b_902e16a033a9row12_col8\" class=\"data row12 col8\" >0.02</td>\n",
       "                        <td id=\"T_6c0081c7_8f8c_11ec_a82b_902e16a033a9row12_col9\" class=\"data row12 col9\" >0.00</td>\n",
       "                        <td id=\"T_6c0081c7_8f8c_11ec_a82b_902e16a033a9row12_col10\" class=\"data row12 col10\" >0.20</td>\n",
       "                        <td id=\"T_6c0081c7_8f8c_11ec_a82b_902e16a033a9row12_col11\" class=\"data row12 col11\" >-0.02</td>\n",
       "                        <td id=\"T_6c0081c7_8f8c_11ec_a82b_902e16a033a9row12_col12\" class=\"data row12 col12\" >1.00</td>\n",
       "            </tr>\n",
       "    </tbody></table>"
      ],
      "text/plain": [
       "<pandas.io.formats.style.Styler at 0x18f3cdab760>"
      ]
     },
     "execution_count": 52,
     "metadata": {},
     "output_type": "execute_result"
    }
   ],
   "source": [
    "cmap=sns.diverging_palette(5, 250, as_cmap=True)\n",
    "\n",
    "def magnify():\n",
    "    return [dict(selector=\"th\",\n",
    "                 props=[(\"font-size\", \"7pt\")]),\n",
    "            dict(selector=\"td\",\n",
    "                 props=[('padding', \"0em 0em\")])\n",
    "]\n",
    "\n",
    "corr.style.background_gradient(cmap, axis=1)\\\n",
    "    .set_properties(**{'max-width': '80px', 'font-size': '10pt'})\\\n",
    "    .set_caption(\"Hover to magify\")\\\n",
    "    .set_precision(2)\\\n",
    "    .set_table_styles(magnify())"
   ]
  },
  {
   "cell_type": "code",
   "execution_count": 53,
   "metadata": {
    "colab": {
     "base_uri": "https://localhost:8080/",
     "height": 717
    },
    "id": "6Nk3X-m_wgk-",
    "outputId": "501d1031-e754-4430-f973-aa8c927eff48",
    "scrolled": true
   },
   "outputs": [
    {
     "name": "stderr",
     "output_type": "stream",
     "text": [
      "C:\\Users\\ARIEL~1.DAP\\AppData\\Local\\Temp/ipykernel_15864/387532550.py:3: FutureWarning:\n",
      "\n",
      "Using a non-tuple sequence for multidimensional indexing is deprecated; use `arr[tuple(seq)]` instead of `arr[seq]`. In the future this will be interpreted as an array index, `arr[np.array(seq)]`, which will result either in an error or a different result.\n",
      "\n"
     ]
    },
    {
     "data": {
      "image/png": "[encoded data removed]",
      "text/plain": [
       "<Figure size 1152x576 with 2 Axes>"
      ]
     },
     "metadata": {
      "needs_background": "light"
     },
     "output_type": "display_data"
    }
   ],
   "source": [
    "fig, ax = plt.subplots(figsize=(16,8))       \n",
    "cor = dfCapi.corr().abs()\n",
    "cor.values[[np.arange(6)]*2] = 0\n",
    "ax = plt.axes()\n",
    "sns.heatmap(cor,cmap='Blues', alpha=0.5,ax=ax);\n",
    "ax.set_title('Correlacion entre variables', fontsize=20)\n",
    "plt.show();"
   ]
  },
  {
   "cell_type": "code",
   "execution_count": 54,
   "metadata": {},
   "outputs": [
    {
     "data": {
      "image/png": "[encoded data removed]",
      "text/plain": [
       "<Figure size 1152x576 with 2 Axes>"
      ]
     },
     "metadata": {},
     "output_type": "display_data"
    }
   ],
   "source": [
    "mask = np.zeros_like(corr)\n",
    "mask[np.triu_indices_from(mask)] = True\n",
    "with sns.axes_style(\"white\"):\n",
    "    f, ax = plt.subplots(figsize=(16, 8))\n",
    "    ax = sns.heatmap(corr, cmap = \"Blues\", alpha=0.5, mask=mask)"
   ]
  },
  {
   "cell_type": "markdown",
   "metadata": {
    "id": "Yn8IF2VE_7B3"
   },
   "source": [
    "Nos vamos a focalizar en limpiar (outliers) y completar (nulos) variables como Rooms, Superficie"
   ]
  },
  {
   "cell_type": "markdown",
   "metadata": {
    "id": "FZnpgCstA744"
   },
   "source": [
    "**- Valores nulos para CABA**"
   ]
  },
  {
   "cell_type": "code",
   "execution_count": 55,
   "metadata": {
    "id": "Cr9tyZadrzc1"
   },
   "outputs": [],
   "source": [
    "#Funcion para graficar el porcentaje de valores nulos\n",
    "\n",
    "def porcentajes_nulos(df, h=800):\n",
    "    per_cant_null = (df.isnull().sum() / df.shape[0]).sort_values()\n",
    "    \n",
    "    fig = px.bar(per_cant_null, x=per_cant_null.values, y=per_cant_null.index, \n",
    "                 height=h, \n",
    "                 color_discrete_sequence =['lightseagreen']*len(df),\n",
    "                 orientation=\"h\", \n",
    "                 title=\"Cantidad de valores nulos por campo\",\n",
    "                 labels={\n",
    "                     \"x\": \"Porcentaje (%)\",\n",
    "                     \"index\": \"Campo\",\n",
    "                 })    \n",
    "    fig.show()"
   ]
  },
  {
   "cell_type": "code",
   "execution_count": 56,
   "metadata": {
    "colab": {
     "base_uri": "https://localhost:8080/",
     "height": 817
    },
    "id": "33a8WFS_joCU",
    "outputId": "88dda49c-dfa0-4339-9c7a-a214e9a631ac"
   },
   "outputs": [
    {
     "data": {
      "application/vnd.plotly.v1+json": {
       "config": {
        "plotlyServerURL": "https://plotly.com"
       },
       "data": [
        {
         "alignmentgroup": "True",
         "hovertemplate": "Porcentaje (%)=%{x}<br>Campo=%{y}<extra></extra>",
         "legendgroup": "",
         "marker": {
          "color": "lightseagreen"
         },
         "name": "",
         "offsetgroup": "",
         "orientation": "h",
         "showlegend": false,
         "textposition": "auto",
         "type": "bar",
         "x": [
          0,
          0,
          0,
          0,
          0,
          0,
          0,
          0,
          0,
          0.012811459699384646,
          0.03934227781700797,
          0.06429267964625576,
          0.06671374289653317,
          0.06671374289653317,
          0.06671374289653317,
          0.06671374289653317,
          0.1216920542049161,
          0.19304616833114766,
          0.24778909849019806,
          0.24778909849019806,
          0.24778909849019806,
          0.2512525639732338,
          0.5060694710649316,
          0.7873163186388245,
          0.9012744207942432
         ],
         "xaxis": "x",
         "y": [
          "operation",
          "property_type",
          "place_name",
          "place_with_parent_names",
          "country_name",
          "state_name",
          "description",
          "properati_url",
          "title",
          "image_thumbnail",
          "geonames_id",
          "surface_covered_in_m2",
          "price",
          "currency",
          "price_aprox_usd",
          "price_aprox_local_currency",
          "price_per_m2",
          "surface_total_in_m2",
          "lat",
          "lat-lon",
          "lon",
          "price_usd_per_m2",
          "rooms",
          "expenses",
          "floor"
         ],
         "yaxis": "y"
        }
       ],
       "layout": {
        "barmode": "relative",
        "height": 800,
        "legend": {
         "tracegroupgap": 0
        },
        "template": {
         "data": {
          "bar": [
           {
            "error_x": {
             "color": "#2a3f5f"
            },
            "error_y": {
             "color": "#2a3f5f"
            },
            "marker": {
             "line": {
              "color": "#E5ECF6",
              "width": 0.5
             }
            },
            "type": "bar"
           }
          ],
          "barpolar": [
           {
            "marker": {
             "line": {
              "color": "#E5ECF6",
              "width": 0.5
             }
            },
            "type": "barpolar"
           }
          ],
          "carpet": [
           {
            "aaxis": {
             "endlinecolor": "#2a3f5f",
             "gridcolor": "white",
             "linecolor": "white",
             "minorgridcolor": "white",
             "startlinecolor": "#2a3f5f"
            },
            "baxis": {
             "endlinecolor": "#2a3f5f",
             "gridcolor": "white",
             "linecolor": "white",
             "minorgridcolor": "white",
             "startlinecolor": "#2a3f5f"
            },
            "type": "carpet"
           }
          ],
          "choropleth": [
           {
            "colorbar": {
             "outlinewidth": 0,
             "ticks": ""
            },
            "type": "choropleth"
           }
          ],
          "contour": [
           {
            "colorbar": {
             "outlinewidth": 0,
             "ticks": ""
            },
            "colorscale": [
             [
              0,
              "#0d0887"
             ],
             [
              0.1111111111111111,
              "#46039f"
             ],
             [
              0.2222222222222222,
              "#7201a8"
             ],
             [
              0.3333333333333333,
              "#9c179e"
             ],
             [
              0.4444444444444444,
              "#bd3786"
             ],
             [
              0.5555555555555556,
              "#d8576b"
             ],
             [
              0.6666666666666666,
              "#ed7953"
             ],
             [
              0.7777777777777778,
              "#fb9f3a"
             ],
             [
              0.8888888888888888,
              "#fdca26"
             ],
             [
              1,
              "#f0f921"
             ]
            ],
            "type": "contour"
           }
          ],
          "contourcarpet": [
           {
            "colorbar": {
             "outlinewidth": 0,
             "ticks": ""
            },
            "type": "contourcarpet"
           }
          ],
          "heatmap": [
           {
            "colorbar": {
             "outlinewidth": 0,
             "ticks": ""
            },
            "colorscale": [
             [
              0,
              "#0d0887"
             ],
             [
              0.1111111111111111,
              "#46039f"
             ],
             [
              0.2222222222222222,
              "#7201a8"
             ],
             [
              0.3333333333333333,
              "#9c179e"
             ],
             [
              0.4444444444444444,
              "#bd3786"
             ],
             [
              0.5555555555555556,
              "#d8576b"
             ],
             [
              0.6666666666666666,
              "#ed7953"
             ],
             [
              0.7777777777777778,
              "#fb9f3a"
             ],
             [
              0.8888888888888888,
              "#fdca26"
             ],
             [
              1,
              "#f0f921"
             ]
            ],
            "type": "heatmap"
           }
          ],
          "heatmapgl": [
           {
            "colorbar": {
             "outlinewidth": 0,
             "ticks": ""
            },
            "colorscale": [
             [
              0,
              "#0d0887"
             ],
             [
              0.1111111111111111,
              "#46039f"
             ],
             [
              0.2222222222222222,
              "#7201a8"
             ],
             [
              0.3333333333333333,
              "#9c179e"
             ],
             [
              0.4444444444444444,
              "#bd3786"
             ],
             [
              0.5555555555555556,
              "#d8576b"
             ],
             [
              0.6666666666666666,
              "#ed7953"
             ],
             [
              0.7777777777777778,
              "#fb9f3a"
             ],
             [
              0.8888888888888888,
              "#fdca26"
             ],
             [
              1,
              "#f0f921"
             ]
            ],
            "type": "heatmapgl"
           }
          ],
          "histogram": [
           {
            "marker": {
             "colorbar": {
              "outlinewidth": 0,
              "ticks": ""
             }
            },
            "type": "histogram"
           }
          ],
          "histogram2d": [
           {
            "colorbar": {
             "outlinewidth": 0,
             "ticks": ""
            },
            "colorscale": [
             [
              0,
              "#0d0887"
             ],
             [
              0.1111111111111111,
              "#46039f"
             ],
             [
              0.2222222222222222,
              "#7201a8"
             ],
             [
              0.3333333333333333,
              "#9c179e"
             ],
             [
              0.4444444444444444,
              "#bd3786"
             ],
             [
              0.5555555555555556,
              "#d8576b"
             ],
             [
              0.6666666666666666,
              "#ed7953"
             ],
             [
              0.7777777777777778,
              "#fb9f3a"
             ],
             [
              0.8888888888888888,
              "#fdca26"
             ],
             [
              1,
              "#f0f921"
             ]
            ],
            "type": "histogram2d"
           }
          ],
          "histogram2dcontour": [
           {
            "colorbar": {
             "outlinewidth": 0,
             "ticks": ""
            },
            "colorscale": [
             [
              0,
              "#0d0887"
             ],
             [
              0.1111111111111111,
              "#46039f"
             ],
             [
              0.2222222222222222,
              "#7201a8"
             ],
             [
              0.3333333333333333,
              "#9c179e"
             ],
             [
              0.4444444444444444,
              "#bd3786"
             ],
             [
              0.5555555555555556,
              "#d8576b"
             ],
             [
              0.6666666666666666,
              "#ed7953"
             ],
             [
              0.7777777777777778,
              "#fb9f3a"
             ],
             [
              0.8888888888888888,
              "#fdca26"
             ],
             [
              1,
              "#f0f921"
             ]
            ],
            "type": "histogram2dcontour"
           }
          ],
          "mesh3d": [
           {
            "colorbar": {
             "outlinewidth": 0,
             "ticks": ""
            },
            "type": "mesh3d"
           }
          ],
          "parcoords": [
           {
            "line": {
             "colorbar": {
              "outlinewidth": 0,
              "ticks": ""
             }
            },
            "type": "parcoords"
           }
          ],
          "pie": [
           {
            "automargin": true,
            "type": "pie"
           }
          ],
          "scatter": [
           {
            "marker": {
             "colorbar": {
              "outlinewidth": 0,
              "ticks": ""
             }
            },
            "type": "scatter"
           }
          ],
          "scatter3d": [
           {
            "line": {
             "colorbar": {
              "outlinewidth": 0,
              "ticks": ""
             }
            },
            "marker": {
             "colorbar": {
              "outlinewidth": 0,
              "ticks": ""
             }
            },
            "type": "scatter3d"
           }
          ],
          "scattercarpet": [
           {
            "marker": {
             "colorbar": {
              "outlinewidth": 0,
              "ticks": ""
             }
            },
            "type": "scattercarpet"
           }
          ],
          "scattergeo": [
           {
            "marker": {
             "colorbar": {
              "outlinewidth": 0,
              "ticks": ""
             }
            },
            "type": "scattergeo"
           }
          ],
          "scattergl": [
           {
            "marker": {
             "colorbar": {
              "outlinewidth": 0,
              "ticks": ""
             }
            },
            "type": "scattergl"
           }
          ],
          "scattermapbox": [
           {
            "marker": {
             "colorbar": {
              "outlinewidth": 0,
              "ticks": ""
             }
            },
            "type": "scattermapbox"
           }
          ],
          "scatterpolar": [
           {
            "marker": {
             "colorbar": {
              "outlinewidth": 0,
              "ticks": ""
             }
            },
            "type": "scatterpolar"
           }
          ],
          "scatterpolargl": [
           {
            "marker": {
             "colorbar": {
              "outlinewidth": 0,
              "ticks": ""
             }
            },
            "type": "scatterpolargl"
           }
          ],
          "scatterternary": [
           {
            "marker": {
             "colorbar": {
              "outlinewidth": 0,
              "ticks": ""
             }
            },
            "type": "scatterternary"
           }
          ],
          "surface": [
           {
            "colorbar": {
             "outlinewidth": 0,
             "ticks": ""
            },
            "colorscale": [
             [
              0,
              "#0d0887"
             ],
             [
              0.1111111111111111,
              "#46039f"
             ],
             [
              0.2222222222222222,
              "#7201a8"
             ],
             [
              0.3333333333333333,
              "#9c179e"
             ],
             [
              0.4444444444444444,
              "#bd3786"
             ],
             [
              0.5555555555555556,
              "#d8576b"
             ],
             [
              0.6666666666666666,
              "#ed7953"
             ],
             [
              0.7777777777777778,
              "#fb9f3a"
             ],
             [
              0.8888888888888888,
              "#fdca26"
             ],
             [
              1,
              "#f0f921"
             ]
            ],
            "type": "surface"
           }
          ],
          "table": [
           {
            "cells": {
             "fill": {
              "color": "#EBF0F8"
             },
             "line": {
              "color": "white"
             }
            },
            "header": {
             "fill": {
              "color": "#C8D4E3"
             },
             "line": {
              "color": "white"
             }
            },
            "type": "table"
           }
          ]
         },
         "layout": {
          "annotationdefaults": {
           "arrowcolor": "#2a3f5f",
           "arrowhead": 0,
           "arrowwidth": 1
          },
          "autotypenumbers": "strict",
          "coloraxis": {
           "colorbar": {
            "outlinewidth": 0,
            "ticks": ""
           }
          },
          "colorscale": {
           "diverging": [
            [
             0,
             "#8e0152"
            ],
            [
             0.1,
             "#c51b7d"
            ],
            [
             0.2,
             "#de77ae"
            ],
            [
             0.3,
             "#f1b6da"
            ],
            [
             0.4,
             "#fde0ef"
            ],
            [
             0.5,
             "#f7f7f7"
            ],
            [
             0.6,
             "#e6f5d0"
            ],
            [
             0.7,
             "#b8e186"
            ],
            [
             0.8,
             "#7fbc41"
            ],
            [
             0.9,
             "#4d9221"
            ],
            [
             1,
             "#276419"
            ]
           ],
           "sequential": [
            [
             0,
             "#0d0887"
            ],
            [
             0.1111111111111111,
             "#46039f"
            ],
            [
             0.2222222222222222,
             "#7201a8"
            ],
            [
             0.3333333333333333,
             "#9c179e"
            ],
            [
             0.4444444444444444,
             "#bd3786"
            ],
            [
             0.5555555555555556,
             "#d8576b"
            ],
            [
             0.6666666666666666,
             "#ed7953"
            ],
            [
             0.7777777777777778,
             "#fb9f3a"
            ],
            [
             0.8888888888888888,
             "#fdca26"
            ],
            [
             1,
             "#f0f921"
            ]
           ],
           "sequentialminus": [
            [
             0,
             "#0d0887"
            ],
            [
             0.1111111111111111,
             "#46039f"
            ],
            [
             0.2222222222222222,
             "#7201a8"
            ],
            [
             0.3333333333333333,
             "#9c179e"
            ],
            [
             0.4444444444444444,
             "#bd3786"
            ],
            [
             0.5555555555555556,
             "#d8576b"
            ],
            [
             0.6666666666666666,
             "#ed7953"
            ],
            [
             0.7777777777777778,
             "#fb9f3a"
            ],
            [
             0.8888888888888888,
             "#fdca26"
            ],
            [
             1,
             "#f0f921"
            ]
           ]
          },
          "colorway": [
           "#636efa",
           "#EF553B",
           "#00cc96",
           "#ab63fa",
           "#FFA15A",
           "#19d3f3",
           "#FF6692",
           "#B6E880",
           "#FF97FF",
           "#FECB52"
          ],
          "font": {
           "color": "#2a3f5f"
          },
          "geo": {
           "bgcolor": "white",
           "lakecolor": "white",
           "landcolor": "#E5ECF6",
           "showlakes": true,
           "showland": true,
           "subunitcolor": "white"
          },
          "hoverlabel": {
           "align": "left"
          },
          "hovermode": "closest",
          "mapbox": {
           "style": "light"
          },
          "paper_bgcolor": "white",
          "plot_bgcolor": "#E5ECF6",
          "polar": {
           "angularaxis": {
            "gridcolor": "white",
            "linecolor": "white",
            "ticks": ""
           },
           "bgcolor": "#E5ECF6",
           "radialaxis": {
            "gridcolor": "white",
            "linecolor": "white",
            "ticks": ""
           }
          },
          "scene": {
           "xaxis": {
            "backgroundcolor": "#E5ECF6",
            "gridcolor": "white",
            "gridwidth": 2,
            "linecolor": "white",
            "showbackground": true,
            "ticks": "",
            "zerolinecolor": "white"
           },
           "yaxis": {
            "backgroundcolor": "#E5ECF6",
            "gridcolor": "white",
            "gridwidth": 2,
            "linecolor": "white",
            "showbackground": true,
            "ticks": "",
            "zerolinecolor": "white"
           },
           "zaxis": {
            "backgroundcolor": "#E5ECF6",
            "gridcolor": "white",
            "gridwidth": 2,
            "linecolor": "white",
            "showbackground": true,
            "ticks": "",
            "zerolinecolor": "white"
           }
          },
          "shapedefaults": {
           "line": {
            "color": "#2a3f5f"
           }
          },
          "ternary": {
           "aaxis": {
            "gridcolor": "white",
            "linecolor": "white",
            "ticks": ""
           },
           "baxis": {
            "gridcolor": "white",
            "linecolor": "white",
            "ticks": ""
           },
           "bgcolor": "#E5ECF6",
           "caxis": {
            "gridcolor": "white",
            "linecolor": "white",
            "ticks": ""
           }
          },
          "title": {
           "x": 0.05
          },
          "xaxis": {
           "automargin": true,
           "gridcolor": "white",
           "linecolor": "white",
           "ticks": "",
           "title": {
            "standoff": 15
           },
           "zerolinecolor": "white",
           "zerolinewidth": 2
          },
          "yaxis": {
           "automargin": true,
           "gridcolor": "white",
           "linecolor": "white",
           "ticks": "",
           "title": {
            "standoff": 15
           },
           "zerolinecolor": "white",
           "zerolinewidth": 2
          }
         }
        },
        "title": {
         "text": "Cantidad de valores nulos por campo"
        },
        "xaxis": {
         "anchor": "y",
         "domain": [
          0,
          1
         ],
         "title": {
          "text": "Porcentaje (%)"
         }
        },
        "yaxis": {
         "anchor": "x",
         "domain": [
          0,
          1
         ],
         "title": {
          "text": "Campo"
         }
        }
       }
      },
      "text/html": [
       "<div>                            <div id=\"93901c51-abfc-4a7a-a3b9-4c537d37d83b\" class=\"plotly-graph-div\" style=\"height:800px; width:100%;\"></div>            <script type=\"text/javascript\">                require([\"plotly\"], function(Plotly) {                    window.PLOTLYENV=window.PLOTLYENV || {};                                    if (document.getElementById(\"93901c51-abfc-4a7a-a3b9-4c537d37d83b\")) {                    Plotly.newPlot(                        \"93901c51-abfc-4a7a-a3b9-4c537d37d83b\",                        [{\"alignmentgroup\": \"True\", \"hovertemplate\": \"Porcentaje (%)=%{x}<br>Campo=%{y}<extra></extra>\", \"legendgroup\": \"\", \"marker\": {\"color\": \"lightseagreen\"}, \"name\": \"\", \"offsetgroup\": \"\", \"orientation\": \"h\", \"showlegend\": false, \"textposition\": \"auto\", \"type\": \"bar\", \"x\": [0.0, 0.0, 0.0, 0.0, 0.0, 0.0, 0.0, 0.0, 0.0, 0.012811459699384646, 0.03934227781700797, 0.06429267964625576, 0.06671374289653317, 0.06671374289653317, 0.06671374289653317, 0.06671374289653317, 0.1216920542049161, 0.19304616833114766, 0.24778909849019806, 0.24778909849019806, 0.24778909849019806, 0.2512525639732338, 0.5060694710649316, 0.7873163186388245, 0.9012744207942432], \"xaxis\": \"x\", \"y\": [\"operation\", \"property_type\", \"place_name\", \"place_with_parent_names\", \"country_name\", \"state_name\", \"description\", \"properati_url\", \"title\", \"image_thumbnail\", \"geonames_id\", \"surface_covered_in_m2\", \"price\", \"currency\", \"price_aprox_usd\", \"price_aprox_local_currency\", \"price_per_m2\", \"surface_total_in_m2\", \"lat\", \"lat-lon\", \"lon\", \"price_usd_per_m2\", \"rooms\", \"expenses\", \"floor\"], \"yaxis\": \"y\"}],                        {\"barmode\": \"relative\", \"height\": 800, \"legend\": {\"tracegroupgap\": 0}, \"template\": {\"data\": {\"bar\": [{\"error_x\": {\"color\": \"#2a3f5f\"}, \"error_y\": {\"color\": \"#2a3f5f\"}, \"marker\": {\"line\": {\"color\": \"#E5ECF6\", \"width\": 0.5}}, \"type\": \"bar\"}], \"barpolar\": [{\"marker\": {\"line\": {\"color\": \"#E5ECF6\", \"width\": 0.5}}, \"type\": \"barpolar\"}], \"carpet\": [{\"aaxis\": {\"endlinecolor\": \"#2a3f5f\", \"gridcolor\": \"white\", \"linecolor\": \"white\", \"minorgridcolor\": \"white\", \"startlinecolor\": \"#2a3f5f\"}, \"baxis\": {\"endlinecolor\": \"#2a3f5f\", \"gridcolor\": \"white\", \"linecolor\": \"white\", \"minorgridcolor\": \"white\", \"startlinecolor\": \"#2a3f5f\"}, \"type\": \"carpet\"}], \"choropleth\": [{\"colorbar\": {\"outlinewidth\": 0, \"ticks\": \"\"}, \"type\": \"choropleth\"}], \"contour\": [{\"colorbar\": {\"outlinewidth\": 0, \"ticks\": \"\"}, \"colorscale\": [[0.0, \"#0d0887\"], [0.1111111111111111, \"#46039f\"], [0.2222222222222222, \"#7201a8\"], [0.3333333333333333, \"#9c179e\"], [0.4444444444444444, \"#bd3786\"], [0.5555555555555556, \"#d8576b\"], [0.6666666666666666, \"#ed7953\"], [0.7777777777777778, \"#fb9f3a\"], [0.8888888888888888, \"#fdca26\"], [1.0, \"#f0f921\"]], \"type\": \"contour\"}], \"contourcarpet\": [{\"colorbar\": {\"outlinewidth\": 0, \"ticks\": \"\"}, \"type\": \"contourcarpet\"}], \"heatmap\": [{\"colorbar\": {\"outlinewidth\": 0, \"ticks\": \"\"}, \"colorscale\": [[0.0, \"#0d0887\"], [0.1111111111111111, \"#46039f\"], [0.2222222222222222, \"#7201a8\"], [0.3333333333333333, \"#9c179e\"], [0.4444444444444444, \"#bd3786\"], [0.5555555555555556, \"#d8576b\"], [0.6666666666666666, \"#ed7953\"], [0.7777777777777778, \"#fb9f3a\"], [0.8888888888888888, \"#fdca26\"], [1.0, \"#f0f921\"]], \"type\": \"heatmap\"}], \"heatmapgl\": [{\"colorbar\": {\"outlinewidth\": 0, \"ticks\": \"\"}, \"colorscale\": [[0.0, \"#0d0887\"], [0.1111111111111111, \"#46039f\"], [0.2222222222222222, \"#7201a8\"], [0.3333333333333333, \"#9c179e\"], [0.4444444444444444, \"#bd3786\"], [0.5555555555555556, \"#d8576b\"], [0.6666666666666666, \"#ed7953\"], [0.7777777777777778, \"#fb9f3a\"], [0.8888888888888888, \"#fdca26\"], [1.0, \"#f0f921\"]], \"type\": \"heatmapgl\"}], \"histogram\": [{\"marker\": {\"colorbar\": {\"outlinewidth\": 0, \"ticks\": \"\"}}, \"type\": \"histogram\"}], \"histogram2d\": [{\"colorbar\": {\"outlinewidth\": 0, \"ticks\": \"\"}, \"colorscale\": [[0.0, \"#0d0887\"], [0.1111111111111111, \"#46039f\"], [0.2222222222222222, \"#7201a8\"], [0.3333333333333333, \"#9c179e\"], [0.4444444444444444, \"#bd3786\"], [0.5555555555555556, \"#d8576b\"], [0.6666666666666666, \"#ed7953\"], [0.7777777777777778, \"#fb9f3a\"], [0.8888888888888888, \"#fdca26\"], [1.0, \"#f0f921\"]], \"type\": \"histogram2d\"}], \"histogram2dcontour\": [{\"colorbar\": {\"outlinewidth\": 0, \"ticks\": \"\"}, \"colorscale\": [[0.0, \"#0d0887\"], [0.1111111111111111, \"#46039f\"], [0.2222222222222222, \"#7201a8\"], [0.3333333333333333, \"#9c179e\"], [0.4444444444444444, \"#bd3786\"], [0.5555555555555556, \"#d8576b\"], [0.6666666666666666, \"#ed7953\"], [0.7777777777777778, \"#fb9f3a\"], [0.8888888888888888, \"#fdca26\"], [1.0, \"#f0f921\"]], \"type\": \"histogram2dcontour\"}], \"mesh3d\": [{\"colorbar\": {\"outlinewidth\": 0, \"ticks\": \"\"}, \"type\": \"mesh3d\"}], \"parcoords\": [{\"line\": {\"colorbar\": {\"outlinewidth\": 0, \"ticks\": \"\"}}, \"type\": \"parcoords\"}], \"pie\": [{\"automargin\": true, \"type\": \"pie\"}], \"scatter\": [{\"marker\": {\"colorbar\": {\"outlinewidth\": 0, \"ticks\": \"\"}}, \"type\": \"scatter\"}], \"scatter3d\": [{\"line\": {\"colorbar\": {\"outlinewidth\": 0, \"ticks\": \"\"}}, \"marker\": {\"colorbar\": {\"outlinewidth\": 0, \"ticks\": \"\"}}, \"type\": \"scatter3d\"}], \"scattercarpet\": [{\"marker\": {\"colorbar\": {\"outlinewidth\": 0, \"ticks\": \"\"}}, \"type\": \"scattercarpet\"}], \"scattergeo\": [{\"marker\": {\"colorbar\": {\"outlinewidth\": 0, \"ticks\": \"\"}}, \"type\": \"scattergeo\"}], \"scattergl\": [{\"marker\": {\"colorbar\": {\"outlinewidth\": 0, \"ticks\": \"\"}}, \"type\": \"scattergl\"}], \"scattermapbox\": [{\"marker\": {\"colorbar\": {\"outlinewidth\": 0, \"ticks\": \"\"}}, \"type\": \"scattermapbox\"}], \"scatterpolar\": [{\"marker\": {\"colorbar\": {\"outlinewidth\": 0, \"ticks\": \"\"}}, \"type\": \"scatterpolar\"}], \"scatterpolargl\": [{\"marker\": {\"colorbar\": {\"outlinewidth\": 0, \"ticks\": \"\"}}, \"type\": \"scatterpolargl\"}], \"scatterternary\": [{\"marker\": {\"colorbar\": {\"outlinewidth\": 0, \"ticks\": \"\"}}, \"type\": \"scatterternary\"}], \"surface\": [{\"colorbar\": {\"outlinewidth\": 0, \"ticks\": \"\"}, \"colorscale\": [[0.0, \"#0d0887\"], [0.1111111111111111, \"#46039f\"], [0.2222222222222222, \"#7201a8\"], [0.3333333333333333, \"#9c179e\"], [0.4444444444444444, \"#bd3786\"], [0.5555555555555556, \"#d8576b\"], [0.6666666666666666, \"#ed7953\"], [0.7777777777777778, \"#fb9f3a\"], [0.8888888888888888, \"#fdca26\"], [1.0, \"#f0f921\"]], \"type\": \"surface\"}], \"table\": [{\"cells\": {\"fill\": {\"color\": \"#EBF0F8\"}, \"line\": {\"color\": \"white\"}}, \"header\": {\"fill\": {\"color\": \"#C8D4E3\"}, \"line\": {\"color\": \"white\"}}, \"type\": \"table\"}]}, \"layout\": {\"annotationdefaults\": {\"arrowcolor\": \"#2a3f5f\", \"arrowhead\": 0, \"arrowwidth\": 1}, \"autotypenumbers\": \"strict\", \"coloraxis\": {\"colorbar\": {\"outlinewidth\": 0, \"ticks\": \"\"}}, \"colorscale\": {\"diverging\": [[0, \"#8e0152\"], [0.1, \"#c51b7d\"], [0.2, \"#de77ae\"], [0.3, \"#f1b6da\"], [0.4, \"#fde0ef\"], [0.5, \"#f7f7f7\"], [0.6, \"#e6f5d0\"], [0.7, \"#b8e186\"], [0.8, \"#7fbc41\"], [0.9, \"#4d9221\"], [1, \"#276419\"]], \"sequential\": [[0.0, \"#0d0887\"], [0.1111111111111111, \"#46039f\"], [0.2222222222222222, \"#7201a8\"], [0.3333333333333333, \"#9c179e\"], [0.4444444444444444, \"#bd3786\"], [0.5555555555555556, \"#d8576b\"], [0.6666666666666666, \"#ed7953\"], [0.7777777777777778, \"#fb9f3a\"], [0.8888888888888888, \"#fdca26\"], [1.0, \"#f0f921\"]], \"sequentialminus\": [[0.0, \"#0d0887\"], [0.1111111111111111, \"#46039f\"], [0.2222222222222222, \"#7201a8\"], [0.3333333333333333, \"#9c179e\"], [0.4444444444444444, \"#bd3786\"], [0.5555555555555556, \"#d8576b\"], [0.6666666666666666, \"#ed7953\"], [0.7777777777777778, \"#fb9f3a\"], [0.8888888888888888, \"#fdca26\"], [1.0, \"#f0f921\"]]}, \"colorway\": [\"#636efa\", \"#EF553B\", \"#00cc96\", \"#ab63fa\", \"#FFA15A\", \"#19d3f3\", \"#FF6692\", \"#B6E880\", \"#FF97FF\", \"#FECB52\"], \"font\": {\"color\": \"#2a3f5f\"}, \"geo\": {\"bgcolor\": \"white\", \"lakecolor\": \"white\", \"landcolor\": \"#E5ECF6\", \"showlakes\": true, \"showland\": true, \"subunitcolor\": \"white\"}, \"hoverlabel\": {\"align\": \"left\"}, \"hovermode\": \"closest\", \"mapbox\": {\"style\": \"light\"}, \"paper_bgcolor\": \"white\", \"plot_bgcolor\": \"#E5ECF6\", \"polar\": {\"angularaxis\": {\"gridcolor\": \"white\", \"linecolor\": \"white\", \"ticks\": \"\"}, \"bgcolor\": \"#E5ECF6\", \"radialaxis\": {\"gridcolor\": \"white\", \"linecolor\": \"white\", \"ticks\": \"\"}}, \"scene\": {\"xaxis\": {\"backgroundcolor\": \"#E5ECF6\", \"gridcolor\": \"white\", \"gridwidth\": 2, \"linecolor\": \"white\", \"showbackground\": true, \"ticks\": \"\", \"zerolinecolor\": \"white\"}, \"yaxis\": {\"backgroundcolor\": \"#E5ECF6\", \"gridcolor\": \"white\", \"gridwidth\": 2, \"linecolor\": \"white\", \"showbackground\": true, \"ticks\": \"\", \"zerolinecolor\": \"white\"}, \"zaxis\": {\"backgroundcolor\": \"#E5ECF6\", \"gridcolor\": \"white\", \"gridwidth\": 2, \"linecolor\": \"white\", \"showbackground\": true, \"ticks\": \"\", \"zerolinecolor\": \"white\"}}, \"shapedefaults\": {\"line\": {\"color\": \"#2a3f5f\"}}, \"ternary\": {\"aaxis\": {\"gridcolor\": \"white\", \"linecolor\": \"white\", \"ticks\": \"\"}, \"baxis\": {\"gridcolor\": \"white\", \"linecolor\": \"white\", \"ticks\": \"\"}, \"bgcolor\": \"#E5ECF6\", \"caxis\": {\"gridcolor\": \"white\", \"linecolor\": \"white\", \"ticks\": \"\"}}, \"title\": {\"x\": 0.05}, \"xaxis\": {\"automargin\": true, \"gridcolor\": \"white\", \"linecolor\": \"white\", \"ticks\": \"\", \"title\": {\"standoff\": 15}, \"zerolinecolor\": \"white\", \"zerolinewidth\": 2}, \"yaxis\": {\"automargin\": true, \"gridcolor\": \"white\", \"linecolor\": \"white\", \"ticks\": \"\", \"title\": {\"standoff\": 15}, \"zerolinecolor\": \"white\", \"zerolinewidth\": 2}}}, \"title\": {\"text\": \"Cantidad de valores nulos por campo\"}, \"xaxis\": {\"anchor\": \"y\", \"domain\": [0.0, 1.0], \"title\": {\"text\": \"Porcentaje (%)\"}}, \"yaxis\": {\"anchor\": \"x\", \"domain\": [0.0, 1.0], \"title\": {\"text\": \"Campo\"}}},                        {\"responsive\": true}                    ).then(function(){\n",
       "                            \n",
       "var gd = document.getElementById('93901c51-abfc-4a7a-a3b9-4c537d37d83b');\n",
       "var x = new MutationObserver(function (mutations, observer) {{\n",
       "        var display = window.getComputedStyle(gd).display;\n",
       "        if (!display || display === 'none') {{\n",
       "            console.log([gd, 'removed!']);\n",
       "            Plotly.purge(gd);\n",
       "            observer.disconnect();\n",
       "        }}\n",
       "}});\n",
       "\n",
       "// Listen for the removal of the full notebook cells\n",
       "var notebookContainer = gd.closest('#notebook-container');\n",
       "if (notebookContainer) {{\n",
       "    x.observe(notebookContainer, {childList: true});\n",
       "}}\n",
       "\n",
       "// Listen for the clearing of the current output cell\n",
       "var outputEl = gd.closest('.output');\n",
       "if (outputEl) {{\n",
       "    x.observe(outputEl, {childList: true});\n",
       "}}\n",
       "\n",
       "                        })                };                });            </script>        </div>"
      ]
     },
     "metadata": {},
     "output_type": "display_data"
    }
   ],
   "source": [
    "porcentajes_nulos(dfCapi)"
   ]
  },
  {
   "cell_type": "markdown",
   "metadata": {
    "id": "dQuej_TIBgZN"
   },
   "source": [
    "Floor y expenses tiene casi la totalidad de valores nulos (candidatos a no utilizarse)\n"
   ]
  },
  {
   "cell_type": "markdown",
   "metadata": {
    "id": "tj73NlvOCWs5"
   },
   "source": [
    "Rooms tiene el 50% de datos nulos pero quizás lo podemos completar con con el campo 'description' y completandolo con la info de los registros que sí tienen el dato (ej con la media)\n"
   ]
  },
  {
   "cell_type": "markdown",
   "metadata": {
    "id": "90yJlgfUDEHM"
   },
   "source": [
    "**- Columnas de precio: precio vs precio en usd**"
   ]
  },
  {
   "cell_type": "code",
   "execution_count": 57,
   "metadata": {
    "colab": {
     "base_uri": "https://localhost:8080/"
    },
    "id": "7N6fAZ_KjoRt",
    "outputId": "7d7e0a0c-eb33-4e9c-81a7-b8e9cc87fb8e"
   },
   "outputs": [
    {
     "data": {
      "text/plain": [
       "1.00     26639\n",
       "17.83     1085\n",
       "17.14       24\n",
       "17.63        5\n",
       "3.24         2\n",
       "dtype: int64"
      ]
     },
     "execution_count": 57,
     "metadata": {},
     "output_type": "execute_result"
    }
   ],
   "source": [
    "#Chequeo si la columna precio se corresponde con la columna del precio en dolar\n",
    "serie = dfCapi[\"price\"] / dfCapi[\"price_aprox_usd\"]\n",
    "serie.round(2).value_counts()\n",
    "#Y hay correspondencia así que que estos datos no hay que convertirlos"
   ]
  },
  {
   "cell_type": "markdown",
   "metadata": {
    "id": "bnY-CdoyDbs7"
   },
   "source": [
    "**- Rooms:** Completamos esta columna con description"
   ]
  },
  {
   "cell_type": "code",
   "execution_count": 58,
   "metadata": {
    "colab": {
     "base_uri": "https://localhost:8080/"
    },
    "id": "wlo2KPCn3saQ",
    "outputId": "f854c124-2a81-47ba-f83d-4e68c1d02cc5"
   },
   "outputs": [
    {
     "name": "stderr",
     "output_type": "stream",
     "text": [
      "C:\\Users\\ariel.dapia\\anaconda3\\envs\\dhdsblend2021\\lib\\site-packages\\pandas\\core\\indexing.py:1596: SettingWithCopyWarning:\n",
      "\n",
      "\n",
      "A value is trying to be set on a copy of a slice from a DataFrame.\n",
      "Try using .loc[row_indexer,col_indexer] = value instead\n",
      "\n",
      "See the caveats in the documentation: https://pandas.pydata.org/pandas-docs/stable/user_guide/indexing.html#returning-a-view-versus-a-copy\n",
      "\n",
      "C:\\Users\\ariel.dapia\\anaconda3\\envs\\dhdsblend2021\\lib\\site-packages\\pandas\\core\\indexing.py:1743: SettingWithCopyWarning:\n",
      "\n",
      "\n",
      "A value is trying to be set on a copy of a slice from a DataFrame.\n",
      "Try using .loc[row_indexer,col_indexer] = value instead\n",
      "\n",
      "See the caveats in the documentation: https://pandas.pydata.org/pandas-docs/stable/user_guide/indexing.html#returning-a-view-versus-a-copy\n",
      "\n",
      "C:\\Users\\ariel.dapia\\anaconda3\\envs\\dhdsblend2021\\lib\\site-packages\\pandas\\core\\series.py:4576: SettingWithCopyWarning:\n",
      "\n",
      "\n",
      "A value is trying to be set on a copy of a slice from a DataFrame\n",
      "\n",
      "See the caveats in the documentation: https://pandas.pydata.org/pandas-docs/stable/user_guide/indexing.html#returning-a-view-versus-a-copy\n",
      "\n"
     ]
    }
   ],
   "source": [
    "#REGEX para rooms\n",
    "\n",
    "patron = \"(?P<cant_rooms>\\d+)(\\s?)(amb)\"\n",
    "regex = re.compile(patron, flags=re.IGNORECASE)\n",
    "dfCapi.loc[:,\"rooms_reg\"] = dfCapi.rooms\n",
    "dfCapi.loc[:,\"rooms_reg\"] = dfCapi.apply(lambda x: np.int(regex.search(x.description).group(\"cant_rooms\"))\n",
    "                                         if ((regex.search(x.description) != None) & (np.isnan(x.rooms_reg)))\n",
    "                                         else x.rooms_reg, axis=1)\n",
    "\n",
    "patron = \"(?P<cant_rooms>un|mono|dos|tres|cuatro)(-?)(\\s?)(amb)\"\n",
    "regex = re.compile(patron, flags=re.IGNORECASE)\n",
    "dfCapi.loc[:,\"rooms_reg\"] = dfCapi.apply(lambda x: regex.search(x.description).group(\"cant_rooms\").lower() \n",
    "                                         if ((regex.search(x.description) != None) & (np.isnan(x.rooms_reg))) \n",
    "                                         else x.rooms_reg, axis=1)\n",
    "dfCapi[\"rooms_reg\"].replace({\"un\":1, \"mono\":1, \"dos\": 2, \"tres\": 3, \"cuatro\":4}, inplace=True)\n"
   ]
  },
  {
   "cell_type": "code",
   "execution_count": 59,
   "metadata": {
    "colab": {
     "base_uri": "https://localhost:8080/",
     "height": 417
    },
    "id": "dl9rra1tjlr1",
    "outputId": "ff3883ac-83ad-40f3-ad6d-ddae00a3d35b"
   },
   "outputs": [
    {
     "data": {
      "application/vnd.plotly.v1+json": {
       "config": {
        "plotlyServerURL": "https://plotly.com"
       },
       "data": [
        {
         "alignmentgroup": "True",
         "hovertemplate": "Porcentaje (%)=%{x}<br>Campo=%{y}<extra></extra>",
         "legendgroup": "",
         "marker": {
          "color": "lightseagreen"
         },
         "name": "",
         "offsetgroup": "",
         "orientation": "h",
         "showlegend": false,
         "textposition": "auto",
         "type": "bar",
         "x": [
          0.19886344530750866,
          0.5060694710649316
         ],
         "xaxis": "x",
         "y": [
          "rooms_reg",
          "rooms"
         ],
         "yaxis": "y"
        }
       ],
       "layout": {
        "barmode": "relative",
        "height": 400,
        "legend": {
         "tracegroupgap": 0
        },
        "template": {
         "data": {
          "bar": [
           {
            "error_x": {
             "color": "#2a3f5f"
            },
            "error_y": {
             "color": "#2a3f5f"
            },
            "marker": {
             "line": {
              "color": "#E5ECF6",
              "width": 0.5
             }
            },
            "type": "bar"
           }
          ],
          "barpolar": [
           {
            "marker": {
             "line": {
              "color": "#E5ECF6",
              "width": 0.5
             }
            },
            "type": "barpolar"
           }
          ],
          "carpet": [
           {
            "aaxis": {
             "endlinecolor": "#2a3f5f",
             "gridcolor": "white",
             "linecolor": "white",
             "minorgridcolor": "white",
             "startlinecolor": "#2a3f5f"
            },
            "baxis": {
             "endlinecolor": "#2a3f5f",
             "gridcolor": "white",
             "linecolor": "white",
             "minorgridcolor": "white",
             "startlinecolor": "#2a3f5f"
            },
            "type": "carpet"
           }
          ],
          "choropleth": [
           {
            "colorbar": {
             "outlinewidth": 0,
             "ticks": ""
            },
            "type": "choropleth"
           }
          ],
          "contour": [
           {
            "colorbar": {
             "outlinewidth": 0,
             "ticks": ""
            },
            "colorscale": [
             [
              0,
              "#0d0887"
             ],
             [
              0.1111111111111111,
              "#46039f"
             ],
             [
              0.2222222222222222,
              "#7201a8"
             ],
             [
              0.3333333333333333,
              "#9c179e"
             ],
             [
              0.4444444444444444,
              "#bd3786"
             ],
             [
              0.5555555555555556,
              "#d8576b"
             ],
             [
              0.6666666666666666,
              "#ed7953"
             ],
             [
              0.7777777777777778,
              "#fb9f3a"
             ],
             [
              0.8888888888888888,
              "#fdca26"
             ],
             [
              1,
              "#f0f921"
             ]
            ],
            "type": "contour"
           }
          ],
          "contourcarpet": [
           {
            "colorbar": {
             "outlinewidth": 0,
             "ticks": ""
            },
            "type": "contourcarpet"
           }
          ],
          "heatmap": [
           {
            "colorbar": {
             "outlinewidth": 0,
             "ticks": ""
            },
            "colorscale": [
             [
              0,
              "#0d0887"
             ],
             [
              0.1111111111111111,
              "#46039f"
             ],
             [
              0.2222222222222222,
              "#7201a8"
             ],
             [
              0.3333333333333333,
              "#9c179e"
             ],
             [
              0.4444444444444444,
              "#bd3786"
             ],
             [
              0.5555555555555556,
              "#d8576b"
             ],
             [
              0.6666666666666666,
              "#ed7953"
             ],
             [
              0.7777777777777778,
              "#fb9f3a"
             ],
             [
              0.8888888888888888,
              "#fdca26"
             ],
             [
              1,
              "#f0f921"
             ]
            ],
            "type": "heatmap"
           }
          ],
          "heatmapgl": [
           {
            "colorbar": {
             "outlinewidth": 0,
             "ticks": ""
            },
            "colorscale": [
             [
              0,
              "#0d0887"
             ],
             [
              0.1111111111111111,
              "#46039f"
             ],
             [
              0.2222222222222222,
              "#7201a8"
             ],
             [
              0.3333333333333333,
              "#9c179e"
             ],
             [
              0.4444444444444444,
              "#bd3786"
             ],
             [
              0.5555555555555556,
              "#d8576b"
             ],
             [
              0.6666666666666666,
              "#ed7953"
             ],
             [
              0.7777777777777778,
              "#fb9f3a"
             ],
             [
              0.8888888888888888,
              "#fdca26"
             ],
             [
              1,
              "#f0f921"
             ]
            ],
            "type": "heatmapgl"
           }
          ],
          "histogram": [
           {
            "marker": {
             "colorbar": {
              "outlinewidth": 0,
              "ticks": ""
             }
            },
            "type": "histogram"
           }
          ],
          "histogram2d": [
           {
            "colorbar": {
             "outlinewidth": 0,
             "ticks": ""
            },
            "colorscale": [
             [
              0,
              "#0d0887"
             ],
             [
              0.1111111111111111,
              "#46039f"
             ],
             [
              0.2222222222222222,
              "#7201a8"
             ],
             [
              0.3333333333333333,
              "#9c179e"
             ],
             [
              0.4444444444444444,
              "#bd3786"
             ],
             [
              0.5555555555555556,
              "#d8576b"
             ],
             [
              0.6666666666666666,
              "#ed7953"
             ],
             [
              0.7777777777777778,
              "#fb9f3a"
             ],
             [
              0.8888888888888888,
              "#fdca26"
             ],
             [
              1,
              "#f0f921"
             ]
            ],
            "type": "histogram2d"
           }
          ],
          "histogram2dcontour": [
           {
            "colorbar": {
             "outlinewidth": 0,
             "ticks": ""
            },
            "colorscale": [
             [
              0,
              "#0d0887"
             ],
             [
              0.1111111111111111,
              "#46039f"
             ],
             [
              0.2222222222222222,
              "#7201a8"
             ],
             [
              0.3333333333333333,
              "#9c179e"
             ],
             [
              0.4444444444444444,
              "#bd3786"
             ],
             [
              0.5555555555555556,
              "#d8576b"
             ],
             [
              0.6666666666666666,
              "#ed7953"
             ],
             [
              0.7777777777777778,
              "#fb9f3a"
             ],
             [
              0.8888888888888888,
              "#fdca26"
             ],
             [
              1,
              "#f0f921"
             ]
            ],
            "type": "histogram2dcontour"
           }
          ],
          "mesh3d": [
           {
            "colorbar": {
             "outlinewidth": 0,
             "ticks": ""
            },
            "type": "mesh3d"
           }
          ],
          "parcoords": [
           {
            "line": {
             "colorbar": {
              "outlinewidth": 0,
              "ticks": ""
             }
            },
            "type": "parcoords"
           }
          ],
          "pie": [
           {
            "automargin": true,
            "type": "pie"
           }
          ],
          "scatter": [
           {
            "marker": {
             "colorbar": {
              "outlinewidth": 0,
              "ticks": ""
             }
            },
            "type": "scatter"
           }
          ],
          "scatter3d": [
           {
            "line": {
             "colorbar": {
              "outlinewidth": 0,
              "ticks": ""
             }
            },
            "marker": {
             "colorbar": {
              "outlinewidth": 0,
              "ticks": ""
             }
            },
            "type": "scatter3d"
           }
          ],
          "scattercarpet": [
           {
            "marker": {
             "colorbar": {
              "outlinewidth": 0,
              "ticks": ""
             }
            },
            "type": "scattercarpet"
           }
          ],
          "scattergeo": [
           {
            "marker": {
             "colorbar": {
              "outlinewidth": 0,
              "ticks": ""
             }
            },
            "type": "scattergeo"
           }
          ],
          "scattergl": [
           {
            "marker": {
             "colorbar": {
              "outlinewidth": 0,
              "ticks": ""
             }
            },
            "type": "scattergl"
           }
          ],
          "scattermapbox": [
           {
            "marker": {
             "colorbar": {
              "outlinewidth": 0,
              "ticks": ""
             }
            },
            "type": "scattermapbox"
           }
          ],
          "scatterpolar": [
           {
            "marker": {
             "colorbar": {
              "outlinewidth": 0,
              "ticks": ""
             }
            },
            "type": "scatterpolar"
           }
          ],
          "scatterpolargl": [
           {
            "marker": {
             "colorbar": {
              "outlinewidth": 0,
              "ticks": ""
             }
            },
            "type": "scatterpolargl"
           }
          ],
          "scatterternary": [
           {
            "marker": {
             "colorbar": {
              "outlinewidth": 0,
              "ticks": ""
             }
            },
            "type": "scatterternary"
           }
          ],
          "surface": [
           {
            "colorbar": {
             "outlinewidth": 0,
             "ticks": ""
            },
            "colorscale": [
             [
              0,
              "#0d0887"
             ],
             [
              0.1111111111111111,
              "#46039f"
             ],
             [
              0.2222222222222222,
              "#7201a8"
             ],
             [
              0.3333333333333333,
              "#9c179e"
             ],
             [
              0.4444444444444444,
              "#bd3786"
             ],
             [
              0.5555555555555556,
              "#d8576b"
             ],
             [
              0.6666666666666666,
              "#ed7953"
             ],
             [
              0.7777777777777778,
              "#fb9f3a"
             ],
             [
              0.8888888888888888,
              "#fdca26"
             ],
             [
              1,
              "#f0f921"
             ]
            ],
            "type": "surface"
           }
          ],
          "table": [
           {
            "cells": {
             "fill": {
              "color": "#EBF0F8"
             },
             "line": {
              "color": "white"
             }
            },
            "header": {
             "fill": {
              "color": "#C8D4E3"
             },
             "line": {
              "color": "white"
             }
            },
            "type": "table"
           }
          ]
         },
         "layout": {
          "annotationdefaults": {
           "arrowcolor": "#2a3f5f",
           "arrowhead": 0,
           "arrowwidth": 1
          },
          "autotypenumbers": "strict",
          "coloraxis": {
           "colorbar": {
            "outlinewidth": 0,
            "ticks": ""
           }
          },
          "colorscale": {
           "diverging": [
            [
             0,
             "#8e0152"
            ],
            [
             0.1,
             "#c51b7d"
            ],
            [
             0.2,
             "#de77ae"
            ],
            [
             0.3,
             "#f1b6da"
            ],
            [
             0.4,
             "#fde0ef"
            ],
            [
             0.5,
             "#f7f7f7"
            ],
            [
             0.6,
             "#e6f5d0"
            ],
            [
             0.7,
             "#b8e186"
            ],
            [
             0.8,
             "#7fbc41"
            ],
            [
             0.9,
             "#4d9221"
            ],
            [
             1,
             "#276419"
            ]
           ],
           "sequential": [
            [
             0,
             "#0d0887"
            ],
            [
             0.1111111111111111,
             "#46039f"
            ],
            [
             0.2222222222222222,
             "#7201a8"
            ],
            [
             0.3333333333333333,
             "#9c179e"
            ],
            [
             0.4444444444444444,
             "#bd3786"
            ],
            [
             0.5555555555555556,
             "#d8576b"
            ],
            [
             0.6666666666666666,
             "#ed7953"
            ],
            [
             0.7777777777777778,
             "#fb9f3a"
            ],
            [
             0.8888888888888888,
             "#fdca26"
            ],
            [
             1,
             "#f0f921"
            ]
           ],
           "sequentialminus": [
            [
             0,
             "#0d0887"
            ],
            [
             0.1111111111111111,
             "#46039f"
            ],
            [
             0.2222222222222222,
             "#7201a8"
            ],
            [
             0.3333333333333333,
             "#9c179e"
            ],
            [
             0.4444444444444444,
             "#bd3786"
            ],
            [
             0.5555555555555556,
             "#d8576b"
            ],
            [
             0.6666666666666666,
             "#ed7953"
            ],
            [
             0.7777777777777778,
             "#fb9f3a"
            ],
            [
             0.8888888888888888,
             "#fdca26"
            ],
            [
             1,
             "#f0f921"
            ]
           ]
          },
          "colorway": [
           "#636efa",
           "#EF553B",
           "#00cc96",
           "#ab63fa",
           "#FFA15A",
           "#19d3f3",
           "#FF6692",
           "#B6E880",
           "#FF97FF",
           "#FECB52"
          ],
          "font": {
           "color": "#2a3f5f"
          },
          "geo": {
           "bgcolor": "white",
           "lakecolor": "white",
           "landcolor": "#E5ECF6",
           "showlakes": true,
           "showland": true,
           "subunitcolor": "white"
          },
          "hoverlabel": {
           "align": "left"
          },
          "hovermode": "closest",
          "mapbox": {
           "style": "light"
          },
          "paper_bgcolor": "white",
          "plot_bgcolor": "#E5ECF6",
          "polar": {
           "angularaxis": {
            "gridcolor": "white",
            "linecolor": "white",
            "ticks": ""
           },
           "bgcolor": "#E5ECF6",
           "radialaxis": {
            "gridcolor": "white",
            "linecolor": "white",
            "ticks": ""
           }
          },
          "scene": {
           "xaxis": {
            "backgroundcolor": "#E5ECF6",
            "gridcolor": "white",
            "gridwidth": 2,
            "linecolor": "white",
            "showbackground": true,
            "ticks": "",
            "zerolinecolor": "white"
           },
           "yaxis": {
            "backgroundcolor": "#E5ECF6",
            "gridcolor": "white",
            "gridwidth": 2,
            "linecolor": "white",
            "showbackground": true,
            "ticks": "",
            "zerolinecolor": "white"
           },
           "zaxis": {
            "backgroundcolor": "#E5ECF6",
            "gridcolor": "white",
            "gridwidth": 2,
            "linecolor": "white",
            "showbackground": true,
            "ticks": "",
            "zerolinecolor": "white"
           }
          },
          "shapedefaults": {
           "line": {
            "color": "#2a3f5f"
           }
          },
          "ternary": {
           "aaxis": {
            "gridcolor": "white",
            "linecolor": "white",
            "ticks": ""
           },
           "baxis": {
            "gridcolor": "white",
            "linecolor": "white",
            "ticks": ""
           },
           "bgcolor": "#E5ECF6",
           "caxis": {
            "gridcolor": "white",
            "linecolor": "white",
            "ticks": ""
           }
          },
          "title": {
           "x": 0.05
          },
          "xaxis": {
           "automargin": true,
           "gridcolor": "white",
           "linecolor": "white",
           "ticks": "",
           "title": {
            "standoff": 15
           },
           "zerolinecolor": "white",
           "zerolinewidth": 2
          },
          "yaxis": {
           "automargin": true,
           "gridcolor": "white",
           "linecolor": "white",
           "ticks": "",
           "title": {
            "standoff": 15
           },
           "zerolinecolor": "white",
           "zerolinewidth": 2
          }
         }
        },
        "title": {
         "text": "Cantidad de valores nulos por campo"
        },
        "xaxis": {
         "anchor": "y",
         "domain": [
          0,
          1
         ],
         "title": {
          "text": "Porcentaje (%)"
         }
        },
        "yaxis": {
         "anchor": "x",
         "domain": [
          0,
          1
         ],
         "title": {
          "text": "Campo"
         }
        }
       }
      },
      "text/html": [
       "<div>                            <div id=\"0b814082-2f1a-4475-b8ac-872467a7f379\" class=\"plotly-graph-div\" style=\"height:400px; width:100%;\"></div>            <script type=\"text/javascript\">                require([\"plotly\"], function(Plotly) {                    window.PLOTLYENV=window.PLOTLYENV || {};                                    if (document.getElementById(\"0b814082-2f1a-4475-b8ac-872467a7f379\")) {                    Plotly.newPlot(                        \"0b814082-2f1a-4475-b8ac-872467a7f379\",                        [{\"alignmentgroup\": \"True\", \"hovertemplate\": \"Porcentaje (%)=%{x}<br>Campo=%{y}<extra></extra>\", \"legendgroup\": \"\", \"marker\": {\"color\": \"lightseagreen\"}, \"name\": \"\", \"offsetgroup\": \"\", \"orientation\": \"h\", \"showlegend\": false, \"textposition\": \"auto\", \"type\": \"bar\", \"x\": [0.19886344530750866, 0.5060694710649316], \"xaxis\": \"x\", \"y\": [\"rooms_reg\", \"rooms\"], \"yaxis\": \"y\"}],                        {\"barmode\": \"relative\", \"height\": 400, \"legend\": {\"tracegroupgap\": 0}, \"template\": {\"data\": {\"bar\": [{\"error_x\": {\"color\": \"#2a3f5f\"}, \"error_y\": {\"color\": \"#2a3f5f\"}, \"marker\": {\"line\": {\"color\": \"#E5ECF6\", \"width\": 0.5}}, \"type\": \"bar\"}], \"barpolar\": [{\"marker\": {\"line\": {\"color\": \"#E5ECF6\", \"width\": 0.5}}, \"type\": \"barpolar\"}], \"carpet\": [{\"aaxis\": {\"endlinecolor\": \"#2a3f5f\", \"gridcolor\": \"white\", \"linecolor\": \"white\", \"minorgridcolor\": \"white\", \"startlinecolor\": \"#2a3f5f\"}, \"baxis\": {\"endlinecolor\": \"#2a3f5f\", \"gridcolor\": \"white\", \"linecolor\": \"white\", \"minorgridcolor\": \"white\", \"startlinecolor\": \"#2a3f5f\"}, \"type\": \"carpet\"}], \"choropleth\": [{\"colorbar\": {\"outlinewidth\": 0, \"ticks\": \"\"}, \"type\": \"choropleth\"}], \"contour\": [{\"colorbar\": {\"outlinewidth\": 0, \"ticks\": \"\"}, \"colorscale\": [[0.0, \"#0d0887\"], [0.1111111111111111, \"#46039f\"], [0.2222222222222222, \"#7201a8\"], [0.3333333333333333, \"#9c179e\"], [0.4444444444444444, \"#bd3786\"], [0.5555555555555556, \"#d8576b\"], [0.6666666666666666, \"#ed7953\"], [0.7777777777777778, \"#fb9f3a\"], [0.8888888888888888, \"#fdca26\"], [1.0, \"#f0f921\"]], \"type\": \"contour\"}], \"contourcarpet\": [{\"colorbar\": {\"outlinewidth\": 0, \"ticks\": \"\"}, \"type\": \"contourcarpet\"}], \"heatmap\": [{\"colorbar\": {\"outlinewidth\": 0, \"ticks\": \"\"}, \"colorscale\": [[0.0, \"#0d0887\"], [0.1111111111111111, \"#46039f\"], [0.2222222222222222, \"#7201a8\"], [0.3333333333333333, \"#9c179e\"], [0.4444444444444444, \"#bd3786\"], [0.5555555555555556, \"#d8576b\"], [0.6666666666666666, \"#ed7953\"], [0.7777777777777778, \"#fb9f3a\"], [0.8888888888888888, \"#fdca26\"], [1.0, \"#f0f921\"]], \"type\": \"heatmap\"}], \"heatmapgl\": [{\"colorbar\": {\"outlinewidth\": 0, \"ticks\": \"\"}, \"colorscale\": [[0.0, \"#0d0887\"], [0.1111111111111111, \"#46039f\"], [0.2222222222222222, \"#7201a8\"], [0.3333333333333333, \"#9c179e\"], [0.4444444444444444, \"#bd3786\"], [0.5555555555555556, \"#d8576b\"], [0.6666666666666666, \"#ed7953\"], [0.7777777777777778, \"#fb9f3a\"], [0.8888888888888888, \"#fdca26\"], [1.0, \"#f0f921\"]], \"type\": \"heatmapgl\"}], \"histogram\": [{\"marker\": {\"colorbar\": {\"outlinewidth\": 0, \"ticks\": \"\"}}, \"type\": \"histogram\"}], \"histogram2d\": [{\"colorbar\": {\"outlinewidth\": 0, \"ticks\": \"\"}, \"colorscale\": [[0.0, \"#0d0887\"], [0.1111111111111111, \"#46039f\"], [0.2222222222222222, \"#7201a8\"], [0.3333333333333333, \"#9c179e\"], [0.4444444444444444, \"#bd3786\"], [0.5555555555555556, \"#d8576b\"], [0.6666666666666666, \"#ed7953\"], [0.7777777777777778, \"#fb9f3a\"], [0.8888888888888888, \"#fdca26\"], [1.0, \"#f0f921\"]], \"type\": \"histogram2d\"}], \"histogram2dcontour\": [{\"colorbar\": {\"outlinewidth\": 0, \"ticks\": \"\"}, \"colorscale\": [[0.0, \"#0d0887\"], [0.1111111111111111, \"#46039f\"], [0.2222222222222222, \"#7201a8\"], [0.3333333333333333, \"#9c179e\"], [0.4444444444444444, \"#bd3786\"], [0.5555555555555556, \"#d8576b\"], [0.6666666666666666, \"#ed7953\"], [0.7777777777777778, \"#fb9f3a\"], [0.8888888888888888, \"#fdca26\"], [1.0, \"#f0f921\"]], \"type\": \"histogram2dcontour\"}], \"mesh3d\": [{\"colorbar\": {\"outlinewidth\": 0, \"ticks\": \"\"}, \"type\": \"mesh3d\"}], \"parcoords\": [{\"line\": {\"colorbar\": {\"outlinewidth\": 0, \"ticks\": \"\"}}, \"type\": \"parcoords\"}], \"pie\": [{\"automargin\": true, \"type\": \"pie\"}], \"scatter\": [{\"marker\": {\"colorbar\": {\"outlinewidth\": 0, \"ticks\": \"\"}}, \"type\": \"scatter\"}], \"scatter3d\": [{\"line\": {\"colorbar\": {\"outlinewidth\": 0, \"ticks\": \"\"}}, \"marker\": {\"colorbar\": {\"outlinewidth\": 0, \"ticks\": \"\"}}, \"type\": \"scatter3d\"}], \"scattercarpet\": [{\"marker\": {\"colorbar\": {\"outlinewidth\": 0, \"ticks\": \"\"}}, \"type\": \"scattercarpet\"}], \"scattergeo\": [{\"marker\": {\"colorbar\": {\"outlinewidth\": 0, \"ticks\": \"\"}}, \"type\": \"scattergeo\"}], \"scattergl\": [{\"marker\": {\"colorbar\": {\"outlinewidth\": 0, \"ticks\": \"\"}}, \"type\": \"scattergl\"}], \"scattermapbox\": [{\"marker\": {\"colorbar\": {\"outlinewidth\": 0, \"ticks\": \"\"}}, \"type\": \"scattermapbox\"}], \"scatterpolar\": [{\"marker\": {\"colorbar\": {\"outlinewidth\": 0, \"ticks\": \"\"}}, \"type\": \"scatterpolar\"}], \"scatterpolargl\": [{\"marker\": {\"colorbar\": {\"outlinewidth\": 0, \"ticks\": \"\"}}, \"type\": \"scatterpolargl\"}], \"scatterternary\": [{\"marker\": {\"colorbar\": {\"outlinewidth\": 0, \"ticks\": \"\"}}, \"type\": \"scatterternary\"}], \"surface\": [{\"colorbar\": {\"outlinewidth\": 0, \"ticks\": \"\"}, \"colorscale\": [[0.0, \"#0d0887\"], [0.1111111111111111, \"#46039f\"], [0.2222222222222222, \"#7201a8\"], [0.3333333333333333, \"#9c179e\"], [0.4444444444444444, \"#bd3786\"], [0.5555555555555556, \"#d8576b\"], [0.6666666666666666, \"#ed7953\"], [0.7777777777777778, \"#fb9f3a\"], [0.8888888888888888, \"#fdca26\"], [1.0, \"#f0f921\"]], \"type\": \"surface\"}], \"table\": [{\"cells\": {\"fill\": {\"color\": \"#EBF0F8\"}, \"line\": {\"color\": \"white\"}}, \"header\": {\"fill\": {\"color\": \"#C8D4E3\"}, \"line\": {\"color\": \"white\"}}, \"type\": \"table\"}]}, \"layout\": {\"annotationdefaults\": {\"arrowcolor\": \"#2a3f5f\", \"arrowhead\": 0, \"arrowwidth\": 1}, \"autotypenumbers\": \"strict\", \"coloraxis\": {\"colorbar\": {\"outlinewidth\": 0, \"ticks\": \"\"}}, \"colorscale\": {\"diverging\": [[0, \"#8e0152\"], [0.1, \"#c51b7d\"], [0.2, \"#de77ae\"], [0.3, \"#f1b6da\"], [0.4, \"#fde0ef\"], [0.5, \"#f7f7f7\"], [0.6, \"#e6f5d0\"], [0.7, \"#b8e186\"], [0.8, \"#7fbc41\"], [0.9, \"#4d9221\"], [1, \"#276419\"]], \"sequential\": [[0.0, \"#0d0887\"], [0.1111111111111111, \"#46039f\"], [0.2222222222222222, \"#7201a8\"], [0.3333333333333333, \"#9c179e\"], [0.4444444444444444, \"#bd3786\"], [0.5555555555555556, \"#d8576b\"], [0.6666666666666666, \"#ed7953\"], [0.7777777777777778, \"#fb9f3a\"], [0.8888888888888888, \"#fdca26\"], [1.0, \"#f0f921\"]], \"sequentialminus\": [[0.0, \"#0d0887\"], [0.1111111111111111, \"#46039f\"], [0.2222222222222222, \"#7201a8\"], [0.3333333333333333, \"#9c179e\"], [0.4444444444444444, \"#bd3786\"], [0.5555555555555556, \"#d8576b\"], [0.6666666666666666, \"#ed7953\"], [0.7777777777777778, \"#fb9f3a\"], [0.8888888888888888, \"#fdca26\"], [1.0, \"#f0f921\"]]}, \"colorway\": [\"#636efa\", \"#EF553B\", \"#00cc96\", \"#ab63fa\", \"#FFA15A\", \"#19d3f3\", \"#FF6692\", \"#B6E880\", \"#FF97FF\", \"#FECB52\"], \"font\": {\"color\": \"#2a3f5f\"}, \"geo\": {\"bgcolor\": \"white\", \"lakecolor\": \"white\", \"landcolor\": \"#E5ECF6\", \"showlakes\": true, \"showland\": true, \"subunitcolor\": \"white\"}, \"hoverlabel\": {\"align\": \"left\"}, \"hovermode\": \"closest\", \"mapbox\": {\"style\": \"light\"}, \"paper_bgcolor\": \"white\", \"plot_bgcolor\": \"#E5ECF6\", \"polar\": {\"angularaxis\": {\"gridcolor\": \"white\", \"linecolor\": \"white\", \"ticks\": \"\"}, \"bgcolor\": \"#E5ECF6\", \"radialaxis\": {\"gridcolor\": \"white\", \"linecolor\": \"white\", \"ticks\": \"\"}}, \"scene\": {\"xaxis\": {\"backgroundcolor\": \"#E5ECF6\", \"gridcolor\": \"white\", \"gridwidth\": 2, \"linecolor\": \"white\", \"showbackground\": true, \"ticks\": \"\", \"zerolinecolor\": \"white\"}, \"yaxis\": {\"backgroundcolor\": \"#E5ECF6\", \"gridcolor\": \"white\", \"gridwidth\": 2, \"linecolor\": \"white\", \"showbackground\": true, \"ticks\": \"\", \"zerolinecolor\": \"white\"}, \"zaxis\": {\"backgroundcolor\": \"#E5ECF6\", \"gridcolor\": \"white\", \"gridwidth\": 2, \"linecolor\": \"white\", \"showbackground\": true, \"ticks\": \"\", \"zerolinecolor\": \"white\"}}, \"shapedefaults\": {\"line\": {\"color\": \"#2a3f5f\"}}, \"ternary\": {\"aaxis\": {\"gridcolor\": \"white\", \"linecolor\": \"white\", \"ticks\": \"\"}, \"baxis\": {\"gridcolor\": \"white\", \"linecolor\": \"white\", \"ticks\": \"\"}, \"bgcolor\": \"#E5ECF6\", \"caxis\": {\"gridcolor\": \"white\", \"linecolor\": \"white\", \"ticks\": \"\"}}, \"title\": {\"x\": 0.05}, \"xaxis\": {\"automargin\": true, \"gridcolor\": \"white\", \"linecolor\": \"white\", \"ticks\": \"\", \"title\": {\"standoff\": 15}, \"zerolinecolor\": \"white\", \"zerolinewidth\": 2}, \"yaxis\": {\"automargin\": true, \"gridcolor\": \"white\", \"linecolor\": \"white\", \"ticks\": \"\", \"title\": {\"standoff\": 15}, \"zerolinecolor\": \"white\", \"zerolinewidth\": 2}}}, \"title\": {\"text\": \"Cantidad de valores nulos por campo\"}, \"xaxis\": {\"anchor\": \"y\", \"domain\": [0.0, 1.0], \"title\": {\"text\": \"Porcentaje (%)\"}}, \"yaxis\": {\"anchor\": \"x\", \"domain\": [0.0, 1.0], \"title\": {\"text\": \"Campo\"}}},                        {\"responsive\": true}                    ).then(function(){\n",
       "                            \n",
       "var gd = document.getElementById('0b814082-2f1a-4475-b8ac-872467a7f379');\n",
       "var x = new MutationObserver(function (mutations, observer) {{\n",
       "        var display = window.getComputedStyle(gd).display;\n",
       "        if (!display || display === 'none') {{\n",
       "            console.log([gd, 'removed!']);\n",
       "            Plotly.purge(gd);\n",
       "            observer.disconnect();\n",
       "        }}\n",
       "}});\n",
       "\n",
       "// Listen for the removal of the full notebook cells\n",
       "var notebookContainer = gd.closest('#notebook-container');\n",
       "if (notebookContainer) {{\n",
       "    x.observe(notebookContainer, {childList: true});\n",
       "}}\n",
       "\n",
       "// Listen for the clearing of the current output cell\n",
       "var outputEl = gd.closest('.output');\n",
       "if (outputEl) {{\n",
       "    x.observe(outputEl, {childList: true});\n",
       "}}\n",
       "\n",
       "                        })                };                });            </script>        </div>"
      ]
     },
     "metadata": {},
     "output_type": "display_data"
    }
   ],
   "source": [
    "dfRooms = dfCapi.loc[:,['rooms','rooms_reg']]\n",
    "porcentajes_nulos(dfRooms,400)"
   ]
  },
  {
   "cell_type": "markdown",
   "metadata": {
    "id": "gZquu2vgDN-n"
   },
   "source": [
    "**- Barrios:**\n",
    "algunos tienen place_name = 'Capital Federal'. Los tratamos de reemplzar con la descripción y lat-lon"
   ]
  },
  {
   "cell_type": "markdown",
   "metadata": {
    "id": "lH3uu6cSnzw_"
   },
   "source": [
    "Hicimos un grafico de burbujas con superficie y m2 por barrio y vimos que habían varias propiedades con place_name = Capital Federal"
   ]
  },
  {
   "cell_type": "code",
   "execution_count": 60,
   "metadata": {
    "id": "j2ESJtq-n3QG"
   },
   "outputs": [],
   "source": [
    "Burbujas = dfCapi.groupby(['place_name']).aggregate({'place_name':'count', 'surface_total_in_m2':'mean','price_usd_per_m2':'mean'})"
   ]
  },
  {
   "cell_type": "code",
   "execution_count": 61,
   "metadata": {
    "id": "AskZiX-in3Sf"
   },
   "outputs": [],
   "source": [
    "Burbujas = Burbujas.rename(columns={'place_name':'Count'})"
   ]
  },
  {
   "cell_type": "code",
   "execution_count": 62,
   "metadata": {
    "colab": {
     "base_uri": "https://localhost:8080/",
     "height": 419
    },
    "id": "0dRph3Zzn3VE",
    "outputId": "38127033-ebef-497b-d5bd-f43af0732bc0"
   },
   "outputs": [
    {
     "data": {
      "text/html": [
       "<div>\n",
       "<style scoped>\n",
       "    .dataframe tbody tr th:only-of-type {\n",
       "        vertical-align: middle;\n",
       "    }\n",
       "\n",
       "    .dataframe tbody tr th {\n",
       "        vertical-align: top;\n",
       "    }\n",
       "\n",
       "    .dataframe thead th {\n",
       "        text-align: right;\n",
       "    }\n",
       "</style>\n",
       "<table border=\"1\" class=\"dataframe\">\n",
       "  <thead>\n",
       "    <tr style=\"text-align: right;\">\n",
       "      <th></th>\n",
       "      <th>place_name</th>\n",
       "      <th>Count</th>\n",
       "      <th>surface_total_in_m2</th>\n",
       "      <th>price_usd_per_m2</th>\n",
       "    </tr>\n",
       "  </thead>\n",
       "  <tbody>\n",
       "    <tr>\n",
       "      <th>0</th>\n",
       "      <td>Abasto</td>\n",
       "      <td>100</td>\n",
       "      <td>95.047619</td>\n",
       "      <td>2048.205347</td>\n",
       "    </tr>\n",
       "    <tr>\n",
       "      <th>1</th>\n",
       "      <td>Agronomía</td>\n",
       "      <td>40</td>\n",
       "      <td>102.592593</td>\n",
       "      <td>2065.200228</td>\n",
       "    </tr>\n",
       "    <tr>\n",
       "      <th>2</th>\n",
       "      <td>Almagro</td>\n",
       "      <td>1056</td>\n",
       "      <td>79.348264</td>\n",
       "      <td>2762.905303</td>\n",
       "    </tr>\n",
       "    <tr>\n",
       "      <th>3</th>\n",
       "      <td>Balvanera</td>\n",
       "      <td>642</td>\n",
       "      <td>98.407098</td>\n",
       "      <td>1956.755333</td>\n",
       "    </tr>\n",
       "    <tr>\n",
       "      <th>4</th>\n",
       "      <td>Barracas</td>\n",
       "      <td>406</td>\n",
       "      <td>117.833333</td>\n",
       "      <td>1978.223779</td>\n",
       "    </tr>\n",
       "    <tr>\n",
       "      <th>...</th>\n",
       "      <td>...</td>\n",
       "      <td>...</td>\n",
       "      <td>...</td>\n",
       "      <td>...</td>\n",
       "    </tr>\n",
       "    <tr>\n",
       "      <th>57</th>\n",
       "      <td>Villa Riachuelo</td>\n",
       "      <td>6</td>\n",
       "      <td>226.000000</td>\n",
       "      <td>1110.690766</td>\n",
       "    </tr>\n",
       "    <tr>\n",
       "      <th>58</th>\n",
       "      <td>Villa Santa Rita</td>\n",
       "      <td>56</td>\n",
       "      <td>129.423077</td>\n",
       "      <td>1871.349906</td>\n",
       "    </tr>\n",
       "    <tr>\n",
       "      <th>59</th>\n",
       "      <td>Villa Soldati</td>\n",
       "      <td>14</td>\n",
       "      <td>3313.666667</td>\n",
       "      <td>736.929399</td>\n",
       "    </tr>\n",
       "    <tr>\n",
       "      <th>60</th>\n",
       "      <td>Villa Urquiza</td>\n",
       "      <td>1415</td>\n",
       "      <td>72.777388</td>\n",
       "      <td>2501.582595</td>\n",
       "    </tr>\n",
       "    <tr>\n",
       "      <th>61</th>\n",
       "      <td>Villa del Parque</td>\n",
       "      <td>433</td>\n",
       "      <td>95.403125</td>\n",
       "      <td>2183.736414</td>\n",
       "    </tr>\n",
       "  </tbody>\n",
       "</table>\n",
       "<p>62 rows × 4 columns</p>\n",
       "</div>"
      ],
      "text/plain": [
       "          place_name  Count  surface_total_in_m2  price_usd_per_m2\n",
       "0             Abasto    100            95.047619       2048.205347\n",
       "1          Agronomía     40           102.592593       2065.200228\n",
       "2            Almagro   1056            79.348264       2762.905303\n",
       "3          Balvanera    642            98.407098       1956.755333\n",
       "4           Barracas    406           117.833333       1978.223779\n",
       "..               ...    ...                  ...               ...\n",
       "57   Villa Riachuelo      6           226.000000       1110.690766\n",
       "58  Villa Santa Rita     56           129.423077       1871.349906\n",
       "59     Villa Soldati     14          3313.666667        736.929399\n",
       "60     Villa Urquiza   1415            72.777388       2501.582595\n",
       "61  Villa del Parque    433            95.403125       2183.736414\n",
       "\n",
       "[62 rows x 4 columns]"
      ]
     },
     "execution_count": 62,
     "metadata": {},
     "output_type": "execute_result"
    }
   ],
   "source": [
    "dfBub = pd.DataFrame(Burbujas)\n",
    "dfBub.reset_index(inplace=True)\n",
    "dfBub"
   ]
  },
  {
   "cell_type": "code",
   "execution_count": 63,
   "metadata": {
    "colab": {
     "base_uri": "https://localhost:8080/",
     "height": 717
    },
    "id": "ZTiGvKh-n-da",
    "outputId": "437d28d0-2c59-47b9-9879-0f56b681b110"
   },
   "outputs": [
    {
     "data": {
      "application/vnd.plotly.v1+json": {
       "config": {
        "plotlyServerURL": "https://plotly.com"
       },
       "data": [
        {
         "hovertemplate": "<b>%{hovertext}</b><br><br>place_name=Abasto<br>surface_total_in_m2=%{x}<br>price_usd_per_m2=%{y}<br>Count=%{marker.size}<extra></extra>",
         "hovertext": [
          "Abasto"
         ],
         "legendgroup": "Abasto",
         "marker": {
          "color": "#636efa",
          "opacity": 0.6,
          "size": [
           100
          ],
          "sizemode": "area",
          "sizeref": 6.8,
          "symbol": "circle"
         },
         "mode": "markers",
         "name": "Abasto",
         "orientation": "v",
         "showlegend": true,
         "type": "scatter",
         "x": [
          95.04761904761905
         ],
         "xaxis": "x",
         "y": [
          2048.205346895856
         ],
         "yaxis": "y"
        },
        {
         "hovertemplate": "<b>%{hovertext}</b><br><br>place_name=Agronomía<br>surface_total_in_m2=%{x}<br>price_usd_per_m2=%{y}<br>Count=%{marker.size}<extra></extra>",
         "hovertext": [
          "Agronomía"
         ],
         "legendgroup": "Agronomía",
         "marker": {
          "color": "#EF553B",
          "opacity": 0.6,
          "size": [
           40
          ],
          "sizemode": "area",
          "sizeref": 6.8,
          "symbol": "circle"
         },
         "mode": "markers",
         "name": "Agronomía",
         "orientation": "v",
         "showlegend": true,
         "type": "scatter",
         "x": [
          102.5925925925926
         ],
         "xaxis": "x",
         "y": [
          2065.2002284710907
         ],
         "yaxis": "y"
        },
        {
         "hovertemplate": "<b>%{hovertext}</b><br><br>place_name=Almagro<br>surface_total_in_m2=%{x}<br>price_usd_per_m2=%{y}<br>Count=%{marker.size}<extra></extra>",
         "hovertext": [
          "Almagro"
         ],
         "legendgroup": "Almagro",
         "marker": {
          "color": "#00cc96",
          "opacity": 0.6,
          "size": [
           1056
          ],
          "sizemode": "area",
          "sizeref": 6.8,
          "symbol": "circle"
         },
         "mode": "markers",
         "name": "Almagro",
         "orientation": "v",
         "showlegend": true,
         "type": "scatter",
         "x": [
          79.34826427771557
         ],
         "xaxis": "x",
         "y": [
          2762.905302883169
         ],
         "yaxis": "y"
        },
        {
         "hovertemplate": "<b>%{hovertext}</b><br><br>place_name=Balvanera<br>surface_total_in_m2=%{x}<br>price_usd_per_m2=%{y}<br>Count=%{marker.size}<extra></extra>",
         "hovertext": [
          "Balvanera"
         ],
         "legendgroup": "Balvanera",
         "marker": {
          "color": "#ab63fa",
          "opacity": 0.6,
          "size": [
           642
          ],
          "sizemode": "area",
          "sizeref": 6.8,
          "symbol": "circle"
         },
         "mode": "markers",
         "name": "Balvanera",
         "orientation": "v",
         "showlegend": true,
         "type": "scatter",
         "x": [
          98.4070981210856
         ],
         "xaxis": "x",
         "y": [
          1956.7553332891255
         ],
         "yaxis": "y"
        },
        {
         "hovertemplate": "<b>%{hovertext}</b><br><br>place_name=Barracas<br>surface_total_in_m2=%{x}<br>price_usd_per_m2=%{y}<br>Count=%{marker.size}<extra></extra>",
         "hovertext": [
          "Barracas"
         ],
         "legendgroup": "Barracas",
         "marker": {
          "color": "#FFA15A",
          "opacity": 0.6,
          "size": [
           406
          ],
          "sizemode": "area",
          "sizeref": 6.8,
          "symbol": "circle"
         },
         "mode": "markers",
         "name": "Barracas",
         "orientation": "v",
         "showlegend": true,
         "type": "scatter",
         "x": [
          117.83333333333333
         ],
         "xaxis": "x",
         "y": [
          1978.2237791535363
         ],
         "yaxis": "y"
        },
        {
         "hovertemplate": "<b>%{hovertext}</b><br><br>place_name=Barrio Norte<br>surface_total_in_m2=%{x}<br>price_usd_per_m2=%{y}<br>Count=%{marker.size}<extra></extra>",
         "hovertext": [
          "Barrio Norte"
         ],
         "legendgroup": "Barrio Norte",
         "marker": {
          "color": "#19d3f3",
          "opacity": 0.6,
          "size": [
           1115
          ],
          "sizemode": "area",
          "sizeref": 6.8,
          "symbol": "circle"
         },
         "mode": "markers",
         "name": "Barrio Norte",
         "orientation": "v",
         "showlegend": true,
         "type": "scatter",
         "x": [
          104.19549641760491
         ],
         "xaxis": "x",
         "y": [
          3079.00857377641
         ],
         "yaxis": "y"
        },
        {
         "hovertemplate": "<b>%{hovertext}</b><br><br>place_name=Belgrano<br>surface_total_in_m2=%{x}<br>price_usd_per_m2=%{y}<br>Count=%{marker.size}<extra></extra>",
         "hovertext": [
          "Belgrano"
         ],
         "legendgroup": "Belgrano",
         "marker": {
          "color": "#FF6692",
          "opacity": 0.6,
          "size": [
           2720
          ],
          "sizemode": "area",
          "sizeref": 6.8,
          "symbol": "circle"
         },
         "mode": "markers",
         "name": "Belgrano",
         "orientation": "v",
         "showlegend": true,
         "type": "scatter",
         "x": [
          116.18981279930344
         ],
         "xaxis": "x",
         "y": [
          3155.0845205481796
         ],
         "yaxis": "y"
        },
        {
         "hovertemplate": "<b>%{hovertext}</b><br><br>place_name=Boca<br>surface_total_in_m2=%{x}<br>price_usd_per_m2=%{y}<br>Count=%{marker.size}<extra></extra>",
         "hovertext": [
          "Boca"
         ],
         "legendgroup": "Boca",
         "marker": {
          "color": "#B6E880",
          "opacity": 0.6,
          "size": [
           214
          ],
          "sizemode": "area",
          "sizeref": 6.8,
          "symbol": "circle"
         },
         "mode": "markers",
         "name": "Boca",
         "orientation": "v",
         "showlegend": true,
         "type": "scatter",
         "x": [
          161.4611111111111
         ],
         "xaxis": "x",
         "y": [
          2086.1865755241492
         ],
         "yaxis": "y"
        },
        {
         "hovertemplate": "<b>%{hovertext}</b><br><br>place_name=Boedo<br>surface_total_in_m2=%{x}<br>price_usd_per_m2=%{y}<br>Count=%{marker.size}<extra></extra>",
         "hovertext": [
          "Boedo"
         ],
         "legendgroup": "Boedo",
         "marker": {
          "color": "#FF97FF",
          "opacity": 0.6,
          "size": [
           847
          ],
          "sizemode": "area",
          "sizeref": 6.8,
          "symbol": "circle"
         },
         "mode": "markers",
         "name": "Boedo",
         "orientation": "v",
         "showlegend": true,
         "type": "scatter",
         "x": [
          49.00380228136882
         ],
         "xaxis": "x",
         "y": [
          10641.022482702701
         ],
         "yaxis": "y"
        },
        {
         "hovertemplate": "<b>%{hovertext}</b><br><br>place_name=Caballito<br>surface_total_in_m2=%{x}<br>price_usd_per_m2=%{y}<br>Count=%{marker.size}<extra></extra>",
         "hovertext": [
          "Caballito"
         ],
         "legendgroup": "Caballito",
         "marker": {
          "color": "#FECB52",
          "opacity": 0.6,
          "size": [
           2102
          ],
          "sizemode": "area",
          "sizeref": 6.8,
          "symbol": "circle"
         },
         "mode": "markers",
         "name": "Caballito",
         "orientation": "v",
         "showlegend": true,
         "type": "scatter",
         "x": [
          78.93662790697674
         ],
         "xaxis": "x",
         "y": [
          2472.848729943744
         ],
         "yaxis": "y"
        },
        {
         "hovertemplate": "<b>%{hovertext}</b><br><br>place_name=Capital Federal<br>surface_total_in_m2=%{x}<br>price_usd_per_m2=%{y}<br>Count=%{marker.size}<extra></extra>",
         "hovertext": [
          "Capital Federal"
         ],
         "legendgroup": "Capital Federal",
         "marker": {
          "color": "#636efa",
          "opacity": 0.6,
          "size": [
           1013
          ],
          "sizemode": "area",
          "sizeref": 6.8,
          "symbol": "circle"
         },
         "mode": "markers",
         "name": "Capital Federal",
         "orientation": "v",
         "showlegend": true,
         "type": "scatter",
         "x": [
          479.23481308411215
         ],
         "xaxis": "x",
         "y": [
          1760.7236988647378
         ],
         "yaxis": "y"
        },
        {
         "hovertemplate": "<b>%{hovertext}</b><br><br>place_name=Catalinas<br>surface_total_in_m2=%{x}<br>price_usd_per_m2=%{y}<br>Count=%{marker.size}<extra></extra>",
         "hovertext": [
          "Catalinas"
         ],
         "legendgroup": "Catalinas",
         "marker": {
          "color": "#EF553B",
          "opacity": 0.6,
          "size": [
           4
          ],
          "sizemode": "area",
          "sizeref": 6.8,
          "symbol": "circle"
         },
         "mode": "markers",
         "name": "Catalinas",
         "orientation": "v",
         "showlegend": true,
         "type": "scatter",
         "x": [
          130.66666666666666
         ],
         "xaxis": "x",
         "y": [
          1833.333333333333
         ],
         "yaxis": "y"
        },
        {
         "hovertemplate": "<b>%{hovertext}</b><br><br>place_name=Centro / Microcentro<br>surface_total_in_m2=%{x}<br>price_usd_per_m2=%{y}<br>Count=%{marker.size}<extra></extra>",
         "hovertext": [
          "Centro / Microcentro"
         ],
         "legendgroup": "Centro / Microcentro",
         "marker": {
          "color": "#00cc96",
          "opacity": 0.6,
          "size": [
           218
          ],
          "sizemode": "area",
          "sizeref": 6.8,
          "symbol": "circle"
         },
         "mode": "markers",
         "name": "Centro / Microcentro",
         "orientation": "v",
         "showlegend": true,
         "type": "scatter",
         "x": [
          128.63959390862945
         ],
         "xaxis": "x",
         "y": [
          2539.6076696775967
         ],
         "yaxis": "y"
        },
        {
         "hovertemplate": "<b>%{hovertext}</b><br><br>place_name=Chacarita<br>surface_total_in_m2=%{x}<br>price_usd_per_m2=%{y}<br>Count=%{marker.size}<extra></extra>",
         "hovertext": [
          "Chacarita"
         ],
         "legendgroup": "Chacarita",
         "marker": {
          "color": "#ab63fa",
          "opacity": 0.6,
          "size": [
           197
          ],
          "sizemode": "area",
          "sizeref": 6.8,
          "symbol": "circle"
         },
         "mode": "markers",
         "name": "Chacarita",
         "orientation": "v",
         "showlegend": true,
         "type": "scatter",
         "x": [
          68.51533742331289
         ],
         "xaxis": "x",
         "y": [
          2190.4781401071773
         ],
         "yaxis": "y"
        },
        {
         "hovertemplate": "<b>%{hovertext}</b><br><br>place_name=Coghlan<br>surface_total_in_m2=%{x}<br>price_usd_per_m2=%{y}<br>Count=%{marker.size}<extra></extra>",
         "hovertext": [
          "Coghlan"
         ],
         "legendgroup": "Coghlan",
         "marker": {
          "color": "#FFA15A",
          "opacity": 0.6,
          "size": [
           244
          ],
          "sizemode": "area",
          "sizeref": 6.8,
          "symbol": "circle"
         },
         "mode": "markers",
         "name": "Coghlan",
         "orientation": "v",
         "showlegend": true,
         "type": "scatter",
         "x": [
          78.54736842105264
         ],
         "xaxis": "x",
         "y": [
          2515.5413586346754
         ],
         "yaxis": "y"
        },
        {
         "hovertemplate": "<b>%{hovertext}</b><br><br>place_name=Colegiales<br>surface_total_in_m2=%{x}<br>price_usd_per_m2=%{y}<br>Count=%{marker.size}<extra></extra>",
         "hovertext": [
          "Colegiales"
         ],
         "legendgroup": "Colegiales",
         "marker": {
          "color": "#19d3f3",
          "opacity": 0.6,
          "size": [
           343
          ],
          "sizemode": "area",
          "sizeref": 6.8,
          "symbol": "circle"
         },
         "mode": "markers",
         "name": "Colegiales",
         "orientation": "v",
         "showlegend": true,
         "type": "scatter",
         "x": [
          83.97254901960784
         ],
         "xaxis": "x",
         "y": [
          2531.6692083190997
         ],
         "yaxis": "y"
        },
        {
         "hovertemplate": "<b>%{hovertext}</b><br><br>place_name=Congreso<br>surface_total_in_m2=%{x}<br>price_usd_per_m2=%{y}<br>Count=%{marker.size}<extra></extra>",
         "hovertext": [
          "Congreso"
         ],
         "legendgroup": "Congreso",
         "marker": {
          "color": "#FF6692",
          "opacity": 0.6,
          "size": [
           296
          ],
          "sizemode": "area",
          "sizeref": 6.8,
          "symbol": "circle"
         },
         "mode": "markers",
         "name": "Congreso",
         "orientation": "v",
         "showlegend": true,
         "type": "scatter",
         "x": [
          77.525
         ],
         "xaxis": "x",
         "y": [
          2610.954346946662
         ],
         "yaxis": "y"
        },
        {
         "hovertemplate": "<b>%{hovertext}</b><br><br>place_name=Constitución<br>surface_total_in_m2=%{x}<br>price_usd_per_m2=%{y}<br>Count=%{marker.size}<extra></extra>",
         "hovertext": [
          "Constitución"
         ],
         "legendgroup": "Constitución",
         "marker": {
          "color": "#B6E880",
          "opacity": 0.6,
          "size": [
           201
          ],
          "sizemode": "area",
          "sizeref": 6.8,
          "symbol": "circle"
         },
         "mode": "markers",
         "name": "Constitución",
         "orientation": "v",
         "showlegend": true,
         "type": "scatter",
         "x": [
          75.22435897435898
         ],
         "xaxis": "x",
         "y": [
          1782.0702931326564
         ],
         "yaxis": "y"
        },
        {
         "hovertemplate": "<b>%{hovertext}</b><br><br>place_name=Flores<br>surface_total_in_m2=%{x}<br>price_usd_per_m2=%{y}<br>Count=%{marker.size}<extra></extra>",
         "hovertext": [
          "Flores"
         ],
         "legendgroup": "Flores",
         "marker": {
          "color": "#FF97FF",
          "opacity": 0.6,
          "size": [
           1246
          ],
          "sizemode": "area",
          "sizeref": 6.8,
          "symbol": "circle"
         },
         "mode": "markers",
         "name": "Flores",
         "orientation": "v",
         "showlegend": true,
         "type": "scatter",
         "x": [
          94.9375
         ],
         "xaxis": "x",
         "y": [
          2159.8164702359236
         ],
         "yaxis": "y"
        },
        {
         "hovertemplate": "<b>%{hovertext}</b><br><br>place_name=Floresta<br>surface_total_in_m2=%{x}<br>price_usd_per_m2=%{y}<br>Count=%{marker.size}<extra></extra>",
         "hovertext": [
          "Floresta"
         ],
         "legendgroup": "Floresta",
         "marker": {
          "color": "#FECB52",
          "opacity": 0.6,
          "size": [
           454
          ],
          "sizemode": "area",
          "sizeref": 6.8,
          "symbol": "circle"
         },
         "mode": "markers",
         "name": "Floresta",
         "orientation": "v",
         "showlegend": true,
         "type": "scatter",
         "x": [
          111.2282958199357
         ],
         "xaxis": "x",
         "y": [
          1702.9829448224073
         ],
         "yaxis": "y"
        },
        {
         "hovertemplate": "<b>%{hovertext}</b><br><br>place_name=Las Cañitas<br>surface_total_in_m2=%{x}<br>price_usd_per_m2=%{y}<br>Count=%{marker.size}<extra></extra>",
         "hovertext": [
          "Las Cañitas"
         ],
         "legendgroup": "Las Cañitas",
         "marker": {
          "color": "#636efa",
          "opacity": 0.6,
          "size": [
           140
          ],
          "sizemode": "area",
          "sizeref": 6.8,
          "symbol": "circle"
         },
         "mode": "markers",
         "name": "Las Cañitas",
         "orientation": "v",
         "showlegend": true,
         "type": "scatter",
         "x": [
          104.48148148148148
         ],
         "xaxis": "x",
         "y": [
          3471.927437043364
         ],
         "yaxis": "y"
        },
        {
         "hovertemplate": "<b>%{hovertext}</b><br><br>place_name=Liniers<br>surface_total_in_m2=%{x}<br>price_usd_per_m2=%{y}<br>Count=%{marker.size}<extra></extra>",
         "hovertext": [
          "Liniers"
         ],
         "legendgroup": "Liniers",
         "marker": {
          "color": "#EF553B",
          "opacity": 0.6,
          "size": [
           378
          ],
          "sizemode": "area",
          "sizeref": 6.8,
          "symbol": "circle"
         },
         "mode": "markers",
         "name": "Liniers",
         "orientation": "v",
         "showlegend": true,
         "type": "scatter",
         "x": [
          106.54310344827586
         ],
         "xaxis": "x",
         "y": [
          1779.1709118088045
         ],
         "yaxis": "y"
        },
        {
         "hovertemplate": "<b>%{hovertext}</b><br><br>place_name=Mataderos<br>surface_total_in_m2=%{x}<br>price_usd_per_m2=%{y}<br>Count=%{marker.size}<extra></extra>",
         "hovertext": [
          "Mataderos"
         ],
         "legendgroup": "Mataderos",
         "marker": {
          "color": "#00cc96",
          "opacity": 0.6,
          "size": [
           411
          ],
          "sizemode": "area",
          "sizeref": 6.8,
          "symbol": "circle"
         },
         "mode": "markers",
         "name": "Mataderos",
         "orientation": "v",
         "showlegend": true,
         "type": "scatter",
         "x": [
          153.58680555555554
         ],
         "xaxis": "x",
         "y": [
          1541.263800823851
         ],
         "yaxis": "y"
        },
        {
         "hovertemplate": "<b>%{hovertext}</b><br><br>place_name=Monserrat<br>surface_total_in_m2=%{x}<br>price_usd_per_m2=%{y}<br>Count=%{marker.size}<extra></extra>",
         "hovertext": [
          "Monserrat"
         ],
         "legendgroup": "Monserrat",
         "marker": {
          "color": "#ab63fa",
          "opacity": 0.6,
          "size": [
           481
          ],
          "sizemode": "area",
          "sizeref": 6.8,
          "symbol": "circle"
         },
         "mode": "markers",
         "name": "Monserrat",
         "orientation": "v",
         "showlegend": true,
         "type": "scatter",
         "x": [
          105.66371681415929
         ],
         "xaxis": "x",
         "y": [
          2097.730399561599
         ],
         "yaxis": "y"
        },
        {
         "hovertemplate": "<b>%{hovertext}</b><br><br>place_name=Monte Castro<br>surface_total_in_m2=%{x}<br>price_usd_per_m2=%{y}<br>Count=%{marker.size}<extra></extra>",
         "hovertext": [
          "Monte Castro"
         ],
         "legendgroup": "Monte Castro",
         "marker": {
          "color": "#FFA15A",
          "opacity": 0.6,
          "size": [
           78
          ],
          "sizemode": "area",
          "sizeref": 6.8,
          "symbol": "circle"
         },
         "mode": "markers",
         "name": "Monte Castro",
         "orientation": "v",
         "showlegend": true,
         "type": "scatter",
         "x": [
          101.58333333333333
         ],
         "xaxis": "x",
         "y": [
          1846.9873215728828
         ],
         "yaxis": "y"
        },
        {
         "hovertemplate": "<b>%{hovertext}</b><br><br>place_name=Nuñez<br>surface_total_in_m2=%{x}<br>price_usd_per_m2=%{y}<br>Count=%{marker.size}<extra></extra>",
         "hovertext": [
          "Nuñez"
         ],
         "legendgroup": "Nuñez",
         "marker": {
          "color": "#19d3f3",
          "opacity": 0.6,
          "size": [
           704
          ],
          "sizemode": "area",
          "sizeref": 6.8,
          "symbol": "circle"
         },
         "mode": "markers",
         "name": "Nuñez",
         "orientation": "v",
         "showlegend": true,
         "type": "scatter",
         "x": [
          110.50735294117646
         ],
         "xaxis": "x",
         "y": [
          3208.5597272686673
         ],
         "yaxis": "y"
        },
        {
         "hovertemplate": "<b>%{hovertext}</b><br><br>place_name=Once<br>surface_total_in_m2=%{x}<br>price_usd_per_m2=%{y}<br>Count=%{marker.size}<extra></extra>",
         "hovertext": [
          "Once"
         ],
         "legendgroup": "Once",
         "marker": {
          "color": "#FF6692",
          "opacity": 0.6,
          "size": [
           175
          ],
          "sizemode": "area",
          "sizeref": 6.8,
          "symbol": "circle"
         },
         "mode": "markers",
         "name": "Once",
         "orientation": "v",
         "showlegend": true,
         "type": "scatter",
         "x": [
          122.97692307692307
         ],
         "xaxis": "x",
         "y": [
          2162.037938720275
         ],
         "yaxis": "y"
        },
        {
         "hovertemplate": "<b>%{hovertext}</b><br><br>place_name=Palermo<br>surface_total_in_m2=%{x}<br>price_usd_per_m2=%{y}<br>Count=%{marker.size}<extra></extra>",
         "hovertext": [
          "Palermo"
         ],
         "legendgroup": "Palermo",
         "marker": {
          "color": "#B6E880",
          "opacity": 0.6,
          "size": [
           2637
          ],
          "sizemode": "area",
          "sizeref": 6.8,
          "symbol": "circle"
         },
         "mode": "markers",
         "name": "Palermo",
         "orientation": "v",
         "showlegend": true,
         "type": "scatter",
         "x": [
          101.91570881226053
         ],
         "xaxis": "x",
         "y": [
          3396.5561469269533
         ],
         "yaxis": "y"
        },
        {
         "hovertemplate": "<b>%{hovertext}</b><br><br>place_name=Palermo Chico<br>surface_total_in_m2=%{x}<br>price_usd_per_m2=%{y}<br>Count=%{marker.size}<extra></extra>",
         "hovertext": [
          "Palermo Chico"
         ],
         "legendgroup": "Palermo Chico",
         "marker": {
          "color": "#FF97FF",
          "opacity": 0.6,
          "size": [
           224
          ],
          "sizemode": "area",
          "sizeref": 6.8,
          "symbol": "circle"
         },
         "mode": "markers",
         "name": "Palermo Chico",
         "orientation": "v",
         "showlegend": true,
         "type": "scatter",
         "x": [
          200.24528301886792
         ],
         "xaxis": "x",
         "y": [
          4814.622635273428
         ],
         "yaxis": "y"
        },
        {
         "hovertemplate": "<b>%{hovertext}</b><br><br>place_name=Palermo Hollywood<br>surface_total_in_m2=%{x}<br>price_usd_per_m2=%{y}<br>Count=%{marker.size}<extra></extra>",
         "hovertext": [
          "Palermo Hollywood"
         ],
         "legendgroup": "Palermo Hollywood",
         "marker": {
          "color": "#FECB52",
          "opacity": 0.6,
          "size": [
           450
          ],
          "sizemode": "area",
          "sizeref": 6.8,
          "symbol": "circle"
         },
         "mode": "markers",
         "name": "Palermo Hollywood",
         "orientation": "v",
         "showlegend": true,
         "type": "scatter",
         "x": [
          79.04306220095694
         ],
         "xaxis": "x",
         "y": [
          3207.8397138705814
         ],
         "yaxis": "y"
        },
        {
         "hovertemplate": "<b>%{hovertext}</b><br><br>place_name=Palermo Soho<br>surface_total_in_m2=%{x}<br>price_usd_per_m2=%{y}<br>Count=%{marker.size}<extra></extra>",
         "hovertext": [
          "Palermo Soho"
         ],
         "legendgroup": "Palermo Soho",
         "marker": {
          "color": "#636efa",
          "opacity": 0.6,
          "size": [
           370
          ],
          "sizemode": "area",
          "sizeref": 6.8,
          "symbol": "circle"
         },
         "mode": "markers",
         "name": "Palermo Soho",
         "orientation": "v",
         "showlegend": true,
         "type": "scatter",
         "x": [
          72.86039886039886
         ],
         "xaxis": "x",
         "y": [
          3219.476221204838
         ],
         "yaxis": "y"
        },
        {
         "hovertemplate": "<b>%{hovertext}</b><br><br>place_name=Palermo Viejo<br>surface_total_in_m2=%{x}<br>price_usd_per_m2=%{y}<br>Count=%{marker.size}<extra></extra>",
         "hovertext": [
          "Palermo Viejo"
         ],
         "legendgroup": "Palermo Viejo",
         "marker": {
          "color": "#EF553B",
          "opacity": 0.6,
          "size": [
           40
          ],
          "sizemode": "area",
          "sizeref": 6.8,
          "symbol": "circle"
         },
         "mode": "markers",
         "name": "Palermo Viejo",
         "orientation": "v",
         "showlegend": true,
         "type": "scatter",
         "x": [
          122.83783783783784
         ],
         "xaxis": "x",
         "y": [
          3065.841010387682
         ],
         "yaxis": "y"
        },
        {
         "hovertemplate": "<b>%{hovertext}</b><br><br>place_name=Parque Avellaneda<br>surface_total_in_m2=%{x}<br>price_usd_per_m2=%{y}<br>Count=%{marker.size}<extra></extra>",
         "hovertext": [
          "Parque Avellaneda"
         ],
         "legendgroup": "Parque Avellaneda",
         "marker": {
          "color": "#00cc96",
          "opacity": 0.6,
          "size": [
           55
          ],
          "sizemode": "area",
          "sizeref": 6.8,
          "symbol": "circle"
         },
         "mode": "markers",
         "name": "Parque Avellaneda",
         "orientation": "v",
         "showlegend": true,
         "type": "scatter",
         "x": [
          126.3225806451613
         ],
         "xaxis": "x",
         "y": [
          1379.9507077756994
         ],
         "yaxis": "y"
        },
        {
         "hovertemplate": "<b>%{hovertext}</b><br><br>place_name=Parque Centenario<br>surface_total_in_m2=%{x}<br>price_usd_per_m2=%{y}<br>Count=%{marker.size}<extra></extra>",
         "hovertext": [
          "Parque Centenario"
         ],
         "legendgroup": "Parque Centenario",
         "marker": {
          "color": "#ab63fa",
          "opacity": 0.6,
          "size": [
           63
          ],
          "sizemode": "area",
          "sizeref": 6.8,
          "symbol": "circle"
         },
         "mode": "markers",
         "name": "Parque Centenario",
         "orientation": "v",
         "showlegend": true,
         "type": "scatter",
         "x": [
          89.84482758620689
         ],
         "xaxis": "x",
         "y": [
          2261.541160485573
         ],
         "yaxis": "y"
        },
        {
         "hovertemplate": "<b>%{hovertext}</b><br><br>place_name=Parque Chacabuco<br>surface_total_in_m2=%{x}<br>price_usd_per_m2=%{y}<br>Count=%{marker.size}<extra></extra>",
         "hovertext": [
          "Parque Chacabuco"
         ],
         "legendgroup": "Parque Chacabuco",
         "marker": {
          "color": "#FFA15A",
          "opacity": 0.6,
          "size": [
           144
          ],
          "sizemode": "area",
          "sizeref": 6.8,
          "symbol": "circle"
         },
         "mode": "markers",
         "name": "Parque Chacabuco",
         "orientation": "v",
         "showlegend": true,
         "type": "scatter",
         "x": [
          135.4891304347826
         ],
         "xaxis": "x",
         "y": [
          1691.2617670827508
         ],
         "yaxis": "y"
        },
        {
         "hovertemplate": "<b>%{hovertext}</b><br><br>place_name=Parque Chas<br>surface_total_in_m2=%{x}<br>price_usd_per_m2=%{y}<br>Count=%{marker.size}<extra></extra>",
         "hovertext": [
          "Parque Chas"
         ],
         "legendgroup": "Parque Chas",
         "marker": {
          "color": "#19d3f3",
          "opacity": 0.6,
          "size": [
           44
          ],
          "sizemode": "area",
          "sizeref": 6.8,
          "symbol": "circle"
         },
         "mode": "markers",
         "name": "Parque Chas",
         "orientation": "v",
         "showlegend": true,
         "type": "scatter",
         "x": [
          87.66666666666667
         ],
         "xaxis": "x",
         "y": [
          2024.507671261487
         ],
         "yaxis": "y"
        },
        {
         "hovertemplate": "<b>%{hovertext}</b><br><br>place_name=Parque Patricios<br>surface_total_in_m2=%{x}<br>price_usd_per_m2=%{y}<br>Count=%{marker.size}<extra></extra>",
         "hovertext": [
          "Parque Patricios"
         ],
         "legendgroup": "Parque Patricios",
         "marker": {
          "color": "#FF6692",
          "opacity": 0.6,
          "size": [
           315
          ],
          "sizemode": "area",
          "sizeref": 6.8,
          "symbol": "circle"
         },
         "mode": "markers",
         "name": "Parque Patricios",
         "orientation": "v",
         "showlegend": true,
         "type": "scatter",
         "x": [
          145.95983935742973
         ],
         "xaxis": "x",
         "y": [
          1917.5448378101912
         ],
         "yaxis": "y"
        },
        {
         "hovertemplate": "<b>%{hovertext}</b><br><br>place_name=Paternal<br>surface_total_in_m2=%{x}<br>price_usd_per_m2=%{y}<br>Count=%{marker.size}<extra></extra>",
         "hovertext": [
          "Paternal"
         ],
         "legendgroup": "Paternal",
         "marker": {
          "color": "#B6E880",
          "opacity": 0.6,
          "size": [
           167
          ],
          "sizemode": "area",
          "sizeref": 6.8,
          "symbol": "circle"
         },
         "mode": "markers",
         "name": "Paternal",
         "orientation": "v",
         "showlegend": true,
         "type": "scatter",
         "x": [
          96.61682242990655
         ],
         "xaxis": "x",
         "y": [
          1922.7312151134502
         ],
         "yaxis": "y"
        },
        {
         "hovertemplate": "<b>%{hovertext}</b><br><br>place_name=Pompeya<br>surface_total_in_m2=%{x}<br>price_usd_per_m2=%{y}<br>Count=%{marker.size}<extra></extra>",
         "hovertext": [
          "Pompeya"
         ],
         "legendgroup": "Pompeya",
         "marker": {
          "color": "#FF97FF",
          "opacity": 0.6,
          "size": [
           64
          ],
          "sizemode": "area",
          "sizeref": 6.8,
          "symbol": "circle"
         },
         "mode": "markers",
         "name": "Pompeya",
         "orientation": "v",
         "showlegend": true,
         "type": "scatter",
         "x": [
          270.90909090909093
         ],
         "xaxis": "x",
         "y": [
          1084.3397344659681
         ],
         "yaxis": "y"
        },
        {
         "hovertemplate": "<b>%{hovertext}</b><br><br>place_name=Puerto Madero<br>surface_total_in_m2=%{x}<br>price_usd_per_m2=%{y}<br>Count=%{marker.size}<extra></extra>",
         "hovertext": [
          "Puerto Madero"
         ],
         "legendgroup": "Puerto Madero",
         "marker": {
          "color": "#FECB52",
          "opacity": 0.6,
          "size": [
           605
          ],
          "sizemode": "area",
          "sizeref": 6.8,
          "symbol": "circle"
         },
         "mode": "markers",
         "name": "Puerto Madero",
         "orientation": "v",
         "showlegend": true,
         "type": "scatter",
         "x": [
          152.97302504816955
         ],
         "xaxis": "x",
         "y": [
          6018.913474782401
         ],
         "yaxis": "y"
        },
        {
         "hovertemplate": "<b>%{hovertext}</b><br><br>place_name=Recoleta<br>surface_total_in_m2=%{x}<br>price_usd_per_m2=%{y}<br>Count=%{marker.size}<extra></extra>",
         "hovertext": [
          "Recoleta"
         ],
         "legendgroup": "Recoleta",
         "marker": {
          "color": "#636efa",
          "opacity": 0.6,
          "size": [
           1468
          ],
          "sizemode": "area",
          "sizeref": 6.8,
          "symbol": "circle"
         },
         "mode": "markers",
         "name": "Recoleta",
         "orientation": "v",
         "showlegend": true,
         "type": "scatter",
         "x": [
          125.92345276872965
         ],
         "xaxis": "x",
         "y": [
          3379.338944385391
         ],
         "yaxis": "y"
        },
        {
         "hovertemplate": "<b>%{hovertext}</b><br><br>place_name=Retiro<br>surface_total_in_m2=%{x}<br>price_usd_per_m2=%{y}<br>Count=%{marker.size}<extra></extra>",
         "hovertext": [
          "Retiro"
         ],
         "legendgroup": "Retiro",
         "marker": {
          "color": "#EF553B",
          "opacity": 0.6,
          "size": [
           244
          ],
          "sizemode": "area",
          "sizeref": 6.8,
          "symbol": "circle"
         },
         "mode": "markers",
         "name": "Retiro",
         "orientation": "v",
         "showlegend": true,
         "type": "scatter",
         "x": [
          133.16062176165804
         ],
         "xaxis": "x",
         "y": [
          2984.4293403983984
         ],
         "yaxis": "y"
        },
        {
         "hovertemplate": "<b>%{hovertext}</b><br><br>place_name=Saavedra<br>surface_total_in_m2=%{x}<br>price_usd_per_m2=%{y}<br>Count=%{marker.size}<extra></extra>",
         "hovertext": [
          "Saavedra"
         ],
         "legendgroup": "Saavedra",
         "marker": {
          "color": "#00cc96",
          "opacity": 0.6,
          "size": [
           512
          ],
          "sizemode": "area",
          "sizeref": 6.8,
          "symbol": "circle"
         },
         "mode": "markers",
         "name": "Saavedra",
         "orientation": "v",
         "showlegend": true,
         "type": "scatter",
         "x": [
          86.84223300970874
         ],
         "xaxis": "x",
         "y": [
          2538.895484666419
         ],
         "yaxis": "y"
        },
        {
         "hovertemplate": "<b>%{hovertext}</b><br><br>place_name=San Cristobal<br>surface_total_in_m2=%{x}<br>price_usd_per_m2=%{y}<br>Count=%{marker.size}<extra></extra>",
         "hovertext": [
          "San Cristobal"
         ],
         "legendgroup": "San Cristobal",
         "marker": {
          "color": "#ab63fa",
          "opacity": 0.6,
          "size": [
           606
          ],
          "sizemode": "area",
          "sizeref": 6.8,
          "symbol": "circle"
         },
         "mode": "markers",
         "name": "San Cristobal",
         "orientation": "v",
         "showlegend": true,
         "type": "scatter",
         "x": [
          75.33056133056132
         ],
         "xaxis": "x",
         "y": [
          9845.533746287454
         ],
         "yaxis": "y"
        },
        {
         "hovertemplate": "<b>%{hovertext}</b><br><br>place_name=San Nicolás<br>surface_total_in_m2=%{x}<br>price_usd_per_m2=%{y}<br>Count=%{marker.size}<extra></extra>",
         "hovertext": [
          "San Nicolás"
         ],
         "legendgroup": "San Nicolás",
         "marker": {
          "color": "#FFA15A",
          "opacity": 0.6,
          "size": [
           184
          ],
          "sizemode": "area",
          "sizeref": 6.8,
          "symbol": "circle"
         },
         "mode": "markers",
         "name": "San Nicolás",
         "orientation": "v",
         "showlegend": true,
         "type": "scatter",
         "x": [
          120.59848484848484
         ],
         "xaxis": "x",
         "y": [
          2312.555678459933
         ],
         "yaxis": "y"
        },
        {
         "hovertemplate": "<b>%{hovertext}</b><br><br>place_name=San Telmo<br>surface_total_in_m2=%{x}<br>price_usd_per_m2=%{y}<br>Count=%{marker.size}<extra></extra>",
         "hovertext": [
          "San Telmo"
         ],
         "legendgroup": "San Telmo",
         "marker": {
          "color": "#19d3f3",
          "opacity": 0.6,
          "size": [
           1089
          ],
          "sizemode": "area",
          "sizeref": 6.8,
          "symbol": "circle"
         },
         "mode": "markers",
         "name": "San Telmo",
         "orientation": "v",
         "showlegend": true,
         "type": "scatter",
         "x": [
          309.85930735930737
         ],
         "xaxis": "x",
         "y": [
          2295.9630936493686
         ],
         "yaxis": "y"
        },
        {
         "hovertemplate": "<b>%{hovertext}</b><br><br>place_name=Tribunales<br>surface_total_in_m2=%{x}<br>price_usd_per_m2=%{y}<br>Count=%{marker.size}<extra></extra>",
         "hovertext": [
          "Tribunales"
         ],
         "legendgroup": "Tribunales",
         "marker": {
          "color": "#FF6692",
          "opacity": 0.6,
          "size": [
           94
          ],
          "sizemode": "area",
          "sizeref": 6.8,
          "symbol": "circle"
         },
         "mode": "markers",
         "name": "Tribunales",
         "orientation": "v",
         "showlegend": true,
         "type": "scatter",
         "x": [
          96.16883116883118
         ],
         "xaxis": "x",
         "y": [
          2148.794766859345
         ],
         "yaxis": "y"
        },
        {
         "hovertemplate": "<b>%{hovertext}</b><br><br>place_name=Velez Sarsfield<br>surface_total_in_m2=%{x}<br>price_usd_per_m2=%{y}<br>Count=%{marker.size}<extra></extra>",
         "hovertext": [
          "Velez Sarsfield"
         ],
         "legendgroup": "Velez Sarsfield",
         "marker": {
          "color": "#B6E880",
          "opacity": 0.6,
          "size": [
           38
          ],
          "sizemode": "area",
          "sizeref": 6.8,
          "symbol": "circle"
         },
         "mode": "markers",
         "name": "Velez Sarsfield",
         "orientation": "v",
         "showlegend": true,
         "type": "scatter",
         "x": [
          154.74074074074073
         ],
         "xaxis": "x",
         "y": [
          1597.5753256076982
         ],
         "yaxis": "y"
        },
        {
         "hovertemplate": "<b>%{hovertext}</b><br><br>place_name=Versalles<br>surface_total_in_m2=%{x}<br>price_usd_per_m2=%{y}<br>Count=%{marker.size}<extra></extra>",
         "hovertext": [
          "Versalles"
         ],
         "legendgroup": "Versalles",
         "marker": {
          "color": "#FF97FF",
          "opacity": 0.6,
          "size": [
           55
          ],
          "sizemode": "area",
          "sizeref": 6.8,
          "symbol": "circle"
         },
         "mode": "markers",
         "name": "Versalles",
         "orientation": "v",
         "showlegend": true,
         "type": "scatter",
         "x": [
          158.41379310344828
         ],
         "xaxis": "x",
         "y": [
          1542.3787767205465
         ],
         "yaxis": "y"
        },
        {
         "hovertemplate": "<b>%{hovertext}</b><br><br>place_name=Villa Crespo<br>surface_total_in_m2=%{x}<br>price_usd_per_m2=%{y}<br>Count=%{marker.size}<extra></extra>",
         "hovertext": [
          "Villa Crespo"
         ],
         "legendgroup": "Villa Crespo",
         "marker": {
          "color": "#FECB52",
          "opacity": 0.6,
          "size": [
           1200
          ],
          "sizemode": "area",
          "sizeref": 6.8,
          "symbol": "circle"
         },
         "mode": "markers",
         "name": "Villa Crespo",
         "orientation": "v",
         "showlegend": true,
         "type": "scatter",
         "x": [
          74.12680115273776
         ],
         "xaxis": "x",
         "y": [
          2520.9950054861984
         ],
         "yaxis": "y"
        },
        {
         "hovertemplate": "<b>%{hovertext}</b><br><br>place_name=Villa Devoto<br>surface_total_in_m2=%{x}<br>price_usd_per_m2=%{y}<br>Count=%{marker.size}<extra></extra>",
         "hovertext": [
          "Villa Devoto"
         ],
         "legendgroup": "Villa Devoto",
         "marker": {
          "color": "#636efa",
          "opacity": 0.6,
          "size": [
           410
          ],
          "sizemode": "area",
          "sizeref": 6.8,
          "symbol": "circle"
         },
         "mode": "markers",
         "name": "Villa Devoto",
         "orientation": "v",
         "showlegend": true,
         "type": "scatter",
         "x": [
          122.54814814814814
         ],
         "xaxis": "x",
         "y": [
          2193.6191513067783
         ],
         "yaxis": "y"
        },
        {
         "hovertemplate": "<b>%{hovertext}</b><br><br>place_name=Villa General Mitre<br>surface_total_in_m2=%{x}<br>price_usd_per_m2=%{y}<br>Count=%{marker.size}<extra></extra>",
         "hovertext": [
          "Villa General Mitre"
         ],
         "legendgroup": "Villa General Mitre",
         "marker": {
          "color": "#EF553B",
          "opacity": 0.6,
          "size": [
           46
          ],
          "sizemode": "area",
          "sizeref": 6.8,
          "symbol": "circle"
         },
         "mode": "markers",
         "name": "Villa General Mitre",
         "orientation": "v",
         "showlegend": true,
         "type": "scatter",
         "x": [
          134.24324324324326
         ],
         "xaxis": "x",
         "y": [
          1795.928867071242
         ],
         "yaxis": "y"
        },
        {
         "hovertemplate": "<b>%{hovertext}</b><br><br>place_name=Villa Lugano<br>surface_total_in_m2=%{x}<br>price_usd_per_m2=%{y}<br>Count=%{marker.size}<extra></extra>",
         "hovertext": [
          "Villa Lugano"
         ],
         "legendgroup": "Villa Lugano",
         "marker": {
          "color": "#00cc96",
          "opacity": 0.6,
          "size": [
           203
          ],
          "sizemode": "area",
          "sizeref": 6.8,
          "symbol": "circle"
         },
         "mode": "markers",
         "name": "Villa Lugano",
         "orientation": "v",
         "showlegend": true,
         "type": "scatter",
         "x": [
          142.97727272727272
         ],
         "xaxis": "x",
         "y": [
          1189.738052966412
         ],
         "yaxis": "y"
        },
        {
         "hovertemplate": "<b>%{hovertext}</b><br><br>place_name=Villa Luro<br>surface_total_in_m2=%{x}<br>price_usd_per_m2=%{y}<br>Count=%{marker.size}<extra></extra>",
         "hovertext": [
          "Villa Luro"
         ],
         "legendgroup": "Villa Luro",
         "marker": {
          "color": "#ab63fa",
          "opacity": 0.6,
          "size": [
           384
          ],
          "sizemode": "area",
          "sizeref": 6.8,
          "symbol": "circle"
         },
         "mode": "markers",
         "name": "Villa Luro",
         "orientation": "v",
         "showlegend": true,
         "type": "scatter",
         "x": [
          101.75686274509803
         ],
         "xaxis": "x",
         "y": [
          2284.2909498655786
         ],
         "yaxis": "y"
        },
        {
         "hovertemplate": "<b>%{hovertext}</b><br><br>place_name=Villa Ortuzar<br>surface_total_in_m2=%{x}<br>price_usd_per_m2=%{y}<br>Count=%{marker.size}<extra></extra>",
         "hovertext": [
          "Villa Ortuzar"
         ],
         "legendgroup": "Villa Ortuzar",
         "marker": {
          "color": "#FFA15A",
          "opacity": 0.6,
          "size": [
           84
          ],
          "sizemode": "area",
          "sizeref": 6.8,
          "symbol": "circle"
         },
         "mode": "markers",
         "name": "Villa Ortuzar",
         "orientation": "v",
         "showlegend": true,
         "type": "scatter",
         "x": [
          190.67105263157896
         ],
         "xaxis": "x",
         "y": [
          2333.8465691536535
         ],
         "yaxis": "y"
        },
        {
         "hovertemplate": "<b>%{hovertext}</b><br><br>place_name=Villa Pueyrredón<br>surface_total_in_m2=%{x}<br>price_usd_per_m2=%{y}<br>Count=%{marker.size}<extra></extra>",
         "hovertext": [
          "Villa Pueyrredón"
         ],
         "legendgroup": "Villa Pueyrredón",
         "marker": {
          "color": "#19d3f3",
          "opacity": 0.6,
          "size": [
           158
          ],
          "sizemode": "area",
          "sizeref": 6.8,
          "symbol": "circle"
         },
         "mode": "markers",
         "name": "Villa Pueyrredón",
         "orientation": "v",
         "showlegend": true,
         "type": "scatter",
         "x": [
          106.9126213592233
         ],
         "xaxis": "x",
         "y": [
          1952.8946601146897
         ],
         "yaxis": "y"
        },
        {
         "hovertemplate": "<b>%{hovertext}</b><br><br>place_name=Villa Real<br>surface_total_in_m2=%{x}<br>price_usd_per_m2=%{y}<br>Count=%{marker.size}<extra></extra>",
         "hovertext": [
          "Villa Real"
         ],
         "legendgroup": "Villa Real",
         "marker": {
          "color": "#FF6692",
          "opacity": 0.6,
          "size": [
           37
          ],
          "sizemode": "area",
          "sizeref": 6.8,
          "symbol": "circle"
         },
         "mode": "markers",
         "name": "Villa Real",
         "orientation": "v",
         "showlegend": true,
         "type": "scatter",
         "x": [
          153.88888888888889
         ],
         "xaxis": "x",
         "y": [
          1467.5776188433051
         ],
         "yaxis": "y"
        },
        {
         "hovertemplate": "<b>%{hovertext}</b><br><br>place_name=Villa Riachuelo<br>surface_total_in_m2=%{x}<br>price_usd_per_m2=%{y}<br>Count=%{marker.size}<extra></extra>",
         "hovertext": [
          "Villa Riachuelo"
         ],
         "legendgroup": "Villa Riachuelo",
         "marker": {
          "color": "#B6E880",
          "opacity": 0.6,
          "size": [
           6
          ],
          "sizemode": "area",
          "sizeref": 6.8,
          "symbol": "circle"
         },
         "mode": "markers",
         "name": "Villa Riachuelo",
         "orientation": "v",
         "showlegend": true,
         "type": "scatter",
         "x": [
          226
         ],
         "xaxis": "x",
         "y": [
          1110.6907664284715
         ],
         "yaxis": "y"
        },
        {
         "hovertemplate": "<b>%{hovertext}</b><br><br>place_name=Villa Santa Rita<br>surface_total_in_m2=%{x}<br>price_usd_per_m2=%{y}<br>Count=%{marker.size}<extra></extra>",
         "hovertext": [
          "Villa Santa Rita"
         ],
         "legendgroup": "Villa Santa Rita",
         "marker": {
          "color": "#FF97FF",
          "opacity": 0.6,
          "size": [
           56
          ],
          "sizemode": "area",
          "sizeref": 6.8,
          "symbol": "circle"
         },
         "mode": "markers",
         "name": "Villa Santa Rita",
         "orientation": "v",
         "showlegend": true,
         "type": "scatter",
         "x": [
          129.42307692307693
         ],
         "xaxis": "x",
         "y": [
          1871.3499061953482
         ],
         "yaxis": "y"
        },
        {
         "hovertemplate": "<b>%{hovertext}</b><br><br>place_name=Villa Soldati<br>surface_total_in_m2=%{x}<br>price_usd_per_m2=%{y}<br>Count=%{marker.size}<extra></extra>",
         "hovertext": [
          "Villa Soldati"
         ],
         "legendgroup": "Villa Soldati",
         "marker": {
          "color": "#FECB52",
          "opacity": 0.6,
          "size": [
           14
          ],
          "sizemode": "area",
          "sizeref": 6.8,
          "symbol": "circle"
         },
         "mode": "markers",
         "name": "Villa Soldati",
         "orientation": "v",
         "showlegend": true,
         "type": "scatter",
         "x": [
          3313.6666666666665
         ],
         "xaxis": "x",
         "y": [
          736.9293993187906
         ],
         "yaxis": "y"
        },
        {
         "hovertemplate": "<b>%{hovertext}</b><br><br>place_name=Villa Urquiza<br>surface_total_in_m2=%{x}<br>price_usd_per_m2=%{y}<br>Count=%{marker.size}<extra></extra>",
         "hovertext": [
          "Villa Urquiza"
         ],
         "legendgroup": "Villa Urquiza",
         "marker": {
          "color": "#636efa",
          "opacity": 0.6,
          "size": [
           1415
          ],
          "sizemode": "area",
          "sizeref": 6.8,
          "symbol": "circle"
         },
         "mode": "markers",
         "name": "Villa Urquiza",
         "orientation": "v",
         "showlegend": true,
         "type": "scatter",
         "x": [
          72.77738825591587
         ],
         "xaxis": "x",
         "y": [
          2501.5825947597236
         ],
         "yaxis": "y"
        },
        {
         "hovertemplate": "<b>%{hovertext}</b><br><br>place_name=Villa del Parque<br>surface_total_in_m2=%{x}<br>price_usd_per_m2=%{y}<br>Count=%{marker.size}<extra></extra>",
         "hovertext": [
          "Villa del Parque"
         ],
         "legendgroup": "Villa del Parque",
         "marker": {
          "color": "#EF553B",
          "opacity": 0.6,
          "size": [
           433
          ],
          "sizemode": "area",
          "sizeref": 6.8,
          "symbol": "circle"
         },
         "mode": "markers",
         "name": "Villa del Parque",
         "orientation": "v",
         "showlegend": true,
         "type": "scatter",
         "x": [
          95.403125
         ],
         "xaxis": "x",
         "y": [
          2183.736413529507
         ],
         "yaxis": "y"
        }
       ],
       "layout": {
        "height": 700,
        "legend": {
         "itemsizing": "constant",
         "title": {
          "text": "place_name"
         },
         "tracegroupgap": 0
        },
        "margin": {
         "t": 60
        },
        "template": {
         "data": {
          "bar": [
           {
            "error_x": {
             "color": "#2a3f5f"
            },
            "error_y": {
             "color": "#2a3f5f"
            },
            "marker": {
             "line": {
              "color": "#E5ECF6",
              "width": 0.5
             }
            },
            "type": "bar"
           }
          ],
          "barpolar": [
           {
            "marker": {
             "line": {
              "color": "#E5ECF6",
              "width": 0.5
             }
            },
            "type": "barpolar"
           }
          ],
          "carpet": [
           {
            "aaxis": {
             "endlinecolor": "#2a3f5f",
             "gridcolor": "white",
             "linecolor": "white",
             "minorgridcolor": "white",
             "startlinecolor": "#2a3f5f"
            },
            "baxis": {
             "endlinecolor": "#2a3f5f",
             "gridcolor": "white",
             "linecolor": "white",
             "minorgridcolor": "white",
             "startlinecolor": "#2a3f5f"
            },
            "type": "carpet"
           }
          ],
          "choropleth": [
           {
            "colorbar": {
             "outlinewidth": 0,
             "ticks": ""
            },
            "type": "choropleth"
           }
          ],
          "contour": [
           {
            "colorbar": {
             "outlinewidth": 0,
             "ticks": ""
            },
            "colorscale": [
             [
              0,
              "#0d0887"
             ],
             [
              0.1111111111111111,
              "#46039f"
             ],
             [
              0.2222222222222222,
              "#7201a8"
             ],
             [
              0.3333333333333333,
              "#9c179e"
             ],
             [
              0.4444444444444444,
              "#bd3786"
             ],
             [
              0.5555555555555556,
              "#d8576b"
             ],
             [
              0.6666666666666666,
              "#ed7953"
             ],
             [
              0.7777777777777778,
              "#fb9f3a"
             ],
             [
              0.8888888888888888,
              "#fdca26"
             ],
             [
              1,
              "#f0f921"
             ]
            ],
            "type": "contour"
           }
          ],
          "contourcarpet": [
           {
            "colorbar": {
             "outlinewidth": 0,
             "ticks": ""
            },
            "type": "contourcarpet"
           }
          ],
          "heatmap": [
           {
            "colorbar": {
             "outlinewidth": 0,
             "ticks": ""
            },
            "colorscale": [
             [
              0,
              "#0d0887"
             ],
             [
              0.1111111111111111,
              "#46039f"
             ],
             [
              0.2222222222222222,
              "#7201a8"
             ],
             [
              0.3333333333333333,
              "#9c179e"
             ],
             [
              0.4444444444444444,
              "#bd3786"
             ],
             [
              0.5555555555555556,
              "#d8576b"
             ],
             [
              0.6666666666666666,
              "#ed7953"
             ],
             [
              0.7777777777777778,
              "#fb9f3a"
             ],
             [
              0.8888888888888888,
              "#fdca26"
             ],
             [
              1,
              "#f0f921"
             ]
            ],
            "type": "heatmap"
           }
          ],
          "heatmapgl": [
           {
            "colorbar": {
             "outlinewidth": 0,
             "ticks": ""
            },
            "colorscale": [
             [
              0,
              "#0d0887"
             ],
             [
              0.1111111111111111,
              "#46039f"
             ],
             [
              0.2222222222222222,
              "#7201a8"
             ],
             [
              0.3333333333333333,
              "#9c179e"
             ],
             [
              0.4444444444444444,
              "#bd3786"
             ],
             [
              0.5555555555555556,
              "#d8576b"
             ],
             [
              0.6666666666666666,
              "#ed7953"
             ],
             [
              0.7777777777777778,
              "#fb9f3a"
             ],
             [
              0.8888888888888888,
              "#fdca26"
             ],
             [
              1,
              "#f0f921"
             ]
            ],
            "type": "heatmapgl"
           }
          ],
          "histogram": [
           {
            "marker": {
             "colorbar": {
              "outlinewidth": 0,
              "ticks": ""
             }
            },
            "type": "histogram"
           }
          ],
          "histogram2d": [
           {
            "colorbar": {
             "outlinewidth": 0,
             "ticks": ""
            },
            "colorscale": [
             [
              0,
              "#0d0887"
             ],
             [
              0.1111111111111111,
              "#46039f"
             ],
             [
              0.2222222222222222,
              "#7201a8"
             ],
             [
              0.3333333333333333,
              "#9c179e"
             ],
             [
              0.4444444444444444,
              "#bd3786"
             ],
             [
              0.5555555555555556,
              "#d8576b"
             ],
             [
              0.6666666666666666,
              "#ed7953"
             ],
             [
              0.7777777777777778,
              "#fb9f3a"
             ],
             [
              0.8888888888888888,
              "#fdca26"
             ],
             [
              1,
              "#f0f921"
             ]
            ],
            "type": "histogram2d"
           }
          ],
          "histogram2dcontour": [
           {
            "colorbar": {
             "outlinewidth": 0,
             "ticks": ""
            },
            "colorscale": [
             [
              0,
              "#0d0887"
             ],
             [
              0.1111111111111111,
              "#46039f"
             ],
             [
              0.2222222222222222,
              "#7201a8"
             ],
             [
              0.3333333333333333,
              "#9c179e"
             ],
             [
              0.4444444444444444,
              "#bd3786"
             ],
             [
              0.5555555555555556,
              "#d8576b"
             ],
             [
              0.6666666666666666,
              "#ed7953"
             ],
             [
              0.7777777777777778,
              "#fb9f3a"
             ],
             [
              0.8888888888888888,
              "#fdca26"
             ],
             [
              1,
              "#f0f921"
             ]
            ],
            "type": "histogram2dcontour"
           }
          ],
          "mesh3d": [
           {
            "colorbar": {
             "outlinewidth": 0,
             "ticks": ""
            },
            "type": "mesh3d"
           }
          ],
          "parcoords": [
           {
            "line": {
             "colorbar": {
              "outlinewidth": 0,
              "ticks": ""
             }
            },
            "type": "parcoords"
           }
          ],
          "pie": [
           {
            "automargin": true,
            "type": "pie"
           }
          ],
          "scatter": [
           {
            "marker": {
             "colorbar": {
              "outlinewidth": 0,
              "ticks": ""
             }
            },
            "type": "scatter"
           }
          ],
          "scatter3d": [
           {
            "line": {
             "colorbar": {
              "outlinewidth": 0,
              "ticks": ""
             }
            },
            "marker": {
             "colorbar": {
              "outlinewidth": 0,
              "ticks": ""
             }
            },
            "type": "scatter3d"
           }
          ],
          "scattercarpet": [
           {
            "marker": {
             "colorbar": {
              "outlinewidth": 0,
              "ticks": ""
             }
            },
            "type": "scattercarpet"
           }
          ],
          "scattergeo": [
           {
            "marker": {
             "colorbar": {
              "outlinewidth": 0,
              "ticks": ""
             }
            },
            "type": "scattergeo"
           }
          ],
          "scattergl": [
           {
            "marker": {
             "colorbar": {
              "outlinewidth": 0,
              "ticks": ""
             }
            },
            "type": "scattergl"
           }
          ],
          "scattermapbox": [
           {
            "marker": {
             "colorbar": {
              "outlinewidth": 0,
              "ticks": ""
             }
            },
            "type": "scattermapbox"
           }
          ],
          "scatterpolar": [
           {
            "marker": {
             "colorbar": {
              "outlinewidth": 0,
              "ticks": ""
             }
            },
            "type": "scatterpolar"
           }
          ],
          "scatterpolargl": [
           {
            "marker": {
             "colorbar": {
              "outlinewidth": 0,
              "ticks": ""
             }
            },
            "type": "scatterpolargl"
           }
          ],
          "scatterternary": [
           {
            "marker": {
             "colorbar": {
              "outlinewidth": 0,
              "ticks": ""
             }
            },
            "type": "scatterternary"
           }
          ],
          "surface": [
           {
            "colorbar": {
             "outlinewidth": 0,
             "ticks": ""
            },
            "colorscale": [
             [
              0,
              "#0d0887"
             ],
             [
              0.1111111111111111,
              "#46039f"
             ],
             [
              0.2222222222222222,
              "#7201a8"
             ],
             [
              0.3333333333333333,
              "#9c179e"
             ],
             [
              0.4444444444444444,
              "#bd3786"
             ],
             [
              0.5555555555555556,
              "#d8576b"
             ],
             [
              0.6666666666666666,
              "#ed7953"
             ],
             [
              0.7777777777777778,
              "#fb9f3a"
             ],
             [
              0.8888888888888888,
              "#fdca26"
             ],
             [
              1,
              "#f0f921"
             ]
            ],
            "type": "surface"
           }
          ],
          "table": [
           {
            "cells": {
             "fill": {
              "color": "#EBF0F8"
             },
             "line": {
              "color": "white"
             }
            },
            "header": {
             "fill": {
              "color": "#C8D4E3"
             },
             "line": {
              "color": "white"
             }
            },
            "type": "table"
           }
          ]
         },
         "layout": {
          "annotationdefaults": {
           "arrowcolor": "#2a3f5f",
           "arrowhead": 0,
           "arrowwidth": 1
          },
          "autotypenumbers": "strict",
          "coloraxis": {
           "colorbar": {
            "outlinewidth": 0,
            "ticks": ""
           }
          },
          "colorscale": {
           "diverging": [
            [
             0,
             "#8e0152"
            ],
            [
             0.1,
             "#c51b7d"
            ],
            [
             0.2,
             "#de77ae"
            ],
            [
             0.3,
             "#f1b6da"
            ],
            [
             0.4,
             "#fde0ef"
            ],
            [
             0.5,
             "#f7f7f7"
            ],
            [
             0.6,
             "#e6f5d0"
            ],
            [
             0.7,
             "#b8e186"
            ],
            [
             0.8,
             "#7fbc41"
            ],
            [
             0.9,
             "#4d9221"
            ],
            [
             1,
             "#276419"
            ]
           ],
           "sequential": [
            [
             0,
             "#0d0887"
            ],
            [
             0.1111111111111111,
             "#46039f"
            ],
            [
             0.2222222222222222,
             "#7201a8"
            ],
            [
             0.3333333333333333,
             "#9c179e"
            ],
            [
             0.4444444444444444,
             "#bd3786"
            ],
            [
             0.5555555555555556,
             "#d8576b"
            ],
            [
             0.6666666666666666,
             "#ed7953"
            ],
            [
             0.7777777777777778,
             "#fb9f3a"
            ],
            [
             0.8888888888888888,
             "#fdca26"
            ],
            [
             1,
             "#f0f921"
            ]
           ],
           "sequentialminus": [
            [
             0,
             "#0d0887"
            ],
            [
             0.1111111111111111,
             "#46039f"
            ],
            [
             0.2222222222222222,
             "#7201a8"
            ],
            [
             0.3333333333333333,
             "#9c179e"
            ],
            [
             0.4444444444444444,
             "#bd3786"
            ],
            [
             0.5555555555555556,
             "#d8576b"
            ],
            [
             0.6666666666666666,
             "#ed7953"
            ],
            [
             0.7777777777777778,
             "#fb9f3a"
            ],
            [
             0.8888888888888888,
             "#fdca26"
            ],
            [
             1,
             "#f0f921"
            ]
           ]
          },
          "colorway": [
           "#636efa",
           "#EF553B",
           "#00cc96",
           "#ab63fa",
           "#FFA15A",
           "#19d3f3",
           "#FF6692",
           "#B6E880",
           "#FF97FF",
           "#FECB52"
          ],
          "font": {
           "color": "#2a3f5f"
          },
          "geo": {
           "bgcolor": "white",
           "lakecolor": "white",
           "landcolor": "#E5ECF6",
           "showlakes": true,
           "showland": true,
           "subunitcolor": "white"
          },
          "hoverlabel": {
           "align": "left"
          },
          "hovermode": "closest",
          "mapbox": {
           "style": "light"
          },
          "paper_bgcolor": "white",
          "plot_bgcolor": "#E5ECF6",
          "polar": {
           "angularaxis": {
            "gridcolor": "white",
            "linecolor": "white",
            "ticks": ""
           },
           "bgcolor": "#E5ECF6",
           "radialaxis": {
            "gridcolor": "white",
            "linecolor": "white",
            "ticks": ""
           }
          },
          "scene": {
           "xaxis": {
            "backgroundcolor": "#E5ECF6",
            "gridcolor": "white",
            "gridwidth": 2,
            "linecolor": "white",
            "showbackground": true,
            "ticks": "",
            "zerolinecolor": "white"
           },
           "yaxis": {
            "backgroundcolor": "#E5ECF6",
            "gridcolor": "white",
            "gridwidth": 2,
            "linecolor": "white",
            "showbackground": true,
            "ticks": "",
            "zerolinecolor": "white"
           },
           "zaxis": {
            "backgroundcolor": "#E5ECF6",
            "gridcolor": "white",
            "gridwidth": 2,
            "linecolor": "white",
            "showbackground": true,
            "ticks": "",
            "zerolinecolor": "white"
           }
          },
          "shapedefaults": {
           "line": {
            "color": "#2a3f5f"
           }
          },
          "ternary": {
           "aaxis": {
            "gridcolor": "white",
            "linecolor": "white",
            "ticks": ""
           },
           "baxis": {
            "gridcolor": "white",
            "linecolor": "white",
            "ticks": ""
           },
           "bgcolor": "#E5ECF6",
           "caxis": {
            "gridcolor": "white",
            "linecolor": "white",
            "ticks": ""
           }
          },
          "title": {
           "x": 0.05
          },
          "xaxis": {
           "automargin": true,
           "gridcolor": "white",
           "linecolor": "white",
           "ticks": "",
           "title": {
            "standoff": 15
           },
           "zerolinecolor": "white",
           "zerolinewidth": 2
          },
          "yaxis": {
           "automargin": true,
           "gridcolor": "white",
           "linecolor": "white",
           "ticks": "",
           "title": {
            "standoff": 15
           },
           "zerolinecolor": "white",
           "zerolinewidth": 2
          }
         }
        },
        "width": 700,
        "xaxis": {
         "anchor": "y",
         "domain": [
          0,
          1
         ],
         "rangeslider": {
          "visible": true
         },
         "title": {
          "text": "surface_total_in_m2"
         }
        },
        "yaxis": {
         "anchor": "x",
         "domain": [
          0,
          1
         ],
         "title": {
          "text": "price_usd_per_m2"
         }
        }
       }
      },
      "text/html": [
       "<div>                            <div id=\"7062440c-3dad-4063-b9f3-35361e9b38cb\" class=\"plotly-graph-div\" style=\"height:700px; width:700px;\"></div>            <script type=\"text/javascript\">                require([\"plotly\"], function(Plotly) {                    window.PLOTLYENV=window.PLOTLYENV || {};                                    if (document.getElementById(\"7062440c-3dad-4063-b9f3-35361e9b38cb\")) {                    Plotly.newPlot(                        \"7062440c-3dad-4063-b9f3-35361e9b38cb\",                        [{\"hovertemplate\": \"<b>%{hovertext}</b><br><br>place_name=Abasto<br>surface_total_in_m2=%{x}<br>price_usd_per_m2=%{y}<br>Count=%{marker.size}<extra></extra>\", \"hovertext\": [\"Abasto\"], \"legendgroup\": \"Abasto\", \"marker\": {\"color\": \"#636efa\", \"opacity\": 0.6, \"size\": [100], \"sizemode\": \"area\", \"sizeref\": 6.8, \"symbol\": \"circle\"}, \"mode\": \"markers\", \"name\": \"Abasto\", \"orientation\": \"v\", \"showlegend\": true, \"type\": \"scatter\", \"x\": [95.04761904761905], \"xaxis\": \"x\", \"y\": [2048.205346895856], \"yaxis\": \"y\"}, {\"hovertemplate\": \"<b>%{hovertext}</b><br><br>place_name=Agronom\\u00eda<br>surface_total_in_m2=%{x}<br>price_usd_per_m2=%{y}<br>Count=%{marker.size}<extra></extra>\", \"hovertext\": [\"Agronom\\u00eda\"], \"legendgroup\": \"Agronom\\u00eda\", \"marker\": {\"color\": \"#EF553B\", \"opacity\": 0.6, \"size\": [40], \"sizemode\": \"area\", \"sizeref\": 6.8, \"symbol\": \"circle\"}, \"mode\": \"markers\", \"name\": \"Agronom\\u00eda\", \"orientation\": \"v\", \"showlegend\": true, \"type\": \"scatter\", \"x\": [102.5925925925926], \"xaxis\": \"x\", \"y\": [2065.2002284710907], \"yaxis\": \"y\"}, {\"hovertemplate\": \"<b>%{hovertext}</b><br><br>place_name=Almagro<br>surface_total_in_m2=%{x}<br>price_usd_per_m2=%{y}<br>Count=%{marker.size}<extra></extra>\", \"hovertext\": [\"Almagro\"], \"legendgroup\": \"Almagro\", \"marker\": {\"color\": \"#00cc96\", \"opacity\": 0.6, \"size\": [1056], \"sizemode\": \"area\", \"sizeref\": 6.8, \"symbol\": \"circle\"}, \"mode\": \"markers\", \"name\": \"Almagro\", \"orientation\": \"v\", \"showlegend\": true, \"type\": \"scatter\", \"x\": [79.34826427771557], \"xaxis\": \"x\", \"y\": [2762.905302883169], \"yaxis\": \"y\"}, {\"hovertemplate\": \"<b>%{hovertext}</b><br><br>place_name=Balvanera<br>surface_total_in_m2=%{x}<br>price_usd_per_m2=%{y}<br>Count=%{marker.size}<extra></extra>\", \"hovertext\": [\"Balvanera\"], \"legendgroup\": \"Balvanera\", \"marker\": {\"color\": \"#ab63fa\", \"opacity\": 0.6, \"size\": [642], \"sizemode\": \"area\", \"sizeref\": 6.8, \"symbol\": \"circle\"}, \"mode\": \"markers\", \"name\": \"Balvanera\", \"orientation\": \"v\", \"showlegend\": true, \"type\": \"scatter\", \"x\": [98.4070981210856], \"xaxis\": \"x\", \"y\": [1956.7553332891255], \"yaxis\": \"y\"}, {\"hovertemplate\": \"<b>%{hovertext}</b><br><br>place_name=Barracas<br>surface_total_in_m2=%{x}<br>price_usd_per_m2=%{y}<br>Count=%{marker.size}<extra></extra>\", \"hovertext\": [\"Barracas\"], \"legendgroup\": \"Barracas\", \"marker\": {\"color\": \"#FFA15A\", \"opacity\": 0.6, \"size\": [406], \"sizemode\": \"area\", \"sizeref\": 6.8, \"symbol\": \"circle\"}, \"mode\": \"markers\", \"name\": \"Barracas\", \"orientation\": \"v\", \"showlegend\": true, \"type\": \"scatter\", \"x\": [117.83333333333333], \"xaxis\": \"x\", \"y\": [1978.2237791535363], \"yaxis\": \"y\"}, {\"hovertemplate\": \"<b>%{hovertext}</b><br><br>place_name=Barrio Norte<br>surface_total_in_m2=%{x}<br>price_usd_per_m2=%{y}<br>Count=%{marker.size}<extra></extra>\", \"hovertext\": [\"Barrio Norte\"], \"legendgroup\": \"Barrio Norte\", \"marker\": {\"color\": \"#19d3f3\", \"opacity\": 0.6, \"size\": [1115], \"sizemode\": \"area\", \"sizeref\": 6.8, \"symbol\": \"circle\"}, \"mode\": \"markers\", \"name\": \"Barrio Norte\", \"orientation\": \"v\", \"showlegend\": true, \"type\": \"scatter\", \"x\": [104.19549641760491], \"xaxis\": \"x\", \"y\": [3079.00857377641], \"yaxis\": \"y\"}, {\"hovertemplate\": \"<b>%{hovertext}</b><br><br>place_name=Belgrano<br>surface_total_in_m2=%{x}<br>price_usd_per_m2=%{y}<br>Count=%{marker.size}<extra></extra>\", \"hovertext\": [\"Belgrano\"], \"legendgroup\": \"Belgrano\", \"marker\": {\"color\": \"#FF6692\", \"opacity\": 0.6, \"size\": [2720], \"sizemode\": \"area\", \"sizeref\": 6.8, \"symbol\": \"circle\"}, \"mode\": \"markers\", \"name\": \"Belgrano\", \"orientation\": \"v\", \"showlegend\": true, \"type\": \"scatter\", \"x\": [116.18981279930344], \"xaxis\": \"x\", \"y\": [3155.0845205481796], \"yaxis\": \"y\"}, {\"hovertemplate\": \"<b>%{hovertext}</b><br><br>place_name=Boca<br>surface_total_in_m2=%{x}<br>price_usd_per_m2=%{y}<br>Count=%{marker.size}<extra></extra>\", \"hovertext\": [\"Boca\"], \"legendgroup\": \"Boca\", \"marker\": {\"color\": \"#B6E880\", \"opacity\": 0.6, \"size\": [214], \"sizemode\": \"area\", \"sizeref\": 6.8, \"symbol\": \"circle\"}, \"mode\": \"markers\", \"name\": \"Boca\", \"orientation\": \"v\", \"showlegend\": true, \"type\": \"scatter\", \"x\": [161.4611111111111], \"xaxis\": \"x\", \"y\": [2086.1865755241492], \"yaxis\": \"y\"}, {\"hovertemplate\": \"<b>%{hovertext}</b><br><br>place_name=Boedo<br>surface_total_in_m2=%{x}<br>price_usd_per_m2=%{y}<br>Count=%{marker.size}<extra></extra>\", \"hovertext\": [\"Boedo\"], \"legendgroup\": \"Boedo\", \"marker\": {\"color\": \"#FF97FF\", \"opacity\": 0.6, \"size\": [847], \"sizemode\": \"area\", \"sizeref\": 6.8, \"symbol\": \"circle\"}, \"mode\": \"markers\", \"name\": \"Boedo\", \"orientation\": \"v\", \"showlegend\": true, \"type\": \"scatter\", \"x\": [49.00380228136882], \"xaxis\": \"x\", \"y\": [10641.022482702701], \"yaxis\": \"y\"}, {\"hovertemplate\": \"<b>%{hovertext}</b><br><br>place_name=Caballito<br>surface_total_in_m2=%{x}<br>price_usd_per_m2=%{y}<br>Count=%{marker.size}<extra></extra>\", \"hovertext\": [\"Caballito\"], \"legendgroup\": \"Caballito\", \"marker\": {\"color\": \"#FECB52\", \"opacity\": 0.6, \"size\": [2102], \"sizemode\": \"area\", \"sizeref\": 6.8, \"symbol\": \"circle\"}, \"mode\": \"markers\", \"name\": \"Caballito\", \"orientation\": \"v\", \"showlegend\": true, \"type\": \"scatter\", \"x\": [78.93662790697674], \"xaxis\": \"x\", \"y\": [2472.848729943744], \"yaxis\": \"y\"}, {\"hovertemplate\": \"<b>%{hovertext}</b><br><br>place_name=Capital Federal<br>surface_total_in_m2=%{x}<br>price_usd_per_m2=%{y}<br>Count=%{marker.size}<extra></extra>\", \"hovertext\": [\"Capital Federal\"], \"legendgroup\": \"Capital Federal\", \"marker\": {\"color\": \"#636efa\", \"opacity\": 0.6, \"size\": [1013], \"sizemode\": \"area\", \"sizeref\": 6.8, \"symbol\": \"circle\"}, \"mode\": \"markers\", \"name\": \"Capital Federal\", \"orientation\": \"v\", \"showlegend\": true, \"type\": \"scatter\", \"x\": [479.23481308411215], \"xaxis\": \"x\", \"y\": [1760.7236988647378], \"yaxis\": \"y\"}, {\"hovertemplate\": \"<b>%{hovertext}</b><br><br>place_name=Catalinas<br>surface_total_in_m2=%{x}<br>price_usd_per_m2=%{y}<br>Count=%{marker.size}<extra></extra>\", \"hovertext\": [\"Catalinas\"], \"legendgroup\": \"Catalinas\", \"marker\": {\"color\": \"#EF553B\", \"opacity\": 0.6, \"size\": [4], \"sizemode\": \"area\", \"sizeref\": 6.8, \"symbol\": \"circle\"}, \"mode\": \"markers\", \"name\": \"Catalinas\", \"orientation\": \"v\", \"showlegend\": true, \"type\": \"scatter\", \"x\": [130.66666666666666], \"xaxis\": \"x\", \"y\": [1833.333333333333], \"yaxis\": \"y\"}, {\"hovertemplate\": \"<b>%{hovertext}</b><br><br>place_name=Centro / Microcentro<br>surface_total_in_m2=%{x}<br>price_usd_per_m2=%{y}<br>Count=%{marker.size}<extra></extra>\", \"hovertext\": [\"Centro / Microcentro\"], \"legendgroup\": \"Centro / Microcentro\", \"marker\": {\"color\": \"#00cc96\", \"opacity\": 0.6, \"size\": [218], \"sizemode\": \"area\", \"sizeref\": 6.8, \"symbol\": \"circle\"}, \"mode\": \"markers\", \"name\": \"Centro / Microcentro\", \"orientation\": \"v\", \"showlegend\": true, \"type\": \"scatter\", \"x\": [128.63959390862945], \"xaxis\": \"x\", \"y\": [2539.6076696775967], \"yaxis\": \"y\"}, {\"hovertemplate\": \"<b>%{hovertext}</b><br><br>place_name=Chacarita<br>surface_total_in_m2=%{x}<br>price_usd_per_m2=%{y}<br>Count=%{marker.size}<extra></extra>\", \"hovertext\": [\"Chacarita\"], \"legendgroup\": \"Chacarita\", \"marker\": {\"color\": \"#ab63fa\", \"opacity\": 0.6, \"size\": [197], \"sizemode\": \"area\", \"sizeref\": 6.8, \"symbol\": \"circle\"}, \"mode\": \"markers\", \"name\": \"Chacarita\", \"orientation\": \"v\", \"showlegend\": true, \"type\": \"scatter\", \"x\": [68.51533742331289], \"xaxis\": \"x\", \"y\": [2190.4781401071773], \"yaxis\": \"y\"}, {\"hovertemplate\": \"<b>%{hovertext}</b><br><br>place_name=Coghlan<br>surface_total_in_m2=%{x}<br>price_usd_per_m2=%{y}<br>Count=%{marker.size}<extra></extra>\", \"hovertext\": [\"Coghlan\"], \"legendgroup\": \"Coghlan\", \"marker\": {\"color\": \"#FFA15A\", \"opacity\": 0.6, \"size\": [244], \"sizemode\": \"area\", \"sizeref\": 6.8, \"symbol\": \"circle\"}, \"mode\": \"markers\", \"name\": \"Coghlan\", \"orientation\": \"v\", \"showlegend\": true, \"type\": \"scatter\", \"x\": [78.54736842105264], \"xaxis\": \"x\", \"y\": [2515.5413586346754], \"yaxis\": \"y\"}, {\"hovertemplate\": \"<b>%{hovertext}</b><br><br>place_name=Colegiales<br>surface_total_in_m2=%{x}<br>price_usd_per_m2=%{y}<br>Count=%{marker.size}<extra></extra>\", \"hovertext\": [\"Colegiales\"], \"legendgroup\": \"Colegiales\", \"marker\": {\"color\": \"#19d3f3\", \"opacity\": 0.6, \"size\": [343], \"sizemode\": \"area\", \"sizeref\": 6.8, \"symbol\": \"circle\"}, \"mode\": \"markers\", \"name\": \"Colegiales\", \"orientation\": \"v\", \"showlegend\": true, \"type\": \"scatter\", \"x\": [83.97254901960784], \"xaxis\": \"x\", \"y\": [2531.6692083190997], \"yaxis\": \"y\"}, {\"hovertemplate\": \"<b>%{hovertext}</b><br><br>place_name=Congreso<br>surface_total_in_m2=%{x}<br>price_usd_per_m2=%{y}<br>Count=%{marker.size}<extra></extra>\", \"hovertext\": [\"Congreso\"], \"legendgroup\": \"Congreso\", \"marker\": {\"color\": \"#FF6692\", \"opacity\": 0.6, \"size\": [296], \"sizemode\": \"area\", \"sizeref\": 6.8, \"symbol\": \"circle\"}, \"mode\": \"markers\", \"name\": \"Congreso\", \"orientation\": \"v\", \"showlegend\": true, \"type\": \"scatter\", \"x\": [77.525], \"xaxis\": \"x\", \"y\": [2610.954346946662], \"yaxis\": \"y\"}, {\"hovertemplate\": \"<b>%{hovertext}</b><br><br>place_name=Constituci\\u00f3n<br>surface_total_in_m2=%{x}<br>price_usd_per_m2=%{y}<br>Count=%{marker.size}<extra></extra>\", \"hovertext\": [\"Constituci\\u00f3n\"], \"legendgroup\": \"Constituci\\u00f3n\", \"marker\": {\"color\": \"#B6E880\", \"opacity\": 0.6, \"size\": [201], \"sizemode\": \"area\", \"sizeref\": 6.8, \"symbol\": \"circle\"}, \"mode\": \"markers\", \"name\": \"Constituci\\u00f3n\", \"orientation\": \"v\", \"showlegend\": true, \"type\": \"scatter\", \"x\": [75.22435897435898], \"xaxis\": \"x\", \"y\": [1782.0702931326564], \"yaxis\": \"y\"}, {\"hovertemplate\": \"<b>%{hovertext}</b><br><br>place_name=Flores<br>surface_total_in_m2=%{x}<br>price_usd_per_m2=%{y}<br>Count=%{marker.size}<extra></extra>\", \"hovertext\": [\"Flores\"], \"legendgroup\": \"Flores\", \"marker\": {\"color\": \"#FF97FF\", \"opacity\": 0.6, \"size\": [1246], \"sizemode\": \"area\", \"sizeref\": 6.8, \"symbol\": \"circle\"}, \"mode\": \"markers\", \"name\": \"Flores\", \"orientation\": \"v\", \"showlegend\": true, \"type\": \"scatter\", \"x\": [94.9375], \"xaxis\": \"x\", \"y\": [2159.8164702359236], \"yaxis\": \"y\"}, {\"hovertemplate\": \"<b>%{hovertext}</b><br><br>place_name=Floresta<br>surface_total_in_m2=%{x}<br>price_usd_per_m2=%{y}<br>Count=%{marker.size}<extra></extra>\", \"hovertext\": [\"Floresta\"], \"legendgroup\": \"Floresta\", \"marker\": {\"color\": \"#FECB52\", \"opacity\": 0.6, \"size\": [454], \"sizemode\": \"area\", \"sizeref\": 6.8, \"symbol\": \"circle\"}, \"mode\": \"markers\", \"name\": \"Floresta\", \"orientation\": \"v\", \"showlegend\": true, \"type\": \"scatter\", \"x\": [111.2282958199357], \"xaxis\": \"x\", \"y\": [1702.9829448224073], \"yaxis\": \"y\"}, {\"hovertemplate\": \"<b>%{hovertext}</b><br><br>place_name=Las Ca\\u00f1itas<br>surface_total_in_m2=%{x}<br>price_usd_per_m2=%{y}<br>Count=%{marker.size}<extra></extra>\", \"hovertext\": [\"Las Ca\\u00f1itas\"], \"legendgroup\": \"Las Ca\\u00f1itas\", \"marker\": {\"color\": \"#636efa\", \"opacity\": 0.6, \"size\": [140], \"sizemode\": \"area\", \"sizeref\": 6.8, \"symbol\": \"circle\"}, \"mode\": \"markers\", \"name\": \"Las Ca\\u00f1itas\", \"orientation\": \"v\", \"showlegend\": true, \"type\": \"scatter\", \"x\": [104.48148148148148], \"xaxis\": \"x\", \"y\": [3471.927437043364], \"yaxis\": \"y\"}, {\"hovertemplate\": \"<b>%{hovertext}</b><br><br>place_name=Liniers<br>surface_total_in_m2=%{x}<br>price_usd_per_m2=%{y}<br>Count=%{marker.size}<extra></extra>\", \"hovertext\": [\"Liniers\"], \"legendgroup\": \"Liniers\", \"marker\": {\"color\": \"#EF553B\", \"opacity\": 0.6, \"size\": [378], \"sizemode\": \"area\", \"sizeref\": 6.8, \"symbol\": \"circle\"}, \"mode\": \"markers\", \"name\": \"Liniers\", \"orientation\": \"v\", \"showlegend\": true, \"type\": \"scatter\", \"x\": [106.54310344827586], \"xaxis\": \"x\", \"y\": [1779.1709118088045], \"yaxis\": \"y\"}, {\"hovertemplate\": \"<b>%{hovertext}</b><br><br>place_name=Mataderos<br>surface_total_in_m2=%{x}<br>price_usd_per_m2=%{y}<br>Count=%{marker.size}<extra></extra>\", \"hovertext\": [\"Mataderos\"], \"legendgroup\": \"Mataderos\", \"marker\": {\"color\": \"#00cc96\", \"opacity\": 0.6, \"size\": [411], \"sizemode\": \"area\", \"sizeref\": 6.8, \"symbol\": \"circle\"}, \"mode\": \"markers\", \"name\": \"Mataderos\", \"orientation\": \"v\", \"showlegend\": true, \"type\": \"scatter\", \"x\": [153.58680555555554], \"xaxis\": \"x\", \"y\": [1541.263800823851], \"yaxis\": \"y\"}, {\"hovertemplate\": \"<b>%{hovertext}</b><br><br>place_name=Monserrat<br>surface_total_in_m2=%{x}<br>price_usd_per_m2=%{y}<br>Count=%{marker.size}<extra></extra>\", \"hovertext\": [\"Monserrat\"], \"legendgroup\": \"Monserrat\", \"marker\": {\"color\": \"#ab63fa\", \"opacity\": 0.6, \"size\": [481], \"sizemode\": \"area\", \"sizeref\": 6.8, \"symbol\": \"circle\"}, \"mode\": \"markers\", \"name\": \"Monserrat\", \"orientation\": \"v\", \"showlegend\": true, \"type\": \"scatter\", \"x\": [105.66371681415929], \"xaxis\": \"x\", \"y\": [2097.730399561599], \"yaxis\": \"y\"}, {\"hovertemplate\": \"<b>%{hovertext}</b><br><br>place_name=Monte Castro<br>surface_total_in_m2=%{x}<br>price_usd_per_m2=%{y}<br>Count=%{marker.size}<extra></extra>\", \"hovertext\": [\"Monte Castro\"], \"legendgroup\": \"Monte Castro\", \"marker\": {\"color\": \"#FFA15A\", \"opacity\": 0.6, \"size\": [78], \"sizemode\": \"area\", \"sizeref\": 6.8, \"symbol\": \"circle\"}, \"mode\": \"markers\", \"name\": \"Monte Castro\", \"orientation\": \"v\", \"showlegend\": true, \"type\": \"scatter\", \"x\": [101.58333333333333], \"xaxis\": \"x\", \"y\": [1846.9873215728828], \"yaxis\": \"y\"}, {\"hovertemplate\": \"<b>%{hovertext}</b><br><br>place_name=Nu\\u00f1ez<br>surface_total_in_m2=%{x}<br>price_usd_per_m2=%{y}<br>Count=%{marker.size}<extra></extra>\", \"hovertext\": [\"Nu\\u00f1ez\"], \"legendgroup\": \"Nu\\u00f1ez\", \"marker\": {\"color\": \"#19d3f3\", \"opacity\": 0.6, \"size\": [704], \"sizemode\": \"area\", \"sizeref\": 6.8, \"symbol\": \"circle\"}, \"mode\": \"markers\", \"name\": \"Nu\\u00f1ez\", \"orientation\": \"v\", \"showlegend\": true, \"type\": \"scatter\", \"x\": [110.50735294117646], \"xaxis\": \"x\", \"y\": [3208.5597272686673], \"yaxis\": \"y\"}, {\"hovertemplate\": \"<b>%{hovertext}</b><br><br>place_name=Once<br>surface_total_in_m2=%{x}<br>price_usd_per_m2=%{y}<br>Count=%{marker.size}<extra></extra>\", \"hovertext\": [\"Once\"], \"legendgroup\": \"Once\", \"marker\": {\"color\": \"#FF6692\", \"opacity\": 0.6, \"size\": [175], \"sizemode\": \"area\", \"sizeref\": 6.8, \"symbol\": \"circle\"}, \"mode\": \"markers\", \"name\": \"Once\", \"orientation\": \"v\", \"showlegend\": true, \"type\": \"scatter\", \"x\": [122.97692307692307], \"xaxis\": \"x\", \"y\": [2162.037938720275], \"yaxis\": \"y\"}, {\"hovertemplate\": \"<b>%{hovertext}</b><br><br>place_name=Palermo<br>surface_total_in_m2=%{x}<br>price_usd_per_m2=%{y}<br>Count=%{marker.size}<extra></extra>\", \"hovertext\": [\"Palermo\"], \"legendgroup\": \"Palermo\", \"marker\": {\"color\": \"#B6E880\", \"opacity\": 0.6, \"size\": [2637], \"sizemode\": \"area\", \"sizeref\": 6.8, \"symbol\": \"circle\"}, \"mode\": \"markers\", \"name\": \"Palermo\", \"orientation\": \"v\", \"showlegend\": true, \"type\": \"scatter\", \"x\": [101.91570881226053], \"xaxis\": \"x\", \"y\": [3396.5561469269533], \"yaxis\": \"y\"}, {\"hovertemplate\": \"<b>%{hovertext}</b><br><br>place_name=Palermo Chico<br>surface_total_in_m2=%{x}<br>price_usd_per_m2=%{y}<br>Count=%{marker.size}<extra></extra>\", \"hovertext\": [\"Palermo Chico\"], \"legendgroup\": \"Palermo Chico\", \"marker\": {\"color\": \"#FF97FF\", \"opacity\": 0.6, \"size\": [224], \"sizemode\": \"area\", \"sizeref\": 6.8, \"symbol\": \"circle\"}, \"mode\": \"markers\", \"name\": \"Palermo Chico\", \"orientation\": \"v\", \"showlegend\": true, \"type\": \"scatter\", \"x\": [200.24528301886792], \"xaxis\": \"x\", \"y\": [4814.622635273428], \"yaxis\": \"y\"}, {\"hovertemplate\": \"<b>%{hovertext}</b><br><br>place_name=Palermo Hollywood<br>surface_total_in_m2=%{x}<br>price_usd_per_m2=%{y}<br>Count=%{marker.size}<extra></extra>\", \"hovertext\": [\"Palermo Hollywood\"], \"legendgroup\": \"Palermo Hollywood\", \"marker\": {\"color\": \"#FECB52\", \"opacity\": 0.6, \"size\": [450], \"sizemode\": \"area\", \"sizeref\": 6.8, \"symbol\": \"circle\"}, \"mode\": \"markers\", \"name\": \"Palermo Hollywood\", \"orientation\": \"v\", \"showlegend\": true, \"type\": \"scatter\", \"x\": [79.04306220095694], \"xaxis\": \"x\", \"y\": [3207.8397138705814], \"yaxis\": \"y\"}, {\"hovertemplate\": \"<b>%{hovertext}</b><br><br>place_name=Palermo Soho<br>surface_total_in_m2=%{x}<br>price_usd_per_m2=%{y}<br>Count=%{marker.size}<extra></extra>\", \"hovertext\": [\"Palermo Soho\"], \"legendgroup\": \"Palermo Soho\", \"marker\": {\"color\": \"#636efa\", \"opacity\": 0.6, \"size\": [370], \"sizemode\": \"area\", \"sizeref\": 6.8, \"symbol\": \"circle\"}, \"mode\": \"markers\", \"name\": \"Palermo Soho\", \"orientation\": \"v\", \"showlegend\": true, \"type\": \"scatter\", \"x\": [72.86039886039886], \"xaxis\": \"x\", \"y\": [3219.476221204838], \"yaxis\": \"y\"}, {\"hovertemplate\": \"<b>%{hovertext}</b><br><br>place_name=Palermo Viejo<br>surface_total_in_m2=%{x}<br>price_usd_per_m2=%{y}<br>Count=%{marker.size}<extra></extra>\", \"hovertext\": [\"Palermo Viejo\"], \"legendgroup\": \"Palermo Viejo\", \"marker\": {\"color\": \"#EF553B\", \"opacity\": 0.6, \"size\": [40], \"sizemode\": \"area\", \"sizeref\": 6.8, \"symbol\": \"circle\"}, \"mode\": \"markers\", \"name\": \"Palermo Viejo\", \"orientation\": \"v\", \"showlegend\": true, \"type\": \"scatter\", \"x\": [122.83783783783784], \"xaxis\": \"x\", \"y\": [3065.841010387682], \"yaxis\": \"y\"}, {\"hovertemplate\": \"<b>%{hovertext}</b><br><br>place_name=Parque Avellaneda<br>surface_total_in_m2=%{x}<br>price_usd_per_m2=%{y}<br>Count=%{marker.size}<extra></extra>\", \"hovertext\": [\"Parque Avellaneda\"], \"legendgroup\": \"Parque Avellaneda\", \"marker\": {\"color\": \"#00cc96\", \"opacity\": 0.6, \"size\": [55], \"sizemode\": \"area\", \"sizeref\": 6.8, \"symbol\": \"circle\"}, \"mode\": \"markers\", \"name\": \"Parque Avellaneda\", \"orientation\": \"v\", \"showlegend\": true, \"type\": \"scatter\", \"x\": [126.3225806451613], \"xaxis\": \"x\", \"y\": [1379.9507077756994], \"yaxis\": \"y\"}, {\"hovertemplate\": \"<b>%{hovertext}</b><br><br>place_name=Parque Centenario<br>surface_total_in_m2=%{x}<br>price_usd_per_m2=%{y}<br>Count=%{marker.size}<extra></extra>\", \"hovertext\": [\"Parque Centenario\"], \"legendgroup\": \"Parque Centenario\", \"marker\": {\"color\": \"#ab63fa\", \"opacity\": 0.6, \"size\": [63], \"sizemode\": \"area\", \"sizeref\": 6.8, \"symbol\": \"circle\"}, \"mode\": \"markers\", \"name\": \"Parque Centenario\", \"orientation\": \"v\", \"showlegend\": true, \"type\": \"scatter\", \"x\": [89.84482758620689], \"xaxis\": \"x\", \"y\": [2261.541160485573], \"yaxis\": \"y\"}, {\"hovertemplate\": \"<b>%{hovertext}</b><br><br>place_name=Parque Chacabuco<br>surface_total_in_m2=%{x}<br>price_usd_per_m2=%{y}<br>Count=%{marker.size}<extra></extra>\", \"hovertext\": [\"Parque Chacabuco\"], \"legendgroup\": \"Parque Chacabuco\", \"marker\": {\"color\": \"#FFA15A\", \"opacity\": 0.6, \"size\": [144], \"sizemode\": \"area\", \"sizeref\": 6.8, \"symbol\": \"circle\"}, \"mode\": \"markers\", \"name\": \"Parque Chacabuco\", \"orientation\": \"v\", \"showlegend\": true, \"type\": \"scatter\", \"x\": [135.4891304347826], \"xaxis\": \"x\", \"y\": [1691.2617670827508], \"yaxis\": \"y\"}, {\"hovertemplate\": \"<b>%{hovertext}</b><br><br>place_name=Parque Chas<br>surface_total_in_m2=%{x}<br>price_usd_per_m2=%{y}<br>Count=%{marker.size}<extra></extra>\", \"hovertext\": [\"Parque Chas\"], \"legendgroup\": \"Parque Chas\", \"marker\": {\"color\": \"#19d3f3\", \"opacity\": 0.6, \"size\": [44], \"sizemode\": \"area\", \"sizeref\": 6.8, \"symbol\": \"circle\"}, \"mode\": \"markers\", \"name\": \"Parque Chas\", \"orientation\": \"v\", \"showlegend\": true, \"type\": \"scatter\", \"x\": [87.66666666666667], \"xaxis\": \"x\", \"y\": [2024.507671261487], \"yaxis\": \"y\"}, {\"hovertemplate\": \"<b>%{hovertext}</b><br><br>place_name=Parque Patricios<br>surface_total_in_m2=%{x}<br>price_usd_per_m2=%{y}<br>Count=%{marker.size}<extra></extra>\", \"hovertext\": [\"Parque Patricios\"], \"legendgroup\": \"Parque Patricios\", \"marker\": {\"color\": \"#FF6692\", \"opacity\": 0.6, \"size\": [315], \"sizemode\": \"area\", \"sizeref\": 6.8, \"symbol\": \"circle\"}, \"mode\": \"markers\", \"name\": \"Parque Patricios\", \"orientation\": \"v\", \"showlegend\": true, \"type\": \"scatter\", \"x\": [145.95983935742973], \"xaxis\": \"x\", \"y\": [1917.5448378101912], \"yaxis\": \"y\"}, {\"hovertemplate\": \"<b>%{hovertext}</b><br><br>place_name=Paternal<br>surface_total_in_m2=%{x}<br>price_usd_per_m2=%{y}<br>Count=%{marker.size}<extra></extra>\", \"hovertext\": [\"Paternal\"], \"legendgroup\": \"Paternal\", \"marker\": {\"color\": \"#B6E880\", \"opacity\": 0.6, \"size\": [167], \"sizemode\": \"area\", \"sizeref\": 6.8, \"symbol\": \"circle\"}, \"mode\": \"markers\", \"name\": \"Paternal\", \"orientation\": \"v\", \"showlegend\": true, \"type\": \"scatter\", \"x\": [96.61682242990655], \"xaxis\": \"x\", \"y\": [1922.7312151134502], \"yaxis\": \"y\"}, {\"hovertemplate\": \"<b>%{hovertext}</b><br><br>place_name=Pompeya<br>surface_total_in_m2=%{x}<br>price_usd_per_m2=%{y}<br>Count=%{marker.size}<extra></extra>\", \"hovertext\": [\"Pompeya\"], \"legendgroup\": \"Pompeya\", \"marker\": {\"color\": \"#FF97FF\", \"opacity\": 0.6, \"size\": [64], \"sizemode\": \"area\", \"sizeref\": 6.8, \"symbol\": \"circle\"}, \"mode\": \"markers\", \"name\": \"Pompeya\", \"orientation\": \"v\", \"showlegend\": true, \"type\": \"scatter\", \"x\": [270.90909090909093], \"xaxis\": \"x\", \"y\": [1084.3397344659681], \"yaxis\": \"y\"}, {\"hovertemplate\": \"<b>%{hovertext}</b><br><br>place_name=Puerto Madero<br>surface_total_in_m2=%{x}<br>price_usd_per_m2=%{y}<br>Count=%{marker.size}<extra></extra>\", \"hovertext\": [\"Puerto Madero\"], \"legendgroup\": \"Puerto Madero\", \"marker\": {\"color\": \"#FECB52\", \"opacity\": 0.6, \"size\": [605], \"sizemode\": \"area\", \"sizeref\": 6.8, \"symbol\": \"circle\"}, \"mode\": \"markers\", \"name\": \"Puerto Madero\", \"orientation\": \"v\", \"showlegend\": true, \"type\": \"scatter\", \"x\": [152.97302504816955], \"xaxis\": \"x\", \"y\": [6018.913474782401], \"yaxis\": \"y\"}, {\"hovertemplate\": \"<b>%{hovertext}</b><br><br>place_name=Recoleta<br>surface_total_in_m2=%{x}<br>price_usd_per_m2=%{y}<br>Count=%{marker.size}<extra></extra>\", \"hovertext\": [\"Recoleta\"], \"legendgroup\": \"Recoleta\", \"marker\": {\"color\": \"#636efa\", \"opacity\": 0.6, \"size\": [1468], \"sizemode\": \"area\", \"sizeref\": 6.8, \"symbol\": \"circle\"}, \"mode\": \"markers\", \"name\": \"Recoleta\", \"orientation\": \"v\", \"showlegend\": true, \"type\": \"scatter\", \"x\": [125.92345276872965], \"xaxis\": \"x\", \"y\": [3379.338944385391], \"yaxis\": \"y\"}, {\"hovertemplate\": \"<b>%{hovertext}</b><br><br>place_name=Retiro<br>surface_total_in_m2=%{x}<br>price_usd_per_m2=%{y}<br>Count=%{marker.size}<extra></extra>\", \"hovertext\": [\"Retiro\"], \"legendgroup\": \"Retiro\", \"marker\": {\"color\": \"#EF553B\", \"opacity\": 0.6, \"size\": [244], \"sizemode\": \"area\", \"sizeref\": 6.8, \"symbol\": \"circle\"}, \"mode\": \"markers\", \"name\": \"Retiro\", \"orientation\": \"v\", \"showlegend\": true, \"type\": \"scatter\", \"x\": [133.16062176165804], \"xaxis\": \"x\", \"y\": [2984.4293403983984], \"yaxis\": \"y\"}, {\"hovertemplate\": \"<b>%{hovertext}</b><br><br>place_name=Saavedra<br>surface_total_in_m2=%{x}<br>price_usd_per_m2=%{y}<br>Count=%{marker.size}<extra></extra>\", \"hovertext\": [\"Saavedra\"], \"legendgroup\": \"Saavedra\", \"marker\": {\"color\": \"#00cc96\", \"opacity\": 0.6, \"size\": [512], \"sizemode\": \"area\", \"sizeref\": 6.8, \"symbol\": \"circle\"}, \"mode\": \"markers\", \"name\": \"Saavedra\", \"orientation\": \"v\", \"showlegend\": true, \"type\": \"scatter\", \"x\": [86.84223300970874], \"xaxis\": \"x\", \"y\": [2538.895484666419], \"yaxis\": \"y\"}, {\"hovertemplate\": \"<b>%{hovertext}</b><br><br>place_name=San Cristobal<br>surface_total_in_m2=%{x}<br>price_usd_per_m2=%{y}<br>Count=%{marker.size}<extra></extra>\", \"hovertext\": [\"San Cristobal\"], \"legendgroup\": \"San Cristobal\", \"marker\": {\"color\": \"#ab63fa\", \"opacity\": 0.6, \"size\": [606], \"sizemode\": \"area\", \"sizeref\": 6.8, \"symbol\": \"circle\"}, \"mode\": \"markers\", \"name\": \"San Cristobal\", \"orientation\": \"v\", \"showlegend\": true, \"type\": \"scatter\", \"x\": [75.33056133056132], \"xaxis\": \"x\", \"y\": [9845.533746287454], \"yaxis\": \"y\"}, {\"hovertemplate\": \"<b>%{hovertext}</b><br><br>place_name=San Nicol\\u00e1s<br>surface_total_in_m2=%{x}<br>price_usd_per_m2=%{y}<br>Count=%{marker.size}<extra></extra>\", \"hovertext\": [\"San Nicol\\u00e1s\"], \"legendgroup\": \"San Nicol\\u00e1s\", \"marker\": {\"color\": \"#FFA15A\", \"opacity\": 0.6, \"size\": [184], \"sizemode\": \"area\", \"sizeref\": 6.8, \"symbol\": \"circle\"}, \"mode\": \"markers\", \"name\": \"San Nicol\\u00e1s\", \"orientation\": \"v\", \"showlegend\": true, \"type\": \"scatter\", \"x\": [120.59848484848484], \"xaxis\": \"x\", \"y\": [2312.555678459933], \"yaxis\": \"y\"}, {\"hovertemplate\": \"<b>%{hovertext}</b><br><br>place_name=San Telmo<br>surface_total_in_m2=%{x}<br>price_usd_per_m2=%{y}<br>Count=%{marker.size}<extra></extra>\", \"hovertext\": [\"San Telmo\"], \"legendgroup\": \"San Telmo\", \"marker\": {\"color\": \"#19d3f3\", \"opacity\": 0.6, \"size\": [1089], \"sizemode\": \"area\", \"sizeref\": 6.8, \"symbol\": \"circle\"}, \"mode\": \"markers\", \"name\": \"San Telmo\", \"orientation\": \"v\", \"showlegend\": true, \"type\": \"scatter\", \"x\": [309.85930735930737], \"xaxis\": \"x\", \"y\": [2295.9630936493686], \"yaxis\": \"y\"}, {\"hovertemplate\": \"<b>%{hovertext}</b><br><br>place_name=Tribunales<br>surface_total_in_m2=%{x}<br>price_usd_per_m2=%{y}<br>Count=%{marker.size}<extra></extra>\", \"hovertext\": [\"Tribunales\"], \"legendgroup\": \"Tribunales\", \"marker\": {\"color\": \"#FF6692\", \"opacity\": 0.6, \"size\": [94], \"sizemode\": \"area\", \"sizeref\": 6.8, \"symbol\": \"circle\"}, \"mode\": \"markers\", \"name\": \"Tribunales\", \"orientation\": \"v\", \"showlegend\": true, \"type\": \"scatter\", \"x\": [96.16883116883118], \"xaxis\": \"x\", \"y\": [2148.794766859345], \"yaxis\": \"y\"}, {\"hovertemplate\": \"<b>%{hovertext}</b><br><br>place_name=Velez Sarsfield<br>surface_total_in_m2=%{x}<br>price_usd_per_m2=%{y}<br>Count=%{marker.size}<extra></extra>\", \"hovertext\": [\"Velez Sarsfield\"], \"legendgroup\": \"Velez Sarsfield\", \"marker\": {\"color\": \"#B6E880\", \"opacity\": 0.6, \"size\": [38], \"sizemode\": \"area\", \"sizeref\": 6.8, \"symbol\": \"circle\"}, \"mode\": \"markers\", \"name\": \"Velez Sarsfield\", \"orientation\": \"v\", \"showlegend\": true, \"type\": \"scatter\", \"x\": [154.74074074074073], \"xaxis\": \"x\", \"y\": [1597.5753256076982], \"yaxis\": \"y\"}, {\"hovertemplate\": \"<b>%{hovertext}</b><br><br>place_name=Versalles<br>surface_total_in_m2=%{x}<br>price_usd_per_m2=%{y}<br>Count=%{marker.size}<extra></extra>\", \"hovertext\": [\"Versalles\"], \"legendgroup\": \"Versalles\", \"marker\": {\"color\": \"#FF97FF\", \"opacity\": 0.6, \"size\": [55], \"sizemode\": \"area\", \"sizeref\": 6.8, \"symbol\": \"circle\"}, \"mode\": \"markers\", \"name\": \"Versalles\", \"orientation\": \"v\", \"showlegend\": true, \"type\": \"scatter\", \"x\": [158.41379310344828], \"xaxis\": \"x\", \"y\": [1542.3787767205465], \"yaxis\": \"y\"}, {\"hovertemplate\": \"<b>%{hovertext}</b><br><br>place_name=Villa Crespo<br>surface_total_in_m2=%{x}<br>price_usd_per_m2=%{y}<br>Count=%{marker.size}<extra></extra>\", \"hovertext\": [\"Villa Crespo\"], \"legendgroup\": \"Villa Crespo\", \"marker\": {\"color\": \"#FECB52\", \"opacity\": 0.6, \"size\": [1200], \"sizemode\": \"area\", \"sizeref\": 6.8, \"symbol\": \"circle\"}, \"mode\": \"markers\", \"name\": \"Villa Crespo\", \"orientation\": \"v\", \"showlegend\": true, \"type\": \"scatter\", \"x\": [74.12680115273776], \"xaxis\": \"x\", \"y\": [2520.9950054861984], \"yaxis\": \"y\"}, {\"hovertemplate\": \"<b>%{hovertext}</b><br><br>place_name=Villa Devoto<br>surface_total_in_m2=%{x}<br>price_usd_per_m2=%{y}<br>Count=%{marker.size}<extra></extra>\", \"hovertext\": [\"Villa Devoto\"], \"legendgroup\": \"Villa Devoto\", \"marker\": {\"color\": \"#636efa\", \"opacity\": 0.6, \"size\": [410], \"sizemode\": \"area\", \"sizeref\": 6.8, \"symbol\": \"circle\"}, \"mode\": \"markers\", \"name\": \"Villa Devoto\", \"orientation\": \"v\", \"showlegend\": true, \"type\": \"scatter\", \"x\": [122.54814814814814], \"xaxis\": \"x\", \"y\": [2193.6191513067783], \"yaxis\": \"y\"}, {\"hovertemplate\": \"<b>%{hovertext}</b><br><br>place_name=Villa General Mitre<br>surface_total_in_m2=%{x}<br>price_usd_per_m2=%{y}<br>Count=%{marker.size}<extra></extra>\", \"hovertext\": [\"Villa General Mitre\"], \"legendgroup\": \"Villa General Mitre\", \"marker\": {\"color\": \"#EF553B\", \"opacity\": 0.6, \"size\": [46], \"sizemode\": \"area\", \"sizeref\": 6.8, \"symbol\": \"circle\"}, \"mode\": \"markers\", \"name\": \"Villa General Mitre\", \"orientation\": \"v\", \"showlegend\": true, \"type\": \"scatter\", \"x\": [134.24324324324326], \"xaxis\": \"x\", \"y\": [1795.928867071242], \"yaxis\": \"y\"}, {\"hovertemplate\": \"<b>%{hovertext}</b><br><br>place_name=Villa Lugano<br>surface_total_in_m2=%{x}<br>price_usd_per_m2=%{y}<br>Count=%{marker.size}<extra></extra>\", \"hovertext\": [\"Villa Lugano\"], \"legendgroup\": \"Villa Lugano\", \"marker\": {\"color\": \"#00cc96\", \"opacity\": 0.6, \"size\": [203], \"sizemode\": \"area\", \"sizeref\": 6.8, \"symbol\": \"circle\"}, \"mode\": \"markers\", \"name\": \"Villa Lugano\", \"orientation\": \"v\", \"showlegend\": true, \"type\": \"scatter\", \"x\": [142.97727272727272], \"xaxis\": \"x\", \"y\": [1189.738052966412], \"yaxis\": \"y\"}, {\"hovertemplate\": \"<b>%{hovertext}</b><br><br>place_name=Villa Luro<br>surface_total_in_m2=%{x}<br>price_usd_per_m2=%{y}<br>Count=%{marker.size}<extra></extra>\", \"hovertext\": [\"Villa Luro\"], \"legendgroup\": \"Villa Luro\", \"marker\": {\"color\": \"#ab63fa\", \"opacity\": 0.6, \"size\": [384], \"sizemode\": \"area\", \"sizeref\": 6.8, \"symbol\": \"circle\"}, \"mode\": \"markers\", \"name\": \"Villa Luro\", \"orientation\": \"v\", \"showlegend\": true, \"type\": \"scatter\", \"x\": [101.75686274509803], \"xaxis\": \"x\", \"y\": [2284.2909498655786], \"yaxis\": \"y\"}, {\"hovertemplate\": \"<b>%{hovertext}</b><br><br>place_name=Villa Ortuzar<br>surface_total_in_m2=%{x}<br>price_usd_per_m2=%{y}<br>Count=%{marker.size}<extra></extra>\", \"hovertext\": [\"Villa Ortuzar\"], \"legendgroup\": \"Villa Ortuzar\", \"marker\": {\"color\": \"#FFA15A\", \"opacity\": 0.6, \"size\": [84], \"sizemode\": \"area\", \"sizeref\": 6.8, \"symbol\": \"circle\"}, \"mode\": \"markers\", \"name\": \"Villa Ortuzar\", \"orientation\": \"v\", \"showlegend\": true, \"type\": \"scatter\", \"x\": [190.67105263157896], \"xaxis\": \"x\", \"y\": [2333.8465691536535], \"yaxis\": \"y\"}, {\"hovertemplate\": \"<b>%{hovertext}</b><br><br>place_name=Villa Pueyrred\\u00f3n<br>surface_total_in_m2=%{x}<br>price_usd_per_m2=%{y}<br>Count=%{marker.size}<extra></extra>\", \"hovertext\": [\"Villa Pueyrred\\u00f3n\"], \"legendgroup\": \"Villa Pueyrred\\u00f3n\", \"marker\": {\"color\": \"#19d3f3\", \"opacity\": 0.6, \"size\": [158], \"sizemode\": \"area\", \"sizeref\": 6.8, \"symbol\": \"circle\"}, \"mode\": \"markers\", \"name\": \"Villa Pueyrred\\u00f3n\", \"orientation\": \"v\", \"showlegend\": true, \"type\": \"scatter\", \"x\": [106.9126213592233], \"xaxis\": \"x\", \"y\": [1952.8946601146897], \"yaxis\": \"y\"}, {\"hovertemplate\": \"<b>%{hovertext}</b><br><br>place_name=Villa Real<br>surface_total_in_m2=%{x}<br>price_usd_per_m2=%{y}<br>Count=%{marker.size}<extra></extra>\", \"hovertext\": [\"Villa Real\"], \"legendgroup\": \"Villa Real\", \"marker\": {\"color\": \"#FF6692\", \"opacity\": 0.6, \"size\": [37], \"sizemode\": \"area\", \"sizeref\": 6.8, \"symbol\": \"circle\"}, \"mode\": \"markers\", \"name\": \"Villa Real\", \"orientation\": \"v\", \"showlegend\": true, \"type\": \"scatter\", \"x\": [153.88888888888889], \"xaxis\": \"x\", \"y\": [1467.5776188433051], \"yaxis\": \"y\"}, {\"hovertemplate\": \"<b>%{hovertext}</b><br><br>place_name=Villa Riachuelo<br>surface_total_in_m2=%{x}<br>price_usd_per_m2=%{y}<br>Count=%{marker.size}<extra></extra>\", \"hovertext\": [\"Villa Riachuelo\"], \"legendgroup\": \"Villa Riachuelo\", \"marker\": {\"color\": \"#B6E880\", \"opacity\": 0.6, \"size\": [6], \"sizemode\": \"area\", \"sizeref\": 6.8, \"symbol\": \"circle\"}, \"mode\": \"markers\", \"name\": \"Villa Riachuelo\", \"orientation\": \"v\", \"showlegend\": true, \"type\": \"scatter\", \"x\": [226.0], \"xaxis\": \"x\", \"y\": [1110.6907664284715], \"yaxis\": \"y\"}, {\"hovertemplate\": \"<b>%{hovertext}</b><br><br>place_name=Villa Santa Rita<br>surface_total_in_m2=%{x}<br>price_usd_per_m2=%{y}<br>Count=%{marker.size}<extra></extra>\", \"hovertext\": [\"Villa Santa Rita\"], \"legendgroup\": \"Villa Santa Rita\", \"marker\": {\"color\": \"#FF97FF\", \"opacity\": 0.6, \"size\": [56], \"sizemode\": \"area\", \"sizeref\": 6.8, \"symbol\": \"circle\"}, \"mode\": \"markers\", \"name\": \"Villa Santa Rita\", \"orientation\": \"v\", \"showlegend\": true, \"type\": \"scatter\", \"x\": [129.42307692307693], \"xaxis\": \"x\", \"y\": [1871.3499061953482], \"yaxis\": \"y\"}, {\"hovertemplate\": \"<b>%{hovertext}</b><br><br>place_name=Villa Soldati<br>surface_total_in_m2=%{x}<br>price_usd_per_m2=%{y}<br>Count=%{marker.size}<extra></extra>\", \"hovertext\": [\"Villa Soldati\"], \"legendgroup\": \"Villa Soldati\", \"marker\": {\"color\": \"#FECB52\", \"opacity\": 0.6, \"size\": [14], \"sizemode\": \"area\", \"sizeref\": 6.8, \"symbol\": \"circle\"}, \"mode\": \"markers\", \"name\": \"Villa Soldati\", \"orientation\": \"v\", \"showlegend\": true, \"type\": \"scatter\", \"x\": [3313.6666666666665], \"xaxis\": \"x\", \"y\": [736.9293993187906], \"yaxis\": \"y\"}, {\"hovertemplate\": \"<b>%{hovertext}</b><br><br>place_name=Villa Urquiza<br>surface_total_in_m2=%{x}<br>price_usd_per_m2=%{y}<br>Count=%{marker.size}<extra></extra>\", \"hovertext\": [\"Villa Urquiza\"], \"legendgroup\": \"Villa Urquiza\", \"marker\": {\"color\": \"#636efa\", \"opacity\": 0.6, \"size\": [1415], \"sizemode\": \"area\", \"sizeref\": 6.8, \"symbol\": \"circle\"}, \"mode\": \"markers\", \"name\": \"Villa Urquiza\", \"orientation\": \"v\", \"showlegend\": true, \"type\": \"scatter\", \"x\": [72.77738825591587], \"xaxis\": \"x\", \"y\": [2501.5825947597236], \"yaxis\": \"y\"}, {\"hovertemplate\": \"<b>%{hovertext}</b><br><br>place_name=Villa del Parque<br>surface_total_in_m2=%{x}<br>price_usd_per_m2=%{y}<br>Count=%{marker.size}<extra></extra>\", \"hovertext\": [\"Villa del Parque\"], \"legendgroup\": \"Villa del Parque\", \"marker\": {\"color\": \"#EF553B\", \"opacity\": 0.6, \"size\": [433], \"sizemode\": \"area\", \"sizeref\": 6.8, \"symbol\": \"circle\"}, \"mode\": \"markers\", \"name\": \"Villa del Parque\", \"orientation\": \"v\", \"showlegend\": true, \"type\": \"scatter\", \"x\": [95.403125], \"xaxis\": \"x\", \"y\": [2183.736413529507], \"yaxis\": \"y\"}],                        {\"height\": 700, \"legend\": {\"itemsizing\": \"constant\", \"title\": {\"text\": \"place_name\"}, \"tracegroupgap\": 0}, \"margin\": {\"t\": 60}, \"template\": {\"data\": {\"bar\": [{\"error_x\": {\"color\": \"#2a3f5f\"}, \"error_y\": {\"color\": \"#2a3f5f\"}, \"marker\": {\"line\": {\"color\": \"#E5ECF6\", \"width\": 0.5}}, \"type\": \"bar\"}], \"barpolar\": [{\"marker\": {\"line\": {\"color\": \"#E5ECF6\", \"width\": 0.5}}, \"type\": \"barpolar\"}], \"carpet\": [{\"aaxis\": {\"endlinecolor\": \"#2a3f5f\", \"gridcolor\": \"white\", \"linecolor\": \"white\", \"minorgridcolor\": \"white\", \"startlinecolor\": \"#2a3f5f\"}, \"baxis\": {\"endlinecolor\": \"#2a3f5f\", \"gridcolor\": \"white\", \"linecolor\": \"white\", \"minorgridcolor\": \"white\", \"startlinecolor\": \"#2a3f5f\"}, \"type\": \"carpet\"}], \"choropleth\": [{\"colorbar\": {\"outlinewidth\": 0, \"ticks\": \"\"}, \"type\": \"choropleth\"}], \"contour\": [{\"colorbar\": {\"outlinewidth\": 0, \"ticks\": \"\"}, \"colorscale\": [[0.0, \"#0d0887\"], [0.1111111111111111, \"#46039f\"], [0.2222222222222222, \"#7201a8\"], [0.3333333333333333, \"#9c179e\"], [0.4444444444444444, \"#bd3786\"], [0.5555555555555556, \"#d8576b\"], [0.6666666666666666, \"#ed7953\"], [0.7777777777777778, \"#fb9f3a\"], [0.8888888888888888, \"#fdca26\"], [1.0, \"#f0f921\"]], \"type\": \"contour\"}], \"contourcarpet\": [{\"colorbar\": {\"outlinewidth\": 0, \"ticks\": \"\"}, \"type\": \"contourcarpet\"}], \"heatmap\": [{\"colorbar\": {\"outlinewidth\": 0, \"ticks\": \"\"}, \"colorscale\": [[0.0, \"#0d0887\"], [0.1111111111111111, \"#46039f\"], [0.2222222222222222, \"#7201a8\"], [0.3333333333333333, \"#9c179e\"], [0.4444444444444444, \"#bd3786\"], [0.5555555555555556, \"#d8576b\"], [0.6666666666666666, \"#ed7953\"], [0.7777777777777778, \"#fb9f3a\"], [0.8888888888888888, \"#fdca26\"], [1.0, \"#f0f921\"]], \"type\": \"heatmap\"}], \"heatmapgl\": [{\"colorbar\": {\"outlinewidth\": 0, \"ticks\": \"\"}, \"colorscale\": [[0.0, \"#0d0887\"], [0.1111111111111111, \"#46039f\"], [0.2222222222222222, \"#7201a8\"], [0.3333333333333333, \"#9c179e\"], [0.4444444444444444, \"#bd3786\"], [0.5555555555555556, \"#d8576b\"], [0.6666666666666666, \"#ed7953\"], [0.7777777777777778, \"#fb9f3a\"], [0.8888888888888888, \"#fdca26\"], [1.0, \"#f0f921\"]], \"type\": \"heatmapgl\"}], \"histogram\": [{\"marker\": {\"colorbar\": {\"outlinewidth\": 0, \"ticks\": \"\"}}, \"type\": \"histogram\"}], \"histogram2d\": [{\"colorbar\": {\"outlinewidth\": 0, \"ticks\": \"\"}, \"colorscale\": [[0.0, \"#0d0887\"], [0.1111111111111111, \"#46039f\"], [0.2222222222222222, \"#7201a8\"], [0.3333333333333333, \"#9c179e\"], [0.4444444444444444, \"#bd3786\"], [0.5555555555555556, \"#d8576b\"], [0.6666666666666666, \"#ed7953\"], [0.7777777777777778, \"#fb9f3a\"], [0.8888888888888888, \"#fdca26\"], [1.0, \"#f0f921\"]], \"type\": \"histogram2d\"}], \"histogram2dcontour\": [{\"colorbar\": {\"outlinewidth\": 0, \"ticks\": \"\"}, \"colorscale\": [[0.0, \"#0d0887\"], [0.1111111111111111, \"#46039f\"], [0.2222222222222222, \"#7201a8\"], [0.3333333333333333, \"#9c179e\"], [0.4444444444444444, \"#bd3786\"], [0.5555555555555556, \"#d8576b\"], [0.6666666666666666, \"#ed7953\"], [0.7777777777777778, \"#fb9f3a\"], [0.8888888888888888, \"#fdca26\"], [1.0, \"#f0f921\"]], \"type\": \"histogram2dcontour\"}], \"mesh3d\": [{\"colorbar\": {\"outlinewidth\": 0, \"ticks\": \"\"}, \"type\": \"mesh3d\"}], \"parcoords\": [{\"line\": {\"colorbar\": {\"outlinewidth\": 0, \"ticks\": \"\"}}, \"type\": \"parcoords\"}], \"pie\": [{\"automargin\": true, \"type\": \"pie\"}], \"scatter\": [{\"marker\": {\"colorbar\": {\"outlinewidth\": 0, \"ticks\": \"\"}}, \"type\": \"scatter\"}], \"scatter3d\": [{\"line\": {\"colorbar\": {\"outlinewidth\": 0, \"ticks\": \"\"}}, \"marker\": {\"colorbar\": {\"outlinewidth\": 0, \"ticks\": \"\"}}, \"type\": \"scatter3d\"}], \"scattercarpet\": [{\"marker\": {\"colorbar\": {\"outlinewidth\": 0, \"ticks\": \"\"}}, \"type\": \"scattercarpet\"}], \"scattergeo\": [{\"marker\": {\"colorbar\": {\"outlinewidth\": 0, \"ticks\": \"\"}}, \"type\": \"scattergeo\"}], \"scattergl\": [{\"marker\": {\"colorbar\": {\"outlinewidth\": 0, \"ticks\": \"\"}}, \"type\": \"scattergl\"}], \"scattermapbox\": [{\"marker\": {\"colorbar\": {\"outlinewidth\": 0, \"ticks\": \"\"}}, \"type\": \"scattermapbox\"}], \"scatterpolar\": [{\"marker\": {\"colorbar\": {\"outlinewidth\": 0, \"ticks\": \"\"}}, \"type\": \"scatterpolar\"}], \"scatterpolargl\": [{\"marker\": {\"colorbar\": {\"outlinewidth\": 0, \"ticks\": \"\"}}, \"type\": \"scatterpolargl\"}], \"scatterternary\": [{\"marker\": {\"colorbar\": {\"outlinewidth\": 0, \"ticks\": \"\"}}, \"type\": \"scatterternary\"}], \"surface\": [{\"colorbar\": {\"outlinewidth\": 0, \"ticks\": \"\"}, \"colorscale\": [[0.0, \"#0d0887\"], [0.1111111111111111, \"#46039f\"], [0.2222222222222222, \"#7201a8\"], [0.3333333333333333, \"#9c179e\"], [0.4444444444444444, \"#bd3786\"], [0.5555555555555556, \"#d8576b\"], [0.6666666666666666, \"#ed7953\"], [0.7777777777777778, \"#fb9f3a\"], [0.8888888888888888, \"#fdca26\"], [1.0, \"#f0f921\"]], \"type\": \"surface\"}], \"table\": [{\"cells\": {\"fill\": {\"color\": \"#EBF0F8\"}, \"line\": {\"color\": \"white\"}}, \"header\": {\"fill\": {\"color\": \"#C8D4E3\"}, \"line\": {\"color\": \"white\"}}, \"type\": \"table\"}]}, \"layout\": {\"annotationdefaults\": {\"arrowcolor\": \"#2a3f5f\", \"arrowhead\": 0, \"arrowwidth\": 1}, \"autotypenumbers\": \"strict\", \"coloraxis\": {\"colorbar\": {\"outlinewidth\": 0, \"ticks\": \"\"}}, \"colorscale\": {\"diverging\": [[0, \"#8e0152\"], [0.1, \"#c51b7d\"], [0.2, \"#de77ae\"], [0.3, \"#f1b6da\"], [0.4, \"#fde0ef\"], [0.5, \"#f7f7f7\"], [0.6, \"#e6f5d0\"], [0.7, \"#b8e186\"], [0.8, \"#7fbc41\"], [0.9, \"#4d9221\"], [1, \"#276419\"]], \"sequential\": [[0.0, \"#0d0887\"], [0.1111111111111111, \"#46039f\"], [0.2222222222222222, \"#7201a8\"], [0.3333333333333333, \"#9c179e\"], [0.4444444444444444, \"#bd3786\"], [0.5555555555555556, \"#d8576b\"], [0.6666666666666666, \"#ed7953\"], [0.7777777777777778, \"#fb9f3a\"], [0.8888888888888888, \"#fdca26\"], [1.0, \"#f0f921\"]], \"sequentialminus\": [[0.0, \"#0d0887\"], [0.1111111111111111, \"#46039f\"], [0.2222222222222222, \"#7201a8\"], [0.3333333333333333, \"#9c179e\"], [0.4444444444444444, \"#bd3786\"], [0.5555555555555556, \"#d8576b\"], [0.6666666666666666, \"#ed7953\"], [0.7777777777777778, \"#fb9f3a\"], [0.8888888888888888, \"#fdca26\"], [1.0, \"#f0f921\"]]}, \"colorway\": [\"#636efa\", \"#EF553B\", \"#00cc96\", \"#ab63fa\", \"#FFA15A\", \"#19d3f3\", \"#FF6692\", \"#B6E880\", \"#FF97FF\", \"#FECB52\"], \"font\": {\"color\": \"#2a3f5f\"}, \"geo\": {\"bgcolor\": \"white\", \"lakecolor\": \"white\", \"landcolor\": \"#E5ECF6\", \"showlakes\": true, \"showland\": true, \"subunitcolor\": \"white\"}, \"hoverlabel\": {\"align\": \"left\"}, \"hovermode\": \"closest\", \"mapbox\": {\"style\": \"light\"}, \"paper_bgcolor\": \"white\", \"plot_bgcolor\": \"#E5ECF6\", \"polar\": {\"angularaxis\": {\"gridcolor\": \"white\", \"linecolor\": \"white\", \"ticks\": \"\"}, \"bgcolor\": \"#E5ECF6\", \"radialaxis\": {\"gridcolor\": \"white\", \"linecolor\": \"white\", \"ticks\": \"\"}}, \"scene\": {\"xaxis\": {\"backgroundcolor\": \"#E5ECF6\", \"gridcolor\": \"white\", \"gridwidth\": 2, \"linecolor\": \"white\", \"showbackground\": true, \"ticks\": \"\", \"zerolinecolor\": \"white\"}, \"yaxis\": {\"backgroundcolor\": \"#E5ECF6\", \"gridcolor\": \"white\", \"gridwidth\": 2, \"linecolor\": \"white\", \"showbackground\": true, \"ticks\": \"\", \"zerolinecolor\": \"white\"}, \"zaxis\": {\"backgroundcolor\": \"#E5ECF6\", \"gridcolor\": \"white\", \"gridwidth\": 2, \"linecolor\": \"white\", \"showbackground\": true, \"ticks\": \"\", \"zerolinecolor\": \"white\"}}, \"shapedefaults\": {\"line\": {\"color\": \"#2a3f5f\"}}, \"ternary\": {\"aaxis\": {\"gridcolor\": \"white\", \"linecolor\": \"white\", \"ticks\": \"\"}, \"baxis\": {\"gridcolor\": \"white\", \"linecolor\": \"white\", \"ticks\": \"\"}, \"bgcolor\": \"#E5ECF6\", \"caxis\": {\"gridcolor\": \"white\", \"linecolor\": \"white\", \"ticks\": \"\"}}, \"title\": {\"x\": 0.05}, \"xaxis\": {\"automargin\": true, \"gridcolor\": \"white\", \"linecolor\": \"white\", \"ticks\": \"\", \"title\": {\"standoff\": 15}, \"zerolinecolor\": \"white\", \"zerolinewidth\": 2}, \"yaxis\": {\"automargin\": true, \"gridcolor\": \"white\", \"linecolor\": \"white\", \"ticks\": \"\", \"title\": {\"standoff\": 15}, \"zerolinecolor\": \"white\", \"zerolinewidth\": 2}}}, \"width\": 700, \"xaxis\": {\"anchor\": \"y\", \"domain\": [0.0, 1.0], \"rangeslider\": {\"visible\": true}, \"title\": {\"text\": \"surface_total_in_m2\"}}, \"yaxis\": {\"anchor\": \"x\", \"domain\": [0.0, 1.0], \"title\": {\"text\": \"price_usd_per_m2\"}}},                        {\"responsive\": true}                    ).then(function(){\n",
       "                            \n",
       "var gd = document.getElementById('7062440c-3dad-4063-b9f3-35361e9b38cb');\n",
       "var x = new MutationObserver(function (mutations, observer) {{\n",
       "        var display = window.getComputedStyle(gd).display;\n",
       "        if (!display || display === 'none') {{\n",
       "            console.log([gd, 'removed!']);\n",
       "            Plotly.purge(gd);\n",
       "            observer.disconnect();\n",
       "        }}\n",
       "}});\n",
       "\n",
       "// Listen for the removal of the full notebook cells\n",
       "var notebookContainer = gd.closest('#notebook-container');\n",
       "if (notebookContainer) {{\n",
       "    x.observe(notebookContainer, {childList: true});\n",
       "}}\n",
       "\n",
       "// Listen for the clearing of the current output cell\n",
       "var outputEl = gd.closest('.output');\n",
       "if (outputEl) {{\n",
       "    x.observe(outputEl, {childList: true});\n",
       "}}\n",
       "\n",
       "                        })                };                });            </script>        </div>"
      ]
     },
     "metadata": {},
     "output_type": "display_data"
    }
   ],
   "source": [
    "fig = px.scatter(data_frame = dfBub, x = \"surface_total_in_m2\", y = \"price_usd_per_m2\",\n",
    "                 size = \"Count\", color = \"place_name\", opacity = 0.6,\n",
    "                 hover_name=\"place_name\", width=700, height=700)\n",
    "\n",
    "fig.update_xaxes(rangeslider_visible=True)\n",
    "\n",
    "fig.show()"
   ]
  },
  {
   "cell_type": "markdown",
   "metadata": {
    "id": "wRE6Q1zh1DCI"
   },
   "source": [
    "El tamaño de las burbujas representa la cantidad de propiedades. Es interesante ver cómo Puerto Madero y Palermo Chico estan bien alejadas del resto de los barrios, con alta superficie y costo por m2"
   ]
  },
  {
   "cell_type": "markdown",
   "metadata": {
    "id": "QOiBnCY5BMty"
   },
   "source": [
    "Ahora vamos a reemplazar los casos con place_name = 'Capital Federal' a partir de la latitud y longitud de las propiedades. Vamos a utilizar un csv que contiene info geografica de cada barrio ('https://raw.githubusercontent.com/francodegio/DigitalHouse/master/barrios.csv')\n"
   ]
  },
  {
   "cell_type": "code",
   "execution_count": 64,
   "metadata": {
    "colab": {
     "base_uri": "https://localhost:8080/"
    },
    "id": "XM1dfJmPCzp6",
    "outputId": "4999f8aa-bfc4-4641-a8cc-febf70a75f0b"
   },
   "outputs": [
    {
     "name": "stdout",
     "output_type": "stream",
     "text": [
      "['Abasto' 'Agronomía' 'Almagro' 'Balvanera' 'Barracas' 'Barrio Norte'\n",
      " 'Belgrano' 'Boca' 'Boedo' 'Caballito' 'Capital Federal' 'Catalinas'\n",
      " 'Centro / Microcentro' 'Chacarita' 'Coghlan' 'Colegiales' 'Congreso'\n",
      " 'Constitución' 'Flores' 'Floresta' 'Las Cañitas' 'Liniers' 'Mataderos'\n",
      " 'Monserrat' 'Monte Castro' 'Nuñez' 'Once' 'Palermo' 'Palermo Chico'\n",
      " 'Palermo Hollywood' 'Palermo Soho' 'Palermo Viejo' 'Parque Avellaneda'\n",
      " 'Parque Centenario' 'Parque Chacabuco' 'Parque Chas' 'Parque Patricios'\n",
      " 'Paternal' 'Pompeya' 'Puerto Madero' 'Recoleta' 'Retiro' 'Saavedra'\n",
      " 'San Cristobal' 'San Nicolás' 'San Telmo' 'Tribunales' 'Velez Sarsfield'\n",
      " 'Versalles' 'Villa Crespo' 'Villa Devoto' 'Villa General Mitre'\n",
      " 'Villa Lugano' 'Villa Luro' 'Villa Ortuzar' 'Villa Pueyrredón'\n",
      " 'Villa Real' 'Villa Riachuelo' 'Villa Santa Rita' 'Villa Soldati'\n",
      " 'Villa Urquiza' 'Villa del Parque']\n",
      "\n",
      "\n",
      "|Argentina|Capital Federal|    1013\n",
      "Name: place_with_parent_names, dtype: int64\n",
      "\n",
      "\n"
     ]
    }
   ],
   "source": [
    "#Lista de barrios\n",
    "place = np.sort(dfCapi.place_name.unique())\n",
    "print(place) #Llama la atencion el barrio Capital Federal y otros barrios no formales\n",
    "print(\"\\n\")\n",
    "\n",
    "#Me fijo si para los casos de place_name = capital federal, podria usar el campo place with parents \n",
    "print(dfCapi[dfCapi[\"place_name\"] == \"Capital Federal\"]['place_with_parent_names'].value_counts())\n",
    "print(\"\\n\")\n",
    "#La respuesta es NO."
   ]
  },
  {
   "cell_type": "code",
   "execution_count": 65,
   "metadata": {
    "colab": {
     "base_uri": "https://localhost:8080/"
    },
    "id": "Sy2aEMLPjoeO",
    "outputId": "9636a712-a5bb-4c8c-968b-0131d94a63d2"
   },
   "outputs": [
    {
     "name": "stdout",
     "output_type": "stream",
     "text": [
      "345\n"
     ]
    }
   ],
   "source": [
    "#Para una proporcion de ellos podriamos usar las coordenadas\n",
    "print(dfCapi[dfCapi[\"place_name\"] == \"Capital Federal\"]['lat-lon'].notnull().sum())"
   ]
  },
  {
   "cell_type": "code",
   "execution_count": 66,
   "metadata": {
    "id": "vDWFSaMZqKOl"
   },
   "outputs": [],
   "source": [
    "# Creamos GeoDataframes que nos permitan analizar dentro que poligono (barrio) se encuentran las propiedades \n",
    "#con place name = \"Capital Federal\", a partir de los campos Lat y Lon\n",
    "barrios=pd.read_csv('https://raw.githubusercontent.com/francodegio/DigitalHouse/master/barrios.csv',encoding='latin1')"
   ]
  },
  {
   "cell_type": "code",
   "execution_count": 67,
   "metadata": {
    "colab": {
     "base_uri": "https://localhost:8080/"
    },
    "id": "8fuMGtMHEYd4",
    "outputId": "5ce268b3-5290-4cb2-91d9-d5eaa8eefee6"
   },
   "outputs": [
    {
     "name": "stderr",
     "output_type": "stream",
     "text": [
      "C:\\Users\\ariel.dapia\\anaconda3\\envs\\dhdsblend2021\\lib\\site-packages\\pandas\\core\\generic.py:5170: SettingWithCopyWarning:\n",
      "\n",
      "\n",
      "A value is trying to be set on a copy of a slice from a DataFrame.\n",
      "Try using .loc[row_indexer,col_indexer] = value instead\n",
      "\n",
      "See the caveats in the documentation: https://pandas.pydata.org/pandas-docs/stable/user_guide/indexing.html#returning-a-view-versus-a-copy\n",
      "\n"
     ]
    }
   ],
   "source": [
    "#Ponemos todo en minuscula\n",
    "barrios.BARRIO=barrios.BARRIO.apply(str.lower)\n",
    "barrios=barrios.rename(columns={\"BARRIO\": \"barrio\"})\n",
    "dfCapi.place_name = dfCapi.place_name.apply(str.lower)"
   ]
  },
  {
   "cell_type": "code",
   "execution_count": 68,
   "metadata": {
    "colab": {
     "base_uri": "https://localhost:8080/",
     "height": 521
    },
    "id": "T3jgcFmKDU5Y",
    "outputId": "df711e70-1b3e-4001-db38-8685101f1240"
   },
   "outputs": [
    {
     "data": {
      "text/html": [
       "<div>\n",
       "<style scoped>\n",
       "    .dataframe tbody tr th:only-of-type {\n",
       "        vertical-align: middle;\n",
       "    }\n",
       "\n",
       "    .dataframe tbody tr th {\n",
       "        vertical-align: top;\n",
       "    }\n",
       "\n",
       "    .dataframe thead th {\n",
       "        text-align: right;\n",
       "    }\n",
       "</style>\n",
       "<table border=\"1\" class=\"dataframe\">\n",
       "  <thead>\n",
       "    <tr style=\"text-align: right;\">\n",
       "      <th></th>\n",
       "      <th>geonames_id</th>\n",
       "      <th>lat</th>\n",
       "      <th>lon</th>\n",
       "      <th>price</th>\n",
       "      <th>price_aprox_local_currency</th>\n",
       "      <th>price_aprox_usd</th>\n",
       "      <th>surface_total_in_m2</th>\n",
       "      <th>surface_covered_in_m2</th>\n",
       "      <th>price_usd_per_m2</th>\n",
       "      <th>price_per_m2</th>\n",
       "      <th>floor</th>\n",
       "      <th>rooms</th>\n",
       "      <th>expenses</th>\n",
       "      <th>rooms_reg</th>\n",
       "    </tr>\n",
       "    <tr>\n",
       "      <th>place_name</th>\n",
       "      <th></th>\n",
       "      <th></th>\n",
       "      <th></th>\n",
       "      <th></th>\n",
       "      <th></th>\n",
       "      <th></th>\n",
       "      <th></th>\n",
       "      <th></th>\n",
       "      <th></th>\n",
       "      <th></th>\n",
       "      <th></th>\n",
       "      <th></th>\n",
       "      <th></th>\n",
       "      <th></th>\n",
       "    </tr>\n",
       "  </thead>\n",
       "  <tbody>\n",
       "    <tr>\n",
       "      <th>abasto</th>\n",
       "      <td>NaN</td>\n",
       "      <td>-34.603732</td>\n",
       "      <td>-58.411528</td>\n",
       "      <td>184995.947368</td>\n",
       "      <td>2.989968e+06</td>\n",
       "      <td>169456.103895</td>\n",
       "      <td>95.047619</td>\n",
       "      <td>75.626374</td>\n",
       "      <td>2048.205347</td>\n",
       "      <td>2573.271558</td>\n",
       "      <td>5.000000</td>\n",
       "      <td>2.647059</td>\n",
       "      <td>1922.400000</td>\n",
       "      <td>3.146341</td>\n",
       "    </tr>\n",
       "    <tr>\n",
       "      <th>agronomía</th>\n",
       "      <td>3436487.0</td>\n",
       "      <td>-34.592870</td>\n",
       "      <td>-58.485720</td>\n",
       "      <td>170054.861111</td>\n",
       "      <td>3.000533e+06</td>\n",
       "      <td>170054.861111</td>\n",
       "      <td>102.592593</td>\n",
       "      <td>87.342105</td>\n",
       "      <td>2065.200228</td>\n",
       "      <td>2665.513373</td>\n",
       "      <td>17.500000</td>\n",
       "      <td>3.000000</td>\n",
       "      <td>3019.125000</td>\n",
       "      <td>2.973684</td>\n",
       "    </tr>\n",
       "    <tr>\n",
       "      <th>almagro</th>\n",
       "      <td>3436397.0</td>\n",
       "      <td>-34.608143</td>\n",
       "      <td>-58.421318</td>\n",
       "      <td>225355.004301</td>\n",
       "      <td>3.045516e+06</td>\n",
       "      <td>172604.270871</td>\n",
       "      <td>79.348264</td>\n",
       "      <td>75.038424</td>\n",
       "      <td>2762.905303</td>\n",
       "      <td>4457.424330</td>\n",
       "      <td>4.361702</td>\n",
       "      <td>2.540741</td>\n",
       "      <td>2395.741007</td>\n",
       "      <td>2.441081</td>\n",
       "    </tr>\n",
       "    <tr>\n",
       "      <th>balvanera</th>\n",
       "      <td>6693228.0</td>\n",
       "      <td>-34.609790</td>\n",
       "      <td>-58.402820</td>\n",
       "      <td>169973.251645</td>\n",
       "      <td>2.833453e+06</td>\n",
       "      <td>160585.631184</td>\n",
       "      <td>98.407098</td>\n",
       "      <td>98.850420</td>\n",
       "      <td>1956.755333</td>\n",
       "      <td>2452.584236</td>\n",
       "      <td>5.914286</td>\n",
       "      <td>2.881068</td>\n",
       "      <td>2448.841270</td>\n",
       "      <td>2.778378</td>\n",
       "    </tr>\n",
       "    <tr>\n",
       "      <th>barracas</th>\n",
       "      <td>3436134.0</td>\n",
       "      <td>-34.638086</td>\n",
       "      <td>-58.374490</td>\n",
       "      <td>192569.402532</td>\n",
       "      <td>3.307664e+06</td>\n",
       "      <td>187461.500886</td>\n",
       "      <td>117.833333</td>\n",
       "      <td>101.478378</td>\n",
       "      <td>1978.223779</td>\n",
       "      <td>2372.392671</td>\n",
       "      <td>13.920000</td>\n",
       "      <td>2.925439</td>\n",
       "      <td>2450.947368</td>\n",
       "      <td>2.831395</td>\n",
       "    </tr>\n",
       "    <tr>\n",
       "      <th>...</th>\n",
       "      <td>...</td>\n",
       "      <td>...</td>\n",
       "      <td>...</td>\n",
       "      <td>...</td>\n",
       "      <td>...</td>\n",
       "      <td>...</td>\n",
       "      <td>...</td>\n",
       "      <td>...</td>\n",
       "      <td>...</td>\n",
       "      <td>...</td>\n",
       "      <td>...</td>\n",
       "      <td>...</td>\n",
       "      <td>...</td>\n",
       "      <td>...</td>\n",
       "    </tr>\n",
       "    <tr>\n",
       "      <th>villa real</th>\n",
       "      <td>3427383.0</td>\n",
       "      <td>-34.620126</td>\n",
       "      <td>-58.524726</td>\n",
       "      <td>187378.378378</td>\n",
       "      <td>3.306198e+06</td>\n",
       "      <td>187378.378378</td>\n",
       "      <td>153.888889</td>\n",
       "      <td>102.945946</td>\n",
       "      <td>1467.577619</td>\n",
       "      <td>2034.242961</td>\n",
       "      <td>NaN</td>\n",
       "      <td>3.294118</td>\n",
       "      <td>3750.000000</td>\n",
       "      <td>3.212121</td>\n",
       "    </tr>\n",
       "    <tr>\n",
       "      <th>villa riachuelo</th>\n",
       "      <td>3427379.0</td>\n",
       "      <td>-34.693764</td>\n",
       "      <td>-58.469724</td>\n",
       "      <td>160000.000000</td>\n",
       "      <td>2.823120e+06</td>\n",
       "      <td>160000.000000</td>\n",
       "      <td>226.000000</td>\n",
       "      <td>91.166667</td>\n",
       "      <td>1110.690766</td>\n",
       "      <td>2938.233398</td>\n",
       "      <td>12.000000</td>\n",
       "      <td>3.666667</td>\n",
       "      <td>NaN</td>\n",
       "      <td>3.600000</td>\n",
       "    </tr>\n",
       "    <tr>\n",
       "      <th>villa santa rita</th>\n",
       "      <td>6693230.0</td>\n",
       "      <td>-34.615461</td>\n",
       "      <td>-58.480298</td>\n",
       "      <td>178864.545455</td>\n",
       "      <td>3.155975e+06</td>\n",
       "      <td>178864.545455</td>\n",
       "      <td>129.423077</td>\n",
       "      <td>62.388889</td>\n",
       "      <td>1871.349906</td>\n",
       "      <td>38539.016206</td>\n",
       "      <td>5.700000</td>\n",
       "      <td>2.589744</td>\n",
       "      <td>800.000000</td>\n",
       "      <td>2.680000</td>\n",
       "    </tr>\n",
       "    <tr>\n",
       "      <th>villa soldati</th>\n",
       "      <td>3427366.0</td>\n",
       "      <td>-34.662783</td>\n",
       "      <td>-58.445758</td>\n",
       "      <td>765079.357143</td>\n",
       "      <td>1.232170e+07</td>\n",
       "      <td>698330.988571</td>\n",
       "      <td>3313.666667</td>\n",
       "      <td>945.538462</td>\n",
       "      <td>736.929399</td>\n",
       "      <td>2188.063752</td>\n",
       "      <td>4.666667</td>\n",
       "      <td>3.727273</td>\n",
       "      <td>1.000000</td>\n",
       "      <td>3.727273</td>\n",
       "    </tr>\n",
       "    <tr>\n",
       "      <th>villa urquiza</th>\n",
       "      <td>3433775.0</td>\n",
       "      <td>-34.572991</td>\n",
       "      <td>-58.482989</td>\n",
       "      <td>487818.211884</td>\n",
       "      <td>3.041284e+06</td>\n",
       "      <td>172364.395582</td>\n",
       "      <td>72.777388</td>\n",
       "      <td>64.330182</td>\n",
       "      <td>2501.582595</td>\n",
       "      <td>8675.385150</td>\n",
       "      <td>47.782609</td>\n",
       "      <td>2.330724</td>\n",
       "      <td>2105.715116</td>\n",
       "      <td>4.129382</td>\n",
       "    </tr>\n",
       "  </tbody>\n",
       "</table>\n",
       "<p>62 rows × 14 columns</p>\n",
       "</div>"
      ],
      "text/plain": [
       "                  geonames_id        lat        lon          price  \\\n",
       "place_name                                                           \n",
       "abasto                    NaN -34.603732 -58.411528  184995.947368   \n",
       "agronomía           3436487.0 -34.592870 -58.485720  170054.861111   \n",
       "almagro             3436397.0 -34.608143 -58.421318  225355.004301   \n",
       "balvanera           6693228.0 -34.609790 -58.402820  169973.251645   \n",
       "barracas            3436134.0 -34.638086 -58.374490  192569.402532   \n",
       "...                       ...        ...        ...            ...   \n",
       "villa real          3427383.0 -34.620126 -58.524726  187378.378378   \n",
       "villa riachuelo     3427379.0 -34.693764 -58.469724  160000.000000   \n",
       "villa santa rita    6693230.0 -34.615461 -58.480298  178864.545455   \n",
       "villa soldati       3427366.0 -34.662783 -58.445758  765079.357143   \n",
       "villa urquiza       3433775.0 -34.572991 -58.482989  487818.211884   \n",
       "\n",
       "                  price_aprox_local_currency  price_aprox_usd  \\\n",
       "place_name                                                      \n",
       "abasto                          2.989968e+06    169456.103895   \n",
       "agronomía                       3.000533e+06    170054.861111   \n",
       "almagro                         3.045516e+06    172604.270871   \n",
       "balvanera                       2.833453e+06    160585.631184   \n",
       "barracas                        3.307664e+06    187461.500886   \n",
       "...                                      ...              ...   \n",
       "villa real                      3.306198e+06    187378.378378   \n",
       "villa riachuelo                 2.823120e+06    160000.000000   \n",
       "villa santa rita                3.155975e+06    178864.545455   \n",
       "villa soldati                   1.232170e+07    698330.988571   \n",
       "villa urquiza                   3.041284e+06    172364.395582   \n",
       "\n",
       "                  surface_total_in_m2  surface_covered_in_m2  \\\n",
       "place_name                                                     \n",
       "abasto                      95.047619              75.626374   \n",
       "agronomía                  102.592593              87.342105   \n",
       "almagro                     79.348264              75.038424   \n",
       "balvanera                   98.407098              98.850420   \n",
       "barracas                   117.833333             101.478378   \n",
       "...                               ...                    ...   \n",
       "villa real                 153.888889             102.945946   \n",
       "villa riachuelo            226.000000              91.166667   \n",
       "villa santa rita           129.423077              62.388889   \n",
       "villa soldati             3313.666667             945.538462   \n",
       "villa urquiza               72.777388              64.330182   \n",
       "\n",
       "                  price_usd_per_m2  price_per_m2      floor     rooms  \\\n",
       "place_name                                                              \n",
       "abasto                 2048.205347   2573.271558   5.000000  2.647059   \n",
       "agronomía              2065.200228   2665.513373  17.500000  3.000000   \n",
       "almagro                2762.905303   4457.424330   4.361702  2.540741   \n",
       "balvanera              1956.755333   2452.584236   5.914286  2.881068   \n",
       "barracas               1978.223779   2372.392671  13.920000  2.925439   \n",
       "...                            ...           ...        ...       ...   \n",
       "villa real             1467.577619   2034.242961        NaN  3.294118   \n",
       "villa riachuelo        1110.690766   2938.233398  12.000000  3.666667   \n",
       "villa santa rita       1871.349906  38539.016206   5.700000  2.589744   \n",
       "villa soldati           736.929399   2188.063752   4.666667  3.727273   \n",
       "villa urquiza          2501.582595   8675.385150  47.782609  2.330724   \n",
       "\n",
       "                     expenses  rooms_reg  \n",
       "place_name                                \n",
       "abasto            1922.400000   3.146341  \n",
       "agronomía         3019.125000   2.973684  \n",
       "almagro           2395.741007   2.441081  \n",
       "balvanera         2448.841270   2.778378  \n",
       "barracas          2450.947368   2.831395  \n",
       "...                       ...        ...  \n",
       "villa real        3750.000000   3.212121  \n",
       "villa riachuelo           NaN   3.600000  \n",
       "villa santa rita   800.000000   2.680000  \n",
       "villa soldati        1.000000   3.727273  \n",
       "villa urquiza     2105.715116   4.129382  \n",
       "\n",
       "[62 rows x 14 columns]"
      ]
     },
     "execution_count": 68,
     "metadata": {},
     "output_type": "execute_result"
    }
   ],
   "source": [
    "#Armamos una pivot con los place_name de nuestro data frame para checkear si matchean con el csv barrios\n",
    "dfCapi_grouped=dfCapi.groupby('place_name').mean()\n",
    "dfCapi_grouped"
   ]
  },
  {
   "cell_type": "code",
   "execution_count": 69,
   "metadata": {
    "colab": {
     "base_uri": "https://localhost:8080/"
    },
    "id": "D0zgZgcqDDH3",
    "outputId": "2cded82d-90b3-4777-f476-a71e0e3642d7"
   },
   "outputs": [
    {
     "name": "stdout",
     "output_type": "stream",
     "text": [
      "constitucion\n",
      "villa gral. mitre\n",
      "agronomia\n",
      "nueva pompeya\n",
      "villa pueyrredon\n",
      "san nicolas\n"
     ]
    }
   ],
   "source": [
    "for i,x in barrios.iterrows():\n",
    "    try:\n",
    "        j=dfCapi_grouped.index.get_loc(x.barrio)\n",
    "    except:\n",
    "        # printeo los que no encuentra\n",
    "        print(x.barrio) "
   ]
  },
  {
   "cell_type": "code",
   "execution_count": 70,
   "metadata": {
    "id": "-YNxAagxEg6f"
   },
   "outputs": [],
   "source": [
    "#Vamos a reemplazar estos valores en barrios para que coincidan con nuestr df \n",
    "barrios['barrio'].replace({\"nueva pompeya\": \"pompeya\",\"constitucion\": \"constitución\", \"villa gral. mitre\": \"villa general mitre\", \"agronomia\": \"agronomía\", \"villa pueyrredon\": \"villa pueyrredón\", \"san nicolas\": \"san nicolás\"}, inplace = True)"
   ]
  },
  {
   "cell_type": "code",
   "execution_count": 71,
   "metadata": {
    "id": "odOL-YX_E_t4"
   },
   "outputs": [],
   "source": [
    "#Checkeamos que el replace haya sido exitoso\n",
    "for i,x in barrios.iterrows():\n",
    "    try:\n",
    "        j=dfCapi_grouped.index.get_loc(x.barrio)\n",
    "    except:\n",
    "        # printeo los que no encuentra\n",
    "        print(x.barrio) "
   ]
  },
  {
   "cell_type": "code",
   "execution_count": 72,
   "metadata": {},
   "outputs": [],
   "source": [
    "# dfCapi.to_csv(\"parte1.csv\")\n",
    "# barrios.to_csv(\"barrios.csv\")"
   ]
  },
  {
   "cell_type": "code",
   "execution_count": null,
   "metadata": {},
   "outputs": [],
   "source": []
  }
 ],
 "metadata": {
  "colab": {
   "collapsed_sections": [],
   "name": "DS - Grupo 4 - TP1.ipynb",
   "provenance": []
  },
  "kernelspec": {
   "display_name": "Python [conda env:dhdsblend2021] *",
   "language": "python",
   "name": "conda-env-dhdsblend2021-py"
  },
  "language_info": {
   "codemirror_mode": {
    "name": "ipython",
    "version": 3
   },
   "file_extension": ".py",
   "mimetype": "text/x-python",
   "name": "python",
   "nbconvert_exporter": "python",
   "pygments_lexer": "ipython3",
   "version": "3.8.12"
  }
 },
 "nbformat": 4,
 "nbformat_minor": 4
}
