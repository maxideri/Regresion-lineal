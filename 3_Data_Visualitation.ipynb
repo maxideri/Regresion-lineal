{
 "cells": [
  {
   "cell_type": "markdown",
   "metadata": {
    "id": "qiv5m3SSXclD"
   },
   "source": [
    "### **Imports**"
   ]
  },
  {
   "cell_type": "code",
   "execution_count": 60,
   "metadata": {
    "id": "fnssAaoHDBg7"
   },
   "outputs": [],
   "source": [
    "\n",
    "import pandas as pd\n",
    "import numpy as np\n",
    "import re\n",
    "import matplotlib.pyplot as plt\n",
    "# from scipy.sparse import random\n",
    "# from scipy import stats\n",
    "import seaborn as sns\n",
    "import matplotlib.pyplot as plt\n",
    "import plotly.express as px\n",
    "# from sklearn.model_selection import train_test_split\n",
    "# import geopandas as gpd\n",
    "# import shapely\n",
    "# import shapely.wkt\n",
    "from geomet import wkt"
   ]
  },
  {
   "cell_type": "code",
   "execution_count": 61,
   "metadata": {},
   "outputs": [],
   "source": [
    "dfCapi= pd.read_csv(\"parte2.csv\")\n",
    "barrios=pd.read_csv(\"barrios.csv\")"
   ]
  },
  {
   "cell_type": "code",
   "execution_count": 62,
   "metadata": {
    "colab": {
     "base_uri": "https://localhost:8080/",
     "height": 521
    },
    "id": "T3jgcFmKDU5Y",
    "outputId": "df711e70-1b3e-4001-db38-8685101f1240"
   },
   "outputs": [
    {
     "data": {
      "text/html": [
       "<div>\n",
       "<style scoped>\n",
       "    .dataframe tbody tr th:only-of-type {\n",
       "        vertical-align: middle;\n",
       "    }\n",
       "\n",
       "    .dataframe tbody tr th {\n",
       "        vertical-align: top;\n",
       "    }\n",
       "\n",
       "    .dataframe thead th {\n",
       "        text-align: right;\n",
       "    }\n",
       "</style>\n",
       "<table border=\"1\" class=\"dataframe\">\n",
       "  <thead>\n",
       "    <tr style=\"text-align: right;\">\n",
       "      <th></th>\n",
       "      <th>Unnamed: 0</th>\n",
       "      <th>Unnamed: 0.1</th>\n",
       "      <th>geonames_id</th>\n",
       "      <th>lat</th>\n",
       "      <th>lon</th>\n",
       "      <th>price</th>\n",
       "      <th>price_aprox_local_currency</th>\n",
       "      <th>price_aprox_usd</th>\n",
       "      <th>surface_total_in_m2</th>\n",
       "      <th>surface_covered_in_m2</th>\n",
       "      <th>price_usd_per_m2</th>\n",
       "      <th>price_per_m2</th>\n",
       "      <th>floor</th>\n",
       "      <th>rooms</th>\n",
       "      <th>expenses</th>\n",
       "      <th>rooms_reg</th>\n",
       "      <th>price_m2_sin_out</th>\n",
       "      <th>distancia_subte</th>\n",
       "    </tr>\n",
       "    <tr>\n",
       "      <th>place_name</th>\n",
       "      <th></th>\n",
       "      <th></th>\n",
       "      <th></th>\n",
       "      <th></th>\n",
       "      <th></th>\n",
       "      <th></th>\n",
       "      <th></th>\n",
       "      <th></th>\n",
       "      <th></th>\n",
       "      <th></th>\n",
       "      <th></th>\n",
       "      <th></th>\n",
       "      <th></th>\n",
       "      <th></th>\n",
       "      <th></th>\n",
       "      <th></th>\n",
       "      <th></th>\n",
       "      <th></th>\n",
       "    </tr>\n",
       "  </thead>\n",
       "  <tbody>\n",
       "    <tr>\n",
       "      <th>Abasto</th>\n",
       "      <td>12835.149425</td>\n",
       "      <td>57068.425287</td>\n",
       "      <td>NaN</td>\n",
       "      <td>-34.603574</td>\n",
       "      <td>-58.411650</td>\n",
       "      <td>153900.178571</td>\n",
       "      <td>2.405393e+06</td>\n",
       "      <td>136325.355595</td>\n",
       "      <td>68.085714</td>\n",
       "      <td>56.468354</td>\n",
       "      <td>2133.465234</td>\n",
       "      <td>2684.017722</td>\n",
       "      <td>5.583333</td>\n",
       "      <td>2.591837</td>\n",
       "      <td>1841.291667</td>\n",
       "      <td>2.371795</td>\n",
       "      <td>2136.905318</td>\n",
       "      <td>202.626230</td>\n",
       "    </tr>\n",
       "    <tr>\n",
       "      <th>Agronomía</th>\n",
       "      <td>10894.880000</td>\n",
       "      <td>48771.520000</td>\n",
       "      <td>3436487.0</td>\n",
       "      <td>-34.591886</td>\n",
       "      <td>-58.485309</td>\n",
       "      <td>137690.434783</td>\n",
       "      <td>2.429479e+06</td>\n",
       "      <td>137690.434783</td>\n",
       "      <td>57.157895</td>\n",
       "      <td>56.130435</td>\n",
       "      <td>2257.803667</td>\n",
       "      <td>2549.937271</td>\n",
       "      <td>6.000000</td>\n",
       "      <td>2.476190</td>\n",
       "      <td>3466.666667</td>\n",
       "      <td>2.480000</td>\n",
       "      <td>2177.139255</td>\n",
       "      <td>1040.380000</td>\n",
       "    </tr>\n",
       "    <tr>\n",
       "      <th>Almagro</th>\n",
       "      <td>13195.888672</td>\n",
       "      <td>58316.205078</td>\n",
       "      <td>3436397.0</td>\n",
       "      <td>-34.607978</td>\n",
       "      <td>-58.421654</td>\n",
       "      <td>198033.862950</td>\n",
       "      <td>2.465427e+06</td>\n",
       "      <td>139727.767782</td>\n",
       "      <td>65.890679</td>\n",
       "      <td>65.024465</td>\n",
       "      <td>2227.575442</td>\n",
       "      <td>4116.568548</td>\n",
       "      <td>4.325581</td>\n",
       "      <td>2.415033</td>\n",
       "      <td>2230.449612</td>\n",
       "      <td>2.285057</td>\n",
       "      <td>2211.739443</td>\n",
       "      <td>331.493910</td>\n",
       "    </tr>\n",
       "    <tr>\n",
       "      <th>Balvanera</th>\n",
       "      <td>13222.008347</td>\n",
       "      <td>58719.285476</td>\n",
       "      <td>6693228.0</td>\n",
       "      <td>-34.609654</td>\n",
       "      <td>-58.402777</td>\n",
       "      <td>138461.352734</td>\n",
       "      <td>2.265464e+06</td>\n",
       "      <td>128394.909630</td>\n",
       "      <td>71.047085</td>\n",
       "      <td>73.956757</td>\n",
       "      <td>1952.816681</td>\n",
       "      <td>2449.065762</td>\n",
       "      <td>6.072581</td>\n",
       "      <td>2.690722</td>\n",
       "      <td>2119.862275</td>\n",
       "      <td>2.588235</td>\n",
       "      <td>1938.858732</td>\n",
       "      <td>215.416217</td>\n",
       "    </tr>\n",
       "    <tr>\n",
       "      <th>Barracas</th>\n",
       "      <td>11105.722071</td>\n",
       "      <td>49487.403270</td>\n",
       "      <td>3436134.0</td>\n",
       "      <td>-34.637722</td>\n",
       "      <td>-58.374475</td>\n",
       "      <td>161649.898017</td>\n",
       "      <td>2.751382e+06</td>\n",
       "      <td>155934.257365</td>\n",
       "      <td>93.158879</td>\n",
       "      <td>83.514970</td>\n",
       "      <td>1949.716241</td>\n",
       "      <td>2303.013886</td>\n",
       "      <td>14.666667</td>\n",
       "      <td>2.650000</td>\n",
       "      <td>2343.377358</td>\n",
       "      <td>2.569579</td>\n",
       "      <td>1921.320786</td>\n",
       "      <td>1127.619054</td>\n",
       "    </tr>\n",
       "    <tr>\n",
       "      <th>...</th>\n",
       "      <td>...</td>\n",
       "      <td>...</td>\n",
       "      <td>...</td>\n",
       "      <td>...</td>\n",
       "      <td>...</td>\n",
       "      <td>...</td>\n",
       "      <td>...</td>\n",
       "      <td>...</td>\n",
       "      <td>...</td>\n",
       "      <td>...</td>\n",
       "      <td>...</td>\n",
       "      <td>...</td>\n",
       "      <td>...</td>\n",
       "      <td>...</td>\n",
       "      <td>...</td>\n",
       "      <td>...</td>\n",
       "      <td>...</td>\n",
       "      <td>...</td>\n",
       "    </tr>\n",
       "    <tr>\n",
       "      <th>villa general mitre</th>\n",
       "      <td>17646.352941</td>\n",
       "      <td>77159.882353</td>\n",
       "      <td>3433955.0</td>\n",
       "      <td>-34.610680</td>\n",
       "      <td>-58.467297</td>\n",
       "      <td>340229.375000</td>\n",
       "      <td>3.946637e+06</td>\n",
       "      <td>223675.176875</td>\n",
       "      <td>153.916667</td>\n",
       "      <td>103.769231</td>\n",
       "      <td>1748.044355</td>\n",
       "      <td>7158.202581</td>\n",
       "      <td>NaN</td>\n",
       "      <td>1.000000</td>\n",
       "      <td>1593.888889</td>\n",
       "      <td>2.166667</td>\n",
       "      <td>1682.477752</td>\n",
       "      <td>1117.440000</td>\n",
       "    </tr>\n",
       "    <tr>\n",
       "      <th>villa luro</th>\n",
       "      <td>18130.333333</td>\n",
       "      <td>77670.000000</td>\n",
       "      <td>3433955.0</td>\n",
       "      <td>-34.638877</td>\n",
       "      <td>-58.497279</td>\n",
       "      <td>323333.333333</td>\n",
       "      <td>5.705055e+06</td>\n",
       "      <td>323333.333333</td>\n",
       "      <td>129.000000</td>\n",
       "      <td>159.333333</td>\n",
       "      <td>968.992248</td>\n",
       "      <td>1698.893699</td>\n",
       "      <td>NaN</td>\n",
       "      <td>NaN</td>\n",
       "      <td>NaN</td>\n",
       "      <td>3.500000</td>\n",
       "      <td>944.571604</td>\n",
       "      <td>3063.540000</td>\n",
       "    </tr>\n",
       "    <tr>\n",
       "      <th>villa pueyrredón</th>\n",
       "      <td>8569.000000</td>\n",
       "      <td>39238.000000</td>\n",
       "      <td>3433955.0</td>\n",
       "      <td>-34.587892</td>\n",
       "      <td>-58.504698</td>\n",
       "      <td>550000.000000</td>\n",
       "      <td>9.704475e+06</td>\n",
       "      <td>550000.000000</td>\n",
       "      <td>1075.000000</td>\n",
       "      <td>NaN</td>\n",
       "      <td>511.627907</td>\n",
       "      <td>NaN</td>\n",
       "      <td>NaN</td>\n",
       "      <td>NaN</td>\n",
       "      <td>NaN</td>\n",
       "      <td>NaN</td>\n",
       "      <td>511.627907</td>\n",
       "      <td>2187.970000</td>\n",
       "    </tr>\n",
       "    <tr>\n",
       "      <th>villa real</th>\n",
       "      <td>16739.000000</td>\n",
       "      <td>73829.666667</td>\n",
       "      <td>3433955.0</td>\n",
       "      <td>-34.620221</td>\n",
       "      <td>-58.527789</td>\n",
       "      <td>186000.000000</td>\n",
       "      <td>3.281877e+06</td>\n",
       "      <td>186000.000000</td>\n",
       "      <td>129.333333</td>\n",
       "      <td>90.000000</td>\n",
       "      <td>1476.693595</td>\n",
       "      <td>2146.425796</td>\n",
       "      <td>NaN</td>\n",
       "      <td>NaN</td>\n",
       "      <td>4000.000000</td>\n",
       "      <td>3.000000</td>\n",
       "      <td>1476.693595</td>\n",
       "      <td>5334.913333</td>\n",
       "    </tr>\n",
       "    <tr>\n",
       "      <th>villa santa rita</th>\n",
       "      <td>18355.785714</td>\n",
       "      <td>79686.857143</td>\n",
       "      <td>3433955.0</td>\n",
       "      <td>-34.616208</td>\n",
       "      <td>-58.478182</td>\n",
       "      <td>164642.857143</td>\n",
       "      <td>2.905041e+06</td>\n",
       "      <td>164642.857143</td>\n",
       "      <td>75.300000</td>\n",
       "      <td>75.428571</td>\n",
       "      <td>2157.456272</td>\n",
       "      <td>2433.397753</td>\n",
       "      <td>3.000000</td>\n",
       "      <td>NaN</td>\n",
       "      <td>1000.000000</td>\n",
       "      <td>1.600000</td>\n",
       "      <td>1927.530357</td>\n",
       "      <td>1287.815000</td>\n",
       "    </tr>\n",
       "  </tbody>\n",
       "</table>\n",
       "<p>94 rows × 18 columns</p>\n",
       "</div>"
      ],
      "text/plain": [
       "                       Unnamed: 0  Unnamed: 0.1  geonames_id        lat  \\\n",
       "place_name                                                                \n",
       "Abasto               12835.149425  57068.425287          NaN -34.603574   \n",
       "Agronomía            10894.880000  48771.520000    3436487.0 -34.591886   \n",
       "Almagro              13195.888672  58316.205078    3436397.0 -34.607978   \n",
       "Balvanera            13222.008347  58719.285476    6693228.0 -34.609654   \n",
       "Barracas             11105.722071  49487.403270    3436134.0 -34.637722   \n",
       "...                           ...           ...          ...        ...   \n",
       "villa general mitre  17646.352941  77159.882353    3433955.0 -34.610680   \n",
       "villa luro           18130.333333  77670.000000    3433955.0 -34.638877   \n",
       "villa pueyrredón      8569.000000  39238.000000    3433955.0 -34.587892   \n",
       "villa real           16739.000000  73829.666667    3433955.0 -34.620221   \n",
       "villa santa rita     18355.785714  79686.857143    3433955.0 -34.616208   \n",
       "\n",
       "                           lon          price  price_aprox_local_currency  \\\n",
       "place_name                                                                  \n",
       "Abasto              -58.411650  153900.178571                2.405393e+06   \n",
       "Agronomía           -58.485309  137690.434783                2.429479e+06   \n",
       "Almagro             -58.421654  198033.862950                2.465427e+06   \n",
       "Balvanera           -58.402777  138461.352734                2.265464e+06   \n",
       "Barracas            -58.374475  161649.898017                2.751382e+06   \n",
       "...                        ...            ...                         ...   \n",
       "villa general mitre -58.467297  340229.375000                3.946637e+06   \n",
       "villa luro          -58.497279  323333.333333                5.705055e+06   \n",
       "villa pueyrredón    -58.504698  550000.000000                9.704475e+06   \n",
       "villa real          -58.527789  186000.000000                3.281877e+06   \n",
       "villa santa rita    -58.478182  164642.857143                2.905041e+06   \n",
       "\n",
       "                     price_aprox_usd  surface_total_in_m2  \\\n",
       "place_name                                                  \n",
       "Abasto                 136325.355595            68.085714   \n",
       "Agronomía              137690.434783            57.157895   \n",
       "Almagro                139727.767782            65.890679   \n",
       "Balvanera              128394.909630            71.047085   \n",
       "Barracas               155934.257365            93.158879   \n",
       "...                              ...                  ...   \n",
       "villa general mitre    223675.176875           153.916667   \n",
       "villa luro             323333.333333           129.000000   \n",
       "villa pueyrredón       550000.000000          1075.000000   \n",
       "villa real             186000.000000           129.333333   \n",
       "villa santa rita       164642.857143            75.300000   \n",
       "\n",
       "                     surface_covered_in_m2  price_usd_per_m2  price_per_m2  \\\n",
       "place_name                                                                   \n",
       "Abasto                           56.468354       2133.465234   2684.017722   \n",
       "Agronomía                        56.130435       2257.803667   2549.937271   \n",
       "Almagro                          65.024465       2227.575442   4116.568548   \n",
       "Balvanera                        73.956757       1952.816681   2449.065762   \n",
       "Barracas                         83.514970       1949.716241   2303.013886   \n",
       "...                                    ...               ...           ...   \n",
       "villa general mitre             103.769231       1748.044355   7158.202581   \n",
       "villa luro                      159.333333        968.992248   1698.893699   \n",
       "villa pueyrredón                       NaN        511.627907           NaN   \n",
       "villa real                       90.000000       1476.693595   2146.425796   \n",
       "villa santa rita                 75.428571       2157.456272   2433.397753   \n",
       "\n",
       "                         floor     rooms     expenses  rooms_reg  \\\n",
       "place_name                                                         \n",
       "Abasto                5.583333  2.591837  1841.291667   2.371795   \n",
       "Agronomía             6.000000  2.476190  3466.666667   2.480000   \n",
       "Almagro               4.325581  2.415033  2230.449612   2.285057   \n",
       "Balvanera             6.072581  2.690722  2119.862275   2.588235   \n",
       "Barracas             14.666667  2.650000  2343.377358   2.569579   \n",
       "...                        ...       ...          ...        ...   \n",
       "villa general mitre        NaN  1.000000  1593.888889   2.166667   \n",
       "villa luro                 NaN       NaN          NaN   3.500000   \n",
       "villa pueyrredón           NaN       NaN          NaN        NaN   \n",
       "villa real                 NaN       NaN  4000.000000   3.000000   \n",
       "villa santa rita      3.000000       NaN  1000.000000   1.600000   \n",
       "\n",
       "                     price_m2_sin_out  distancia_subte  \n",
       "place_name                                              \n",
       "Abasto                    2136.905318       202.626230  \n",
       "Agronomía                 2177.139255      1040.380000  \n",
       "Almagro                   2211.739443       331.493910  \n",
       "Balvanera                 1938.858732       215.416217  \n",
       "Barracas                  1921.320786      1127.619054  \n",
       "...                               ...              ...  \n",
       "villa general mitre       1682.477752      1117.440000  \n",
       "villa luro                 944.571604      3063.540000  \n",
       "villa pueyrredón           511.627907      2187.970000  \n",
       "villa real                1476.693595      5334.913333  \n",
       "villa santa rita          1927.530357      1287.815000  \n",
       "\n",
       "[94 rows x 18 columns]"
      ]
     },
     "execution_count": 62,
     "metadata": {},
     "output_type": "execute_result"
    }
   ],
   "source": [
    "#Armamos una pivot con los place_name de nuestro data frame para checkear si matchean con el csv barrios\n",
    "dfCapi_grouped=dfCapi.groupby('place_name').mean()\n",
    "dfCapi_grouped"
   ]
  },
  {
   "cell_type": "markdown",
   "metadata": {
    "id": "jlFvSAVHQ1Sd"
   },
   "source": [
    "**- Limpieza de la columna price_usd_per_m2 y Estimar m2 con la columna Property_type y Place Name (Barrio)**"
   ]
  },
  {
   "cell_type": "code",
   "execution_count": 63,
   "metadata": {
    "colab": {
     "base_uri": "https://localhost:8080/",
     "height": 265
    },
    "id": "y5WaLofcQ-M2",
    "outputId": "18de22fa-67ff-4e64-d689-aac2044bddfb"
   },
   "outputs": [
    {
     "data": {
      "image/png": "[encoded data removed]",
      "text/plain": [
       "<Figure size 432x288 with 1 Axes>"
      ]
     },
     "metadata": {},
     "output_type": "display_data"
    }
   ],
   "source": [
    "#Hacemos un boxplot para ver la distribución de la columna P x m2\n",
    "sns.boxplot(data=dfCapi['price_usd_per_m2'], color = 'r');"
   ]
  },
  {
   "cell_type": "code",
   "execution_count": 64,
   "metadata": {
    "colab": {
     "base_uri": "https://localhost:8080/"
    },
    "id": "fSWfbQKrRQ4O",
    "outputId": "815c7dc1-6f0a-46b7-8380-85d8c60b4ceb"
   },
   "outputs": [
    {
     "name": "stderr",
     "output_type": "stream",
     "text": [
      "<ipython-input-64-c09c13115e10>:1: SettingWithCopyWarning: \n",
      "A value is trying to be set on a copy of a slice from a DataFrame\n",
      "\n",
      "See the caveats in the documentation: https://pandas.pydata.org/pandas-docs/stable/user_guide/indexing.html#returning-a-view-versus-a-copy\n",
      "  dfCapi['price_usd_per_m2'][dfCapi['price_usd_per_m2']<=100] = np.NaN\n"
     ]
    }
   ],
   "source": [
    "dfCapi['price_usd_per_m2'][dfCapi['price_usd_per_m2']<=100] = np.NaN"
   ]
  },
  {
   "cell_type": "code",
   "execution_count": 65,
   "metadata": {
    "colab": {
     "base_uri": "https://localhost:8080/"
    },
    "id": "AtaQMIRdRj11",
    "outputId": "02cbdc1d-788e-4689-f23b-5059ef998dfe"
   },
   "outputs": [
    {
     "name": "stdout",
     "output_type": "stream",
     "text": [
      "464.3848288621664   4588.035769349366\n"
     ]
    }
   ],
   "source": [
    "#como hay outliers calculamos el rango intercuartil para excluirlos en el análisis \n",
    "q1 = dfCapi['price_usd_per_m2'].quantile(0.25)\n",
    "q2 = dfCapi['price_usd_per_m2'].quantile(0.5)\n",
    "q3 = dfCapi['price_usd_per_m2'].quantile(0.75)\n",
    "q4 = dfCapi['price_usd_per_m2'].quantile(1)\n",
    "\n",
    "riq = q3-q1\n",
    "lim_inf = q1-1.5*riq\n",
    "lim_sup = q3+1.5*riq\n",
    "print(lim_inf,\" \",lim_sup)\n"
   ]
  },
  {
   "cell_type": "code",
   "execution_count": 66,
   "metadata": {
    "colab": {
     "base_uri": "https://localhost:8080/"
    },
    "id": "7YUlpIOlHvap",
    "outputId": "73571011-09b4-4516-b330-f7ebf72544c6"
   },
   "outputs": [
    {
     "name": "stderr",
     "output_type": "stream",
     "text": [
      "<ipython-input-66-a645baf22d79>:3: SettingWithCopyWarning: \n",
      "A value is trying to be set on a copy of a slice from a DataFrame\n",
      "\n",
      "See the caveats in the documentation: https://pandas.pydata.org/pandas-docs/stable/user_guide/indexing.html#returning-a-view-versus-a-copy\n",
      "  dfCapi['price_m2_sin_out'][(dfCapi['price_m2_sin_out'] < lim_inf) | (dfCapi['price_m2_sin_out'] > lim_sup)] = np.NaN # reemplazos los outliers por nulls\n"
     ]
    },
    {
     "data": {
      "text/plain": [
       "0        1127.272727\n",
       "1        1309.090909\n",
       "3        3066.666667\n",
       "4        3000.000000\n",
       "5        2234.000000\n",
       "            ...     \n",
       "28069    3750.000000\n",
       "28070    2611.464968\n",
       "28071    2611.464968\n",
       "28072    2858.695652\n",
       "28073    1675.324675\n",
       "Name: price_usd_per_m2, Length: 18486, dtype: float64"
      ]
     },
     "execution_count": 66,
     "metadata": {},
     "output_type": "execute_result"
    }
   ],
   "source": [
    "#Creo columna auxiliar para completar sin outiler ni nulos para preservar los valores originales \n",
    "dfCapi[\"price_m2_sin_out\"] = dfCapi.price_usd_per_m2\n",
    "dfCapi['price_m2_sin_out'][(dfCapi['price_m2_sin_out'] < lim_inf) | (dfCapi['price_m2_sin_out'] > lim_sup)] = np.NaN # reemplazos los outliers por nulls\n",
    "\n",
    "#Filtro los datos sin outliers para trabajar con ellos\n",
    "price_m2_sin_out = dfCapi['price_usd_per_m2'][(dfCapi['price_usd_per_m2'] >= lim_inf) & ((dfCapi['price_usd_per_m2'] <= lim_sup))]\n",
    "price_m2_sin_out"
   ]
  },
  {
   "cell_type": "code",
   "execution_count": 67,
   "metadata": {
    "colab": {
     "base_uri": "https://localhost:8080/",
     "height": 265
    },
    "id": "3dbZK4FJSGY7",
    "outputId": "9e496cba-6fd6-4cb3-c757-542187d01c92"
   },
   "outputs": [
    {
     "data": {
      "image/png": "[encoded data removed]",
      "text/plain": [
       "<Figure size 432x288 with 1 Axes>"
      ]
     },
     "metadata": {},
     "output_type": "display_data"
    }
   ],
   "source": [
    "#chequeamos graf. con un boxplot de nuevo\n",
    "sns.boxplot(data=price_m2_sin_out, color = 'r');"
   ]
  },
  {
   "cell_type": "code",
   "execution_count": 68,
   "metadata": {
    "colab": {
     "base_uri": "https://localhost:8080/",
     "height": 352
    },
    "id": "LwwbDGZYSPjE",
    "outputId": "69e589ac-cefc-49aa-bb0b-738fdf428fc8"
   },
   "outputs": [
    {
     "data": {
      "text/plain": [
       "<matplotlib.legend.Legend at 0xcb24910>"
      ]
     },
     "execution_count": 68,
     "metadata": {},
     "output_type": "execute_result"
    },
    {
     "data": {
      "image/png": "[encoded data removed]",
      "text/plain": [
       "<Figure size 720x360 with 1 Axes>"
      ]
     },
     "metadata": {},
     "output_type": "display_data"
    }
   ],
   "source": [
    "#histograma de la columna sin outliers y mayores a usd 100\n",
    "fig = plt.figure(figsize=(10,5));ax=plt.axes()\n",
    "sns.histplot(price_m2_sin_out, color = 'r',bins=10, alpha=0.3)\n",
    "ax.legend(labels = ['original'])"
   ]
  },
  {
   "cell_type": "code",
   "execution_count": 69,
   "metadata": {
    "colab": {
     "base_uri": "https://localhost:8080/"
    },
    "id": "Lkc8zInCTYRz",
    "outputId": "8bc11295-11ec-483c-e2f8-5c890c79efa4"
   },
   "outputs": [
    {
     "data": {
      "text/plain": [
       "9588"
      ]
     },
     "execution_count": 69,
     "metadata": {},
     "output_type": "execute_result"
    }
   ],
   "source": [
    "#Observamos que en al nueva columna hay nulos originales mas los aplicados a los outliers\n",
    "dfCapi['price_m2_sin_out'].isnull().sum()"
   ]
  },
  {
   "cell_type": "markdown",
   "metadata": {
    "id": "W_m5WIiS42MZ"
   },
   "source": [
    "Reemplazo de valores nulos de campo price_usd_per_m2"
   ]
  },
  {
   "cell_type": "code",
   "execution_count": 70,
   "metadata": {
    "id": "3XORmL6dT3Ya"
   },
   "outputs": [],
   "source": [
    "#tenemos que ver como se completan los datos nulos. Proponemos asignar la media agrupada por tipo de propiedad y por barrio \n",
    "dfCapi_grouped = dfCapi.groupby([\"place_name\",'property_type'])['price_m2_sin_out']\n",
    "price_usd_per_m2_por_tipo_prop = dfCapi_grouped.transform(lambda x : x.fillna(x.mean()))"
   ]
  },
  {
   "cell_type": "code",
   "execution_count": 71,
   "metadata": {
    "colab": {
     "base_uri": "https://localhost:8080/"
    },
    "id": "2omrkpF0UxLv",
    "outputId": "05f29b0a-2eaf-4471-80dc-79674c6de5c8"
   },
   "outputs": [
    {
     "name": "stdout",
     "output_type": "stream",
     "text": [
      "La media original es: 3019.02\n",
      "La moda original es: 2500.0\n",
      "La mediana original es: 2484.85\n",
      "La media completada por tipo de propiedad es: 2458.54\n",
      "La moda completada por tipo de propiedad es: 3017.34\n",
      "La mediana completada por tipo de propiedad es: 2426.65\n"
     ]
    }
   ],
   "source": [
    "#Analizamos media, mediana y moda de las dos columnas\n",
    "print('La media original es:',round(dfCapi['price_usd_per_m2'].mean(),2))\n",
    "print('La moda original es:', round(dfCapi['price_usd_per_m2'].mode()[0],2))\n",
    "print('La mediana original es:',round (dfCapi['price_usd_per_m2'].median(),2))\n",
    "\n",
    "print('La media completada por tipo de propiedad es:', round(price_usd_per_m2_por_tipo_prop.mean(), 2)) \n",
    "print('La moda completada por tipo de propiedad es:', round(price_usd_per_m2_por_tipo_prop.mode()[0],2))\n",
    "print('La mediana completada por tipo de propiedad es:', round(price_usd_per_m2_por_tipo_prop.median(),2))"
   ]
  },
  {
   "cell_type": "code",
   "execution_count": 72,
   "metadata": {
    "colab": {
     "base_uri": "https://localhost:8080/",
     "height": 335
    },
    "id": "f8OrPdzeWMYy",
    "outputId": "655b7719-4f94-4939-9c52-9dcec1846a5d"
   },
   "outputs": [
    {
     "data": {
      "image/png": "[encoded data removed]",
      "text/plain": [
       "<Figure size 720x360 with 1 Axes>"
      ]
     },
     "metadata": {},
     "output_type": "display_data"
    }
   ],
   "source": [
    "fig = plt.figure(figsize=(10,5));ax=plt.axes()\n",
    "\n",
    "sns.histplot(price_usd_per_m2_por_tipo_prop, color = 'r',bins=10,alpha=0.2,)\n",
    "#sns.histplot(price_usd_per_m2_por_tipo_prop[(price_usd_per_m2_por_tipo_prop < lim_sup) & (price_usd_per_m2_por_tipo_prop > 100)], color = 'g',bins=10,alpha=0.2)\n",
    "\n",
    "\n",
    "ax.legend(labels=['original', 'per-type']);"
   ]
  },
  {
   "cell_type": "code",
   "execution_count": 73,
   "metadata": {
    "colab": {
     "base_uri": "https://localhost:8080/"
    },
    "id": "19cUkF_8XvW6",
    "outputId": "a556942f-4234-49b8-c9c5-25548763b470"
   },
   "outputs": [],
   "source": [
    "#reemplazo valores\n",
    "dfCapi['price_m2_sin_out'] = price_usd_per_m2_por_tipo_prop"
   ]
  },
  {
   "cell_type": "code",
   "execution_count": 74,
   "metadata": {},
   "outputs": [
    {
     "data": {
      "text/plain": [
       "23"
      ]
     },
     "execution_count": 74,
     "metadata": {},
     "output_type": "execute_result"
    }
   ],
   "source": [
    "dfCapi['price_m2_sin_out'].isnull().sum()"
   ]
  },
  {
   "cell_type": "markdown",
   "metadata": {
    "id": "xs2V1dpRZ2Yp"
   },
   "source": [
    "**- Rooms, price y superficie: eliminación de outliers**"
   ]
  },
  {
   "cell_type": "code",
   "execution_count": 75,
   "metadata": {
    "id": "URXPARcQQHON"
   },
   "outputs": [
    {
     "data": {
      "image/png": "[encoded data removed]",
      "text/plain": [
       "<Figure size 1080x288 with 3 Axes>"
      ]
     },
     "metadata": {},
     "output_type": "display_data"
    }
   ],
   "source": [
    "fig = plt.figure(figsize=(15,4))\n",
    "plt.subplot(131)\n",
    "plt.title('rooms_reg')\n",
    "sns.boxplot(data=dfCapi['rooms_reg'], color = 'r');\n",
    "\n",
    "plt.subplot(132)\n",
    "plt.title('price_aprox_usd')\n",
    "sns.boxplot(data=dfCapi['price_aprox_usd'], color = 'r');\n",
    "\n",
    "plt.subplot(133)\n",
    "plt.title('surface_total_in_m2')\n",
    "sns.boxplot(data=dfCapi['surface_total_in_m2'], color = 'r');\n"
   ]
  },
  {
   "cell_type": "code",
   "execution_count": 76,
   "metadata": {
    "id": "VH4GTnqtVpgU"
   },
   "outputs": [],
   "source": [
    "#Eliminamos outliers de rooms\n",
    "\n",
    "q1 = dfCapi['rooms_reg'].quantile(0.25)\n",
    "q3 = dfCapi['rooms_reg'].quantile(0.75)\n",
    "\n",
    "riq = q3-q1\n",
    "lim_inf = q1-1.5*riq # -2\n",
    "lim_sup = q3+1.5*riq # 6\n",
    "\n",
    "dfCapi= dfCapi[(dfCapi.rooms_reg.isnull()) | (dfCapi['rooms_reg'] < lim_sup)]"
   ]
  },
  {
   "cell_type": "code",
   "execution_count": 77,
   "metadata": {},
   "outputs": [],
   "source": [
    "\n",
    "q1 = dfCapi['price_aprox_usd'].quantile(0.25)\n",
    "q3 = dfCapi['price_aprox_usd'].quantile(0.75)\n",
    "\n",
    "riq = q3-q1\n",
    "lim_sup = q3+1.5*riq # 6"
   ]
  },
  {
   "cell_type": "code",
   "execution_count": 78,
   "metadata": {},
   "outputs": [],
   "source": [
    "#Eliminamos outliers de price_aprox_usd\n",
    "\n",
    "q1 = dfCapi['price_aprox_usd'].quantile(0.25)\n",
    "q3 = dfCapi['price_aprox_usd'].quantile(0.75)\n",
    "\n",
    "riq = q3-q1\n",
    "lim_inf = q1-1.5*riq # -2\n",
    "lim_sup = q3+1.5*riq # 6\n",
    "\n",
    "dfCapi= dfCapi[(dfCapi.price_aprox_usd.isnull()) | (dfCapi['price_aprox_usd'] < lim_sup)]"
   ]
  },
  {
   "cell_type": "code",
   "execution_count": 79,
   "metadata": {},
   "outputs": [],
   "source": [
    "#Eliminamos outliers de surface_total_in_m2\n",
    "\n",
    "q1 = dfCapi['surface_total_in_m2'].quantile(0.25)\n",
    "q3 = dfCapi['surface_total_in_m2'].quantile(0.75)\n",
    "\n",
    "riq = q3-q1\n",
    "lim_inf = q1-1.5*riq # -2\n",
    "lim_sup = q3+1.5*riq # 6\n",
    "\n",
    "dfCapi= dfCapi[(dfCapi.surface_total_in_m2.isnull()) | (dfCapi['surface_total_in_m2'] < lim_sup)]"
   ]
  },
  {
   "cell_type": "code",
   "execution_count": 80,
   "metadata": {
    "id": "8-5-xV9eRjo3"
   },
   "outputs": [
    {
     "data": {
      "image/png": "[encoded data removed]",
      "text/plain": [
       "<Figure size 1080x288 with 3 Axes>"
      ]
     },
     "metadata": {},
     "output_type": "display_data"
    }
   ],
   "source": [
    "fig = plt.figure(figsize=(15,4))\n",
    "plt.subplot(131)\n",
    "plt.title('rooms_reg')\n",
    "sns.boxplot(data=dfCapi['rooms_reg'], color = 'r');\n",
    "\n",
    "plt.subplot(132)\n",
    "plt.title('price_aprox_usd')\n",
    "sns.boxplot(data=dfCapi['price_aprox_usd'], color = 'r');\n",
    "\n",
    "plt.subplot(133)\n",
    "plt.title('surface_total_in_m2')\n",
    "sns.boxplot(data=dfCapi['surface_total_in_m2'], color = 'r');\n"
   ]
  },
  {
   "cell_type": "code",
   "execution_count": 81,
   "metadata": {},
   "outputs": [],
   "source": [
    "dfCapi[\"cerca_lejos\"] = dfCapi.apply(lambda x: 1 if x.distancia_subte < 400 else 0, axis=1)"
   ]
  },
  {
   "cell_type": "markdown",
   "metadata": {
    "id": "5y7vqG2KsttG"
   },
   "source": [
    "### **2. Análisis descriptivo y relaciones entre variables**"
   ]
  },
  {
   "cell_type": "markdown",
   "metadata": {
    "id": "-icGj5AcdboC"
   },
   "source": [
    "**- Relación Barrio y precio en usd por m2**"
   ]
  },
  {
   "cell_type": "markdown",
   "metadata": {
    "id": "X8jTusYPtuvR"
   },
   "source": [
    "Hacemos un mapa de calor con la media de price_usd_per_m2 sin outliers por barrio y comparamos con su versión con outliers "
   ]
  },
  {
   "cell_type": "code",
   "execution_count": 82,
   "metadata": {
    "colab": {
     "base_uri": "https://localhost:8080/",
     "height": 521
    },
    "id": "1zJGUukA03sZ",
    "jupyter": {
     "outputs_hidden": true
    },
    "outputId": "0256252f-c932-48f5-b374-d5020098e28c"
   },
   "outputs": [
    {
     "data": {
      "text/html": [
       "<div>\n",
       "<style scoped>\n",
       "    .dataframe tbody tr th:only-of-type {\n",
       "        vertical-align: middle;\n",
       "    }\n",
       "\n",
       "    .dataframe tbody tr th {\n",
       "        vertical-align: top;\n",
       "    }\n",
       "\n",
       "    .dataframe thead th {\n",
       "        text-align: right;\n",
       "    }\n",
       "</style>\n",
       "<table border=\"1\" class=\"dataframe\">\n",
       "  <thead>\n",
       "    <tr style=\"text-align: right;\">\n",
       "      <th></th>\n",
       "      <th>Unnamed: 0</th>\n",
       "      <th>Unnamed: 0.1</th>\n",
       "      <th>geonames_id</th>\n",
       "      <th>lat</th>\n",
       "      <th>lon</th>\n",
       "      <th>price</th>\n",
       "      <th>price_aprox_local_currency</th>\n",
       "      <th>price_aprox_usd</th>\n",
       "      <th>surface_total_in_m2</th>\n",
       "      <th>surface_covered_in_m2</th>\n",
       "      <th>price_usd_per_m2</th>\n",
       "      <th>price_per_m2</th>\n",
       "      <th>floor</th>\n",
       "      <th>rooms</th>\n",
       "      <th>expenses</th>\n",
       "      <th>rooms_reg</th>\n",
       "      <th>price_m2_sin_out</th>\n",
       "      <th>distancia_subte</th>\n",
       "      <th>cerca_lejos</th>\n",
       "    </tr>\n",
       "    <tr>\n",
       "      <th>place_name</th>\n",
       "      <th></th>\n",
       "      <th></th>\n",
       "      <th></th>\n",
       "      <th></th>\n",
       "      <th></th>\n",
       "      <th></th>\n",
       "      <th></th>\n",
       "      <th></th>\n",
       "      <th></th>\n",
       "      <th></th>\n",
       "      <th></th>\n",
       "      <th></th>\n",
       "      <th></th>\n",
       "      <th></th>\n",
       "      <th></th>\n",
       "      <th></th>\n",
       "      <th></th>\n",
       "      <th></th>\n",
       "      <th></th>\n",
       "    </tr>\n",
       "  </thead>\n",
       "  <tbody>\n",
       "    <tr>\n",
       "      <th>Abasto</th>\n",
       "      <td>13280.950000</td>\n",
       "      <td>59012.250000</td>\n",
       "      <td>NaN</td>\n",
       "      <td>-34.603424</td>\n",
       "      <td>-58.411739</td>\n",
       "      <td>143944.350649</td>\n",
       "      <td>2.201536e+06</td>\n",
       "      <td>124771.816494</td>\n",
       "      <td>55.650794</td>\n",
       "      <td>51.726027</td>\n",
       "      <td>2216.008248</td>\n",
       "      <td>2724.828722</td>\n",
       "      <td>6.500000</td>\n",
       "      <td>2.466667</td>\n",
       "      <td>1486.565217</td>\n",
       "      <td>2.287671</td>\n",
       "      <td>2214.937803</td>\n",
       "      <td>207.343273</td>\n",
       "      <td>0.687500</td>\n",
       "    </tr>\n",
       "    <tr>\n",
       "      <th>Agronomía</th>\n",
       "      <td>10894.880000</td>\n",
       "      <td>48771.520000</td>\n",
       "      <td>3436487.0</td>\n",
       "      <td>-34.591886</td>\n",
       "      <td>-58.485309</td>\n",
       "      <td>137690.434783</td>\n",
       "      <td>2.429479e+06</td>\n",
       "      <td>137690.434783</td>\n",
       "      <td>57.157895</td>\n",
       "      <td>56.130435</td>\n",
       "      <td>2257.803667</td>\n",
       "      <td>2549.937271</td>\n",
       "      <td>6.000000</td>\n",
       "      <td>2.476190</td>\n",
       "      <td>3466.666667</td>\n",
       "      <td>2.480000</td>\n",
       "      <td>2257.803667</td>\n",
       "      <td>1040.380000</td>\n",
       "      <td>0.000000</td>\n",
       "    </tr>\n",
       "    <tr>\n",
       "      <th>Almagro</th>\n",
       "      <td>13303.954268</td>\n",
       "      <td>58785.709350</td>\n",
       "      <td>3436397.0</td>\n",
       "      <td>-34.607882</td>\n",
       "      <td>-58.421786</td>\n",
       "      <td>191514.716707</td>\n",
       "      <td>2.306807e+06</td>\n",
       "      <td>130738.024286</td>\n",
       "      <td>57.620939</td>\n",
       "      <td>60.152542</td>\n",
       "      <td>2264.488453</td>\n",
       "      <td>4203.834848</td>\n",
       "      <td>4.377953</td>\n",
       "      <td>2.351852</td>\n",
       "      <td>2230.338583</td>\n",
       "      <td>2.229044</td>\n",
       "      <td>2249.092843</td>\n",
       "      <td>330.997097</td>\n",
       "      <td>0.557927</td>\n",
       "    </tr>\n",
       "    <tr>\n",
       "      <th>Balvanera</th>\n",
       "      <td>13455.265378</td>\n",
       "      <td>59724.479789</td>\n",
       "      <td>6693228.0</td>\n",
       "      <td>-34.609652</td>\n",
       "      <td>-58.402640</td>\n",
       "      <td>129068.005576</td>\n",
       "      <td>2.090149e+06</td>\n",
       "      <td>118458.947509</td>\n",
       "      <td>62.988067</td>\n",
       "      <td>67.293561</td>\n",
       "      <td>1981.091493</td>\n",
       "      <td>2486.061741</td>\n",
       "      <td>6.072581</td>\n",
       "      <td>2.644562</td>\n",
       "      <td>2092.697531</td>\n",
       "      <td>2.551456</td>\n",
       "      <td>1966.196294</td>\n",
       "      <td>214.226614</td>\n",
       "      <td>0.826011</td>\n",
       "    </tr>\n",
       "    <tr>\n",
       "      <th>Barracas</th>\n",
       "      <td>11427.665635</td>\n",
       "      <td>50926.904025</td>\n",
       "      <td>3436134.0</td>\n",
       "      <td>-34.636875</td>\n",
       "      <td>-58.373823</td>\n",
       "      <td>147833.593548</td>\n",
       "      <td>2.493611e+06</td>\n",
       "      <td>141325.138226</td>\n",
       "      <td>68.530686</td>\n",
       "      <td>64.794521</td>\n",
       "      <td>2080.236964</td>\n",
       "      <td>2443.203075</td>\n",
       "      <td>14.666667</td>\n",
       "      <td>2.526882</td>\n",
       "      <td>2411.725490</td>\n",
       "      <td>2.470383</td>\n",
       "      <td>2032.632134</td>\n",
       "      <td>1116.044859</td>\n",
       "      <td>0.009288</td>\n",
       "    </tr>\n",
       "    <tr>\n",
       "      <th>...</th>\n",
       "      <td>...</td>\n",
       "      <td>...</td>\n",
       "      <td>...</td>\n",
       "      <td>...</td>\n",
       "      <td>...</td>\n",
       "      <td>...</td>\n",
       "      <td>...</td>\n",
       "      <td>...</td>\n",
       "      <td>...</td>\n",
       "      <td>...</td>\n",
       "      <td>...</td>\n",
       "      <td>...</td>\n",
       "      <td>...</td>\n",
       "      <td>...</td>\n",
       "      <td>...</td>\n",
       "      <td>...</td>\n",
       "      <td>...</td>\n",
       "      <td>...</td>\n",
       "      <td>...</td>\n",
       "    </tr>\n",
       "    <tr>\n",
       "      <th>villa devoto</th>\n",
       "      <td>12129.500000</td>\n",
       "      <td>54661.500000</td>\n",
       "      <td>3433955.0</td>\n",
       "      <td>-34.619281</td>\n",
       "      <td>-58.518171</td>\n",
       "      <td>90000.000000</td>\n",
       "      <td>1.588005e+06</td>\n",
       "      <td>90000.000000</td>\n",
       "      <td>41.000000</td>\n",
       "      <td>NaN</td>\n",
       "      <td>2195.121951</td>\n",
       "      <td>NaN</td>\n",
       "      <td>NaN</td>\n",
       "      <td>1.000000</td>\n",
       "      <td>NaN</td>\n",
       "      <td>1.000000</td>\n",
       "      <td>2195.121951</td>\n",
       "      <td>4405.360000</td>\n",
       "      <td>0.000000</td>\n",
       "    </tr>\n",
       "    <tr>\n",
       "      <th>villa general mitre</th>\n",
       "      <td>17982.571429</td>\n",
       "      <td>78310.785714</td>\n",
       "      <td>3433955.0</td>\n",
       "      <td>-34.611130</td>\n",
       "      <td>-58.466698</td>\n",
       "      <td>307974.615385</td>\n",
       "      <td>2.902931e+06</td>\n",
       "      <td>164523.294615</td>\n",
       "      <td>53.000000</td>\n",
       "      <td>63.545455</td>\n",
       "      <td>1946.324664</td>\n",
       "      <td>8243.511050</td>\n",
       "      <td>NaN</td>\n",
       "      <td>1.000000</td>\n",
       "      <td>1593.888889</td>\n",
       "      <td>2.090909</td>\n",
       "      <td>1790.532993</td>\n",
       "      <td>1079.288571</td>\n",
       "      <td>0.000000</td>\n",
       "    </tr>\n",
       "    <tr>\n",
       "      <th>villa luro</th>\n",
       "      <td>17590.000000</td>\n",
       "      <td>75705.500000</td>\n",
       "      <td>3433955.0</td>\n",
       "      <td>-34.642476</td>\n",
       "      <td>-58.490923</td>\n",
       "      <td>125000.000000</td>\n",
       "      <td>2.205562e+06</td>\n",
       "      <td>125000.000000</td>\n",
       "      <td>129.000000</td>\n",
       "      <td>99.000000</td>\n",
       "      <td>968.992248</td>\n",
       "      <td>1262.626263</td>\n",
       "      <td>NaN</td>\n",
       "      <td>NaN</td>\n",
       "      <td>NaN</td>\n",
       "      <td>3.500000</td>\n",
       "      <td>968.992248</td>\n",
       "      <td>2468.090000</td>\n",
       "      <td>0.000000</td>\n",
       "    </tr>\n",
       "    <tr>\n",
       "      <th>villa real</th>\n",
       "      <td>17182.500000</td>\n",
       "      <td>75123.000000</td>\n",
       "      <td>3433955.0</td>\n",
       "      <td>-34.620084</td>\n",
       "      <td>-58.528411</td>\n",
       "      <td>164000.000000</td>\n",
       "      <td>2.893698e+06</td>\n",
       "      <td>164000.000000</td>\n",
       "      <td>108.500000</td>\n",
       "      <td>85.000000</td>\n",
       "      <td>1542.525773</td>\n",
       "      <td>2069.638695</td>\n",
       "      <td>NaN</td>\n",
       "      <td>NaN</td>\n",
       "      <td>4000.000000</td>\n",
       "      <td>3.000000</td>\n",
       "      <td>1542.525773</td>\n",
       "      <td>5391.960000</td>\n",
       "      <td>0.000000</td>\n",
       "    </tr>\n",
       "    <tr>\n",
       "      <th>villa santa rita</th>\n",
       "      <td>18278.769231</td>\n",
       "      <td>79484.153846</td>\n",
       "      <td>3433955.0</td>\n",
       "      <td>-34.615938</td>\n",
       "      <td>-58.477606</td>\n",
       "      <td>147307.692308</td>\n",
       "      <td>2.599171e+06</td>\n",
       "      <td>147307.692308</td>\n",
       "      <td>52.555556</td>\n",
       "      <td>59.692308</td>\n",
       "      <td>2242.411730</td>\n",
       "      <td>2513.439338</td>\n",
       "      <td>3.000000</td>\n",
       "      <td>NaN</td>\n",
       "      <td>1000.000000</td>\n",
       "      <td>1.600000</td>\n",
       "      <td>2100.819299</td>\n",
       "      <td>1241.009231</td>\n",
       "      <td>0.000000</td>\n",
       "    </tr>\n",
       "  </tbody>\n",
       "</table>\n",
       "<p>92 rows × 19 columns</p>\n",
       "</div>"
      ],
      "text/plain": [
       "                       Unnamed: 0  Unnamed: 0.1  geonames_id        lat  \\\n",
       "place_name                                                                \n",
       "Abasto               13280.950000  59012.250000          NaN -34.603424   \n",
       "Agronomía            10894.880000  48771.520000    3436487.0 -34.591886   \n",
       "Almagro              13303.954268  58785.709350    3436397.0 -34.607882   \n",
       "Balvanera            13455.265378  59724.479789    6693228.0 -34.609652   \n",
       "Barracas             11427.665635  50926.904025    3436134.0 -34.636875   \n",
       "...                           ...           ...          ...        ...   \n",
       "villa devoto         12129.500000  54661.500000    3433955.0 -34.619281   \n",
       "villa general mitre  17982.571429  78310.785714    3433955.0 -34.611130   \n",
       "villa luro           17590.000000  75705.500000    3433955.0 -34.642476   \n",
       "villa real           17182.500000  75123.000000    3433955.0 -34.620084   \n",
       "villa santa rita     18278.769231  79484.153846    3433955.0 -34.615938   \n",
       "\n",
       "                           lon          price  price_aprox_local_currency  \\\n",
       "place_name                                                                  \n",
       "Abasto              -58.411739  143944.350649                2.201536e+06   \n",
       "Agronomía           -58.485309  137690.434783                2.429479e+06   \n",
       "Almagro             -58.421786  191514.716707                2.306807e+06   \n",
       "Balvanera           -58.402640  129068.005576                2.090149e+06   \n",
       "Barracas            -58.373823  147833.593548                2.493611e+06   \n",
       "...                        ...            ...                         ...   \n",
       "villa devoto        -58.518171   90000.000000                1.588005e+06   \n",
       "villa general mitre -58.466698  307974.615385                2.902931e+06   \n",
       "villa luro          -58.490923  125000.000000                2.205562e+06   \n",
       "villa real          -58.528411  164000.000000                2.893698e+06   \n",
       "villa santa rita    -58.477606  147307.692308                2.599171e+06   \n",
       "\n",
       "                     price_aprox_usd  surface_total_in_m2  \\\n",
       "place_name                                                  \n",
       "Abasto                 124771.816494            55.650794   \n",
       "Agronomía              137690.434783            57.157895   \n",
       "Almagro                130738.024286            57.620939   \n",
       "Balvanera              118458.947509            62.988067   \n",
       "Barracas               141325.138226            68.530686   \n",
       "...                              ...                  ...   \n",
       "villa devoto            90000.000000            41.000000   \n",
       "villa general mitre    164523.294615            53.000000   \n",
       "villa luro             125000.000000           129.000000   \n",
       "villa real             164000.000000           108.500000   \n",
       "villa santa rita       147307.692308            52.555556   \n",
       "\n",
       "                     surface_covered_in_m2  price_usd_per_m2  price_per_m2  \\\n",
       "place_name                                                                   \n",
       "Abasto                           51.726027       2216.008248   2724.828722   \n",
       "Agronomía                        56.130435       2257.803667   2549.937271   \n",
       "Almagro                          60.152542       2264.488453   4203.834848   \n",
       "Balvanera                        67.293561       1981.091493   2486.061741   \n",
       "Barracas                         64.794521       2080.236964   2443.203075   \n",
       "...                                    ...               ...           ...   \n",
       "villa devoto                           NaN       2195.121951           NaN   \n",
       "villa general mitre              63.545455       1946.324664   8243.511050   \n",
       "villa luro                       99.000000        968.992248   1262.626263   \n",
       "villa real                       85.000000       1542.525773   2069.638695   \n",
       "villa santa rita                 59.692308       2242.411730   2513.439338   \n",
       "\n",
       "                         floor     rooms     expenses  rooms_reg  \\\n",
       "place_name                                                         \n",
       "Abasto                6.500000  2.466667  1486.565217   2.287671   \n",
       "Agronomía             6.000000  2.476190  3466.666667   2.480000   \n",
       "Almagro               4.377953  2.351852  2230.338583   2.229044   \n",
       "Balvanera             6.072581  2.644562  2092.697531   2.551456   \n",
       "Barracas             14.666667  2.526882  2411.725490   2.470383   \n",
       "...                        ...       ...          ...        ...   \n",
       "villa devoto               NaN  1.000000          NaN   1.000000   \n",
       "villa general mitre        NaN  1.000000  1593.888889   2.090909   \n",
       "villa luro                 NaN       NaN          NaN   3.500000   \n",
       "villa real                 NaN       NaN  4000.000000   3.000000   \n",
       "villa santa rita      3.000000       NaN  1000.000000   1.600000   \n",
       "\n",
       "                     price_m2_sin_out  distancia_subte  cerca_lejos  \n",
       "place_name                                                           \n",
       "Abasto                    2214.937803       207.343273     0.687500  \n",
       "Agronomía                 2257.803667      1040.380000     0.000000  \n",
       "Almagro                   2249.092843       330.997097     0.557927  \n",
       "Balvanera                 1966.196294       214.226614     0.826011  \n",
       "Barracas                  2032.632134      1116.044859     0.009288  \n",
       "...                               ...              ...          ...  \n",
       "villa devoto              2195.121951      4405.360000     0.000000  \n",
       "villa general mitre       1790.532993      1079.288571     0.000000  \n",
       "villa luro                 968.992248      2468.090000     0.000000  \n",
       "villa real                1542.525773      5391.960000     0.000000  \n",
       "villa santa rita          2100.819299      1241.009231     0.000000  \n",
       "\n",
       "[92 rows x 19 columns]"
      ]
     },
     "execution_count": 82,
     "metadata": {},
     "output_type": "execute_result"
    }
   ],
   "source": [
    "#Volvemos a tirar el df agrupado con los promedios de las variables cuanti para usar despues en el mapa de calor \n",
    "dfCapi_grouped=dfCapi.groupby('place_name').mean()\n",
    "dfCapi_grouped"
   ]
  },
  {
   "cell_type": "code",
   "execution_count": 83,
   "metadata": {
    "id": "iG63nCGM22_w"
   },
   "outputs": [],
   "source": [
    "# Ahora volvemos a hacer el match entre barrios y dfCapi1_grouped. Vamos a armar dos columnas:\n",
    "# 1) usdm2 que va a tener la media de price_usd_per_m2 por barrio\n",
    "# 2) usdm2_sin_out lo mismo pero con la columna sin outliers\n",
    "#Si no printea ningun barrio es porque matcheo todo"
   ]
  },
  {
   "cell_type": "code",
   "execution_count": 84,
   "metadata": {
    "id": "BTEB-1Na3JuH"
   },
   "outputs": [
    {
     "name": "stdout",
     "output_type": "stream",
     "text": [
      "chacarita\n",
      "villa del parque\n",
      "parque patricios\n",
      "mataderos\n",
      "villa lugano\n",
      "san telmo\n",
      "saavedra\n",
      "coghlan\n",
      "villa urquiza\n",
      "colegiales\n",
      "agronomía\n",
      "villa ortuzar\n",
      "villa riachuelo\n",
      "villa soldati\n",
      "villa pueyrredón\n",
      "liniers\n",
      "puerto madero\n",
      "boca\n"
     ]
    }
   ],
   "source": [
    "usdm2=[]\n",
    "for i,x in barrios.iterrows():\n",
    "    try:\n",
    "        j=dfCapi_grouped.index.get_loc(x.barrio)\n",
    "        usdm2.append(dfCapi_grouped.iloc[j].price_usd_per_m2) # le appedeamos el price usd por m2 de dfCapi_grouped promedio a pm2. Si no lo encuentra le pone 0\n",
    "    except:\n",
    "        # printeo los que no encuentra\n",
    "        print(x.barrio)\n",
    "        usdm2.append(0)"
   ]
  },
  {
   "cell_type": "code",
   "execution_count": 85,
   "metadata": {
    "id": "62c1FA3J3me7"
   },
   "outputs": [],
   "source": [
    "usdm2_sin_out=[]\n",
    "for i,x in barrios.iterrows():\n",
    "    try:\n",
    "        j=dfCapi_grouped.index.get_loc(x.barrio)\n",
    "        usdm2_sin_out.append(dfCapi_grouped.iloc[j].price_m2_sin_out) # le appedeamos el price usd por m2 de dfCapi_grouped promedio a pm2. Si no lo encuentra le pone 0\n",
    "    except:\n",
    "        # printeo los que no encuentra\n",
    "        (x.barrio)\n",
    "        usdm2_sin_out.append(0)"
   ]
  },
  {
   "cell_type": "code",
   "execution_count": 86,
   "metadata": {
    "colab": {
     "base_uri": "https://localhost:8080/",
     "height": 204
    },
    "id": "NWSuWh0L3z3f",
    "outputId": "ede4c285-f25b-439d-f3a9-5f141e3592a6"
   },
   "outputs": [
    {
     "data": {
      "text/html": [
       "<div>\n",
       "<style scoped>\n",
       "    .dataframe tbody tr th:only-of-type {\n",
       "        vertical-align: middle;\n",
       "    }\n",
       "\n",
       "    .dataframe tbody tr th {\n",
       "        vertical-align: top;\n",
       "    }\n",
       "\n",
       "    .dataframe thead th {\n",
       "        text-align: right;\n",
       "    }\n",
       "</style>\n",
       "<table border=\"1\" class=\"dataframe\">\n",
       "  <thead>\n",
       "    <tr style=\"text-align: right;\">\n",
       "      <th></th>\n",
       "      <th>Unnamed: 0</th>\n",
       "      <th>Unnamed: 0.1</th>\n",
       "      <th>WKT</th>\n",
       "      <th>barrio</th>\n",
       "      <th>COMUNA</th>\n",
       "      <th>PERIMETRO</th>\n",
       "      <th>AREA</th>\n",
       "      <th>WKT_shapely</th>\n",
       "      <th>price_usd_per_m2</th>\n",
       "      <th>price_usd_per_m2_sin_out</th>\n",
       "    </tr>\n",
       "  </thead>\n",
       "  <tbody>\n",
       "    <tr>\n",
       "      <th>0</th>\n",
       "      <td>0</td>\n",
       "      <td>0</td>\n",
       "      <td>POLYGON ((-58.4528200492791 -34.5959886570639,...</td>\n",
       "      <td>chacarita</td>\n",
       "      <td>15.0</td>\n",
       "      <td>7725.695228</td>\n",
       "      <td>3.118101e+06</td>\n",
       "      <td>POLYGON ((-58.4528200492791 -34.5959886570639,...</td>\n",
       "      <td>0.000000</td>\n",
       "      <td>0.000000</td>\n",
       "    </tr>\n",
       "    <tr>\n",
       "      <th>1</th>\n",
       "      <td>1</td>\n",
       "      <td>1</td>\n",
       "      <td>POLYGON ((-58.4655768128541 -34.5965577078058,...</td>\n",
       "      <td>paternal</td>\n",
       "      <td>15.0</td>\n",
       "      <td>7087.513295</td>\n",
       "      <td>2.229829e+06</td>\n",
       "      <td>POLYGON ((-58.4655768128541 -34.5965577078058,...</td>\n",
       "      <td>NaN</td>\n",
       "      <td>NaN</td>\n",
       "    </tr>\n",
       "    <tr>\n",
       "      <th>2</th>\n",
       "      <td>2</td>\n",
       "      <td>2</td>\n",
       "      <td>POLYGON ((-58.4237529813037 -34.5978273383243,...</td>\n",
       "      <td>villa crespo</td>\n",
       "      <td>15.0</td>\n",
       "      <td>8132.699348</td>\n",
       "      <td>3.613584e+06</td>\n",
       "      <td>POLYGON ((-58.4237529813037 -34.5978273383243,...</td>\n",
       "      <td>2040.691193</td>\n",
       "      <td>2040.691193</td>\n",
       "    </tr>\n",
       "    <tr>\n",
       "      <th>3</th>\n",
       "      <td>3</td>\n",
       "      <td>3</td>\n",
       "      <td>POLYGON ((-58.4946097568899 -34.6148652395239,...</td>\n",
       "      <td>villa del parque</td>\n",
       "      <td>11.0</td>\n",
       "      <td>7705.389797</td>\n",
       "      <td>3.399596e+06</td>\n",
       "      <td>POLYGON ((-58.4946097568899 -34.6148652395239,...</td>\n",
       "      <td>0.000000</td>\n",
       "      <td>0.000000</td>\n",
       "    </tr>\n",
       "    <tr>\n",
       "      <th>4</th>\n",
       "      <td>4</td>\n",
       "      <td>4</td>\n",
       "      <td>POLYGON ((-58.4128700313089 -34.6141162515854,...</td>\n",
       "      <td>almagro</td>\n",
       "      <td>5.0</td>\n",
       "      <td>8537.901368</td>\n",
       "      <td>4.050752e+06</td>\n",
       "      <td>POLYGON ((-58.4128700313089 -34.6141162515854,...</td>\n",
       "      <td>2464.788050</td>\n",
       "      <td>2464.788050</td>\n",
       "    </tr>\n",
       "  </tbody>\n",
       "</table>\n",
       "</div>"
      ],
      "text/plain": [
       "   Unnamed: 0  Unnamed: 0.1  \\\n",
       "0           0             0   \n",
       "1           1             1   \n",
       "2           2             2   \n",
       "3           3             3   \n",
       "4           4             4   \n",
       "\n",
       "                                                 WKT            barrio  \\\n",
       "0  POLYGON ((-58.4528200492791 -34.5959886570639,...         chacarita   \n",
       "1  POLYGON ((-58.4655768128541 -34.5965577078058,...          paternal   \n",
       "2  POLYGON ((-58.4237529813037 -34.5978273383243,...      villa crespo   \n",
       "3  POLYGON ((-58.4946097568899 -34.6148652395239,...  villa del parque   \n",
       "4  POLYGON ((-58.4128700313089 -34.6141162515854,...           almagro   \n",
       "\n",
       "   COMUNA    PERIMETRO          AREA  \\\n",
       "0    15.0  7725.695228  3.118101e+06   \n",
       "1    15.0  7087.513295  2.229829e+06   \n",
       "2    15.0  8132.699348  3.613584e+06   \n",
       "3    11.0  7705.389797  3.399596e+06   \n",
       "4     5.0  8537.901368  4.050752e+06   \n",
       "\n",
       "                                         WKT_shapely  price_usd_per_m2  \\\n",
       "0  POLYGON ((-58.4528200492791 -34.5959886570639,...          0.000000   \n",
       "1  POLYGON ((-58.4655768128541 -34.5965577078058,...               NaN   \n",
       "2  POLYGON ((-58.4237529813037 -34.5978273383243,...       2040.691193   \n",
       "3  POLYGON ((-58.4946097568899 -34.6148652395239,...          0.000000   \n",
       "4  POLYGON ((-58.4128700313089 -34.6141162515854,...       2464.788050   \n",
       "\n",
       "   price_usd_per_m2_sin_out  \n",
       "0                  0.000000  \n",
       "1                       NaN  \n",
       "2               2040.691193  \n",
       "3                  0.000000  \n",
       "4               2464.788050  "
      ]
     },
     "execution_count": 86,
     "metadata": {},
     "output_type": "execute_result"
    }
   ],
   "source": [
    "# Sumamos estas listas al df de barrios para hacer los mapas de calor \n",
    "barrios['price_usd_per_m2']=usdm2\n",
    "barrios['price_usd_per_m2_sin_out']=usdm2_sin_out\n",
    "barrios.head(5)"
   ]
  },
  {
   "cell_type": "code",
   "execution_count": 87,
   "metadata": {
    "id": "uDiZUfj84Mbt"
   },
   "outputs": [],
   "source": [
    "# Armamos un geojson para armar los mapas\n",
    "shapes=[ dict({'geometry': wkt.loads(x.WKT) , 'id' : x.barrio }) for i,x in barrios.iterrows()] \n",
    "# ahora armo el diccionario GeoJSON con esta lista:\n",
    "\n",
    "gd2=dict({'type': 'FeatureCollection' ,'features' : shapes })"
   ]
  },
  {
   "cell_type": "code",
   "execution_count": 88,
   "metadata": {
    "colab": {
     "base_uri": "https://localhost:8080/",
     "height": 517
    },
    "id": "CeKS67mw4d5_",
    "outputId": "19ac506b-a6d5-4566-d89b-d76fd07b3f5e"
   },
   "outputs": [],
   "source": [
    "#Mapa sin outliers: Puerto Madero es el barrio con mayor precio, seguido por Recoleta, Palermo, Belgrano y Nuñez. El precio cae si nos movemos al sur y al oeste\n",
    "# fig = px.choropleth_mapbox(barrios,geojson=gd2, locations='barrio', color='price_usd_per_m2_sin_out' ,mapbox_style=\"carto-positron\",center = {\"lat\": -34.6, \"lon\": -58.35},   \n",
    "#                            opacity=0.5, zoom= 10, height=500 ,  color_continuous_scale=\"aggrnyl\")\n",
    "# fig.show()"
   ]
  },
  {
   "cell_type": "code",
   "execution_count": 89,
   "metadata": {
    "colab": {
     "base_uri": "https://localhost:8080/",
     "height": 517
    },
    "id": "gNFga4_h4V-9",
    "outputId": "f1882143-de49-4b67-bb3a-e220ae08df7e"
   },
   "outputs": [],
   "source": [
    "#Mapa calor price_usd_per_m2 (sin sacar outliers): nos confirma que la eliminación de outliers estuvo bien dado que en este caso Boedo y San Cristobal tienen una media de precio en usd por metro cuadrado mayor a barrios como Puerto Madero, que no es creible\n",
    "# fig = px.choropleth_mapbox(barrios,geojson=gd2, locations='barrio', color='price_usd_per_m2' ,mapbox_style=\"carto-positron\",center = {\"lat\": -34.6, \"lon\": -58.35},   \n",
    "#                            opacity=0.5, zoom= 10, height=500 ,  color_continuous_scale=\"aggrnyl\")\n",
    "# fig.show()"
   ]
  },
  {
   "cell_type": "markdown",
   "metadata": {
    "id": "y4NyWrjFuCrB"
   },
   "source": [
    "- **Boxplot de precio por m2 por barrio**"
   ]
  },
  {
   "cell_type": "code",
   "execution_count": 90,
   "metadata": {
    "colab": {
     "base_uri": "https://localhost:8080/",
     "height": 1000
    },
    "id": "qC0lmLq2hivB",
    "outputId": "62137a5d-203d-4ec3-9f6a-1cc3ad71b1c4"
   },
   "outputs": [],
   "source": [
    "# sns.set_style('darkgrid')\n",
    "# plt.figure(figsize=(100,100))\n",
    "# sns.boxplot(data=dfCapi, x=\"place_name\", y=\"price_m2_sin_out\")\n",
    "\n",
    "# plt.xlabel(\"place_name\"); plt.ylabel(\"price_usd_per_m2_sin_out\");plt.title(\"Box Plot\")\n",
    "# plt.show()"
   ]
  },
  {
   "cell_type": "markdown",
   "metadata": {
    "id": "_by7ZinAic5W"
   },
   "source": [
    "\n",
    "- **Relación por tipo de propiedad, precio y superficie**"
   ]
  },
  {
   "cell_type": "code",
   "execution_count": 91,
   "metadata": {
    "id": "E3Ofm1amxfnt"
   },
   "outputs": [],
   "source": [
    "# SACAR OUTLIERS DE SUPERFICE"
   ]
  },
  {
   "cell_type": "code",
   "execution_count": 92,
   "metadata": {
    "colab": {
     "base_uri": "https://localhost:8080/",
     "height": 423
    },
    "id": "LUAUF_Yrhixu",
    "outputId": "85ef9a6b-8edb-4874-a284-e8003b2ec25a"
   },
   "outputs": [],
   "source": [
    "# g = sns.FacetGrid(dfCapi, col=\"property_type\")\n",
    "# g.map(sns.scatterplot, \"surface_total_in_m2\", \"price_m2_sin_out\")\n",
    "# g.fig.set_size_inches(25, 10)\n",
    "# g.set_axis_labels('Surface in M2', \"Price per M2 in USD\")\n",
    "# plt.show()"
   ]
  },
  {
   "cell_type": "markdown",
   "metadata": {
    "id": "flXKDHQcimgb"
   },
   "source": [
    "- **Distribución de precio en usd por m2**"
   ]
  },
  {
   "cell_type": "code",
   "execution_count": 93,
   "metadata": {
    "colab": {
     "base_uri": "https://localhost:8080/",
     "height": 369
    },
    "id": "fetZi3e3hi3G",
    "outputId": "0e3b0130-7c6a-49d1-9450-6df9847e707b"
   },
   "outputs": [
    {
     "data": {
      "image/png": "[encoded data removed]",
      "text/plain": [
       "<Figure size 360x360 with 1 Axes>"
      ]
     },
     "metadata": {},
     "output_type": "display_data"
    }
   ],
   "source": [
    "sns.displot(dfCapi['price_usd_per_m2']);"
   ]
  },
  {
   "cell_type": "code",
   "execution_count": 94,
   "metadata": {
    "colab": {
     "base_uri": "https://localhost:8080/",
     "height": 369
    },
    "id": "UHFHw3U2hi6Y",
    "outputId": "cfdd4e54-a14b-4a26-8add-fbf139b5e453"
   },
   "outputs": [
    {
     "data": {
      "image/png": "[encoded data removed]",
      "text/plain": [
       "<Figure size 360x360 with 1 Axes>"
      ]
     },
     "metadata": {},
     "output_type": "display_data"
    }
   ],
   "source": [
    "sns.displot(dfCapi['price_m2_sin_out'], bins=20);"
   ]
  },
  {
   "cell_type": "markdown",
   "metadata": {
    "id": "Mnf7YR4HzYfa"
   },
   "source": [
    "- **Boxplot de precio por m2 por tipo de propiedad**"
   ]
  },
  {
   "cell_type": "markdown",
   "metadata": {
    "id": "W7-xKXgTzkQm"
   },
   "source": [
    "Los departamentos en promedio son más caros que las casas. En general las casas se dan más en barrios más baratos "
   ]
  },
  {
   "cell_type": "code",
   "execution_count": 95,
   "metadata": {
    "colab": {
     "base_uri": "https://localhost:8080/",
     "height": 622
    },
    "id": "Z0KBz9-fxEwd",
    "outputId": "e44e74e1-e1b2-46a4-f2ed-84161f44e06d"
   },
   "outputs": [
    {
     "data": {
      "image/png": "[encoded data removed]",
      "text/plain": [
       "<Figure size 720x720 with 1 Axes>"
      ]
     },
     "metadata": {},
     "output_type": "display_data"
    }
   ],
   "source": [
    "sns.set_style('darkgrid')\n",
    "plt.figure(figsize=(10,10))\n",
    "sns.boxplot(data=dfCapi, x=\"property_type\", y=\"price_m2_sin_out\")\n",
    "\n",
    "plt.xlabel(\"property_type\"); plt.ylabel(\"price_usd_per_m2_sin_out\");plt.title(\"Box Plot\")\n",
    "plt.show()"
   ]
  },
  {
   "cell_type": "code",
   "execution_count": 96,
   "metadata": {
    "colab": {
     "base_uri": "https://localhost:8080/",
     "height": 235
    },
    "id": "lJgOl8O70Ng7",
    "outputId": "7ef29013-ffb2-4bd8-bb88-7c85ae167c26"
   },
   "outputs": [
    {
     "data": {
      "text/html": [
       "<div>\n",
       "<style scoped>\n",
       "    .dataframe tbody tr th:only-of-type {\n",
       "        vertical-align: middle;\n",
       "    }\n",
       "\n",
       "    .dataframe tbody tr th {\n",
       "        vertical-align: top;\n",
       "    }\n",
       "\n",
       "    .dataframe thead tr th {\n",
       "        text-align: left;\n",
       "    }\n",
       "\n",
       "    .dataframe thead tr:last-of-type th {\n",
       "        text-align: right;\n",
       "    }\n",
       "</style>\n",
       "<table border=\"1\" class=\"dataframe\">\n",
       "  <thead>\n",
       "    <tr>\n",
       "      <th></th>\n",
       "      <th colspan=\"3\" halign=\"left\">price_m2_sin_out</th>\n",
       "    </tr>\n",
       "    <tr>\n",
       "      <th></th>\n",
       "      <th>mean</th>\n",
       "      <th>median</th>\n",
       "      <th>skew</th>\n",
       "    </tr>\n",
       "    <tr>\n",
       "      <th>property_type</th>\n",
       "      <th></th>\n",
       "      <th></th>\n",
       "      <th></th>\n",
       "    </tr>\n",
       "  </thead>\n",
       "  <tbody>\n",
       "    <tr>\n",
       "      <th>PH</th>\n",
       "      <td>1773.563198</td>\n",
       "      <td>1701.030928</td>\n",
       "      <td>0.687441</td>\n",
       "    </tr>\n",
       "    <tr>\n",
       "      <th>apartment</th>\n",
       "      <td>2544.800238</td>\n",
       "      <td>2484.848485</td>\n",
       "      <td>0.467606</td>\n",
       "    </tr>\n",
       "    <tr>\n",
       "      <th>house</th>\n",
       "      <td>1561.374051</td>\n",
       "      <td>1416.381873</td>\n",
       "      <td>1.912278</td>\n",
       "    </tr>\n",
       "    <tr>\n",
       "      <th>store</th>\n",
       "      <td>2416.443486</td>\n",
       "      <td>2383.803028</td>\n",
       "      <td>0.152015</td>\n",
       "    </tr>\n",
       "  </tbody>\n",
       "</table>\n",
       "</div>"
      ],
      "text/plain": [
       "              price_m2_sin_out                       \n",
       "                          mean       median      skew\n",
       "property_type                                        \n",
       "PH                 1773.563198  1701.030928  0.687441\n",
       "apartment          2544.800238  2484.848485  0.467606\n",
       "house              1561.374051  1416.381873  1.912278\n",
       "store              2416.443486  2383.803028  0.152015"
      ]
     },
     "execution_count": 96,
     "metadata": {},
     "output_type": "execute_result"
    }
   ],
   "source": [
    "dfCapi.loc[:,[\"property_type\",\"price_m2_sin_out\"]].groupby(\"property_type\").agg([\"mean\",\"median\", \"skew\"])"
   ]
  },
  {
   "cell_type": "markdown",
   "metadata": {
    "id": "SCfapya6sejr"
   },
   "source": [
    "### **3. Creación de nuevos campos**"
   ]
  },
  {
   "cell_type": "markdown",
   "metadata": {
    "id": "8QoD_FOKtimP"
   },
   "source": [
    "- Amenities"
   ]
  },
  {
   "cell_type": "code",
   "execution_count": 97,
   "metadata": {
    "id": "bhNuDTtUaiIa"
   },
   "outputs": [],
   "source": [
    "#Convertimos la columna description en una lista\n",
    "description_list = list(set(dfCapi['description']))"
   ]
  },
  {
   "cell_type": "code",
   "execution_count": 98,
   "metadata": {
    "id": "INi95_Vdal3k"
   },
   "outputs": [],
   "source": [
    "# Armamos una lista de keywords que nos interesa encontrar en la columna description de cada propiedad\n",
    "amenities_list = ['parrilla', 'hidromasaje', 'jacuzzi','terraza','cochera', 'solarium', 'baulera', 'balcón', 'patio','patios','sum','salón de usos múltiples','seguridad' ,'mármol', 'gimnasio', 'gym','lavadero','losa radiante','vigilancia','laundry','luminoso','apto profesional',\"pileta\",\"piscina\"]"
   ]
  },
  {
   "cell_type": "code",
   "execution_count": 99,
   "metadata": {
    "id": "LeFq8-AKaqWs"
   },
   "outputs": [],
   "source": [
    "#Regex para separar con pipes cada keyword\n",
    "ame = r'\\b(?:{})\\b'.format('|'.join(map(re.escape, amenities_list)))"
   ]
  },
  {
   "cell_type": "code",
   "execution_count": 100,
   "metadata": {
    "colab": {
     "base_uri": "https://localhost:8080/"
    },
    "id": "InJO8g_KauVL",
    "outputId": "68a9dfbc-87ff-450b-9ba7-45bac73e22bd"
   },
   "outputs": [],
   "source": [
    "#Ponemos en minuscula las descripciones\n",
    "dfCapi['description']=dfCapi.description.str.lower()\n",
    "dfCapi_amenities=dfCapi"
   ]
  },
  {
   "cell_type": "code",
   "execution_count": 101,
   "metadata": {
    "id": "GVRRmn2QauMg"
   },
   "outputs": [],
   "source": [
    "#nos fijamos en que descripcion hay algun valor de la lista de amenities\n",
    "df_amenities = dfCapi_amenities.loc[dfCapi_amenities['description'].str.contains(ame)].reset_index()"
   ]
  },
  {
   "cell_type": "code",
   "execution_count": 102,
   "metadata": {
    "id": "-MPXqGveauCX"
   },
   "outputs": [],
   "source": [
    "\n",
    "df_amenities['aux_split']=df_amenities.description.str.split(' ')"
   ]
  },
  {
   "cell_type": "code",
   "execution_count": 103,
   "metadata": {},
   "outputs": [
    {
     "data": {
      "text/html": [
       "<div>\n",
       "<style scoped>\n",
       "    .dataframe tbody tr th:only-of-type {\n",
       "        vertical-align: middle;\n",
       "    }\n",
       "\n",
       "    .dataframe tbody tr th {\n",
       "        vertical-align: top;\n",
       "    }\n",
       "\n",
       "    .dataframe thead th {\n",
       "        text-align: right;\n",
       "    }\n",
       "</style>\n",
       "<table border=\"1\" class=\"dataframe\">\n",
       "  <thead>\n",
       "    <tr style=\"text-align: right;\">\n",
       "      <th></th>\n",
       "      <th>index</th>\n",
       "      <th>Unnamed: 0</th>\n",
       "      <th>Unnamed: 0.1</th>\n",
       "      <th>operation</th>\n",
       "      <th>property_type</th>\n",
       "      <th>place_name</th>\n",
       "      <th>place_with_parent_names</th>\n",
       "      <th>country_name</th>\n",
       "      <th>state_name</th>\n",
       "      <th>geonames_id</th>\n",
       "      <th>...</th>\n",
       "      <th>properati_url</th>\n",
       "      <th>description</th>\n",
       "      <th>title</th>\n",
       "      <th>image_thumbnail</th>\n",
       "      <th>rooms_reg</th>\n",
       "      <th>price_m2_sin_out</th>\n",
       "      <th>geometry</th>\n",
       "      <th>distancia_subte</th>\n",
       "      <th>cerca_lejos</th>\n",
       "      <th>aux_split</th>\n",
       "    </tr>\n",
       "  </thead>\n",
       "  <tbody>\n",
       "    <tr>\n",
       "      <th>0</th>\n",
       "      <td>0</td>\n",
       "      <td>0</td>\n",
       "      <td>0</td>\n",
       "      <td>sell</td>\n",
       "      <td>PH</td>\n",
       "      <td>Mataderos</td>\n",
       "      <td>|Argentina|Capital Federal|Mataderos|</td>\n",
       "      <td>Argentina</td>\n",
       "      <td>Capital Federal</td>\n",
       "      <td>3430787.0</td>\n",
       "      <td>...</td>\n",
       "      <td>http://www.properati.com.ar/15bo8_venta_ph_mat...</td>\n",
       "      <td>2 ambientes tipo casa planta baja por pasillo,...</td>\n",
       "      <td>2 AMB TIPO CASA SIN EXPENSAS EN PB</td>\n",
       "      <td>https://thumbs4.properati.com/8/BluUYiHJLhgIIK...</td>\n",
       "      <td>2.0</td>\n",
       "      <td>1127.272727</td>\n",
       "      <td>POINT (-58.5088387 -34.6618237)</td>\n",
       "      <td>4728.39</td>\n",
       "      <td>0</td>\n",
       "      <td>[2, ambientes, tipo, casa, planta, baja, por, ...</td>\n",
       "    </tr>\n",
       "    <tr>\n",
       "      <th>1</th>\n",
       "      <td>1</td>\n",
       "      <td>1</td>\n",
       "      <td>2</td>\n",
       "      <td>sell</td>\n",
       "      <td>apartment</td>\n",
       "      <td>Mataderos</td>\n",
       "      <td>|Argentina|Capital Federal|Mataderos|</td>\n",
       "      <td>Argentina</td>\n",
       "      <td>Capital Federal</td>\n",
       "      <td>3430787.0</td>\n",
       "      <td>...</td>\n",
       "      <td>http://www.properati.com.ar/15bod_venta_depart...</td>\n",
       "      <td>2 ambientes 3er piso lateral living comedor am...</td>\n",
       "      <td>2 AMB 3ER PISO CON ASCENSOR APTO CREDITO</td>\n",
       "      <td>https://thumbs4.properati.com/5/SXKr34F_IwG3W_...</td>\n",
       "      <td>2.0</td>\n",
       "      <td>1309.090909</td>\n",
       "      <td>POINT (-58.5229825 -34.6522615)</td>\n",
       "      <td>6073.15</td>\n",
       "      <td>0</td>\n",
       "      <td>[2, ambientes, 3er, piso, lateral, living, com...</td>\n",
       "    </tr>\n",
       "    <tr>\n",
       "      <th>2</th>\n",
       "      <td>2</td>\n",
       "      <td>2</td>\n",
       "      <td>3</td>\n",
       "      <td>sell</td>\n",
       "      <td>PH</td>\n",
       "      <td>Liniers</td>\n",
       "      <td>|Argentina|Capital Federal|Liniers|</td>\n",
       "      <td>Argentina</td>\n",
       "      <td>Capital Federal</td>\n",
       "      <td>3431333.0</td>\n",
       "      <td>...</td>\n",
       "      <td>http://www.properati.com.ar/15boh_venta_ph_lin...</td>\n",
       "      <td>ph 3 ambientes con patio. hay 3 deptos en lote...</td>\n",
       "      <td>PH 3 amb. cfte. reciclado</td>\n",
       "      <td>https://thumbs4.properati.com/3/DgIfX-85Mog5SP...</td>\n",
       "      <td>3.0</td>\n",
       "      <td>1487.571343</td>\n",
       "      <td>POINT (-58.5164244 -34.6477969)</td>\n",
       "      <td>5305.63</td>\n",
       "      <td>0</td>\n",
       "      <td>[ph, 3, ambientes, con, patio., hay, 3, deptos...</td>\n",
       "    </tr>\n",
       "    <tr>\n",
       "      <th>3</th>\n",
       "      <td>3</td>\n",
       "      <td>3</td>\n",
       "      <td>7</td>\n",
       "      <td>sell</td>\n",
       "      <td>apartment</td>\n",
       "      <td>Belgrano</td>\n",
       "      <td>|Argentina|Capital Federal|Belgrano|</td>\n",
       "      <td>Argentina</td>\n",
       "      <td>Capital Federal</td>\n",
       "      <td>3436077.0</td>\n",
       "      <td>...</td>\n",
       "      <td>http://www.properati.com.ar/15bot_venta_depart...</td>\n",
       "      <td>excelente monoambiente a estrenar amplio super...</td>\n",
       "      <td>JOSE HERNANDEZ 1400 MONOAMBIENTE  ESTRENAR CAT...</td>\n",
       "      <td>https://thumbs4.properati.com/1/IHxARynlr8sPEW...</td>\n",
       "      <td>1.0</td>\n",
       "      <td>3066.666667</td>\n",
       "      <td>POINT (-58.443362 -34.5598729)</td>\n",
       "      <td>609.74</td>\n",
       "      <td>0</td>\n",
       "      <td>[excelente, monoambiente, a, estrenar, amplio,...</td>\n",
       "    </tr>\n",
       "    <tr>\n",
       "      <th>4</th>\n",
       "      <td>4</td>\n",
       "      <td>4</td>\n",
       "      <td>8</td>\n",
       "      <td>sell</td>\n",
       "      <td>apartment</td>\n",
       "      <td>Belgrano</td>\n",
       "      <td>|Argentina|Capital Federal|Belgrano|</td>\n",
       "      <td>Argentina</td>\n",
       "      <td>Capital Federal</td>\n",
       "      <td>3436077.0</td>\n",
       "      <td>...</td>\n",
       "      <td>http://www.properati.com.ar/15bou_venta_depart...</td>\n",
       "      <td>excelente dos ambientes  estrenar amplio super...</td>\n",
       "      <td>JOSE HERNANDEZ   1400 DOS AMBIENTES ESTRENAR ,...</td>\n",
       "      <td>https://thumbs4.properati.com/2/J3zOjgaFHrkvnv...</td>\n",
       "      <td>2.0</td>\n",
       "      <td>3000.000000</td>\n",
       "      <td>POINT (-58.443362 -34.5598729)</td>\n",
       "      <td>609.74</td>\n",
       "      <td>0</td>\n",
       "      <td>[excelente, dos, ambientes, , estrenar, amplio...</td>\n",
       "    </tr>\n",
       "  </tbody>\n",
       "</table>\n",
       "<p>5 rows × 34 columns</p>\n",
       "</div>"
      ],
      "text/plain": [
       "   index  Unnamed: 0  Unnamed: 0.1 operation property_type place_name  \\\n",
       "0      0           0             0      sell            PH  Mataderos   \n",
       "1      1           1             2      sell     apartment  Mataderos   \n",
       "2      2           2             3      sell            PH    Liniers   \n",
       "3      3           3             7      sell     apartment   Belgrano   \n",
       "4      4           4             8      sell     apartment   Belgrano   \n",
       "\n",
       "                 place_with_parent_names country_name       state_name  \\\n",
       "0  |Argentina|Capital Federal|Mataderos|    Argentina  Capital Federal   \n",
       "1  |Argentina|Capital Federal|Mataderos|    Argentina  Capital Federal   \n",
       "2    |Argentina|Capital Federal|Liniers|    Argentina  Capital Federal   \n",
       "3   |Argentina|Capital Federal|Belgrano|    Argentina  Capital Federal   \n",
       "4   |Argentina|Capital Federal|Belgrano|    Argentina  Capital Federal   \n",
       "\n",
       "   geonames_id  ...                                      properati_url  \\\n",
       "0    3430787.0  ...  http://www.properati.com.ar/15bo8_venta_ph_mat...   \n",
       "1    3430787.0  ...  http://www.properati.com.ar/15bod_venta_depart...   \n",
       "2    3431333.0  ...  http://www.properati.com.ar/15boh_venta_ph_lin...   \n",
       "3    3436077.0  ...  http://www.properati.com.ar/15bot_venta_depart...   \n",
       "4    3436077.0  ...  http://www.properati.com.ar/15bou_venta_depart...   \n",
       "\n",
       "                                         description  \\\n",
       "0  2 ambientes tipo casa planta baja por pasillo,...   \n",
       "1  2 ambientes 3er piso lateral living comedor am...   \n",
       "2  ph 3 ambientes con patio. hay 3 deptos en lote...   \n",
       "3  excelente monoambiente a estrenar amplio super...   \n",
       "4  excelente dos ambientes  estrenar amplio super...   \n",
       "\n",
       "                                               title  \\\n",
       "0                 2 AMB TIPO CASA SIN EXPENSAS EN PB   \n",
       "1           2 AMB 3ER PISO CON ASCENSOR APTO CREDITO   \n",
       "2                       PH 3 amb. cfte. reciclado      \n",
       "3  JOSE HERNANDEZ 1400 MONOAMBIENTE  ESTRENAR CAT...   \n",
       "4  JOSE HERNANDEZ   1400 DOS AMBIENTES ESTRENAR ,...   \n",
       "\n",
       "                                     image_thumbnail rooms_reg  \\\n",
       "0  https://thumbs4.properati.com/8/BluUYiHJLhgIIK...       2.0   \n",
       "1  https://thumbs4.properati.com/5/SXKr34F_IwG3W_...       2.0   \n",
       "2  https://thumbs4.properati.com/3/DgIfX-85Mog5SP...       3.0   \n",
       "3  https://thumbs4.properati.com/1/IHxARynlr8sPEW...       1.0   \n",
       "4  https://thumbs4.properati.com/2/J3zOjgaFHrkvnv...       2.0   \n",
       "\n",
       "   price_m2_sin_out                         geometry  distancia_subte  \\\n",
       "0       1127.272727  POINT (-58.5088387 -34.6618237)          4728.39   \n",
       "1       1309.090909  POINT (-58.5229825 -34.6522615)          6073.15   \n",
       "2       1487.571343  POINT (-58.5164244 -34.6477969)          5305.63   \n",
       "3       3066.666667   POINT (-58.443362 -34.5598729)           609.74   \n",
       "4       3000.000000   POINT (-58.443362 -34.5598729)           609.74   \n",
       "\n",
       "   cerca_lejos                                          aux_split  \n",
       "0            0  [2, ambientes, tipo, casa, planta, baja, por, ...  \n",
       "1            0  [2, ambientes, 3er, piso, lateral, living, com...  \n",
       "2            0  [ph, 3, ambientes, con, patio., hay, 3, deptos...  \n",
       "3            0  [excelente, monoambiente, a, estrenar, amplio,...  \n",
       "4            0  [excelente, dos, ambientes, , estrenar, amplio...  \n",
       "\n",
       "[5 rows x 34 columns]"
      ]
     },
     "execution_count": 103,
     "metadata": {},
     "output_type": "execute_result"
    }
   ],
   "source": [
    "df_amenities.head()"
   ]
  },
  {
   "cell_type": "code",
   "execution_count": 104,
   "metadata": {
    "id": "7-dvzq3Oa4RY"
   },
   "outputs": [],
   "source": [
    "ame_name = []\n",
    "aux_split = []\n",
    "events = []\n",
    "for i in range(len(df_amenities['aux_split'])):\n",
    "    for j in range(len(df_amenities['aux_split'][i])):\n",
    "        if df_amenities['aux_split'][i][j] in amenities_list:\n",
    "            ame_name.append(df_amenities['aux_split'][i][j])\n",
    "            aux_split.append((df_amenities['index'][i]))\n",
    "            events.append(1)"
   ]
  },
  {
   "cell_type": "code",
   "execution_count": 105,
   "metadata": {
    "id": "xKzStXcza6oJ"
   },
   "outputs": [],
   "source": [
    "aux_ame = pd.DataFrame(\n",
    "    {'aux_split': aux_split,\n",
    "     'Amenities': ame_name,\n",
    "     'events':events\n",
    "    })"
   ]
  },
  {
   "cell_type": "code",
   "execution_count": 106,
   "metadata": {},
   "outputs": [
    {
     "data": {
      "text/html": [
       "<div>\n",
       "<style scoped>\n",
       "    .dataframe tbody tr th:only-of-type {\n",
       "        vertical-align: middle;\n",
       "    }\n",
       "\n",
       "    .dataframe tbody tr th {\n",
       "        vertical-align: top;\n",
       "    }\n",
       "\n",
       "    .dataframe thead th {\n",
       "        text-align: right;\n",
       "    }\n",
       "</style>\n",
       "<table border=\"1\" class=\"dataframe\">\n",
       "  <thead>\n",
       "    <tr style=\"text-align: right;\">\n",
       "      <th></th>\n",
       "      <th>aux_split</th>\n",
       "      <th>Amenities</th>\n",
       "      <th>events</th>\n",
       "    </tr>\n",
       "  </thead>\n",
       "  <tbody>\n",
       "    <tr>\n",
       "      <th>0</th>\n",
       "      <td>0</td>\n",
       "      <td>patio</td>\n",
       "      <td>1</td>\n",
       "    </tr>\n",
       "    <tr>\n",
       "      <th>1</th>\n",
       "      <td>3</td>\n",
       "      <td>luminoso</td>\n",
       "      <td>1</td>\n",
       "    </tr>\n",
       "    <tr>\n",
       "      <th>2</th>\n",
       "      <td>3</td>\n",
       "      <td>pileta</td>\n",
       "      <td>1</td>\n",
       "    </tr>\n",
       "    <tr>\n",
       "      <th>3</th>\n",
       "      <td>3</td>\n",
       "      <td>laundry</td>\n",
       "      <td>1</td>\n",
       "    </tr>\n",
       "    <tr>\n",
       "      <th>4</th>\n",
       "      <td>4</td>\n",
       "      <td>luminoso</td>\n",
       "      <td>1</td>\n",
       "    </tr>\n",
       "    <tr>\n",
       "      <th>5</th>\n",
       "      <td>4</td>\n",
       "      <td>pileta</td>\n",
       "      <td>1</td>\n",
       "    </tr>\n",
       "    <tr>\n",
       "      <th>6</th>\n",
       "      <td>4</td>\n",
       "      <td>laundry</td>\n",
       "      <td>1</td>\n",
       "    </tr>\n",
       "    <tr>\n",
       "      <th>7</th>\n",
       "      <td>5</td>\n",
       "      <td>terraza</td>\n",
       "      <td>1</td>\n",
       "    </tr>\n",
       "    <tr>\n",
       "      <th>8</th>\n",
       "      <td>5</td>\n",
       "      <td>piscina</td>\n",
       "      <td>1</td>\n",
       "    </tr>\n",
       "    <tr>\n",
       "      <th>9</th>\n",
       "      <td>6</td>\n",
       "      <td>piscina</td>\n",
       "      <td>1</td>\n",
       "    </tr>\n",
       "    <tr>\n",
       "      <th>10</th>\n",
       "      <td>8</td>\n",
       "      <td>luminoso</td>\n",
       "      <td>1</td>\n",
       "    </tr>\n",
       "    <tr>\n",
       "      <th>11</th>\n",
       "      <td>8</td>\n",
       "      <td>balcón</td>\n",
       "      <td>1</td>\n",
       "    </tr>\n",
       "    <tr>\n",
       "      <th>12</th>\n",
       "      <td>8</td>\n",
       "      <td>baulera</td>\n",
       "      <td>1</td>\n",
       "    </tr>\n",
       "    <tr>\n",
       "      <th>13</th>\n",
       "      <td>9</td>\n",
       "      <td>patios</td>\n",
       "      <td>1</td>\n",
       "    </tr>\n",
       "    <tr>\n",
       "      <th>14</th>\n",
       "      <td>10</td>\n",
       "      <td>luminoso</td>\n",
       "      <td>1</td>\n",
       "    </tr>\n",
       "    <tr>\n",
       "      <th>15</th>\n",
       "      <td>10</td>\n",
       "      <td>balcón</td>\n",
       "      <td>1</td>\n",
       "    </tr>\n",
       "    <tr>\n",
       "      <th>16</th>\n",
       "      <td>10</td>\n",
       "      <td>balcón</td>\n",
       "      <td>1</td>\n",
       "    </tr>\n",
       "    <tr>\n",
       "      <th>17</th>\n",
       "      <td>12</td>\n",
       "      <td>seguridad</td>\n",
       "      <td>1</td>\n",
       "    </tr>\n",
       "    <tr>\n",
       "      <th>18</th>\n",
       "      <td>15</td>\n",
       "      <td>lavadero</td>\n",
       "      <td>1</td>\n",
       "    </tr>\n",
       "    <tr>\n",
       "      <th>19</th>\n",
       "      <td>15</td>\n",
       "      <td>baulera</td>\n",
       "      <td>1</td>\n",
       "    </tr>\n",
       "  </tbody>\n",
       "</table>\n",
       "</div>"
      ],
      "text/plain": [
       "    aux_split  Amenities  events\n",
       "0           0      patio       1\n",
       "1           3   luminoso       1\n",
       "2           3     pileta       1\n",
       "3           3    laundry       1\n",
       "4           4   luminoso       1\n",
       "5           4     pileta       1\n",
       "6           4    laundry       1\n",
       "7           5    terraza       1\n",
       "8           5    piscina       1\n",
       "9           6    piscina       1\n",
       "10          8   luminoso       1\n",
       "11          8     balcón       1\n",
       "12          8    baulera       1\n",
       "13          9     patios       1\n",
       "14         10   luminoso       1\n",
       "15         10     balcón       1\n",
       "16         10     balcón       1\n",
       "17         12  seguridad       1\n",
       "18         15   lavadero       1\n",
       "19         15    baulera       1"
      ]
     },
     "execution_count": 106,
     "metadata": {},
     "output_type": "execute_result"
    }
   ],
   "source": [
    "aux_ame.head(20)"
   ]
  },
  {
   "cell_type": "code",
   "execution_count": 107,
   "metadata": {
    "id": "zMaKuGm0a9XW"
   },
   "outputs": [],
   "source": [
    "amenities= pd.pivot_table(aux_ame, index=['aux_split'], columns= ['Amenities'])"
   ]
  },
  {
   "cell_type": "code",
   "execution_count": 108,
   "metadata": {
    "id": "ktWk75UObBOx"
   },
   "outputs": [],
   "source": [
    "amenities.columns = amenities.columns.get_level_values(1)"
   ]
  },
  {
   "cell_type": "code",
   "execution_count": 109,
   "metadata": {},
   "outputs": [
    {
     "data": {
      "text/plain": [
       "336042"
      ]
     },
     "execution_count": 109,
     "metadata": {},
     "output_type": "execute_result"
    }
   ],
   "source": [
    "amenities.size"
   ]
  },
  {
   "cell_type": "code",
   "execution_count": 110,
   "metadata": {},
   "outputs": [],
   "source": [
    "dfCapi['index_original']=dfCapi.index"
   ]
  },
  {
   "cell_type": "code",
   "execution_count": 111,
   "metadata": {},
   "outputs": [
    {
     "data": {
      "text/plain": [
       "802626"
      ]
     },
     "execution_count": 111,
     "metadata": {},
     "output_type": "execute_result"
    }
   ],
   "source": [
    "dfCapi.size"
   ]
  },
  {
   "cell_type": "code",
   "execution_count": 112,
   "metadata": {
    "colab": {
     "base_uri": "https://localhost:8080/",
     "height": 547
    },
    "id": "RV809Q4obC8y",
    "outputId": "4c3fd525-b317-45b1-b35b-a6ba2edb6521"
   },
   "outputs": [],
   "source": [
    "\n",
    "dfCapi= dfCapi.merge(amenities, left_on='index_original', right_on='aux_split', how='left').fillna(0)\n"
   ]
  },
  {
   "cell_type": "code",
   "execution_count": 113,
   "metadata": {},
   "outputs": [],
   "source": [
    "df_amenities.drop_duplicates(subset=[\"index\"], inplace=True)"
   ]
  },
  {
   "cell_type": "code",
   "execution_count": 114,
   "metadata": {
    "id": "pavCGcJD5RT0"
   },
   "outputs": [
    {
     "data": {
      "text/html": [
       "<div>\n",
       "<style scoped>\n",
       "    .dataframe tbody tr th:only-of-type {\n",
       "        vertical-align: middle;\n",
       "    }\n",
       "\n",
       "    .dataframe tbody tr th {\n",
       "        vertical-align: top;\n",
       "    }\n",
       "\n",
       "    .dataframe thead th {\n",
       "        text-align: right;\n",
       "    }\n",
       "</style>\n",
       "<table border=\"1\" class=\"dataframe\">\n",
       "  <thead>\n",
       "    <tr style=\"text-align: right;\">\n",
       "      <th></th>\n",
       "      <th>index</th>\n",
       "      <th>Unnamed: 0</th>\n",
       "      <th>Unnamed: 0.1</th>\n",
       "      <th>operation</th>\n",
       "      <th>property_type</th>\n",
       "      <th>place_name</th>\n",
       "      <th>place_with_parent_names</th>\n",
       "      <th>country_name</th>\n",
       "      <th>state_name</th>\n",
       "      <th>geonames_id</th>\n",
       "      <th>...</th>\n",
       "      <th>properati_url</th>\n",
       "      <th>description</th>\n",
       "      <th>title</th>\n",
       "      <th>image_thumbnail</th>\n",
       "      <th>rooms_reg</th>\n",
       "      <th>price_m2_sin_out</th>\n",
       "      <th>geometry</th>\n",
       "      <th>distancia_subte</th>\n",
       "      <th>cerca_lejos</th>\n",
       "      <th>aux_split</th>\n",
       "    </tr>\n",
       "  </thead>\n",
       "  <tbody>\n",
       "    <tr>\n",
       "      <th>0</th>\n",
       "      <td>0</td>\n",
       "      <td>0</td>\n",
       "      <td>0</td>\n",
       "      <td>sell</td>\n",
       "      <td>PH</td>\n",
       "      <td>Mataderos</td>\n",
       "      <td>|Argentina|Capital Federal|Mataderos|</td>\n",
       "      <td>Argentina</td>\n",
       "      <td>Capital Federal</td>\n",
       "      <td>3430787.0</td>\n",
       "      <td>...</td>\n",
       "      <td>http://www.properati.com.ar/15bo8_venta_ph_mat...</td>\n",
       "      <td>2 ambientes tipo casa planta baja por pasillo,...</td>\n",
       "      <td>2 AMB TIPO CASA SIN EXPENSAS EN PB</td>\n",
       "      <td>https://thumbs4.properati.com/8/BluUYiHJLhgIIK...</td>\n",
       "      <td>2.0</td>\n",
       "      <td>1127.272727</td>\n",
       "      <td>POINT (-58.5088387 -34.6618237)</td>\n",
       "      <td>4728.39</td>\n",
       "      <td>0</td>\n",
       "      <td>[2, ambientes, tipo, casa, planta, baja, por, ...</td>\n",
       "    </tr>\n",
       "    <tr>\n",
       "      <th>1</th>\n",
       "      <td>1</td>\n",
       "      <td>1</td>\n",
       "      <td>2</td>\n",
       "      <td>sell</td>\n",
       "      <td>apartment</td>\n",
       "      <td>Mataderos</td>\n",
       "      <td>|Argentina|Capital Federal|Mataderos|</td>\n",
       "      <td>Argentina</td>\n",
       "      <td>Capital Federal</td>\n",
       "      <td>3430787.0</td>\n",
       "      <td>...</td>\n",
       "      <td>http://www.properati.com.ar/15bod_venta_depart...</td>\n",
       "      <td>2 ambientes 3er piso lateral living comedor am...</td>\n",
       "      <td>2 AMB 3ER PISO CON ASCENSOR APTO CREDITO</td>\n",
       "      <td>https://thumbs4.properati.com/5/SXKr34F_IwG3W_...</td>\n",
       "      <td>2.0</td>\n",
       "      <td>1309.090909</td>\n",
       "      <td>POINT (-58.5229825 -34.6522615)</td>\n",
       "      <td>6073.15</td>\n",
       "      <td>0</td>\n",
       "      <td>[2, ambientes, 3er, piso, lateral, living, com...</td>\n",
       "    </tr>\n",
       "    <tr>\n",
       "      <th>2</th>\n",
       "      <td>2</td>\n",
       "      <td>2</td>\n",
       "      <td>3</td>\n",
       "      <td>sell</td>\n",
       "      <td>PH</td>\n",
       "      <td>Liniers</td>\n",
       "      <td>|Argentina|Capital Federal|Liniers|</td>\n",
       "      <td>Argentina</td>\n",
       "      <td>Capital Federal</td>\n",
       "      <td>3431333.0</td>\n",
       "      <td>...</td>\n",
       "      <td>http://www.properati.com.ar/15boh_venta_ph_lin...</td>\n",
       "      <td>ph 3 ambientes con patio. hay 3 deptos en lote...</td>\n",
       "      <td>PH 3 amb. cfte. reciclado</td>\n",
       "      <td>https://thumbs4.properati.com/3/DgIfX-85Mog5SP...</td>\n",
       "      <td>3.0</td>\n",
       "      <td>1487.571343</td>\n",
       "      <td>POINT (-58.5164244 -34.6477969)</td>\n",
       "      <td>5305.63</td>\n",
       "      <td>0</td>\n",
       "      <td>[ph, 3, ambientes, con, patio., hay, 3, deptos...</td>\n",
       "    </tr>\n",
       "    <tr>\n",
       "      <th>3</th>\n",
       "      <td>3</td>\n",
       "      <td>3</td>\n",
       "      <td>7</td>\n",
       "      <td>sell</td>\n",
       "      <td>apartment</td>\n",
       "      <td>Belgrano</td>\n",
       "      <td>|Argentina|Capital Federal|Belgrano|</td>\n",
       "      <td>Argentina</td>\n",
       "      <td>Capital Federal</td>\n",
       "      <td>3436077.0</td>\n",
       "      <td>...</td>\n",
       "      <td>http://www.properati.com.ar/15bot_venta_depart...</td>\n",
       "      <td>excelente monoambiente a estrenar amplio super...</td>\n",
       "      <td>JOSE HERNANDEZ 1400 MONOAMBIENTE  ESTRENAR CAT...</td>\n",
       "      <td>https://thumbs4.properati.com/1/IHxARynlr8sPEW...</td>\n",
       "      <td>1.0</td>\n",
       "      <td>3066.666667</td>\n",
       "      <td>POINT (-58.443362 -34.5598729)</td>\n",
       "      <td>609.74</td>\n",
       "      <td>0</td>\n",
       "      <td>[excelente, monoambiente, a, estrenar, amplio,...</td>\n",
       "    </tr>\n",
       "    <tr>\n",
       "      <th>4</th>\n",
       "      <td>4</td>\n",
       "      <td>4</td>\n",
       "      <td>8</td>\n",
       "      <td>sell</td>\n",
       "      <td>apartment</td>\n",
       "      <td>Belgrano</td>\n",
       "      <td>|Argentina|Capital Federal|Belgrano|</td>\n",
       "      <td>Argentina</td>\n",
       "      <td>Capital Federal</td>\n",
       "      <td>3436077.0</td>\n",
       "      <td>...</td>\n",
       "      <td>http://www.properati.com.ar/15bou_venta_depart...</td>\n",
       "      <td>excelente dos ambientes  estrenar amplio super...</td>\n",
       "      <td>JOSE HERNANDEZ   1400 DOS AMBIENTES ESTRENAR ,...</td>\n",
       "      <td>https://thumbs4.properati.com/2/J3zOjgaFHrkvnv...</td>\n",
       "      <td>2.0</td>\n",
       "      <td>3000.000000</td>\n",
       "      <td>POINT (-58.443362 -34.5598729)</td>\n",
       "      <td>609.74</td>\n",
       "      <td>0</td>\n",
       "      <td>[excelente, dos, ambientes, , estrenar, amplio...</td>\n",
       "    </tr>\n",
       "    <tr>\n",
       "      <th>...</th>\n",
       "      <td>...</td>\n",
       "      <td>...</td>\n",
       "      <td>...</td>\n",
       "      <td>...</td>\n",
       "      <td>...</td>\n",
       "      <td>...</td>\n",
       "      <td>...</td>\n",
       "      <td>...</td>\n",
       "      <td>...</td>\n",
       "      <td>...</td>\n",
       "      <td>...</td>\n",
       "      <td>...</td>\n",
       "      <td>...</td>\n",
       "      <td>...</td>\n",
       "      <td>...</td>\n",
       "      <td>...</td>\n",
       "      <td>...</td>\n",
       "      <td>...</td>\n",
       "      <td>...</td>\n",
       "      <td>...</td>\n",
       "      <td>...</td>\n",
       "    </tr>\n",
       "    <tr>\n",
       "      <th>19670</th>\n",
       "      <td>28067</td>\n",
       "      <td>28067</td>\n",
       "      <td>121153</td>\n",
       "      <td>sell</td>\n",
       "      <td>apartment</td>\n",
       "      <td>Barrio Norte</td>\n",
       "      <td>|Argentina|Capital Federal|Barrio Norte|</td>\n",
       "      <td>Argentina</td>\n",
       "      <td>Capital Federal</td>\n",
       "      <td>3436109.0</td>\n",
       "      <td>...</td>\n",
       "      <td>http://www.properati.com.ar/1cj5g_venta_depart...</td>\n",
       "      <td>excelente departamento con terraza propia y pa...</td>\n",
       "      <td>EXCELENTE DEPARTAMENTO DE 3 AMBIENTES CON TERR...</td>\n",
       "      <td>https://thumbs4.properati.com/0/xIo-Keo_1sE6zO...</td>\n",
       "      <td>NaN</td>\n",
       "      <td>1813.186813</td>\n",
       "      <td>POINT (-58.4025191971 -34.5992135511)</td>\n",
       "      <td>141.07</td>\n",
       "      <td>1</td>\n",
       "      <td>[excelente, departamento, con, terraza, propia...</td>\n",
       "    </tr>\n",
       "    <tr>\n",
       "      <th>19671</th>\n",
       "      <td>28068</td>\n",
       "      <td>28068</td>\n",
       "      <td>121157</td>\n",
       "      <td>sell</td>\n",
       "      <td>apartment</td>\n",
       "      <td>Belgrano</td>\n",
       "      <td>|Argentina|Capital Federal|Belgrano|</td>\n",
       "      <td>Argentina</td>\n",
       "      <td>Capital Federal</td>\n",
       "      <td>3436077.0</td>\n",
       "      <td>...</td>\n",
       "      <td>http://www.properati.com.ar/1cj5q_venta_depart...</td>\n",
       "      <td>torre de 16º pisos ubicado en pleno centro com...</td>\n",
       "      <td>Departamento - Belgrano C</td>\n",
       "      <td>https://thumbs4.properati.com/3/jy7Bo02JdmAK4J...</td>\n",
       "      <td>NaN</td>\n",
       "      <td>3368.421053</td>\n",
       "      <td>POINT (nan nan)</td>\n",
       "      <td>NaN</td>\n",
       "      <td>0</td>\n",
       "      <td>[torre, de, 16º, pisos, ubicado, en, pleno, ce...</td>\n",
       "    </tr>\n",
       "    <tr>\n",
       "      <th>19672</th>\n",
       "      <td>28069</td>\n",
       "      <td>28069</td>\n",
       "      <td>121158</td>\n",
       "      <td>sell</td>\n",
       "      <td>apartment</td>\n",
       "      <td>Recoleta</td>\n",
       "      <td>|Argentina|Capital Federal|Recoleta|</td>\n",
       "      <td>Argentina</td>\n",
       "      <td>Capital Federal</td>\n",
       "      <td>3429595.0</td>\n",
       "      <td>...</td>\n",
       "      <td>http://www.properati.com.ar/1cj5s_venta_depart...</td>\n",
       "      <td>excelente ubicación - avenida pueyrredon y las...</td>\n",
       "      <td>Departamento - Recoleta</td>\n",
       "      <td>https://thumbs4.properati.com/1/O847ZBAPkkdt0a...</td>\n",
       "      <td>1.0</td>\n",
       "      <td>3750.000000</td>\n",
       "      <td>POINT (-58.3973722534 -34.587425443)</td>\n",
       "      <td>17.58</td>\n",
       "      <td>1</td>\n",
       "      <td>[excelente, ubicación, -, avenida, pueyrredon,...</td>\n",
       "    </tr>\n",
       "    <tr>\n",
       "      <th>19673</th>\n",
       "      <td>28072</td>\n",
       "      <td>28072</td>\n",
       "      <td>121217</td>\n",
       "      <td>sell</td>\n",
       "      <td>apartment</td>\n",
       "      <td>Villa Urquiza</td>\n",
       "      <td>|Argentina|Capital Federal|Villa Urquiza|</td>\n",
       "      <td>Argentina</td>\n",
       "      <td>Capital Federal</td>\n",
       "      <td>3433775.0</td>\n",
       "      <td>...</td>\n",
       "      <td>http://www.properati.com.ar/1cja7_venta_depart...</td>\n",
       "      <td>venta departamento ambiente divisible a estren...</td>\n",
       "      <td>VENTA DEPARTAMENTO AMBIENTE DIVISIBLE A ESTREN...</td>\n",
       "      <td>https://thumbs4.properati.com/9/YAe_-2gRVykADP...</td>\n",
       "      <td>1.0</td>\n",
       "      <td>2858.695652</td>\n",
       "      <td>POINT (-58.4755963355 -34.5706388726)</td>\n",
       "      <td>637.22</td>\n",
       "      <td>0</td>\n",
       "      <td>[venta, departamento, ambiente, divisible, a, ...</td>\n",
       "    </tr>\n",
       "    <tr>\n",
       "      <th>19674</th>\n",
       "      <td>28073</td>\n",
       "      <td>28073</td>\n",
       "      <td>121219</td>\n",
       "      <td>sell</td>\n",
       "      <td>apartment</td>\n",
       "      <td>Capital Federal</td>\n",
       "      <td>|Argentina|Capital Federal|</td>\n",
       "      <td>Argentina</td>\n",
       "      <td>Capital Federal</td>\n",
       "      <td>3433955.0</td>\n",
       "      <td>...</td>\n",
       "      <td>http://www.properati.com.ar/1cjaa_venta_depart...</td>\n",
       "      <td>departamento de 77 m2 apto profesional. edific...</td>\n",
       "      <td>Departamento apto profesional en el Centro</td>\n",
       "      <td>https://thumbs4.properati.com/8/mNEsnQWqB7joBF...</td>\n",
       "      <td>NaN</td>\n",
       "      <td>1675.324675</td>\n",
       "      <td>POINT (nan nan)</td>\n",
       "      <td>NaN</td>\n",
       "      <td>0</td>\n",
       "      <td>[departamento, de, 77, m2, apto, profesional.,...</td>\n",
       "    </tr>\n",
       "  </tbody>\n",
       "</table>\n",
       "<p>19675 rows × 34 columns</p>\n",
       "</div>"
      ],
      "text/plain": [
       "       index  Unnamed: 0  Unnamed: 0.1 operation property_type  \\\n",
       "0          0           0             0      sell            PH   \n",
       "1          1           1             2      sell     apartment   \n",
       "2          2           2             3      sell            PH   \n",
       "3          3           3             7      sell     apartment   \n",
       "4          4           4             8      sell     apartment   \n",
       "...      ...         ...           ...       ...           ...   \n",
       "19670  28067       28067        121153      sell     apartment   \n",
       "19671  28068       28068        121157      sell     apartment   \n",
       "19672  28069       28069        121158      sell     apartment   \n",
       "19673  28072       28072        121217      sell     apartment   \n",
       "19674  28073       28073        121219      sell     apartment   \n",
       "\n",
       "            place_name                    place_with_parent_names  \\\n",
       "0            Mataderos      |Argentina|Capital Federal|Mataderos|   \n",
       "1            Mataderos      |Argentina|Capital Federal|Mataderos|   \n",
       "2              Liniers        |Argentina|Capital Federal|Liniers|   \n",
       "3             Belgrano       |Argentina|Capital Federal|Belgrano|   \n",
       "4             Belgrano       |Argentina|Capital Federal|Belgrano|   \n",
       "...                ...                                        ...   \n",
       "19670     Barrio Norte   |Argentina|Capital Federal|Barrio Norte|   \n",
       "19671         Belgrano       |Argentina|Capital Federal|Belgrano|   \n",
       "19672         Recoleta       |Argentina|Capital Federal|Recoleta|   \n",
       "19673    Villa Urquiza  |Argentina|Capital Federal|Villa Urquiza|   \n",
       "19674  Capital Federal                |Argentina|Capital Federal|   \n",
       "\n",
       "      country_name       state_name  geonames_id  ...  \\\n",
       "0        Argentina  Capital Federal    3430787.0  ...   \n",
       "1        Argentina  Capital Federal    3430787.0  ...   \n",
       "2        Argentina  Capital Federal    3431333.0  ...   \n",
       "3        Argentina  Capital Federal    3436077.0  ...   \n",
       "4        Argentina  Capital Federal    3436077.0  ...   \n",
       "...            ...              ...          ...  ...   \n",
       "19670    Argentina  Capital Federal    3436109.0  ...   \n",
       "19671    Argentina  Capital Federal    3436077.0  ...   \n",
       "19672    Argentina  Capital Federal    3429595.0  ...   \n",
       "19673    Argentina  Capital Federal    3433775.0  ...   \n",
       "19674    Argentina  Capital Federal    3433955.0  ...   \n",
       "\n",
       "                                           properati_url  \\\n",
       "0      http://www.properati.com.ar/15bo8_venta_ph_mat...   \n",
       "1      http://www.properati.com.ar/15bod_venta_depart...   \n",
       "2      http://www.properati.com.ar/15boh_venta_ph_lin...   \n",
       "3      http://www.properati.com.ar/15bot_venta_depart...   \n",
       "4      http://www.properati.com.ar/15bou_venta_depart...   \n",
       "...                                                  ...   \n",
       "19670  http://www.properati.com.ar/1cj5g_venta_depart...   \n",
       "19671  http://www.properati.com.ar/1cj5q_venta_depart...   \n",
       "19672  http://www.properati.com.ar/1cj5s_venta_depart...   \n",
       "19673  http://www.properati.com.ar/1cja7_venta_depart...   \n",
       "19674  http://www.properati.com.ar/1cjaa_venta_depart...   \n",
       "\n",
       "                                             description  \\\n",
       "0      2 ambientes tipo casa planta baja por pasillo,...   \n",
       "1      2 ambientes 3er piso lateral living comedor am...   \n",
       "2      ph 3 ambientes con patio. hay 3 deptos en lote...   \n",
       "3      excelente monoambiente a estrenar amplio super...   \n",
       "4      excelente dos ambientes  estrenar amplio super...   \n",
       "...                                                  ...   \n",
       "19670  excelente departamento con terraza propia y pa...   \n",
       "19671  torre de 16º pisos ubicado en pleno centro com...   \n",
       "19672  excelente ubicación - avenida pueyrredon y las...   \n",
       "19673  venta departamento ambiente divisible a estren...   \n",
       "19674  departamento de 77 m2 apto profesional. edific...   \n",
       "\n",
       "                                                   title  \\\n",
       "0                     2 AMB TIPO CASA SIN EXPENSAS EN PB   \n",
       "1               2 AMB 3ER PISO CON ASCENSOR APTO CREDITO   \n",
       "2                           PH 3 amb. cfte. reciclado      \n",
       "3      JOSE HERNANDEZ 1400 MONOAMBIENTE  ESTRENAR CAT...   \n",
       "4      JOSE HERNANDEZ   1400 DOS AMBIENTES ESTRENAR ,...   \n",
       "...                                                  ...   \n",
       "19670  EXCELENTE DEPARTAMENTO DE 3 AMBIENTES CON TERR...   \n",
       "19671                          Departamento - Belgrano C   \n",
       "19672                            Departamento - Recoleta   \n",
       "19673  VENTA DEPARTAMENTO AMBIENTE DIVISIBLE A ESTREN...   \n",
       "19674         Departamento apto profesional en el Centro   \n",
       "\n",
       "                                         image_thumbnail rooms_reg  \\\n",
       "0      https://thumbs4.properati.com/8/BluUYiHJLhgIIK...       2.0   \n",
       "1      https://thumbs4.properati.com/5/SXKr34F_IwG3W_...       2.0   \n",
       "2      https://thumbs4.properati.com/3/DgIfX-85Mog5SP...       3.0   \n",
       "3      https://thumbs4.properati.com/1/IHxARynlr8sPEW...       1.0   \n",
       "4      https://thumbs4.properati.com/2/J3zOjgaFHrkvnv...       2.0   \n",
       "...                                                  ...       ...   \n",
       "19670  https://thumbs4.properati.com/0/xIo-Keo_1sE6zO...       NaN   \n",
       "19671  https://thumbs4.properati.com/3/jy7Bo02JdmAK4J...       NaN   \n",
       "19672  https://thumbs4.properati.com/1/O847ZBAPkkdt0a...       1.0   \n",
       "19673  https://thumbs4.properati.com/9/YAe_-2gRVykADP...       1.0   \n",
       "19674  https://thumbs4.properati.com/8/mNEsnQWqB7joBF...       NaN   \n",
       "\n",
       "       price_m2_sin_out                               geometry  \\\n",
       "0           1127.272727        POINT (-58.5088387 -34.6618237)   \n",
       "1           1309.090909        POINT (-58.5229825 -34.6522615)   \n",
       "2           1487.571343        POINT (-58.5164244 -34.6477969)   \n",
       "3           3066.666667         POINT (-58.443362 -34.5598729)   \n",
       "4           3000.000000         POINT (-58.443362 -34.5598729)   \n",
       "...                 ...                                    ...   \n",
       "19670       1813.186813  POINT (-58.4025191971 -34.5992135511)   \n",
       "19671       3368.421053                        POINT (nan nan)   \n",
       "19672       3750.000000   POINT (-58.3973722534 -34.587425443)   \n",
       "19673       2858.695652  POINT (-58.4755963355 -34.5706388726)   \n",
       "19674       1675.324675                        POINT (nan nan)   \n",
       "\n",
       "       distancia_subte  cerca_lejos  \\\n",
       "0              4728.39            0   \n",
       "1              6073.15            0   \n",
       "2              5305.63            0   \n",
       "3               609.74            0   \n",
       "4               609.74            0   \n",
       "...                ...          ...   \n",
       "19670           141.07            1   \n",
       "19671              NaN            0   \n",
       "19672            17.58            1   \n",
       "19673           637.22            0   \n",
       "19674              NaN            0   \n",
       "\n",
       "                                               aux_split  \n",
       "0      [2, ambientes, tipo, casa, planta, baja, por, ...  \n",
       "1      [2, ambientes, 3er, piso, lateral, living, com...  \n",
       "2      [ph, 3, ambientes, con, patio., hay, 3, deptos...  \n",
       "3      [excelente, monoambiente, a, estrenar, amplio,...  \n",
       "4      [excelente, dos, ambientes, , estrenar, amplio...  \n",
       "...                                                  ...  \n",
       "19670  [excelente, departamento, con, terraza, propia...  \n",
       "19671  [torre, de, 16º, pisos, ubicado, en, pleno, ce...  \n",
       "19672  [excelente, ubicación, -, avenida, pueyrredon,...  \n",
       "19673  [venta, departamento, ambiente, divisible, a, ...  \n",
       "19674  [departamento, de, 77, m2, apto, profesional.,...  \n",
       "\n",
       "[19675 rows x 34 columns]"
      ]
     },
     "execution_count": 114,
     "metadata": {},
     "output_type": "execute_result"
    }
   ],
   "source": [
    "df_amenities"
   ]
  },
  {
   "cell_type": "code",
   "execution_count": 115,
   "metadata": {},
   "outputs": [
    {
     "data": {
      "text/plain": [
       "1313388"
      ]
     },
     "execution_count": 115,
     "metadata": {},
     "output_type": "execute_result"
    }
   ],
   "source": [
    "dfCapi.size"
   ]
  },
  {
   "cell_type": "code",
   "execution_count": 116,
   "metadata": {},
   "outputs": [
    {
     "data": {
      "text/plain": [
       "0            0\n",
       "1            1\n",
       "2            2\n",
       "3            3\n",
       "4            4\n",
       "         ...  \n",
       "24317    28067\n",
       "24318    28068\n",
       "24319    28069\n",
       "24320    28072\n",
       "24321    28073\n",
       "Name: index_original, Length: 24322, dtype: int64"
      ]
     },
     "execution_count": 116,
     "metadata": {},
     "output_type": "execute_result"
    }
   ],
   "source": [
    "dfCapi['index_original']"
   ]
  },
  {
   "cell_type": "code",
   "execution_count": 117,
   "metadata": {},
   "outputs": [],
   "source": [
    "dfCapi[\"suma_amenities\"] = dfCapi.loc[:,['balcón', 'baulera', 'cochera', 'gimnasio', 'gym',\n",
    "       'hidromasaje', 'jacuzzi', 'laundry', 'lavadero', 'luminoso', 'mármol',\n",
    "       'parrilla', 'patio', 'patios', 'seguridad', 'solarium', 'sum',\n",
    "       'terraza', 'vigilancia', \"pileta\",\"piscina\"]].sum(axis=1)"
   ]
  },
  {
   "cell_type": "code",
   "execution_count": 118,
   "metadata": {
    "scrolled": true
   },
   "outputs": [
    {
     "data": {
      "text/html": [
       "<div>\n",
       "<style scoped>\n",
       "    .dataframe tbody tr th:only-of-type {\n",
       "        vertical-align: middle;\n",
       "    }\n",
       "\n",
       "    .dataframe tbody tr th {\n",
       "        vertical-align: top;\n",
       "    }\n",
       "\n",
       "    .dataframe thead th {\n",
       "        text-align: right;\n",
       "    }\n",
       "</style>\n",
       "<table border=\"1\" class=\"dataframe\">\n",
       "  <thead>\n",
       "    <tr style=\"text-align: right;\">\n",
       "      <th></th>\n",
       "      <th>Unnamed: 0</th>\n",
       "      <th>Unnamed: 0.1</th>\n",
       "      <th>operation</th>\n",
       "      <th>property_type</th>\n",
       "      <th>place_name</th>\n",
       "      <th>place_with_parent_names</th>\n",
       "      <th>country_name</th>\n",
       "      <th>state_name</th>\n",
       "      <th>geonames_id</th>\n",
       "      <th>lat-lon</th>\n",
       "      <th>...</th>\n",
       "      <th>patio</th>\n",
       "      <th>patios</th>\n",
       "      <th>pileta</th>\n",
       "      <th>piscina</th>\n",
       "      <th>seguridad</th>\n",
       "      <th>solarium</th>\n",
       "      <th>sum</th>\n",
       "      <th>terraza</th>\n",
       "      <th>vigilancia</th>\n",
       "      <th>suma_amenities</th>\n",
       "    </tr>\n",
       "  </thead>\n",
       "  <tbody>\n",
       "    <tr>\n",
       "      <th>0</th>\n",
       "      <td>0</td>\n",
       "      <td>0</td>\n",
       "      <td>sell</td>\n",
       "      <td>PH</td>\n",
       "      <td>Mataderos</td>\n",
       "      <td>|Argentina|Capital Federal|Mataderos|</td>\n",
       "      <td>Argentina</td>\n",
       "      <td>Capital Federal</td>\n",
       "      <td>3430787.0</td>\n",
       "      <td>-34.6618237,-58.5088387</td>\n",
       "      <td>...</td>\n",
       "      <td>1.0</td>\n",
       "      <td>0.0</td>\n",
       "      <td>0.0</td>\n",
       "      <td>0.0</td>\n",
       "      <td>0.0</td>\n",
       "      <td>0.0</td>\n",
       "      <td>0.0</td>\n",
       "      <td>0.0</td>\n",
       "      <td>0.0</td>\n",
       "      <td>1.0</td>\n",
       "    </tr>\n",
       "    <tr>\n",
       "      <th>1</th>\n",
       "      <td>1</td>\n",
       "      <td>2</td>\n",
       "      <td>sell</td>\n",
       "      <td>apartment</td>\n",
       "      <td>Mataderos</td>\n",
       "      <td>|Argentina|Capital Federal|Mataderos|</td>\n",
       "      <td>Argentina</td>\n",
       "      <td>Capital Federal</td>\n",
       "      <td>3430787.0</td>\n",
       "      <td>-34.6522615,-58.5229825</td>\n",
       "      <td>...</td>\n",
       "      <td>0.0</td>\n",
       "      <td>0.0</td>\n",
       "      <td>0.0</td>\n",
       "      <td>0.0</td>\n",
       "      <td>0.0</td>\n",
       "      <td>0.0</td>\n",
       "      <td>0.0</td>\n",
       "      <td>0.0</td>\n",
       "      <td>0.0</td>\n",
       "      <td>0.0</td>\n",
       "    </tr>\n",
       "    <tr>\n",
       "      <th>2</th>\n",
       "      <td>2</td>\n",
       "      <td>3</td>\n",
       "      <td>sell</td>\n",
       "      <td>PH</td>\n",
       "      <td>Liniers</td>\n",
       "      <td>|Argentina|Capital Federal|Liniers|</td>\n",
       "      <td>Argentina</td>\n",
       "      <td>Capital Federal</td>\n",
       "      <td>3431333.0</td>\n",
       "      <td>-34.6477969,-58.5164244</td>\n",
       "      <td>...</td>\n",
       "      <td>0.0</td>\n",
       "      <td>0.0</td>\n",
       "      <td>0.0</td>\n",
       "      <td>0.0</td>\n",
       "      <td>0.0</td>\n",
       "      <td>0.0</td>\n",
       "      <td>0.0</td>\n",
       "      <td>0.0</td>\n",
       "      <td>0.0</td>\n",
       "      <td>0.0</td>\n",
       "    </tr>\n",
       "    <tr>\n",
       "      <th>3</th>\n",
       "      <td>3</td>\n",
       "      <td>7</td>\n",
       "      <td>sell</td>\n",
       "      <td>apartment</td>\n",
       "      <td>Belgrano</td>\n",
       "      <td>|Argentina|Capital Federal|Belgrano|</td>\n",
       "      <td>Argentina</td>\n",
       "      <td>Capital Federal</td>\n",
       "      <td>3436077.0</td>\n",
       "      <td>-34.5598729,-58.443362</td>\n",
       "      <td>...</td>\n",
       "      <td>0.0</td>\n",
       "      <td>0.0</td>\n",
       "      <td>1.0</td>\n",
       "      <td>0.0</td>\n",
       "      <td>0.0</td>\n",
       "      <td>0.0</td>\n",
       "      <td>0.0</td>\n",
       "      <td>0.0</td>\n",
       "      <td>0.0</td>\n",
       "      <td>3.0</td>\n",
       "    </tr>\n",
       "    <tr>\n",
       "      <th>4</th>\n",
       "      <td>4</td>\n",
       "      <td>8</td>\n",
       "      <td>sell</td>\n",
       "      <td>apartment</td>\n",
       "      <td>Belgrano</td>\n",
       "      <td>|Argentina|Capital Federal|Belgrano|</td>\n",
       "      <td>Argentina</td>\n",
       "      <td>Capital Federal</td>\n",
       "      <td>3436077.0</td>\n",
       "      <td>-34.5598729,-58.443362</td>\n",
       "      <td>...</td>\n",
       "      <td>0.0</td>\n",
       "      <td>0.0</td>\n",
       "      <td>1.0</td>\n",
       "      <td>0.0</td>\n",
       "      <td>0.0</td>\n",
       "      <td>0.0</td>\n",
       "      <td>0.0</td>\n",
       "      <td>0.0</td>\n",
       "      <td>0.0</td>\n",
       "      <td>3.0</td>\n",
       "    </tr>\n",
       "    <tr>\n",
       "      <th>...</th>\n",
       "      <td>...</td>\n",
       "      <td>...</td>\n",
       "      <td>...</td>\n",
       "      <td>...</td>\n",
       "      <td>...</td>\n",
       "      <td>...</td>\n",
       "      <td>...</td>\n",
       "      <td>...</td>\n",
       "      <td>...</td>\n",
       "      <td>...</td>\n",
       "      <td>...</td>\n",
       "      <td>...</td>\n",
       "      <td>...</td>\n",
       "      <td>...</td>\n",
       "      <td>...</td>\n",
       "      <td>...</td>\n",
       "      <td>...</td>\n",
       "      <td>...</td>\n",
       "      <td>...</td>\n",
       "      <td>...</td>\n",
       "      <td>...</td>\n",
       "    </tr>\n",
       "    <tr>\n",
       "      <th>24317</th>\n",
       "      <td>28067</td>\n",
       "      <td>121153</td>\n",
       "      <td>sell</td>\n",
       "      <td>apartment</td>\n",
       "      <td>Barrio Norte</td>\n",
       "      <td>|Argentina|Capital Federal|Barrio Norte|</td>\n",
       "      <td>Argentina</td>\n",
       "      <td>Capital Federal</td>\n",
       "      <td>3436109.0</td>\n",
       "      <td>-34.5992135511,-58.4025191971</td>\n",
       "      <td>...</td>\n",
       "      <td>0.0</td>\n",
       "      <td>0.0</td>\n",
       "      <td>0.0</td>\n",
       "      <td>0.0</td>\n",
       "      <td>0.0</td>\n",
       "      <td>0.0</td>\n",
       "      <td>0.0</td>\n",
       "      <td>1.0</td>\n",
       "      <td>0.0</td>\n",
       "      <td>3.0</td>\n",
       "    </tr>\n",
       "    <tr>\n",
       "      <th>24318</th>\n",
       "      <td>28068</td>\n",
       "      <td>121157</td>\n",
       "      <td>sell</td>\n",
       "      <td>apartment</td>\n",
       "      <td>Belgrano</td>\n",
       "      <td>|Argentina|Capital Federal|Belgrano|</td>\n",
       "      <td>Argentina</td>\n",
       "      <td>Capital Federal</td>\n",
       "      <td>3436077.0</td>\n",
       "      <td>0</td>\n",
       "      <td>...</td>\n",
       "      <td>0.0</td>\n",
       "      <td>0.0</td>\n",
       "      <td>0.0</td>\n",
       "      <td>0.0</td>\n",
       "      <td>0.0</td>\n",
       "      <td>0.0</td>\n",
       "      <td>0.0</td>\n",
       "      <td>0.0</td>\n",
       "      <td>0.0</td>\n",
       "      <td>1.0</td>\n",
       "    </tr>\n",
       "    <tr>\n",
       "      <th>24319</th>\n",
       "      <td>28069</td>\n",
       "      <td>121158</td>\n",
       "      <td>sell</td>\n",
       "      <td>apartment</td>\n",
       "      <td>Recoleta</td>\n",
       "      <td>|Argentina|Capital Federal|Recoleta|</td>\n",
       "      <td>Argentina</td>\n",
       "      <td>Capital Federal</td>\n",
       "      <td>3429595.0</td>\n",
       "      <td>-34.587425443,-58.3973722534</td>\n",
       "      <td>...</td>\n",
       "      <td>0.0</td>\n",
       "      <td>0.0</td>\n",
       "      <td>0.0</td>\n",
       "      <td>0.0</td>\n",
       "      <td>0.0</td>\n",
       "      <td>0.0</td>\n",
       "      <td>0.0</td>\n",
       "      <td>0.0</td>\n",
       "      <td>0.0</td>\n",
       "      <td>2.0</td>\n",
       "    </tr>\n",
       "    <tr>\n",
       "      <th>24320</th>\n",
       "      <td>28072</td>\n",
       "      <td>121217</td>\n",
       "      <td>sell</td>\n",
       "      <td>apartment</td>\n",
       "      <td>Villa Urquiza</td>\n",
       "      <td>|Argentina|Capital Federal|Villa Urquiza|</td>\n",
       "      <td>Argentina</td>\n",
       "      <td>Capital Federal</td>\n",
       "      <td>3433775.0</td>\n",
       "      <td>-34.5706388726,-58.4755963355</td>\n",
       "      <td>...</td>\n",
       "      <td>0.0</td>\n",
       "      <td>0.0</td>\n",
       "      <td>0.0</td>\n",
       "      <td>0.0</td>\n",
       "      <td>0.0</td>\n",
       "      <td>1.0</td>\n",
       "      <td>0.0</td>\n",
       "      <td>1.0</td>\n",
       "      <td>0.0</td>\n",
       "      <td>4.0</td>\n",
       "    </tr>\n",
       "    <tr>\n",
       "      <th>24321</th>\n",
       "      <td>28073</td>\n",
       "      <td>121219</td>\n",
       "      <td>sell</td>\n",
       "      <td>apartment</td>\n",
       "      <td>Capital Federal</td>\n",
       "      <td>|Argentina|Capital Federal|</td>\n",
       "      <td>Argentina</td>\n",
       "      <td>Capital Federal</td>\n",
       "      <td>3433955.0</td>\n",
       "      <td>0</td>\n",
       "      <td>...</td>\n",
       "      <td>0.0</td>\n",
       "      <td>0.0</td>\n",
       "      <td>0.0</td>\n",
       "      <td>0.0</td>\n",
       "      <td>0.0</td>\n",
       "      <td>0.0</td>\n",
       "      <td>0.0</td>\n",
       "      <td>0.0</td>\n",
       "      <td>0.0</td>\n",
       "      <td>0.0</td>\n",
       "    </tr>\n",
       "  </tbody>\n",
       "</table>\n",
       "<p>24322 rows × 55 columns</p>\n",
       "</div>"
      ],
      "text/plain": [
       "       Unnamed: 0  Unnamed: 0.1 operation property_type       place_name  \\\n",
       "0               0             0      sell            PH        Mataderos   \n",
       "1               1             2      sell     apartment        Mataderos   \n",
       "2               2             3      sell            PH          Liniers   \n",
       "3               3             7      sell     apartment         Belgrano   \n",
       "4               4             8      sell     apartment         Belgrano   \n",
       "...           ...           ...       ...           ...              ...   \n",
       "24317       28067        121153      sell     apartment     Barrio Norte   \n",
       "24318       28068        121157      sell     apartment         Belgrano   \n",
       "24319       28069        121158      sell     apartment         Recoleta   \n",
       "24320       28072        121217      sell     apartment    Villa Urquiza   \n",
       "24321       28073        121219      sell     apartment  Capital Federal   \n",
       "\n",
       "                         place_with_parent_names country_name  \\\n",
       "0          |Argentina|Capital Federal|Mataderos|    Argentina   \n",
       "1          |Argentina|Capital Federal|Mataderos|    Argentina   \n",
       "2            |Argentina|Capital Federal|Liniers|    Argentina   \n",
       "3           |Argentina|Capital Federal|Belgrano|    Argentina   \n",
       "4           |Argentina|Capital Federal|Belgrano|    Argentina   \n",
       "...                                          ...          ...   \n",
       "24317   |Argentina|Capital Federal|Barrio Norte|    Argentina   \n",
       "24318       |Argentina|Capital Federal|Belgrano|    Argentina   \n",
       "24319       |Argentina|Capital Federal|Recoleta|    Argentina   \n",
       "24320  |Argentina|Capital Federal|Villa Urquiza|    Argentina   \n",
       "24321                |Argentina|Capital Federal|    Argentina   \n",
       "\n",
       "            state_name  geonames_id                        lat-lon  ...  \\\n",
       "0      Capital Federal    3430787.0        -34.6618237,-58.5088387  ...   \n",
       "1      Capital Federal    3430787.0        -34.6522615,-58.5229825  ...   \n",
       "2      Capital Federal    3431333.0        -34.6477969,-58.5164244  ...   \n",
       "3      Capital Federal    3436077.0         -34.5598729,-58.443362  ...   \n",
       "4      Capital Federal    3436077.0         -34.5598729,-58.443362  ...   \n",
       "...                ...          ...                            ...  ...   \n",
       "24317  Capital Federal    3436109.0  -34.5992135511,-58.4025191971  ...   \n",
       "24318  Capital Federal    3436077.0                              0  ...   \n",
       "24319  Capital Federal    3429595.0   -34.587425443,-58.3973722534  ...   \n",
       "24320  Capital Federal    3433775.0  -34.5706388726,-58.4755963355  ...   \n",
       "24321  Capital Federal    3433955.0                              0  ...   \n",
       "\n",
       "       patio  patios  pileta piscina  seguridad  solarium  sum  terraza  \\\n",
       "0        1.0     0.0     0.0     0.0        0.0       0.0  0.0      0.0   \n",
       "1        0.0     0.0     0.0     0.0        0.0       0.0  0.0      0.0   \n",
       "2        0.0     0.0     0.0     0.0        0.0       0.0  0.0      0.0   \n",
       "3        0.0     0.0     1.0     0.0        0.0       0.0  0.0      0.0   \n",
       "4        0.0     0.0     1.0     0.0        0.0       0.0  0.0      0.0   \n",
       "...      ...     ...     ...     ...        ...       ...  ...      ...   \n",
       "24317    0.0     0.0     0.0     0.0        0.0       0.0  0.0      1.0   \n",
       "24318    0.0     0.0     0.0     0.0        0.0       0.0  0.0      0.0   \n",
       "24319    0.0     0.0     0.0     0.0        0.0       0.0  0.0      0.0   \n",
       "24320    0.0     0.0     0.0     0.0        0.0       1.0  0.0      1.0   \n",
       "24321    0.0     0.0     0.0     0.0        0.0       0.0  0.0      0.0   \n",
       "\n",
       "       vigilancia  suma_amenities  \n",
       "0             0.0             1.0  \n",
       "1             0.0             0.0  \n",
       "2             0.0             0.0  \n",
       "3             0.0             3.0  \n",
       "4             0.0             3.0  \n",
       "...           ...             ...  \n",
       "24317         0.0             3.0  \n",
       "24318         0.0             1.0  \n",
       "24319         0.0             2.0  \n",
       "24320         0.0             4.0  \n",
       "24321         0.0             0.0  \n",
       "\n",
       "[24322 rows x 55 columns]"
      ]
     },
     "execution_count": 118,
     "metadata": {},
     "output_type": "execute_result"
    }
   ],
   "source": [
    "dfCapi"
   ]
  },
  {
   "cell_type": "code",
   "execution_count": null,
   "metadata": {},
   "outputs": [],
   "source": []
  },
  {
   "cell_type": "code",
   "execution_count": 119,
   "metadata": {},
   "outputs": [],
   "source": [
    "dfCapi.to_csv(\"final.csv\")"
   ]
  },
  {
   "cell_type": "code",
   "execution_count": 220,
   "metadata": {},
   "outputs": [],
   "source": [
    "corr = dfCapi.loc[:,[\"price_aprox_usd\",\"surface_total_in_m2\",\"surface_covered_in_m2\",\"price_aprox_usd_per_m2\",\"floor\",\"expenses\",\"suma_amenities\"]].corr()"
   ]
  },
  {
   "cell_type": "code",
   "execution_count": 226,
   "metadata": {},
   "outputs": [
    {
     "name": "stderr",
     "output_type": "stream",
     "text": [
      "<ipython-input-226-4f421c3512b8>:2: FutureWarning:\n",
      "\n",
      "Using a non-tuple sequence for multidimensional indexing is deprecated; use `arr[tuple(seq)]` instead of `arr[seq]`. In the future this will be interpreted as an array index, `arr[np.array(seq)]`, which will result either in an error or a different result.\n",
      "\n"
     ]
    },
    {
     "data": {
      "image/png": "[encoded data removed]",
      "text/plain": [
       "<Figure size 1152x576 with 2 Axes>"
      ]
     },
     "metadata": {},
     "output_type": "display_data"
    }
   ],
   "source": [
    "fig, ax = plt.subplots(figsize=(16,8))       \n",
    "cor.values[[np.arange(6)]*2] = 0\n",
    "ax = plt.axes()\n",
    "sns.heatmap(corr,cmap='Blues', alpha=0.5,ax=ax);\n",
    "ax.set_title('Correlacion entre variables', fontsize=20)\n",
    "\n",
    "plt.show();"
   ]
  },
  {
   "cell_type": "code",
   "execution_count": 227,
   "metadata": {},
   "outputs": [
    {
     "data": {
      "image/png": "[encoded data removed]",
      "text/plain": [
       "<Figure size 1152x576 with 2 Axes>"
      ]
     },
     "metadata": {},
     "output_type": "display_data"
    }
   ],
   "source": [
    "mask = np.zeros_like(corr)\n",
    "mask[np.triu_indices_from(mask)] = True\n",
    "with sns.axes_style(\"white\"):\n",
    "    f, ax = plt.subplots(figsize=(16, 8))\n",
    "    ax = sns.heatmap(corr, cmap = \"Blues\", alpha=0.5, mask=mask)"
   ]
  }
 ],
 "metadata": {
  "colab": {
   "collapsed_sections": [],
   "name": "DS - Grupo 4 - TP1.ipynb",
   "provenance": []
  },
  "kernelspec": {
   "display_name": "Python [conda env:dhdsblend2021] *",
   "language": "python",
   "name": "conda-env-dhdsblend2021-py"
  },
  "language_info": {
   "codemirror_mode": {
    "name": "ipython",
    "version": 3
   },
   "file_extension": ".py",
   "mimetype": "text/x-python",
   "name": "python",
   "nbconvert_exporter": "python",
   "pygments_lexer": "ipython3",
   "version": "3.8.10"
  }
 },
 "nbformat": 4,
 "nbformat_minor": 4
}
