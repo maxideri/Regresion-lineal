{
 "cells": [
  {
   "cell_type": "markdown",
   "metadata": {
    "id": "qiv5m3SSXclD"
   },
   "source": [
    "### **Imports**"
   ]
  },
  {
   "cell_type": "code",
   "execution_count": 2,
   "metadata": {
    "id": "fnssAaoHDBg7"
   },
   "outputs": [
    {
     "ename": "ModuleNotFoundError",
     "evalue": "No module named 'geopandas'",
     "output_type": "error",
     "traceback": [
      "\u001b[1;31m---------------------------------------------------------------------------\u001b[0m",
      "\u001b[1;31mModuleNotFoundError\u001b[0m                       Traceback (most recent call last)",
      "\u001b[1;32mC:\\Users\\ARIEL~1.DAP\\AppData\\Local\\Temp/ipykernel_7992/674471918.py\u001b[0m in \u001b[0;36m<module>\u001b[1;34m\u001b[0m\n\u001b[0;32m      9\u001b[0m \u001b[1;31m# import plotly.express as px\u001b[0m\u001b[1;33m\u001b[0m\u001b[1;33m\u001b[0m\u001b[1;33m\u001b[0m\u001b[0m\n\u001b[0;32m     10\u001b[0m \u001b[1;31m# from sklearn.model_selection import train_test_split\u001b[0m\u001b[1;33m\u001b[0m\u001b[1;33m\u001b[0m\u001b[1;33m\u001b[0m\u001b[0m\n\u001b[1;32m---> 11\u001b[1;33m \u001b[1;32mimport\u001b[0m \u001b[0mgeopandas\u001b[0m \u001b[1;32mas\u001b[0m \u001b[0mgpd\u001b[0m\u001b[1;33m\u001b[0m\u001b[1;33m\u001b[0m\u001b[0m\n\u001b[0m\u001b[0;32m     12\u001b[0m \u001b[1;32mimport\u001b[0m \u001b[0mshapely\u001b[0m\u001b[1;33m\u001b[0m\u001b[1;33m\u001b[0m\u001b[0m\n\u001b[0;32m     13\u001b[0m \u001b[1;32mimport\u001b[0m \u001b[0mshapely\u001b[0m\u001b[1;33m.\u001b[0m\u001b[0mwkt\u001b[0m\u001b[1;33m\u001b[0m\u001b[1;33m\u001b[0m\u001b[0m\n",
      "\u001b[1;31mModuleNotFoundError\u001b[0m: No module named 'geopandas'"
     ]
    }
   ],
   "source": [
    "import pandas as pd\n",
    "import numpy as np\n",
    "import re\n",
    "import matplotlib.pyplot as plt\n",
    "# from scipy.sparse import random\n",
    "# from scipy import stats\n",
    "# import seaborn as sns\n",
    "import matplotlib.pyplot as plt\n",
    "# import plotly.express as px\n",
    "# from sklearn.model_selection import train_test_split\n",
    "import geopandas as gpd\n",
    "import shapely\n",
    "import shapely.wkt\n",
    "from geomet import wkt"
   ]
  },
  {
   "cell_type": "code",
   "execution_count": null,
   "metadata": {},
   "outputs": [],
   "source": [
    "dfCapi= pd.read_csv(\"parte1.csv\")\n",
    "barrios=pd.read_csv(\"barrios.csv\")"
   ]
  },
  {
   "cell_type": "code",
   "execution_count": null,
   "metadata": {
    "colab": {
     "base_uri": "https://localhost:8080/",
     "height": 521
    },
    "id": "T3jgcFmKDU5Y",
    "outputId": "df711e70-1b3e-4001-db38-8685101f1240",
    "scrolled": true
   },
   "outputs": [],
   "source": [
    "#Armamos una pivot con los place_name de nuestro data frame para checkear si matchean con el csv barrios\n",
    "dfCapi_grouped=dfCapi.groupby('place_name').mean()\n",
    "dfCapi_grouped"
   ]
  },
  {
   "cell_type": "code",
   "execution_count": null,
   "metadata": {
    "id": "qR3ZFAVzDPec"
   },
   "outputs": [],
   "source": [
    "geoprop = gpd.GeoDataFrame(dfCapi, geometry=gpd.points_from_xy(dfCapi.lon, dfCapi.lat))\n",
    "barrios[\"WKT_shapely\"] = barrios[\"WKT\"].apply(shapely.wkt.loads) \n",
    "geo_barrios = gpd.GeoDataFrame(barrios, geometry='WKT_shapely')"
   ]
  },
  {
   "cell_type": "code",
   "execution_count": null,
   "metadata": {
    "id": "mTCkxN2BqUWk"
   },
   "outputs": [],
   "source": [
    "# Funcion para obtener el BARRIO segun las coordenadas geográficas de la propiedad\n",
    "def barrio_gpd(x):\n",
    "    if ((x.place_name == \"Capital Federal\") & (np.isnan(x.lat) == False)): # Solo busco los que tienen place_name = Capital Federal y valores de lat-lon\n",
    "        for barrio in geo_barrios.barrio:\n",
    "            r = geo_barrios[geo_barrios.barrio == barrio].contains(x.geometry).values[0] #Itero sobre todos los barrios y me fijo cual contiene al punto\n",
    "            if (r):\n",
    "                return barrio #Devuelvo el nombre del barrio que contiene el punto\n",
    "    else: \n",
    "        return x.place_name # Si place_name != Capital Federal o no tenia coordenadas devuelvo el valor original"
   ]
  },
  {
   "cell_type": "code",
   "execution_count": null,
   "metadata": {
    "id": "NeOx84sRqnF0"
   },
   "outputs": [],
   "source": [
    "# Reemplazo el barrio por gps en place_name\n",
    "dfCapi.loc[:,\"place_name\"] = geoprop.apply(barrio_gpd, axis=1)"
   ]
  },
  {
   "cell_type": "code",
   "execution_count": null,
   "metadata": {},
   "outputs": [],
   "source": [
    "import geopy.distance\n",
    "df_subte = pd.read_csv(\"./estaciones-de-subte.csv\", sep=',')\n",
    "geo_subte = gpd.GeoDataFrame(df_subte,geometry=gpd.points_from_xy(df_subte.long,df_subte.lat))\n",
    "geoprop.loc[:,\"distancia_subte\"] = 10000 #seteo un valor por defecto para poder empezar comparando"
   ]
  },
  {
   "cell_type": "code",
   "execution_count": null,
   "metadata": {},
   "outputs": [],
   "source": [
    "# SE DEJA COMENTADA ESTA LINEA PORQUE TARDA MUCHO. EL RESULTADO DE ESTA ITERACION YA SE ENCUENTRA EN EL ARCHIVO parte2.csv\n",
    "# for i in geo_subte.index: #itero sobre cada estacion\n",
    "#     for j in geoprop.index: #itero sobre cada casa\n",
    "#         if (geoprop.iloc[j].geometry.x == geoprop.iloc[j].geometry.x): #condicion rara para chequear si el valor no es None\n",
    "#             dist = geopy.distance.geodesic((geo_subte.loc[i,\"geometry\"].x,geo_subte.loc[i,\"geometry\"].y),\n",
    "#                                            (geoprop.loc[j,'geometry'].x,geoprop.loc[j,'geometry'].y)).meters # calculo la distancia\n",
    "#             if (dist < geoprop.distancia_subte[j]): #chequeo que sea menor a la registrada\n",
    "#                 geoprop.loc[j, 'distancia_subte'] = dist #si lo es, le digo que esa sea la nueva distancia"
   ]
  },
  {
   "cell_type": "code",
   "execution_count": null,
   "metadata": {},
   "outputs": [],
   "source": [
    "geoprop.distancia_subte.replace(10000,np.NaN, inplace=True) #reemplazo los casos que quedaron con el valor inicial arbitrario por null\n",
    "geoprop.distancia_subte = geoprop.distancia_subte.round(2)\n",
    "dfCapi[\"distancia_subte\"] = geoprop.distancia_subte"
   ]
  },
  {
   "cell_type": "code",
   "execution_count": null,
   "metadata": {},
   "outputs": [],
   "source": []
  },
  {
   "cell_type": "code",
   "execution_count": 16,
   "metadata": {},
   "outputs": [],
   "source": [
    "# dfCapi.to_csv(\"parte2.csv\")\n",
    "# barrios.to_csv(\"barrios.csv\")"
   ]
  }
 ],
 "metadata": {
  "colab": {
   "collapsed_sections": [],
   "name": "DS - Grupo 4 - TP1.ipynb",
   "provenance": []
  },
  "kernelspec": {
   "display_name": "Python 3 (ipykernel)",
   "language": "python",
   "name": "python3"
  },
  "language_info": {
   "codemirror_mode": {
    "name": "ipython",
    "version": 3
   },
   "file_extension": ".py",
   "mimetype": "text/x-python",
   "name": "python",
   "nbconvert_exporter": "python",
   "pygments_lexer": "ipython3",
   "version": "3.9.7"
  }
 },
 "nbformat": 4,
 "nbformat_minor": 4
}
